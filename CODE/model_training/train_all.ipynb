{
 "cells": [
  {
   "cell_type": "code",
   "execution_count": 1,
   "metadata": {},
   "outputs": [
    {
     "name": "stderr",
     "output_type": "stream",
     "text": [
      "c:\\Users\\szymo\\AppData\\Local\\Programs\\Python\\Python310\\lib\\site-packages\\tqdm\\auto.py:21: TqdmWarning: IProgress not found. Please update jupyter and ipywidgets. See https://ipywidgets.readthedocs.io/en/stable/user_install.html\n",
      "  from .autonotebook import tqdm as notebook_tqdm\n",
      "c:\\Users\\szymo\\AppData\\Local\\Programs\\Python\\Python310\\lib\\site-packages\\torchvision\\io\\image.py:13: UserWarning: Failed to load image Python extension: [WinError 127] Nie można odnaleźć określonej procedury\n",
      "  warn(f\"Failed to load image Python extension: {e}\")\n"
     ]
    }
   ],
   "source": [
    "from model_training import *\n",
    "import pandas as pd\n",
    "import numpy as np\n",
    "from scripts.essentials import *\n",
    "from scripts.plots import *\n",
    "from scripts.train_utilities import *\n",
    "from neuralforecast.losses.pytorch import RMSE"
   ]
  },
  {
   "cell_type": "code",
   "execution_count": 2,
   "metadata": {},
   "outputs": [
    {
     "name": "stdout",
     "output_type": "stream",
     "text": [
      "(744, 54)\n",
      "(40, 54)\n",
      "(60, 54)\n"
     ]
    }
   ],
   "source": [
    "prefix = \"NFLX\"\n",
    "FINAL_COLUMNS = ['mean_future', 'mean_influential','mean_trustworthy', 'mean_clickbait','norm_rsi_14', 'norm_rsi_gspc_14', 'norm_slowk_14']\n",
    "df_without_weekends = pd.read_csv(\"csv/\"+prefix+'_without_weekends.csv')\n",
    "df_without_weekends['DateGen'] = pd.date_range(start='2021-01-01', end='2023-11-26', freq='D')[:len(df_without_weekends)]\n",
    "max_date = df_without_weekends['DateGen'].max()\n",
    "test_start_date = max_date - pd.DateOffset(days=59)\n",
    "val_start_date = test_start_date - pd.DateOffset(days=40)\n",
    "train_set, val_set, test_set = split_data(df_without_weekends, 'DateGen', val_start_date, test_start_date, start_date_train = '2021-01-01')\n",
    "print(train_set.shape)\n",
    "print(val_set.shape)\n",
    "print(test_set.shape)\n",
    "\n",
    "cols_min_max = ['^GSPC_Volume', 'NFLX_Volume',\n",
    "'daily_variation', 'high_close_pressure', 'low_open_pressure',\n",
    "'low_norm', 'close_norm', 'high_norm', 'open_norm']\n",
    "\n",
    "train_set, scaler_min_max = min_max_scale(train_set,'Date', cols_min_max, train_data=True, scaler=None)\n",
    "val_set = min_max_scale(val_set,'Date', cols_min_max, train_data=False, scaler=scaler_min_max)\n",
    "test_set = min_max_scale(test_set,'Date', cols_min_max, train_data=False, scaler=scaler_min_max)\n",
    "\n",
    "train_set = train_set[['DateGen', f'{prefix}_Close'] + FINAL_COLUMNS]\n",
    "val_set = val_set[['DateGen', f'{prefix}_Close'] + FINAL_COLUMNS]\n",
    "test_set = test_set[['DateGen', f'{prefix}_Close'] + FINAL_COLUMNS]\n",
    "train_set.rename(columns={'DateGen':'ds', f'{prefix}_Close':'y'}, inplace=True)\n",
    "val_set.rename(columns={'DateGen':'ds', f'{prefix}_Close':'y'}, inplace=True)\n",
    "test_set.rename(columns={'DateGen':'ds', f'{prefix}_Close':'y'}, inplace=True)\n",
    "train_set['unique_id'] = prefix\n",
    "val_set['unique_id'] = prefix\n",
    "test_set['unique_id'] = prefix"
   ]
  },
  {
   "cell_type": "code",
   "execution_count": 6,
   "metadata": {},
   "outputs": [
    {
     "name": "stderr",
     "output_type": "stream",
     "text": [
      "[I 2023-12-18 21:51:27,717] A new study created in memory with name: no-name-c3b6beb1-58a4-4f05-90b7-b913a87e6010\n",
      "Seed set to 1\n"
     ]
    },
    {
     "name": "stdout",
     "output_type": "stream",
     "text": [
      "744 5\n",
      "Epoch 9: 100%|██████████| 1/1 [00:00<00:00, 16.98it/s, v_num=1916, train_loss_step=3.570, train_loss_epoch=3.570]\n",
      "Predicting DataLoader 0: 100%|██████████| 1/1 [00:00<00:00, 147.76it/s]\n",
      "749 5\n",
      "Epoch 9: 100%|██████████| 1/1 [00:00<00:00, 18.92it/s, v_num=1918, train_loss_step=3.600, train_loss_epoch=3.600]\n",
      "Predicting DataLoader 0: 100%|██████████| 1/1 [00:00<00:00, 76.89it/s]\n",
      "754 5\n",
      "Epoch 9: 100%|██████████| 1/1 [00:00<00:00, 17.64it/s, v_num=1920, train_loss_step=3.620, train_loss_epoch=3.620]\n",
      "Predicting DataLoader 0: 100%|██████████| 1/1 [00:00<00:00, 52.70it/s]\n",
      "759 5\n",
      "Epoch 9: 100%|██████████| 1/1 [00:00<00:00, 18.92it/s, v_num=1922, train_loss_step=3.580, train_loss_epoch=3.580]\n",
      "Predicting DataLoader 0: 100%|██████████| 1/1 [00:00<00:00, 56.65it/s]\n",
      "764 5\n",
      "Epoch 9: 100%|██████████| 1/1 [00:00<00:00, 22.32it/s, v_num=1924, train_loss_step=3.450, train_loss_epoch=3.450]\n",
      "Predicting DataLoader 0: 100%|██████████| 1/1 [00:00<00:00, 215.48it/s]\n",
      "769 5\n",
      "Epoch 9: 100%|██████████| 1/1 [00:00<00:00, 16.19it/s, v_num=1926, train_loss_step=3.440, train_loss_epoch=3.440]\n",
      "Predicting DataLoader 0: 100%|██████████| 1/1 [00:00<00:00, 209.63it/s]\n",
      "774 5\n",
      "Epoch 9: 100%|██████████| 1/1 [00:00<00:00, 17.98it/s, v_num=1928, train_loss_step=3.530, train_loss_epoch=3.530]\n",
      "Predicting DataLoader 0: 100%|██████████| 1/1 [00:00<00:00, 76.11it/s]\n",
      "779 5\n",
      "Epoch 9: 100%|██████████| 1/1 [00:00<00:00, 19.83it/s, v_num=1930, train_loss_step=3.520, train_loss_epoch=3.520]\n",
      "Predicting DataLoader 0: 100%|██████████| 1/1 [00:00<00:00, 119.65it/s]"
     ]
    },
    {
     "name": "stderr",
     "output_type": "stream",
     "text": [
      "[I 2023-12-18 21:51:35,986] Trial 0 finished with value: 166.28039769905178 and parameters: {'input_size': 7, 'n_blocks_season': 3, 'n_blocks_trend': 2, 'n_blocks_ident': 2, 'mlp_units': 32, 'num_hidden': 3, 'n_harmonics': 1, 'n_polynomials': 5, 'learning_rate': 0.05208060292448183}. Best is trial 0 with value: 166.28039769905178.\n",
      "Seed set to 1\n"
     ]
    },
    {
     "name": "stdout",
     "output_type": "stream",
     "text": [
      "\n",
      "744 5\n",
      "Epoch 9: 100%|██████████| 1/1 [00:00<00:00, 18.11it/s, v_num=1932, train_loss_step=5.360, train_loss_epoch=5.360]\n",
      "Predicting DataLoader 0: 100%|██████████| 1/1 [00:00<00:00, 131.75it/s]\n",
      "749 5\n",
      "Epoch 9: 100%|██████████| 1/1 [00:00<00:00, 15.58it/s, v_num=1934, train_loss_step=5.340, train_loss_epoch=5.340]\n",
      "Predicting DataLoader 0: 100%|██████████| 1/1 [00:00<00:00, 55.06it/s]\n",
      "754 5\n",
      "Epoch 9: 100%|██████████| 1/1 [00:00<00:00, 15.68it/s, v_num=1936, train_loss_step=5.210, train_loss_epoch=5.210]\n",
      "Predicting DataLoader 0: 100%|██████████| 1/1 [00:00<00:00, 322.29it/s]\n",
      "759 5\n",
      "Epoch 9: 100%|██████████| 1/1 [00:00<00:00, 19.42it/s, v_num=1938, train_loss_step=5.130, train_loss_epoch=5.130]\n",
      "Predicting DataLoader 0: 100%|██████████| 1/1 [00:00<00:00, 189.53it/s]\n",
      "764 5\n",
      "Epoch 9: 100%|██████████| 1/1 [00:00<00:00, 20.14it/s, v_num=1940, train_loss_step=5.200, train_loss_epoch=5.200]\n",
      "Predicting DataLoader 0: 100%|██████████| 1/1 [00:00<?, ?it/s]\n",
      "769 5\n",
      "Epoch 9: 100%|██████████| 1/1 [00:00<00:00, 16.97it/s, v_num=1942, train_loss_step=5.350, train_loss_epoch=5.350]\n",
      "Predicting DataLoader 0: 100%|██████████| 1/1 [00:00<00:00, 296.52it/s]\n",
      "774 5\n",
      "Epoch 9: 100%|██████████| 1/1 [00:00<00:00, 10.66it/s, v_num=1944, train_loss_step=5.450, train_loss_epoch=5.450]\n",
      "Predicting DataLoader 0: 100%|██████████| 1/1 [00:00<00:00, 55.05it/s]\n",
      "779 5\n",
      "Epoch 9: 100%|██████████| 1/1 [00:00<00:00, 14.47it/s, v_num=1946, train_loss_step=5.330, train_loss_epoch=5.330]\n",
      "Predicting DataLoader 0: 100%|██████████| 1/1 [00:00<00:00, 97.39it/s] "
     ]
    },
    {
     "name": "stderr",
     "output_type": "stream",
     "text": [
      "[I 2023-12-18 21:51:42,863] Trial 1 finished with value: 216.0770509076308 and parameters: {'input_size': 4, 'n_blocks_season': 2, 'n_blocks_trend': 3, 'n_blocks_ident': 3, 'mlp_units': 64, 'num_hidden': 3, 'n_harmonics': 1, 'n_polynomials': 2, 'learning_rate': 0.04313409983625165}. Best is trial 0 with value: 166.28039769905178.\n",
      "Seed set to 1\n"
     ]
    },
    {
     "name": "stdout",
     "output_type": "stream",
     "text": [
      "\n",
      "744 5\n",
      "Epoch 9: 100%|██████████| 1/1 [00:00<00:00, 16.66it/s, v_num=1948, train_loss_step=3.570, train_loss_epoch=3.570]\n",
      "Predicting DataLoader 0: 100%|██████████| 1/1 [00:00<00:00, 133.19it/s]\n",
      "749 5\n",
      "Epoch 9: 100%|██████████| 1/1 [00:00<00:00, 17.41it/s, v_num=1950, train_loss_step=3.600, train_loss_epoch=3.600]\n",
      "Predicting DataLoader 0: 100%|██████████| 1/1 [00:00<00:00, 139.23it/s]\n",
      "754 5\n",
      "Epoch 9: 100%|██████████| 1/1 [00:00<00:00, 15.78it/s, v_num=1952, train_loss_step=3.620, train_loss_epoch=3.620]\n",
      "Predicting DataLoader 0: 100%|██████████| 1/1 [00:00<00:00, 208.65it/s]\n",
      "759 5\n",
      "Epoch 9: 100%|██████████| 1/1 [00:00<00:00, 20.33it/s, v_num=1954, train_loss_step=3.580, train_loss_epoch=3.580]\n",
      "Predicting DataLoader 0: 100%|██████████| 1/1 [00:00<00:00, 65.51it/s]\n",
      "764 5\n",
      "Epoch 9: 100%|██████████| 1/1 [00:00<00:00, 16.88it/s, v_num=1956, train_loss_step=3.450, train_loss_epoch=3.450]\n",
      "Predicting DataLoader 0: 100%|██████████| 1/1 [00:00<00:00, 105.62it/s]\n",
      "769 5\n",
      "Epoch 9: 100%|██████████| 1/1 [00:00<00:00, 14.26it/s, v_num=1958, train_loss_step=3.440, train_loss_epoch=3.440]\n",
      "Predicting DataLoader 0: 100%|██████████| 1/1 [00:00<00:00, 508.89it/s]\n",
      "774 5\n",
      "Epoch 9: 100%|██████████| 1/1 [00:00<00:00, 16.32it/s, v_num=1960, train_loss_step=3.530, train_loss_epoch=3.530]\n",
      "Predicting DataLoader 0: 100%|██████████| 1/1 [00:00<00:00, 992.26it/s]\n",
      "779 5\n",
      "Epoch 9: 100%|██████████| 1/1 [00:00<00:00, 14.84it/s, v_num=1962, train_loss_step=3.520, train_loss_epoch=3.520]\n",
      "Predicting DataLoader 0: 100%|██████████| 1/1 [00:00<00:00, 116.36it/s]\n",
      "784 5\n",
      "Epoch 9: 100%|██████████| 1/1 [00:00<00:00, 19.81it/s, v_num=1964, train_loss_step=3.600, train_loss_epoch=3.600]\n",
      "Predicting DataLoader 0: 100%|██████████| 1/1 [00:00<00:00, 87.74it/s] \n",
      "789 5\n",
      "Epoch 9: 100%|██████████| 1/1 [00:00<00:00, 20.27it/s, v_num=1966, train_loss_step=3.490, train_loss_epoch=3.490]\n",
      "Predicting DataLoader 0: 100%|██████████| 1/1 [00:00<00:00, 97.61it/s] \n",
      "794 5\n",
      "Epoch 9: 100%|██████████| 1/1 [00:00<00:00, 17.04it/s, v_num=1968, train_loss_step=3.530, train_loss_epoch=3.530]\n",
      "Predicting DataLoader 0: 100%|██████████| 1/1 [00:00<00:00, 65.40it/s]\n",
      "799 5\n",
      "Epoch 9: 100%|██████████| 1/1 [00:00<00:00, 21.59it/s, v_num=1970, train_loss_step=3.570, train_loss_epoch=3.570]\n",
      "Predicting DataLoader 0: 100%|██████████| 1/1 [00:00<?, ?it/s]\n",
      "804 5\n",
      "Epoch 9: 100%|██████████| 1/1 [00:00<00:00, 19.11it/s, v_num=1972, train_loss_step=3.550, train_loss_epoch=3.550]\n",
      "Predicting DataLoader 0: 100%|██████████| 1/1 [00:00<00:00, 153.82it/s]\n",
      "809 5\n",
      "Epoch 9: 100%|██████████| 1/1 [00:00<00:00, 20.29it/s, v_num=1974, train_loss_step=3.370, train_loss_epoch=3.370]\n",
      "Predicting DataLoader 0: 100%|██████████| 1/1 [00:00<00:00, 83.99it/s]\n",
      "814 5\n",
      "Epoch 9: 100%|██████████| 1/1 [00:00<00:00, 20.12it/s, v_num=1976, train_loss_step=3.160, train_loss_epoch=3.160]\n",
      "Predicting DataLoader 0: 100%|██████████| 1/1 [00:00<00:00, 280.18it/s]\n",
      "819 5\n",
      "Epoch 9: 100%|██████████| 1/1 [00:00<00:00, 22.44it/s, v_num=1978, train_loss_step=3.120, train_loss_epoch=3.120]\n",
      "Predicting DataLoader 0: 100%|██████████| 1/1 [00:00<00:00, 204.32it/s]\n",
      "824 5\n",
      "Epoch 9: 100%|██████████| 1/1 [00:00<00:00, 21.34it/s, v_num=1980, train_loss_step=3.210, train_loss_epoch=3.210]\n",
      "Predicting DataLoader 0: 100%|██████████| 1/1 [00:00<00:00, 398.81it/s]\n",
      "829 5\n",
      "Epoch 9: 100%|██████████| 1/1 [00:00<00:00, 20.35it/s, v_num=1982, train_loss_step=3.220, train_loss_epoch=3.220]\n",
      "Predicting DataLoader 0: 100%|██████████| 1/1 [00:00<00:00, 237.53it/s]\n",
      "834 5\n",
      "Epoch 9: 100%|██████████| 1/1 [00:00<00:00, 21.06it/s, v_num=1984, train_loss_step=3.220, train_loss_epoch=3.220]\n",
      "Predicting DataLoader 0: 100%|██████████| 1/1 [00:00<00:00, 229.40it/s]\n",
      "839 5\n",
      "Epoch 9: 100%|██████████| 1/1 [00:00<00:00, 20.19it/s, v_num=1986, train_loss_step=3.230, train_loss_epoch=3.230]\n",
      "Predicting DataLoader 0: 100%|██████████| 1/1 [00:00<00:00, 321.40it/s]\n"
     ]
    }
   ],
   "source": [
    "############### NBEATS #################\n",
    "horizon = 5\n",
    "model_name = 'NBEATS'\n",
    "max_steps = 10\n",
    "random_seed = 1\n",
    "loss_func = mean_squared_error\n",
    "stack_types = ['seasonality', 'trend', 'identity']\n",
    "scaler_type = 'standard'\n",
    "loss=RMSE()\n",
    "\n",
    "study = optuna.create_study(direction='minimize')\n",
    "study.optimize(partial(objective, train_set=train_set, val_set=val_set, loss=loss, model_name=model_name, horizon=horizon, hist_exog_list=FINAL_COLUMNS, max_steps=max_steps, random_seed=random_seed, loss_func=loss_func, scaler_type=scaler_type), n_trials=2)\n",
    "prms = study.best_trial.params\n",
    "# Predykcja na podstawie najlepszych hiperparametrów\n",
    "n_blocks = [prms['n_blocks_season'], prms['n_blocks_trend'], prms['n_blocks_ident']]\n",
    "mlp_units=[[prms['mlp_units'], prms['mlp_units']]]*prms['num_hidden']\n",
    "models = [NBEATS(\n",
    "                 h=horizon,\n",
    "                 loss=loss,\n",
    "                 max_steps=max_steps,\n",
    "                 hist_exog_list=FINAL_COLUMNS,\n",
    "                 input_size=prms['input_size'],\n",
    "                 stack_types=stack_types,\n",
    "                 mlp_units=mlp_units,\n",
    "                 n_blocks=n_blocks,\n",
    "                 learning_rate=prms['learning_rate'],\n",
    "                 n_harmonics=prms['n_harmonics'],\n",
    "                 n_polynomials=prms['n_polynomials'],\n",
    "                 scaler_type=scaler_type,\n",
    "                random_seed=random_seed\n",
    "                 )]\n",
    "\n",
    "# Pipeline, który robi predykcję batchami co ileś dni, ustalane przez horizon\n",
    "loss_val, predictions_val = pipeline_train_predict(models, train_set, val_set, horizon, mean_squared_error, model_name)\n",
    "# Merge train and val sets\n",
    "train_val_set = pd.concat([train_set, val_set])\n",
    "loss_test, predictions_test = pipeline_train_predict(models, train_val_set, test_set, horizon, mean_squared_error, model_name)"
   ]
  },
  {
   "cell_type": "code",
   "execution_count": 7,
   "metadata": {},
   "outputs": [
    {
     "data": {
      "text/plain": [
       "166.28039769905178"
      ]
     },
     "execution_count": 7,
     "metadata": {},
     "output_type": "execute_result"
    }
   ],
   "source": [
    "loss_val"
   ]
  },
  {
   "cell_type": "code",
   "execution_count": 8,
   "metadata": {},
   "outputs": [
    {
     "name": "stderr",
     "output_type": "stream",
     "text": [
      "[I 2023-12-18 21:52:27,570] A new study created in memory with name: no-name-8a2fa2eb-b67d-49d5-8032-6478006e4204\n",
      "Seed set to 1\n"
     ]
    },
    {
     "name": "stdout",
     "output_type": "stream",
     "text": [
      "744 5\n",
      "Epoch 9: 100%|██████████| 1/1 [00:00<00:00, 10.92it/s, v_num=1988, train_loss_step=1.640, train_loss_epoch=1.640]\n",
      "Predicting DataLoader 0: 100%|██████████| 1/1 [00:00<00:00, 105.45it/s]\n",
      "749 5\n",
      "Epoch 9: 100%|██████████| 1/1 [00:00<00:00, 15.81it/s, v_num=1990, train_loss_step=1.610, train_loss_epoch=1.610]\n",
      "Predicting DataLoader 0: 100%|██████████| 1/1 [00:00<00:00, 387.11it/s]\n",
      "754 5\n",
      "Epoch 9: 100%|██████████| 1/1 [00:00<00:00, 13.06it/s, v_num=1992, train_loss_step=1.570, train_loss_epoch=1.570]\n",
      "Predicting DataLoader 0: 100%|██████████| 1/1 [00:00<00:00, 317.94it/s]\n",
      "759 5\n",
      "Epoch 9: 100%|██████████| 1/1 [00:00<00:00, 14.63it/s, v_num=1994, train_loss_step=1.560, train_loss_epoch=1.560]\n",
      "Predicting DataLoader 0: 100%|██████████| 1/1 [00:00<00:00, 52.28it/s]\n",
      "764 5\n",
      "Epoch 9: 100%|██████████| 1/1 [00:00<00:00, 15.11it/s, v_num=1996, train_loss_step=1.530, train_loss_epoch=1.530]\n",
      "Predicting DataLoader 0: 100%|██████████| 1/1 [00:00<?, ?it/s]\n",
      "769 5\n",
      "Epoch 9: 100%|██████████| 1/1 [00:00<00:00, 14.50it/s, v_num=1998, train_loss_step=1.530, train_loss_epoch=1.530]\n",
      "Predicting DataLoader 0: 100%|██████████| 1/1 [00:00<00:00, 221.51it/s]\n",
      "774 5\n",
      "Epoch 9: 100%|██████████| 1/1 [00:00<00:00, 14.87it/s, v_num=2000, train_loss_step=1.530, train_loss_epoch=1.530]\n",
      "Predicting DataLoader 0: 100%|██████████| 1/1 [00:00<00:00, 53.51it/s]\n",
      "779 5\n",
      "Epoch 9: 100%|██████████| 1/1 [00:00<00:00, 13.52it/s, v_num=2002, train_loss_step=1.490, train_loss_epoch=1.490]\n",
      "Predicting DataLoader 0: 100%|██████████| 1/1 [00:00<00:00, 135.21it/s]"
     ]
    },
    {
     "name": "stderr",
     "output_type": "stream",
     "text": [
      "[I 2023-12-18 21:52:36,190] Trial 0 finished with value: 173.88642383848813 and parameters: {'input_size': 19, 'n_blocks1': 1, 'n_blocks2': 2, 'n_blocks3': 1, 'mlp_units': 128, 'n_pool_kernel_size1': 1, 'n_pool_kernel_size2': 1, 'n_pool_kernel_size3': 3, 'n_freq_downsample1': 4, 'n_freq_downsample2': 4, 'n_freq_downsample3': 3, 'learning_rate': 0.009341722913469208, 'dropout_prob_theta': 0.27485758098995744}. Best is trial 0 with value: 173.88642383848813.\n",
      "Seed set to 1\n"
     ]
    },
    {
     "name": "stdout",
     "output_type": "stream",
     "text": [
      "\n",
      "744 5\n",
      "Epoch 9: 100%|██████████| 1/1 [00:00<00:00, 14.73it/s, v_num=2004, train_loss_step=1.590, train_loss_epoch=1.590]\n",
      "Predicting DataLoader 0: 100%|██████████| 1/1 [00:00<?, ?it/s]\n",
      "749 5\n",
      "Epoch 9: 100%|██████████| 1/1 [00:00<00:00, 17.59it/s, v_num=2006, train_loss_step=1.590, train_loss_epoch=1.590]\n",
      "Predicting DataLoader 0: 100%|██████████| 1/1 [00:00<?, ?it/s]\n",
      "754 5\n",
      "Epoch 9: 100%|██████████| 1/1 [00:00<00:00, 11.40it/s, v_num=2008, train_loss_step=1.580, train_loss_epoch=1.580]\n",
      "Predicting DataLoader 0: 100%|██████████| 1/1 [00:00<00:00, 85.50it/s] \n",
      "759 5\n",
      "Epoch 9: 100%|██████████| 1/1 [00:00<00:00, 16.37it/s, v_num=2010, train_loss_step=1.570, train_loss_epoch=1.570]\n",
      "Predicting DataLoader 0: 100%|██████████| 1/1 [00:00<?, ?it/s]\n",
      "764 5\n",
      "Epoch 9: 100%|██████████| 1/1 [00:00<00:00, 12.62it/s, v_num=2012, train_loss_step=1.590, train_loss_epoch=1.590]\n",
      "Predicting DataLoader 0: 100%|██████████| 1/1 [00:00<00:00, 189.62it/s]\n",
      "769 5\n",
      "Epoch 9: 100%|██████████| 1/1 [00:00<00:00, 17.37it/s, v_num=2014, train_loss_step=1.580, train_loss_epoch=1.580]\n",
      "Predicting DataLoader 0: 100%|██████████| 1/1 [00:00<?, ?it/s]\n",
      "774 5\n",
      "Epoch 9: 100%|██████████| 1/1 [00:00<00:00, 16.47it/s, v_num=2016, train_loss_step=1.570, train_loss_epoch=1.570]\n",
      "Predicting DataLoader 0: 100%|██████████| 1/1 [00:00<00:00, 62.33it/s]\n",
      "779 5\n",
      "Epoch 9: 100%|██████████| 1/1 [00:00<00:00, 14.41it/s, v_num=2018, train_loss_step=1.570, train_loss_epoch=1.570]\n",
      "Predicting DataLoader 0: 100%|██████████| 1/1 [00:00<00:00, 772.86it/s]"
     ]
    },
    {
     "name": "stderr",
     "output_type": "stream",
     "text": [
      "[I 2023-12-18 21:52:44,049] Trial 1 finished with value: 159.87073754039616 and parameters: {'input_size': 17, 'n_blocks1': 1, 'n_blocks2': 2, 'n_blocks3': 3, 'mlp_units': 64, 'n_pool_kernel_size1': 1, 'n_pool_kernel_size2': 1, 'n_pool_kernel_size3': 2, 'n_freq_downsample1': 4, 'n_freq_downsample2': 2, 'n_freq_downsample3': 4, 'learning_rate': 7.790845054376245e-05, 'dropout_prob_theta': 0.4100162291293383}. Best is trial 1 with value: 159.87073754039616.\n",
      "Seed set to 1\n"
     ]
    },
    {
     "name": "stdout",
     "output_type": "stream",
     "text": [
      "\n",
      "744 5\n",
      "Epoch 9: 100%|██████████| 1/1 [00:00<00:00, 14.15it/s, v_num=2020, train_loss_step=1.590, train_loss_epoch=1.590]\n",
      "Predicting DataLoader 0: 100%|██████████| 1/1 [00:00<00:00, 59.35it/s]\n",
      "749 5\n",
      "Epoch 9: 100%|██████████| 1/1 [00:00<00:00, 16.37it/s, v_num=2022, train_loss_step=1.590, train_loss_epoch=1.590]\n",
      "Predicting DataLoader 0: 100%|██████████| 1/1 [00:00<?, ?it/s]\n",
      "754 5\n",
      "Epoch 9: 100%|██████████| 1/1 [00:00<00:00, 14.43it/s, v_num=2024, train_loss_step=1.580, train_loss_epoch=1.580]\n",
      "Predicting DataLoader 0: 100%|██████████| 1/1 [00:00<?, ?it/s]\n",
      "759 5\n",
      "Epoch 9: 100%|██████████| 1/1 [00:00<00:00, 12.12it/s, v_num=2026, train_loss_step=1.570, train_loss_epoch=1.570]\n",
      "Predicting DataLoader 0: 100%|██████████| 1/1 [00:00<?, ?it/s]\n",
      "764 5\n",
      "Epoch 9: 100%|██████████| 1/1 [00:00<00:00, 11.87it/s, v_num=2028, train_loss_step=1.590, train_loss_epoch=1.590]\n",
      "Predicting DataLoader 0: 100%|██████████| 1/1 [00:00<00:00, 120.17it/s]\n",
      "769 5\n",
      "Epoch 9: 100%|██████████| 1/1 [00:00<00:00, 13.87it/s, v_num=2030, train_loss_step=1.580, train_loss_epoch=1.580]\n",
      "Predicting DataLoader 0: 100%|██████████| 1/1 [00:00<?, ?it/s]\n",
      "774 5\n",
      "Epoch 9: 100%|██████████| 1/1 [00:00<00:00, 16.76it/s, v_num=2032, train_loss_step=1.570, train_loss_epoch=1.570]\n",
      "Predicting DataLoader 0: 100%|██████████| 1/1 [00:00<00:00, 93.23it/s]\n",
      "779 5\n",
      "Epoch 9: 100%|██████████| 1/1 [00:00<00:00, 15.32it/s, v_num=2034, train_loss_step=1.570, train_loss_epoch=1.570]\n",
      "Predicting DataLoader 0: 100%|██████████| 1/1 [00:00<00:00, 138.17it/s]\n",
      "784 5\n",
      "Epoch 9: 100%|██████████| 1/1 [00:00<00:00, 15.81it/s, v_num=2036, train_loss_step=1.550, train_loss_epoch=1.550]\n",
      "Predicting DataLoader 0: 100%|██████████| 1/1 [00:00<?, ?it/s]\n",
      "789 5\n",
      "Epoch 9: 100%|██████████| 1/1 [00:00<00:00, 12.82it/s, v_num=2038, train_loss_step=1.580, train_loss_epoch=1.580]\n",
      "Predicting DataLoader 0: 100%|██████████| 1/1 [00:00<?, ?it/s]\n",
      "794 5\n",
      "Epoch 9: 100%|██████████| 1/1 [00:00<00:00, 12.52it/s, v_num=2040, train_loss_step=1.540, train_loss_epoch=1.540]\n",
      "Predicting DataLoader 0: 100%|██████████| 1/1 [00:00<?, ?it/s]\n",
      "799 5\n",
      "Epoch 9: 100%|██████████| 1/1 [00:00<00:00, 11.89it/s, v_num=2042, train_loss_step=1.530, train_loss_epoch=1.530]\n",
      "Predicting DataLoader 0: 100%|██████████| 1/1 [00:00<00:00, 85.07it/s] \n",
      "804 5\n",
      "Epoch 9: 100%|██████████| 1/1 [00:00<00:00,  9.91it/s, v_num=2044, train_loss_step=1.520, train_loss_epoch=1.520]\n",
      "Predicting DataLoader 0: 100%|██████████| 1/1 [00:00<00:00, 99.33it/s] \n",
      "809 5\n",
      "Epoch 9: 100%|██████████| 1/1 [00:00<00:00, 13.88it/s, v_num=2046, train_loss_step=1.510, train_loss_epoch=1.510]\n",
      "Predicting DataLoader 0: 100%|██████████| 1/1 [00:00<00:00, 312.45it/s]\n",
      "814 5\n",
      "Epoch 9: 100%|██████████| 1/1 [00:00<00:00, 14.24it/s, v_num=2048, train_loss_step=1.520, train_loss_epoch=1.520]\n",
      "Predicting DataLoader 0: 100%|██████████| 1/1 [00:00<00:00, 286.48it/s]\n",
      "819 5\n",
      "Epoch 9: 100%|██████████| 1/1 [00:00<00:00, 14.74it/s, v_num=2050, train_loss_step=1.530, train_loss_epoch=1.530]\n",
      "Predicting DataLoader 0: 100%|██████████| 1/1 [00:00<00:00, 276.03it/s]\n",
      "824 5\n",
      "Epoch 9: 100%|██████████| 1/1 [00:00<00:00, 11.71it/s, v_num=2052, train_loss_step=1.540, train_loss_epoch=1.540]\n",
      "Predicting DataLoader 0: 100%|██████████| 1/1 [00:00<00:00, 127.34it/s]\n",
      "829 5\n",
      "Epoch 9: 100%|██████████| 1/1 [00:00<00:00,  5.80it/s, v_num=2054, train_loss_step=1.540, train_loss_epoch=1.540]\n",
      "Predicting DataLoader 0: 100%|██████████| 1/1 [00:00<00:00, 122.97it/s]\n",
      "834 5\n",
      "Epoch 9: 100%|██████████| 1/1 [00:00<00:00, 15.01it/s, v_num=2056, train_loss_step=1.520, train_loss_epoch=1.520]\n",
      "Predicting DataLoader 0: 100%|██████████| 1/1 [00:00<00:00, 145.50it/s]\n",
      "839 5\n",
      "Epoch 9: 100%|██████████| 1/1 [00:00<00:00, 14.04it/s, v_num=2058, train_loss_step=1.540, train_loss_epoch=1.540]\n",
      "Predicting DataLoader 0: 100%|██████████| 1/1 [00:00<00:00, 67.78it/s]\n"
     ]
    }
   ],
   "source": [
    "############### NHITS #################\n",
    "horizon = 5\n",
    "model_name = 'NHITS'\n",
    "max_steps = 10\n",
    "random_seed = 1\n",
    "loss_func = mean_squared_error\n",
    "stack_types = ['identity', 'identity', 'identity']\n",
    "scaler_type = 'standard'\n",
    "loss=RMSE()\n",
    "\n",
    "study = optuna.create_study(direction='minimize')\n",
    "study.optimize(partial(objective, train_set=train_set, val_set=val_set, loss=loss, model_name=model_name, horizon=horizon, hist_exog_list=FINAL_COLUMNS, max_steps=max_steps, random_seed=random_seed, loss_func=loss_func, scaler_type=scaler_type), n_trials=2)\n",
    "prms = study.best_trial.params\n",
    "# Predykcja na podstawie najlepszych hiperparametrów\n",
    "n_blocks = [prms['n_blocks1'], prms['n_blocks2'], prms['n_blocks3']]\n",
    "mlp_units=[[prms['mlp_units'], prms['mlp_units']]]*3\n",
    "n_pool_kernel_size = [prms['n_pool_kernel_size1'], prms['n_pool_kernel_size2'], prms['n_pool_kernel_size3']]\n",
    "n_freq_downsample = [prms['n_freq_downsample1'], prms['n_freq_downsample2'], prms['n_freq_downsample3']]\n",
    "models = [NHITS(\n",
    "                 h=horizon,\n",
    "                 loss=loss,\n",
    "                 max_steps=max_steps,\n",
    "                 hist_exog_list=FINAL_COLUMNS,\n",
    "                 input_size=prms['input_size'],\n",
    "                 stack_types=stack_types,\n",
    "                 mlp_units=mlp_units,\n",
    "                 n_blocks=n_blocks,\n",
    "                 learning_rate=prms['learning_rate'],\n",
    "                 n_pool_kernel_size=n_pool_kernel_size,\n",
    "                 n_freq_downsample=n_freq_downsample,\n",
    "                 dropout_prob_theta=prms['dropout_prob_theta'],\n",
    "                 scaler_type=scaler_type,\n",
    "                random_seed=random_seed\n",
    "                 )]\n",
    "\n",
    "# Pipeline, który robi predykcję batchami co ileś dni, ustalane przez horizon\n",
    "loss_val, predictions_val = pipeline_train_predict(models, train_set, val_set, horizon, mean_squared_error, model_name)\n",
    "# Merge train and val sets\n",
    "train_val_set = pd.concat([train_set, val_set])\n",
    "loss_test, predictions_test = pipeline_train_predict(models, train_val_set, test_set, horizon, mean_squared_error, model_name)"
   ]
  },
  {
   "cell_type": "code",
   "execution_count": 9,
   "metadata": {},
   "outputs": [
    {
     "data": {
      "text/plain": [
       "159.87073754039616"
      ]
     },
     "execution_count": 9,
     "metadata": {},
     "output_type": "execute_result"
    }
   ],
   "source": [
    "loss_val"
   ]
  },
  {
   "cell_type": "code",
   "execution_count": 5,
   "metadata": {},
   "outputs": [
    {
     "name": "stderr",
     "output_type": "stream",
     "text": [
      "[I 2023-12-18 21:57:46,837] A new study created in memory with name: no-name-cb0c3339-c13e-451c-9bc2-270de00e36d0\n",
      "Seed set to 1\n"
     ]
    },
    {
     "name": "stdout",
     "output_type": "stream",
     "text": [
      "Epoch 9: 100%|██████████| 1/1 [00:00<00:00,  6.27it/s, v_num=2108, train_loss_step=30.10, train_loss_epoch=30.10]\n",
      "Predicting DataLoader 0: 100%|██████████| 1/1 [00:00<00:00, 58.57it/s]\n",
      "Epoch 9: 100%|██████████| 1/1 [00:00<00:00,  7.90it/s, v_num=2110, train_loss_step=30.20, train_loss_epoch=30.20]\n",
      "Predicting DataLoader 0: 100%|██████████| 1/1 [00:00<?, ?it/s]\n",
      "Epoch 9: 100%|██████████| 1/1 [00:00<00:00,  7.47it/s, v_num=2112, train_loss_step=30.20, train_loss_epoch=30.20]\n",
      "Predicting DataLoader 0: 100%|██████████| 1/1 [00:00<00:00, 108.23it/s]\n",
      "Epoch 9: 100%|██████████| 1/1 [00:00<00:00,  7.49it/s, v_num=2114, train_loss_step=30.10, train_loss_epoch=30.10]\n",
      "Predicting DataLoader 0: 100%|██████████| 1/1 [00:00<?, ?it/s]\n",
      "Epoch 9: 100%|██████████| 1/1 [00:00<00:00,  7.87it/s, v_num=2116, train_loss_step=30.20, train_loss_epoch=30.20]\n",
      "Predicting DataLoader 0: 100%|██████████| 1/1 [00:00<00:00, 97.84it/s] \n",
      "Epoch 9: 100%|██████████| 1/1 [00:00<00:00,  7.32it/s, v_num=2118, train_loss_step=30.20, train_loss_epoch=30.20]\n",
      "Predicting DataLoader 0: 100%|██████████| 1/1 [00:00<?, ?it/s]\n",
      "Epoch 9: 100%|██████████| 1/1 [00:00<00:00,  6.50it/s, v_num=2120, train_loss_step=30.30, train_loss_epoch=30.30]\n",
      "Predicting DataLoader 0: 100%|██████████| 1/1 [00:00<00:00, 97.19it/s] \n",
      "Epoch 9: 100%|██████████| 1/1 [00:00<00:00,  7.56it/s, v_num=2122, train_loss_step=30.20, train_loss_epoch=30.20]\n",
      "Predicting DataLoader 0: 100%|██████████| 1/1 [00:00<00:00, 84.92it/s]"
     ]
    },
    {
     "name": "stderr",
     "output_type": "stream",
     "text": [
      "[I 2023-12-18 21:58:00,041] Trial 0 finished with value: 375.66886641590395 and parameters: {'input_size': 3, 'learning_rate': 1.4619019934073393e-05, 'hidden_size': 12, 'dropout': 0.18289535556885061, 'attn_dropout': 0.447507788311037}. Best is trial 0 with value: 375.66886641590395.\n",
      "Seed set to 1\n"
     ]
    },
    {
     "name": "stdout",
     "output_type": "stream",
     "text": [
      "\n",
      "Epoch 9: 100%|██████████| 1/1 [00:00<00:00,  4.09it/s, v_num=2124, train_loss_step=2.780, train_loss_epoch=2.780]\n",
      "Predicting DataLoader 0: 100%|██████████| 1/1 [00:00<00:00, 87.63it/s]\n",
      "Epoch 9: 100%|██████████| 1/1 [00:00<00:00,  3.79it/s, v_num=2126, train_loss_step=2.770, train_loss_epoch=2.770]\n",
      "Predicting DataLoader 0: 100%|██████████| 1/1 [00:00<00:00, 113.00it/s]\n",
      "Epoch 9: 100%|██████████| 1/1 [00:00<00:00,  4.07it/s, v_num=2128, train_loss_step=2.880, train_loss_epoch=2.880]\n",
      "Predicting DataLoader 0: 100%|██████████| 1/1 [00:00<00:00, 403.41it/s]\n",
      "Epoch 9: 100%|██████████| 1/1 [00:00<00:00,  4.00it/s, v_num=2130, train_loss_step=2.880, train_loss_epoch=2.880]\n",
      "Predicting DataLoader 0: 100%|██████████| 1/1 [00:00<00:00, 260.92it/s]\n",
      "Epoch 9: 100%|██████████| 1/1 [00:00<00:00,  2.71it/s, v_num=2132, train_loss_step=2.880, train_loss_epoch=2.880]\n",
      "Predicting DataLoader 0: 100%|██████████| 1/1 [00:00<00:00, 80.58it/s]\n",
      "Epoch 9: 100%|██████████| 1/1 [00:00<00:00,  3.82it/s, v_num=2134, train_loss_step=2.890, train_loss_epoch=2.890]\n",
      "Predicting DataLoader 0: 100%|██████████| 1/1 [00:00<00:00, 51.32it/s]\n",
      "Epoch 9: 100%|██████████| 1/1 [00:00<00:00,  3.98it/s, v_num=2136, train_loss_step=3.030, train_loss_epoch=3.030]\n",
      "Predicting DataLoader 0: 100%|██████████| 1/1 [00:00<00:00, 115.25it/s]\n",
      "Epoch 9: 100%|██████████| 1/1 [00:00<00:00,  4.01it/s, v_num=2138, train_loss_step=3.050, train_loss_epoch=3.050]\n",
      "Predicting DataLoader 0: 100%|██████████| 1/1 [00:00<00:00, 232.86it/s]"
     ]
    },
    {
     "name": "stderr",
     "output_type": "stream",
     "text": [
      "[I 2023-12-18 21:58:23,367] Trial 1 finished with value: 229.69487190034735 and parameters: {'input_size': 8, 'learning_rate': 0.0032831202948453196, 'hidden_size': 20, 'dropout': 0.32601738794520446, 'attn_dropout': 0.3124408660151364}. Best is trial 1 with value: 229.69487190034735.\n",
      "Seed set to 1\n"
     ]
    },
    {
     "name": "stdout",
     "output_type": "stream",
     "text": [
      "\n",
      "Epoch 9: 100%|██████████| 1/1 [00:00<00:00,  4.06it/s, v_num=2140, train_loss_step=2.780, train_loss_epoch=2.780]\n",
      "Predicting DataLoader 0: 100%|██████████| 1/1 [00:00<00:00, 206.83it/s]\n",
      "Epoch 9: 100%|██████████| 1/1 [00:00<00:00,  4.02it/s, v_num=2142, train_loss_step=2.770, train_loss_epoch=2.770]\n",
      "Predicting DataLoader 0: 100%|██████████| 1/1 [00:00<00:00, 118.15it/s]\n",
      "Epoch 9: 100%|██████████| 1/1 [00:00<00:00,  3.56it/s, v_num=2144, train_loss_step=2.880, train_loss_epoch=2.880]\n",
      "Predicting DataLoader 0: 100%|██████████| 1/1 [00:00<00:00, 117.81it/s]\n",
      "Epoch 9: 100%|██████████| 1/1 [00:00<00:00,  3.07it/s, v_num=2146, train_loss_step=2.880, train_loss_epoch=2.880]\n",
      "Predicting DataLoader 0: 100%|██████████| 1/1 [00:00<00:00, 71.96it/s]\n",
      "Epoch 9: 100%|██████████| 1/1 [00:00<00:00,  3.17it/s, v_num=2148, train_loss_step=2.880, train_loss_epoch=2.880]\n",
      "Predicting DataLoader 0: 100%|██████████| 1/1 [00:00<00:00, 208.65it/s]\n",
      "Epoch 9: 100%|██████████| 1/1 [00:00<00:00,  3.66it/s, v_num=2150, train_loss_step=2.890, train_loss_epoch=2.890]\n",
      "Predicting DataLoader 0: 100%|██████████| 1/1 [00:00<00:00, 41.63it/s]\n",
      "Epoch 9: 100%|██████████| 1/1 [00:00<00:00,  3.73it/s, v_num=2152, train_loss_step=3.030, train_loss_epoch=3.030]\n",
      "Predicting DataLoader 0: 100%|██████████| 1/1 [00:00<00:00, 172.37it/s]\n",
      "Epoch 9: 100%|██████████| 1/1 [00:00<00:00,  3.97it/s, v_num=2154, train_loss_step=3.050, train_loss_epoch=3.050]\n",
      "Predicting DataLoader 0: 100%|██████████| 1/1 [00:00<00:00, 304.95it/s]\n",
      "Epoch 9: 100%|██████████| 1/1 [00:00<00:00,  3.72it/s, v_num=2156, train_loss_step=3.080, train_loss_epoch=3.080]\n",
      "Predicting DataLoader 0: 100%|██████████| 1/1 [00:00<00:00, 66.60it/s]\n",
      "Epoch 9: 100%|██████████| 1/1 [00:00<00:00,  3.72it/s, v_num=2158, train_loss_step=2.980, train_loss_epoch=2.980]\n",
      "Predicting DataLoader 0: 100%|██████████| 1/1 [00:00<00:00, 104.30it/s]\n",
      "Epoch 9: 100%|██████████| 1/1 [00:00<00:00,  3.66it/s, v_num=2160, train_loss_step=2.980, train_loss_epoch=2.980]\n",
      "Predicting DataLoader 0: 100%|██████████| 1/1 [00:00<00:00, 70.00it/s]\n",
      "Epoch 9: 100%|██████████| 1/1 [00:00<00:00,  3.75it/s, v_num=2162, train_loss_step=3.030, train_loss_epoch=3.030]\n",
      "Predicting DataLoader 0: 100%|██████████| 1/1 [00:00<00:00, 79.09it/s]\n",
      "Epoch 9: 100%|██████████| 1/1 [00:00<00:00,  3.74it/s, v_num=2164, train_loss_step=3.030, train_loss_epoch=3.030]\n",
      "Predicting DataLoader 0: 100%|██████████| 1/1 [00:00<00:00, 72.03it/s]\n",
      "Epoch 9: 100%|██████████| 1/1 [00:00<00:00,  3.89it/s, v_num=2166, train_loss_step=3.030, train_loss_epoch=3.030]\n",
      "Predicting DataLoader 0: 100%|██████████| 1/1 [00:00<00:00, 86.56it/s]\n",
      "Epoch 9: 100%|██████████| 1/1 [00:00<00:00,  3.76it/s, v_num=2168, train_loss_step=2.960, train_loss_epoch=2.960]\n",
      "Predicting DataLoader 0: 100%|██████████| 1/1 [00:00<00:00, 98.98it/s] \n",
      "Epoch 9: 100%|██████████| 1/1 [00:00<00:00,  3.71it/s, v_num=2170, train_loss_step=2.940, train_loss_epoch=2.940]\n",
      "Predicting DataLoader 0: 100%|██████████| 1/1 [00:00<00:00, 211.20it/s]\n",
      "Epoch 9: 100%|██████████| 1/1 [00:00<00:00,  3.78it/s, v_num=2172, train_loss_step=3.150, train_loss_epoch=3.150]\n",
      "Predicting DataLoader 0: 100%|██████████| 1/1 [00:00<00:00, 65.85it/s]\n",
      "Epoch 9: 100%|██████████| 1/1 [00:00<00:00,  3.74it/s, v_num=2174, train_loss_step=3.150, train_loss_epoch=3.150]\n",
      "Predicting DataLoader 0: 100%|██████████| 1/1 [00:00<00:00, 65.40it/s]\n",
      "Epoch 9: 100%|██████████| 1/1 [00:00<00:00,  3.57it/s, v_num=2176, train_loss_step=3.120, train_loss_epoch=3.120]\n",
      "Predicting DataLoader 0: 100%|██████████| 1/1 [00:00<00:00, 49.26it/s]\n",
      "Epoch 9: 100%|██████████| 1/1 [00:00<00:00,  3.72it/s, v_num=2178, train_loss_step=3.020, train_loss_epoch=3.020]\n",
      "Predicting DataLoader 0: 100%|██████████| 1/1 [00:00<00:00, 114.41it/s]\n"
     ]
    }
   ],
   "source": [
    "############### TFT #################\n",
    "horizon = 5\n",
    "model_name = 'TFT'\n",
    "max_steps = 10\n",
    "random_seed = 1\n",
    "loss_func = mean_squared_error\n",
    "stack_types = ['identity', 'identity', 'identity']\n",
    "scaler_type = 'standard'\n",
    "loss=RMSE()\n",
    "\n",
    "study = optuna.create_study(direction='minimize')\n",
    "study.optimize(partial(objective, train_set=train_set, val_set=val_set, loss=loss, model_name=model_name, horizon=horizon, hist_exog_list=FINAL_COLUMNS, max_steps=max_steps, random_seed=random_seed, loss_func=loss_func, scaler_type=scaler_type), n_trials=2)\n",
    "prms = study.best_trial.params\n",
    "# Predykcja na podstawie najlepszych hiperparametrów\n",
    "models = [TFT(\n",
    "                 h=horizon,\n",
    "                 loss=loss,\n",
    "                 max_steps=max_steps,\n",
    "                 hist_exog_list=FINAL_COLUMNS,\n",
    "                 input_size=prms['input_size'],\n",
    "                 learning_rate=prms['learning_rate'],\n",
    "                 hidden_size=prms['hidden_size'],\n",
    "                 dropout=prms['dropout'],\n",
    "                 attn_dropout=prms['attn_dropout'],\n",
    "                 scaler_type=scaler_type,\n",
    "                random_seed=random_seed\n",
    "                 )]\n",
    "\n",
    "# Pipeline, który robi predykcję batchami co ileś dni, ustalane przez horizon\n",
    "loss_val, predictions_val = pipeline_train_predict(models, train_set, val_set, horizon, mean_squared_error, model_name)\n",
    "# Merge train and val sets\n",
    "train_val_set = pd.concat([train_set, val_set])\n",
    "loss_test, predictions_test = pipeline_train_predict(models, train_val_set, test_set, horizon, mean_squared_error, model_name)"
   ]
  },
  {
   "cell_type": "code",
   "execution_count": 6,
   "metadata": {},
   "outputs": [
    {
     "data": {
      "text/plain": [
       "229.69487190034735"
      ]
     },
     "execution_count": 6,
     "metadata": {},
     "output_type": "execute_result"
    }
   ],
   "source": [
    "loss_val"
   ]
  },
  {
   "cell_type": "code",
   "execution_count": 18,
   "metadata": {},
   "outputs": [
    {
     "name": "stderr",
     "output_type": "stream",
     "text": [
      "Seed set to 1\n"
     ]
    },
    {
     "name": "stdout",
     "output_type": "stream",
     "text": [
      "Epoch 9: 100%|██████████| 1/1 [00:00<00:00,  8.22it/s, v_num=1914, train_loss_step=0.612, train_loss_epoch=0.612]\n",
      "Predicting DataLoader 0: 100%|██████████| 1/1 [00:00<00:00, 13.67it/s]\n"
     ]
    }
   ],
   "source": [
    "from neuralforecast.models import DilatedRNN\n",
    "\n",
    "models = [DilatedRNN(\n",
    "                 h=horizon,\n",
    "                 loss=loss,\n",
    "                 max_steps=max_steps,\n",
    "                 hist_exog_list=FINAL_COLUMNS,\n",
    "                 input_size=10,\n",
    "                 #stack_types=stack_types,\n",
    "                 #mlp_units=mlp_units,\n",
    "                 #n_blocks=n_blocks,\n",
    "                 #learning_rate=prms['learning_rate'],\n",
    "                 #n_harmonics=prms['n_harmonics'],\n",
    "                 #n_polynomials=prms['n_polynomials'],\n",
    "                 scaler_type=scaler_type,\n",
    "                random_seed=random_seed\n",
    "                 )]\n",
    "model = NeuralForecast(models=models, freq='D')\n",
    "model.fit(train_set)\n",
    "p =  model.predict().reset_index()\n",
    "p = p.merge(val_set[['ds','unique_id', 'y']].reset_index(), on=['ds', 'unique_id'], how='left')"
   ]
  },
  {
   "cell_type": "code",
   "execution_count": 20,
   "metadata": {},
   "outputs": [
    {
     "data": {
      "text/plain": [
       "[6, 6, 6, 6]"
      ]
     },
     "execution_count": 20,
     "metadata": {},
     "output_type": "execute_result"
    }
   ],
   "source": [
    "[6]*4"
   ]
  },
  {
   "cell_type": "code",
   "execution_count": 19,
   "metadata": {},
   "outputs": [
    {
     "data": {
      "text/html": [
       "<div>\n",
       "<style scoped>\n",
       "    .dataframe tbody tr th:only-of-type {\n",
       "        vertical-align: middle;\n",
       "    }\n",
       "\n",
       "    .dataframe tbody tr th {\n",
       "        vertical-align: top;\n",
       "    }\n",
       "\n",
       "    .dataframe thead th {\n",
       "        text-align: right;\n",
       "    }\n",
       "</style>\n",
       "<table border=\"1\" class=\"dataframe\">\n",
       "  <thead>\n",
       "    <tr style=\"text-align: right;\">\n",
       "      <th></th>\n",
       "      <th>unique_id</th>\n",
       "      <th>ds</th>\n",
       "      <th>DilatedRNN</th>\n",
       "      <th>index</th>\n",
       "      <th>y</th>\n",
       "    </tr>\n",
       "  </thead>\n",
       "  <tbody>\n",
       "    <tr>\n",
       "      <th>0</th>\n",
       "      <td>NFLX</td>\n",
       "      <td>2023-01-15</td>\n",
       "      <td>438.156189</td>\n",
       "      <td>0</td>\n",
       "      <td>441.709991</td>\n",
       "    </tr>\n",
       "    <tr>\n",
       "      <th>1</th>\n",
       "      <td>NFLX</td>\n",
       "      <td>2023-01-16</td>\n",
       "      <td>439.109467</td>\n",
       "      <td>1</td>\n",
       "      <td>440.209991</td>\n",
       "    </tr>\n",
       "    <tr>\n",
       "      <th>2</th>\n",
       "      <td>NFLX</td>\n",
       "      <td>2023-01-17</td>\n",
       "      <td>439.157562</td>\n",
       "      <td>2</td>\n",
       "      <td>444.049988</td>\n",
       "    </tr>\n",
       "    <tr>\n",
       "      <th>3</th>\n",
       "      <td>NFLX</td>\n",
       "      <td>2023-01-18</td>\n",
       "      <td>440.515656</td>\n",
       "      <td>3</td>\n",
       "      <td>450.380005</td>\n",
       "    </tr>\n",
       "    <tr>\n",
       "      <th>4</th>\n",
       "      <td>NFLX</td>\n",
       "      <td>2023-01-19</td>\n",
       "      <td>440.727509</td>\n",
       "      <td>4</td>\n",
       "      <td>441.910004</td>\n",
       "    </tr>\n",
       "  </tbody>\n",
       "</table>\n",
       "</div>"
      ],
      "text/plain": [
       "  unique_id         ds  DilatedRNN  index           y\n",
       "0      NFLX 2023-01-15  438.156189      0  441.709991\n",
       "1      NFLX 2023-01-16  439.109467      1  440.209991\n",
       "2      NFLX 2023-01-17  439.157562      2  444.049988\n",
       "3      NFLX 2023-01-18  440.515656      3  450.380005\n",
       "4      NFLX 2023-01-19  440.727509      4  441.910004"
      ]
     },
     "execution_count": 19,
     "metadata": {},
     "output_type": "execute_result"
    }
   ],
   "source": [
    "p"
   ]
  },
  {
   "cell_type": "code",
   "execution_count": 5,
   "metadata": {},
   "outputs": [],
   "source": [
    "ts = pd.read_csv('csv/BA/train_set_full.csv')"
   ]
  },
  {
   "cell_type": "code",
   "execution_count": 6,
   "metadata": {},
   "outputs": [
    {
     "data": {
      "text/plain": [
       "Index(['future', 'influential', 'trustworthy', 'not clickbait',\n",
       "       'finbert_Score', 'bart_Score', 'vader_Score', 'future_finbert',\n",
       "       'future_bart', 'future_vader', 'influential_finbert',\n",
       "       'influential_bart', 'influential_vader', 'trustworthy_finbert',\n",
       "       'trustworthy_bart', 'trustworthy_vader', 'clickbait_finbert',\n",
       "       'clickbait_bart', 'clickbait_vader', 'Date', 'EURUSD=X_Close',\n",
       "       'mean_future', 'mean_influential', 'mean_trustworthy', 'mean_clickbait',\n",
       "       'norm_rsi_14', 'norm_rsi_gspc_14', 'norm_slowk_14', 'norm_roc_14',\n",
       "       'log_return_1', 'log_return_5', 'log_return_10', 'log_return_20',\n",
       "       'log_return_gspc_1', 'log_return_gspc_5', 'log_return_gspc_10',\n",
       "       'log_return_gspc_20', 'target_1', 'target_5', 'target_10', 'target_20',\n",
       "       'minmax_^GSPC_Volume', 'minmax_BA_Volume', 'minmax_daily_variation',\n",
       "       'minmax_high_close_pressure', 'minmax_low_open_pressure',\n",
       "       'minmax_low_norm', 'minmax_close_norm', 'minmax_high_norm',\n",
       "       'minmax_open_norm'],\n",
       "      dtype='object')"
      ]
     },
     "execution_count": 6,
     "metadata": {},
     "output_type": "execute_result"
    }
   ],
   "source": [
    "ts.columns"
   ]
  },
  {
   "cell_type": "code",
   "execution_count": null,
   "metadata": {},
   "outputs": [],
   "source": [
    "# Same finansowe, same newsy, finansowe + newsy\n",
    "# Do zapisu: model nauczony na treningu, na treningu i walidacji\n",
    "# predykcja na walidacyjnym\n",
    "# predykcja na testowym\n",
    "# loss na walidacyjnym\n",
    "# loss na testowym\n",
    "# Dla każdego znacznika: json['financial'/'news'/'financial_and_news']['TFT'/'NBEATS'/'NHITS']['params'/'loss'] - zapis\n",
    "# json['BA']['financial']['loss']['val'/'test']\n",
    "# Dla każdego znacznika: zapis val_pred.csv oraz test_pred.csv results/BA/financial/TFT/val_pred.csv\n",
    "horizon = 5\n",
    "model_name = 'TFT'\n",
    "max_steps = 10\n",
    "random_seed = 1\n",
    "loss_func = mean_squared_error\n",
    "stack_types = ['identity', 'identity', 'identity']\n",
    "scaler_type = 'standard'\n",
    "loss=RMSE()\n",
    "\n",
    "def train_all(indicator, model_names, max_steps, random_seed, FINAL_COLUMNS, scaler_type='standard', loss=RMSE()):\n",
    "    \n",
    "    # Prepare data\n",
    "    pass"
   ]
  },
  {
   "cell_type": "code",
   "execution_count": null,
   "metadata": {},
   "outputs": [],
   "source": [
    "prefix = \"NFLX\"\n",
    "FINAL_COLUMNS = ['mean_future', 'mean_influential','mean_trustworthy', 'mean_clickbait','norm_rsi_14', 'norm_rsi_gspc_14', 'norm_slowk_14']\n",
    "df_without_weekends = pd.read_csv(\"csv/\"+prefix+'_without_weekends.csv')\n",
    "df_without_weekends['DateGen'] = pd.date_range(start='2021-01-01', end='2023-11-26', freq='D')[:len(df_without_weekends)]\n",
    "max_date = df_without_weekends['DateGen'].max()\n",
    "test_start_date = max_date - pd.DateOffset(days=59)\n",
    "val_start_date = test_start_date - pd.DateOffset(days=40)\n",
    "train_set, val_set, test_set = split_data(df_without_weekends, 'DateGen', val_start_date, test_start_date, start_date_train = '2021-01-01')\n",
    "print(train_set.shape)\n",
    "print(val_set.shape)\n",
    "print(test_set.shape)\n",
    "\n",
    "cols_min_max = ['^GSPC_Volume', 'NFLX_Volume',\n",
    "'daily_variation', 'high_close_pressure', 'low_open_pressure',\n",
    "'low_norm', 'close_norm', 'high_norm', 'open_norm']\n",
    "\n",
    "train_set, scaler_min_max = min_max_scale(train_set,'Date', cols_min_max, train_data=True, scaler=None)\n",
    "val_set = min_max_scale(val_set,'Date', cols_min_max, train_data=False, scaler=scaler_min_max)\n",
    "test_set = min_max_scale(test_set,'Date', cols_min_max, train_data=False, scaler=scaler_min_max)\n",
    "\n",
    "train_set = train_set[['DateGen', f'{prefix}_Close'] + FINAL_COLUMNS]\n",
    "val_set = val_set[['DateGen', f'{prefix}_Close'] + FINAL_COLUMNS]\n",
    "test_set = test_set[['DateGen', f'{prefix}_Close'] + FINAL_COLUMNS]\n",
    "train_set.rename(columns={'DateGen':'ds', f'{prefix}_Close':'y'}, inplace=True)\n",
    "val_set.rename(columns={'DateGen':'ds', f'{prefix}_Close':'y'}, inplace=True)\n",
    "test_set.rename(columns={'DateGen':'ds', f'{prefix}_Close':'y'}, inplace=True)\n",
    "train_set['unique_id'] = prefix\n",
    "val_set['unique_id'] = prefix\n",
    "test_set['unique_id'] = prefix"
   ]
  },
  {
   "cell_type": "code",
   "execution_count": 1,
   "metadata": {},
   "outputs": [
    {
     "name": "stderr",
     "output_type": "stream",
     "text": [
      "c:\\Users\\szymo\\AppData\\Local\\Programs\\Python\\Python310\\lib\\site-packages\\tqdm\\auto.py:21: TqdmWarning: IProgress not found. Please update jupyter and ipywidgets. See https://ipywidgets.readthedocs.io/en/stable/user_install.html\n",
      "  from .autonotebook import tqdm as notebook_tqdm\n",
      "c:\\Users\\szymo\\AppData\\Local\\Programs\\Python\\Python310\\lib\\site-packages\\torchvision\\io\\image.py:13: UserWarning: Failed to load image Python extension: [WinError 127] Nie można odnaleźć określonej procedury\n",
      "  warn(f\"Failed to load image Python extension: {e}\")\n"
     ]
    }
   ],
   "source": [
    "from model_training import *\n",
    "import pandas as pd\n",
    "import numpy as np\n",
    "from scripts.essentials import *\n",
    "from scripts.plots import *\n",
    "from scripts.train_utilities import *\n",
    "from neuralforecast.losses.pytorch import MQLoss\n",
    "import json\n",
    "import os\n",
    "\n",
    "class HorizonTrainer:\n",
    "    def __init__(self, prefix, mode, model_type, final_columns, train_set_all, val_set_all, test_set_all, horizon, max_steps, scaler_type, loss_func, loss, n_trials, random_seed):\n",
    "        self.prefix = prefix\n",
    "        self.model_type = model_type\n",
    "        self.mode = mode\n",
    "        self.final_columns = final_columns\n",
    "        self.train_set_all = train_set_all\n",
    "        self.train_set = train_set_all\n",
    "        self.val_set_all = val_set_all\n",
    "        self.val_set = val_set_all\n",
    "        self.test_set_all = test_set_all\n",
    "        self.test_set = test_set_all\n",
    "        self.horizon = horizon\n",
    "        self.max_steps = max_steps\n",
    "        self.scaler_type = scaler_type\n",
    "        self.loss_func = loss_func\n",
    "        self.loss = loss\n",
    "        self.n_trials = n_trials\n",
    "        self.random_seed = random_seed\n",
    "\n",
    "    def __prepare_sets__(self):\n",
    "\n",
    "        self.train_set_all['DateGen'] = pd.date_range(start='2021-01-01', end='2023-11-26', freq='D')[:len(self.train_set)]\n",
    "        valid_start_date = self.train_set['DateGen'].max() + pd.DateOffset(days=1)\n",
    "        self.val_set_all['DateGen'] = pd.date_range(start=valid_start_date, end='2023-11-26', freq='D')[:len(self.val_set)]\n",
    "        test_start_date = self.val_set['DateGen'].max() + pd.DateOffset(days=1)\n",
    "        self.test_set_all['DateGen'] = pd.date_range(start=test_start_date, end='2023-11-26', freq='D')[:len(self.test_set)]\n",
    "        self.train_set = self.train_set_all[['DateGen', f'{self.prefix}_Close'] + self.final_columns]\n",
    "        self.val_set = self.val_set_all[['DateGen', f'{self.prefix}_Close'] + self.final_columns]\n",
    "        self.test_set = self.test_set_all[['DateGen', f'{self.prefix}_Close'] + self.final_columns]\n",
    "        self.train_set.rename(columns={'DateGen':'ds', f'{self.prefix}_Close':'y'}, inplace=True)\n",
    "        self.val_set.rename(columns={'DateGen':'ds', f'{self.prefix}_Close':'y'}, inplace=True)\n",
    "        self.test_set.rename(columns={'DateGen':'ds', f'{self.prefix}_Close':'y'}, inplace=True)\n",
    "        self.train_set['unique_id'] = self.prefix\n",
    "        self.val_set['unique_id'] = self.prefix\n",
    "        self.test_set['unique_id'] = self.prefix\n",
    "\n",
    "    def train(self):\n",
    "        self.__prepare_sets__()\n",
    "        study = optuna.create_study(direction='minimize')\n",
    "        study.optimize(partial(objective, train_set=self.train_set, val_set=self.val_set, loss=self.loss, model_name=self.model_type, horizon=self.horizon, hist_exog_list=self.final_columns, max_steps=self.max_steps, random_seed=self.random_seed, loss_func=self.loss_func, scaler_type=self.scaler_type), n_trials=self.n_trials)\n",
    "        prms = study.best_trial.params\n",
    "\n",
    "        if self.model_type == 'NBEATS':\n",
    "            n_blocks = [prms['n_blocks_season'], prms['n_blocks_trend'], prms['n_blocks_ident']]\n",
    "            mlp_units=[[prms['mlp_units'], prms['mlp_units']]]*prms['num_hidden']\n",
    "            params = {\n",
    "                'h': self.horizon,\n",
    "                'loss': self.loss,\n",
    "                'max_steps': self.max_steps,\n",
    "                'hist_exog_list': self.final_columns,\n",
    "                'input_size': 2*self.horizon,\n",
    "                'stack_types': ['seasonality', 'trend', 'identity'],\n",
    "                'mlp_units': mlp_units,\n",
    "                'n_blocks': n_blocks,\n",
    "                'learning_rate': prms['learning_rate'],\n",
    "                'n_harmonics': prms['n_harmonics'],\n",
    "                'n_polynomials': prms['n_polynomials'],\n",
    "                'scaler_type': self.scaler_type,\n",
    "                'random_seed': self.random_seed\n",
    "            }\n",
    "            models = [NBEATS(**params)]\n",
    "\n",
    "        elif self.model_type == 'NHITS':\n",
    "            n_blocks = [prms['n_blocks1'], prms['n_blocks2'], prms['n_blocks3']]\n",
    "            mlp_units=[[prms['mlp_units'], prms['mlp_units']]]*3\n",
    "            n_pool_kernel_size = [prms['n_pool_kernel_size1'], prms['n_pool_kernel_size2'], prms['n_pool_kernel_size3']]\n",
    "            n_freq_downsample = [prms['n_freq_downsample1'], prms['n_freq_downsample2'], prms['n_freq_downsample3']]\n",
    "            params = {\n",
    "                'h': self.horizon,\n",
    "                'loss': self.loss,\n",
    "                'max_steps': self.max_steps,\n",
    "                'hist_exog_list': self.final_columns,\n",
    "                'input_size': 2*self.horizon,\n",
    "                'stack_types': ['identity', 'identity', 'identity'],\n",
    "                'mlp_units': mlp_units,\n",
    "                'n_blocks': n_blocks,\n",
    "                'learning_rate': prms['learning_rate'],\n",
    "                'n_pool_kernel_size': n_pool_kernel_size,\n",
    "                'n_freq_downsample': n_freq_downsample,\n",
    "                'dropout_prob_theta': prms['dropout_prob_theta'],\n",
    "                'scaler_type': self.scaler_type,\n",
    "                'random_seed': self.random_seed\n",
    "            }\n",
    "            models = [NHITS(**params)]\n",
    "\n",
    "        elif self.model_type == 'TFT':\n",
    "            params = {\n",
    "                'h': self.horizon,\n",
    "                'loss': self.loss,\n",
    "                'max_steps': self.max_steps,\n",
    "                'hist_exog_list': self.final_columns,\n",
    "                'input_size': 2*self.horizon,\n",
    "                'learning_rate': prms['learning_rate'],\n",
    "                'hidden_size': prms['hidden_size'],\n",
    "                'dropout': prms['dropout'],\n",
    "                'attn_dropout': prms['attn_dropout'],\n",
    "                'scaler_type': self.scaler_type,\n",
    "                'random_seed': self.random_seed\n",
    "            }\n",
    "            models = [TFT(**params)]\n",
    "\n",
    "        else:\n",
    "            raise ValueError('Wrong model type!')\n",
    "        \n",
    "        params['loss'] = str(params['loss'])\n",
    "        \n",
    "            \n",
    "        loss_val, predictions_val = pipeline_train_predict(models, self.train_set, self.val_set, self.horizon, self.loss_func, self.model_type)\n",
    "        predictions_val = pd.concat([predictions_val, self.val_set_all[['Date']]], axis=1)\n",
    "        \n",
    "        train_val_set = pd.concat([self.train_set, self.val_set])\n",
    "        loss_test, predictions_test = pipeline_train_predict(models, train_val_set, self.test_set, self.horizon, self.loss_func, self.model_type)\n",
    "        predictions_test = pd.concat([predictions_test, self.test_set_all[['Date']]], axis=1)\n",
    "        \n",
    "        # create directiories if not exist\n",
    "    \n",
    "        if not os.path.exists(f'results/{self.prefix}'):\n",
    "            os.mkdir(f'results/{self.prefix}')\n",
    "        if not os.path.exists(f'results/{self.prefix}/{self.mode}'):\n",
    "            os.mkdir(f'results/{self.prefix}/{self.mode}')\n",
    "        if not os.path.exists(f'results/{self.prefix}/{self.mode}/{self.model_type}'):\n",
    "            os.mkdir(f'results/{self.prefix}/{self.mode}/{self.model_type}')\n",
    "        # All saves\n",
    "        # Save params as json\n",
    "        with open(f'results/{self.prefix}/{self.mode}/{self.model_type}/params.json', 'w') as f:\n",
    "            json.dump(params, f)\n",
    "        # Save predictions_val and predictions_test as csv\n",
    "        predictions_val.to_csv(f'results/{self.prefix}/{self.mode}/{self.model_type}/val_pred.csv', index=False)\n",
    "        predictions_test.to_csv(f'results/{self.prefix}/{self.mode}/{self.model_type}/test_pred.csv', index=False)\n",
    "        # Save loss_val and loss_test as json\n",
    "        scores = {\n",
    "            'val': loss_val,\n",
    "            'test': loss_test\n",
    "        }\n",
    "        with open(f'results/{self.prefix}/{self.mode}/{self.model_type}/loss.json', 'w') as f:\n",
    "            json.dump(scores, f)\n"
   ]
  },
  {
   "cell_type": "code",
   "execution_count": 2,
   "metadata": {},
   "outputs": [
    {
     "name": "stderr",
     "output_type": "stream",
     "text": [
      "[I 2023-12-21 14:34:37,724] A new study created in memory with name: no-name-7bdab3dd-4833-4b58-9358-76e043df17fc\n",
      "Seed set to 1\n"
     ]
    },
    {
     "name": "stdout",
     "output_type": "stream",
     "text": [
      "Prefix: NFLX | mode: financial_and_news | model_type: NBEATS\n",
      "Epoch 249: 100%|██████████| 1/1 [00:00<00:00, 17.32it/s, v_num=8264, train_loss_step=0.104, train_loss_epoch=0.104]  \n",
      "Predicting DataLoader 0: 100%|██████████| 1/1 [00:00<00:00, 1974.72it/s]\n",
      "Epoch 249: 100%|██████████| 1/1 [00:00<00:00,  8.29it/s, v_num=8266, train_loss_step=0.101, train_loss_epoch=0.101]\n",
      "Predicting DataLoader 0: 100%|██████████| 1/1 [00:00<00:00, 64.22it/s]\n",
      "Epoch 249: 100%|██████████| 1/1 [00:00<00:00,  7.70it/s, v_num=8268, train_loss_step=0.113, train_loss_epoch=0.113]\n",
      "Predicting DataLoader 0: 100%|██████████| 1/1 [00:00<00:00, 49.47it/s]\n",
      "Epoch 249: 100%|██████████| 1/1 [00:00<00:00, 15.85it/s, v_num=8270, train_loss_step=0.106, train_loss_epoch=0.106]\n",
      "Predicting DataLoader 0: 100%|██████████| 1/1 [00:00<00:00, 63.99it/s]\n",
      "Epoch 249: 100%|██████████| 1/1 [00:00<00:00, 14.82it/s, v_num=8272, train_loss_step=0.102, train_loss_epoch=0.102]\n",
      "Predicting DataLoader 0: 100%|██████████| 1/1 [00:00<00:00, 362.23it/s]\n",
      "Epoch 249: 100%|██████████| 1/1 [00:00<00:00, 19.08it/s, v_num=8274, train_loss_step=0.107, train_loss_epoch=0.107]\n",
      "Predicting DataLoader 0: 100%|██████████| 1/1 [00:00<00:00, 58.28it/s]\n",
      "Epoch 249: 100%|██████████| 1/1 [00:00<00:00, 11.34it/s, v_num=8276, train_loss_step=0.113, train_loss_epoch=0.113]\n",
      "Predicting DataLoader 0: 100%|██████████| 1/1 [00:00<00:00, 70.97it/s]\n",
      "Epoch 249: 100%|██████████| 1/1 [00:00<00:00,  9.39it/s, v_num=8278, train_loss_step=0.111, train_loss_epoch=0.111]\n",
      "Predicting DataLoader 0: 100%|██████████| 1/1 [00:00<00:00, 53.91it/s]"
     ]
    },
    {
     "name": "stderr",
     "output_type": "stream",
     "text": [
      "[I 2023-12-21 14:37:46,764] Trial 0 finished with value: 287.17149236144047 and parameters: {'n_blocks_season': 2, 'n_blocks_trend': 2, 'n_blocks_ident': 1, 'mlp_units': 128, 'num_hidden': 3, 'n_harmonics': 4, 'n_polynomials': 4, 'learning_rate': 0.0015931638982436289}. Best is trial 0 with value: 287.17149236144047.\n",
      "Seed set to 1\n"
     ]
    },
    {
     "name": "stdout",
     "output_type": "stream",
     "text": [
      "\n",
      "Epoch 249: 100%|██████████| 1/1 [00:00<00:00, 12.68it/s, v_num=8280, train_loss_step=0.410, train_loss_epoch=0.410]\n",
      "Predicting DataLoader 0: 100%|██████████| 1/1 [00:00<00:00, 63.85it/s]\n",
      "Epoch 249: 100%|██████████| 1/1 [00:00<00:00, 15.29it/s, v_num=8282, train_loss_step=0.366, train_loss_epoch=0.366]\n",
      "Predicting DataLoader 0: 100%|██████████| 1/1 [00:00<00:00, 57.74it/s]\n",
      "Epoch 249: 100%|██████████| 1/1 [00:00<00:00, 15.72it/s, v_num=8284, train_loss_step=0.419, train_loss_epoch=0.419]\n",
      "Predicting DataLoader 0: 100%|██████████| 1/1 [00:00<00:00, 80.55it/s]\n",
      "Epoch 249: 100%|██████████| 1/1 [00:00<00:00, 14.26it/s, v_num=8286, train_loss_step=0.389, train_loss_epoch=0.389]\n",
      "Predicting DataLoader 0: 100%|██████████| 1/1 [00:00<00:00, 63.49it/s] \n",
      "Epoch 249: 100%|██████████| 1/1 [00:00<00:00, 15.81it/s, v_num=8288, train_loss_step=0.404, train_loss_epoch=0.404]\n",
      "Predicting DataLoader 0: 100%|██████████| 1/1 [00:00<?, ?it/s]\n",
      "Epoch 249: 100%|██████████| 1/1 [00:00<00:00, 21.06it/s, v_num=8290, train_loss_step=0.401, train_loss_epoch=0.401]\n",
      "Predicting DataLoader 0: 100%|██████████| 1/1 [00:00<00:00, 64.01it/s]\n",
      "Epoch 249: 100%|██████████| 1/1 [00:00<00:00, 12.74it/s, v_num=8292, train_loss_step=0.391, train_loss_epoch=0.391]\n",
      "Predicting DataLoader 0: 100%|██████████| 1/1 [00:00<00:00, 63.81it/s]\n",
      "Epoch 249: 100%|██████████| 1/1 [00:00<00:00, 12.78it/s, v_num=8294, train_loss_step=0.384, train_loss_epoch=0.384]\n",
      "Predicting DataLoader 0: 100%|██████████| 1/1 [00:00<00:00, 138.80it/s]"
     ]
    },
    {
     "name": "stderr",
     "output_type": "stream",
     "text": [
      "[I 2023-12-21 14:40:22,932] Trial 1 finished with value: 167.24702588829703 and parameters: {'n_blocks_season': 1, 'n_blocks_trend': 2, 'n_blocks_ident': 1, 'mlp_units': 32, 'num_hidden': 2, 'n_harmonics': 4, 'n_polynomials': 2, 'learning_rate': 0.0007660651840673313}. Best is trial 1 with value: 167.24702588829703.\n",
      "Seed set to 1\n"
     ]
    },
    {
     "name": "stdout",
     "output_type": "stream",
     "text": [
      "\n",
      "Epoch 249: 100%|██████████| 1/1 [00:00<00:00, 11.36it/s, v_num=8296, train_loss_step=0.471, train_loss_epoch=0.471]   \n",
      "Predicting DataLoader 0: 100%|██████████| 1/1 [00:00<00:00, 54.87it/s]\n",
      "Epoch 249: 100%|██████████| 1/1 [00:00<00:00, 12.73it/s, v_num=8298, train_loss_step=0.387, train_loss_epoch=0.387]   \n",
      "Predicting DataLoader 0: 100%|██████████| 1/1 [00:00<00:00, 64.03it/s]\n",
      "Epoch 249: 100%|██████████| 1/1 [00:00<00:00, 10.15it/s, v_num=8300, train_loss_step=0.443, train_loss_epoch=0.443]  \n",
      "Predicting DataLoader 0: 100%|██████████| 1/1 [00:00<00:00, 63.99it/s]\n",
      "Epoch 249: 100%|██████████| 1/1 [00:00<00:00, 10.44it/s, v_num=8302, train_loss_step=0.403, train_loss_epoch=0.403]  \n",
      "Predicting DataLoader 0: 100%|██████████| 1/1 [00:00<00:00, 46.29it/s]\n",
      "Epoch 249: 100%|██████████| 1/1 [00:00<00:00, 10.62it/s, v_num=8304, train_loss_step=0.415, train_loss_epoch=0.415]  \n",
      "Predicting DataLoader 0: 100%|██████████| 1/1 [00:00<00:00, 63.90it/s]\n",
      "Epoch 249: 100%|██████████| 1/1 [00:00<00:00, 10.62it/s, v_num=8306, train_loss_step=0.420, train_loss_epoch=0.420]  \n",
      "Predicting DataLoader 0: 100%|██████████| 1/1 [00:00<00:00, 60.92it/s]\n",
      "Epoch 249: 100%|██████████| 1/1 [00:00<00:00, 10.62it/s, v_num=8308, train_loss_step=0.410, train_loss_epoch=0.410]  \n",
      "Predicting DataLoader 0: 100%|██████████| 1/1 [00:00<00:00, 370.69it/s]\n",
      "Epoch 249: 100%|██████████| 1/1 [00:00<00:00, 10.32it/s, v_num=8310, train_loss_step=0.392, train_loss_epoch=0.392]  \n",
      "Predicting DataLoader 0: 100%|██████████| 1/1 [00:00<00:00, 63.99it/s]"
     ]
    },
    {
     "name": "stderr",
     "output_type": "stream",
     "text": [
      "[I 2023-12-21 14:43:33,635] Trial 2 finished with value: 131.58648423175347 and parameters: {'n_blocks_season': 2, 'n_blocks_trend': 3, 'n_blocks_ident': 1, 'mlp_units': 64, 'num_hidden': 2, 'n_harmonics': 5, 'n_polynomials': 1, 'learning_rate': 0.06768095001924966}. Best is trial 2 with value: 131.58648423175347.\n",
      "Seed set to 1\n"
     ]
    },
    {
     "name": "stdout",
     "output_type": "stream",
     "text": [
      "\n",
      "Epoch 249: 100%|██████████| 1/1 [00:00<00:00, 18.35it/s, v_num=8312, train_loss_step=911.0, train_loss_epoch=911.0]    \n",
      "Predicting DataLoader 0: 100%|██████████| 1/1 [00:00<00:00, 63.80it/s]\n",
      "Epoch 249: 100%|██████████| 1/1 [00:00<00:00,  9.36it/s, v_num=8314, train_loss_step=8.08e+5, train_loss_epoch=8.08e+5] \n",
      "Predicting DataLoader 0: 100%|██████████| 1/1 [00:00<00:00, 56.44it/s]\n",
      "Epoch 249: 100%|██████████| 1/1 [00:00<00:00, 10.85it/s, v_num=8316, train_loss_step=5.03e+4, train_loss_epoch=5.03e+4]\n",
      "Predicting DataLoader 0: 100%|██████████| 1/1 [00:00<00:00, 63.97it/s]\n",
      "Epoch 249: 100%|██████████| 1/1 [00:00<00:00, 10.40it/s, v_num=8318, train_loss_step=90.50, train_loss_epoch=90.50]   \n",
      "Predicting DataLoader 0: 100%|██████████| 1/1 [00:00<00:00, 32.01it/s]\n",
      "Epoch 249: 100%|██████████| 1/1 [00:00<00:00,  4.77it/s, v_num=8320, train_loss_step=413.0, train_loss_epoch=413.0]    \n",
      "Predicting DataLoader 0: 100%|██████████| 1/1 [00:00<00:00, 63.99it/s]\n",
      "Epoch 249: 100%|██████████| 1/1 [00:00<00:00,  9.54it/s, v_num=8322, train_loss_step=1.58e+5, train_loss_epoch=1.58e+5]\n",
      "Predicting DataLoader 0: 100%|██████████| 1/1 [00:00<00:00, 90.83it/s]\n",
      "Epoch 249: 100%|██████████| 1/1 [00:00<00:00,  7.95it/s, v_num=8324, train_loss_step=1.88e+4, train_loss_epoch=1.88e+4] \n",
      "Predicting DataLoader 0: 100%|██████████| 1/1 [00:00<00:00, 64.00it/s]\n",
      "Epoch 249: 100%|██████████| 1/1 [00:00<00:00, 10.74it/s, v_num=8326, train_loss_step=6.48e+4, train_loss_epoch=6.48e+4] \n",
      "Predicting DataLoader 0: 100%|██████████| 1/1 [00:00<00:00, 62.11it/s]"
     ]
    },
    {
     "name": "stderr",
     "output_type": "stream",
     "text": [
      "[I 2023-12-21 14:46:59,971] Trial 3 finished with value: 404985348672.3904 and parameters: {'n_blocks_season': 3, 'n_blocks_trend': 1, 'n_blocks_ident': 3, 'mlp_units': 128, 'num_hidden': 1, 'n_harmonics': 3, 'n_polynomials': 2, 'learning_rate': 0.05159752398333061}. Best is trial 2 with value: 131.58648423175347.\n",
      "Seed set to 1\n"
     ]
    },
    {
     "name": "stdout",
     "output_type": "stream",
     "text": [
      "\n",
      "Epoch 249: 100%|██████████| 1/1 [00:00<00:00, 10.68it/s, v_num=8328, train_loss_step=0.438, train_loss_epoch=0.438]\n",
      "Predicting DataLoader 0: 100%|██████████| 1/1 [00:00<00:00, 64.15it/s]\n",
      "Epoch 249: 100%|██████████| 1/1 [00:00<00:00, 18.70it/s, v_num=8330, train_loss_step=0.389, train_loss_epoch=0.389]\n",
      "Predicting DataLoader 0: 100%|██████████| 1/1 [00:00<00:00, 55.00it/s]\n",
      "Epoch 249: 100%|██████████| 1/1 [00:00<00:00, 10.11it/s, v_num=8332, train_loss_step=0.447, train_loss_epoch=0.447]\n",
      "Predicting DataLoader 0: 100%|██████████| 1/1 [00:00<00:00, 55.17it/s]\n",
      "Epoch 249: 100%|██████████| 1/1 [00:00<00:00, 10.16it/s, v_num=8334, train_loss_step=0.413, train_loss_epoch=0.413]\n",
      "Predicting DataLoader 0: 100%|██████████| 1/1 [00:00<00:00, 34.26it/s]\n",
      "Epoch 249: 100%|██████████| 1/1 [00:00<00:00, 12.43it/s, v_num=8336, train_loss_step=0.421, train_loss_epoch=0.421]\n",
      "Predicting DataLoader 0: 100%|██████████| 1/1 [00:00<00:00, 63.88it/s]\n",
      "Epoch 249: 100%|██████████| 1/1 [00:00<00:00,  9.78it/s, v_num=8338, train_loss_step=0.419, train_loss_epoch=0.419]\n",
      "Predicting DataLoader 0: 100%|██████████| 1/1 [00:00<00:00, 76.61it/s]\n",
      "Epoch 249: 100%|██████████| 1/1 [00:00<00:00, 11.59it/s, v_num=8340, train_loss_step=0.392, train_loss_epoch=0.392]\n",
      "Predicting DataLoader 0: 100%|██████████| 1/1 [00:00<00:00, 61.43it/s]\n",
      "Epoch 249: 100%|██████████| 1/1 [00:00<00:00, 10.58it/s, v_num=8342, train_loss_step=0.405, train_loss_epoch=0.405]\n",
      "Predicting DataLoader 0: 100%|██████████| 1/1 [00:00<00:00, 46.02it/s]"
     ]
    },
    {
     "name": "stderr",
     "output_type": "stream",
     "text": [
      "[I 2023-12-21 14:50:10,028] Trial 4 finished with value: 163.39837616926548 and parameters: {'n_blocks_season': 2, 'n_blocks_trend': 1, 'n_blocks_ident': 3, 'mlp_units': 32, 'num_hidden': 3, 'n_harmonics': 4, 'n_polynomials': 4, 'learning_rate': 0.06824081868816305}. Best is trial 2 with value: 131.58648423175347.\n",
      "Seed set to 1\n"
     ]
    },
    {
     "name": "stdout",
     "output_type": "stream",
     "text": [
      "\n",
      "Epoch 249: 100%|██████████| 1/1 [00:00<00:00, 10.55it/s, v_num=8344, train_loss_step=0.471, train_loss_epoch=0.471]   \n",
      "Predicting DataLoader 0: 100%|██████████| 1/1 [00:00<00:00, 71.37it/s]\n",
      "Epoch 249: 100%|██████████| 1/1 [00:00<00:00, 12.67it/s, v_num=8346, train_loss_step=0.387, train_loss_epoch=0.387]   \n",
      "Predicting DataLoader 0: 100%|██████████| 1/1 [00:00<00:00, 63.82it/s]\n",
      "Epoch 249: 100%|██████████| 1/1 [00:00<00:00, 10.64it/s, v_num=8348, train_loss_step=0.443, train_loss_epoch=0.443]  \n",
      "Predicting DataLoader 0: 100%|██████████| 1/1 [00:00<00:00, 85.82it/s]\n",
      "Epoch 249: 100%|██████████| 1/1 [00:00<00:00, 10.65it/s, v_num=8350, train_loss_step=0.403, train_loss_epoch=0.403]  \n",
      "Predicting DataLoader 0: 100%|██████████| 1/1 [00:00<00:00, 79.57it/s]\n",
      "Epoch 249: 100%|██████████| 1/1 [00:00<00:00, 17.17it/s, v_num=8352, train_loss_step=0.415, train_loss_epoch=0.415]  \n",
      "Predicting DataLoader 0: 100%|██████████| 1/1 [00:00<00:00, 121.15it/s]\n",
      "Epoch 249: 100%|██████████| 1/1 [00:00<00:00, 14.72it/s, v_num=8354, train_loss_step=0.420, train_loss_epoch=0.420]  \n",
      "Predicting DataLoader 0: 100%|██████████| 1/1 [00:00<00:00, 65.18it/s]\n",
      "Epoch 249: 100%|██████████| 1/1 [00:00<00:00, 11.27it/s, v_num=8356, train_loss_step=0.410, train_loss_epoch=0.410]  \n",
      "Predicting DataLoader 0: 100%|██████████| 1/1 [00:00<00:00, 36.13it/s]\n",
      "Epoch 249: 100%|██████████| 1/1 [00:00<00:00, 11.81it/s, v_num=8358, train_loss_step=0.392, train_loss_epoch=0.392]  \n",
      "Predicting DataLoader 0: 100%|██████████| 1/1 [00:00<00:00, 62.22it/s]\n",
      "Epoch 249: 100%|██████████| 1/1 [00:00<00:00, 16.68it/s, v_num=8360, train_loss_step=0.383, train_loss_epoch=0.383]  \n",
      "Predicting DataLoader 0: 100%|██████████| 1/1 [00:00<00:00, 109.52it/s]\n",
      "Epoch 249: 100%|██████████| 1/1 [00:00<00:00, 13.71it/s, v_num=8362, train_loss_step=0.755, train_loss_epoch=0.755]   \n",
      "Predicting DataLoader 0: 100%|██████████| 1/1 [00:00<00:00, 87.38it/s]\n",
      "Epoch 249: 100%|██████████| 1/1 [00:00<00:00, 22.56it/s, v_num=8364, train_loss_step=0.448, train_loss_epoch=0.448]   \n",
      "Predicting DataLoader 0: 100%|██████████| 1/1 [00:00<00:00, 62.35it/s]\n",
      "Epoch 249: 100%|██████████| 1/1 [00:00<00:00, 25.50it/s, v_num=8366, train_loss_step=0.529, train_loss_epoch=0.529]  \n",
      "Predicting DataLoader 0: 100%|██████████| 1/1 [00:00<00:00, 81.87it/s]\n",
      "Epoch 249: 100%|██████████| 1/1 [00:00<00:00, 22.26it/s, v_num=8368, train_loss_step=0.543, train_loss_epoch=0.543]   \n",
      "Predicting DataLoader 0: 100%|██████████| 1/1 [00:00<?, ?it/s]\n",
      "Epoch 249: 100%|██████████| 1/1 [00:00<00:00, 22.35it/s, v_num=8370, train_loss_step=0.398, train_loss_epoch=0.398]  \n",
      "Predicting DataLoader 0: 100%|██████████| 1/1 [00:00<00:00, 108.04it/s]\n",
      "Epoch 249: 100%|██████████| 1/1 [00:00<00:00, 22.46it/s, v_num=8372, train_loss_step=0.444, train_loss_epoch=0.444]   \n",
      "Predicting DataLoader 0: 100%|██████████| 1/1 [00:00<00:00, 553.56it/s]\n",
      "Epoch 249: 100%|██████████| 1/1 [00:00<00:00, 23.98it/s, v_num=8374, train_loss_step=0.462, train_loss_epoch=0.462]  \n",
      "Predicting DataLoader 0: 100%|██████████| 1/1 [00:00<00:00, 236.47it/s]\n",
      "Epoch 249: 100%|██████████| 1/1 [00:00<00:00, 23.68it/s, v_num=8376, train_loss_step=0.438, train_loss_epoch=0.438]  \n",
      "Predicting DataLoader 0: 100%|██████████| 1/1 [00:00<00:00, 86.31it/s] \n",
      "Epoch 249: 100%|██████████| 1/1 [00:00<00:00, 25.77it/s, v_num=8378, train_loss_step=0.423, train_loss_epoch=0.423]  \n",
      "Predicting DataLoader 0: 100%|██████████| 1/1 [00:00<00:00, 284.22it/s]\n",
      "Epoch 249: 100%|██████████| 1/1 [00:00<00:00, 20.84it/s, v_num=8380, train_loss_step=0.452, train_loss_epoch=0.452]  \n",
      "Predicting DataLoader 0: 100%|██████████| 1/1 [00:00<00:00, 122.27it/s]\n",
      "Epoch 249: 100%|██████████| 1/1 [00:00<00:00, 20.68it/s, v_num=8382, train_loss_step=0.411, train_loss_epoch=0.411]  \n",
      "Predicting DataLoader 0: 100%|██████████| 1/1 [00:00<00:00, 162.82it/s]"
     ]
    },
    {
     "name": "stderr",
     "output_type": "stream",
     "text": [
      "[I 2023-12-21 14:55:53,557] A new study created in memory with name: no-name-b58acc74-5318-40af-8910-297a7709f784\n",
      "Seed set to 1\n"
     ]
    },
    {
     "name": "stdout",
     "output_type": "stream",
     "text": [
      "\n",
      "Prefix: NFLX | mode: financial_and_news | model_type: NHITS\n",
      "Epoch 249: 100%|██████████| 1/1 [00:00<00:00, 19.41it/s, v_num=8384, train_loss_step=0.193, train_loss_epoch=0.193]\n",
      "Predicting DataLoader 0: 100%|██████████| 1/1 [00:00<00:00, 149.41it/s]\n",
      "Epoch 249: 100%|██████████| 1/1 [00:00<00:00, 13.75it/s, v_num=8386, train_loss_step=0.176, train_loss_epoch=0.176]\n",
      "Predicting DataLoader 0: 100%|██████████| 1/1 [00:00<00:00, 83.15it/s] \n",
      "Epoch 249: 100%|██████████| 1/1 [00:00<00:00, 15.30it/s, v_num=8388, train_loss_step=0.196, train_loss_epoch=0.196]\n",
      "Predicting DataLoader 0: 100%|██████████| 1/1 [00:00<00:00, 154.44it/s]\n",
      "Epoch 249: 100%|██████████| 1/1 [00:00<00:00, 18.70it/s, v_num=8390, train_loss_step=0.184, train_loss_epoch=0.184]\n",
      "Predicting DataLoader 0: 100%|██████████| 1/1 [00:00<00:00, 62.12it/s]\n",
      "Epoch 249: 100%|██████████| 1/1 [00:00<00:00, 18.58it/s, v_num=8392, train_loss_step=0.187, train_loss_epoch=0.187]\n",
      "Predicting DataLoader 0: 100%|██████████| 1/1 [00:00<00:00, 74.00it/s]\n",
      "Epoch 249: 100%|██████████| 1/1 [00:00<00:00, 15.29it/s, v_num=8394, train_loss_step=0.182, train_loss_epoch=0.182]\n",
      "Predicting DataLoader 0: 100%|██████████| 1/1 [00:00<00:00, 338.88it/s]\n",
      "Epoch 249: 100%|██████████| 1/1 [00:00<00:00, 15.31it/s, v_num=8396, train_loss_step=0.187, train_loss_epoch=0.187]\n",
      "Predicting DataLoader 0: 100%|██████████| 1/1 [00:00<00:00, 111.08it/s]\n",
      "Epoch 249: 100%|██████████| 1/1 [00:00<00:00, 14.08it/s, v_num=8398, train_loss_step=0.196, train_loss_epoch=0.196]\n",
      "Predicting DataLoader 0: 100%|██████████| 1/1 [00:00<00:00, 79.21it/s]"
     ]
    },
    {
     "name": "stderr",
     "output_type": "stream",
     "text": [
      "[I 2023-12-21 14:58:17,428] Trial 0 finished with value: 339.2628978844036 and parameters: {'n_blocks1': 2, 'n_blocks2': 3, 'n_blocks3': 2, 'mlp_units': 32, 'n_pool_kernel_size1': 1, 'n_pool_kernel_size2': 2, 'n_pool_kernel_size3': 2, 'n_freq_downsample1': 1, 'n_freq_downsample2': 1, 'n_freq_downsample3': 1, 'learning_rate': 0.011573422422434282, 'dropout_prob_theta': 0.41640327225192353}. Best is trial 0 with value: 339.2628978844036.\n",
      "Seed set to 1\n"
     ]
    },
    {
     "name": "stdout",
     "output_type": "stream",
     "text": [
      "\n",
      "Epoch 249: 100%|██████████| 1/1 [00:00<00:00, 12.24it/s, v_num=8400, train_loss_step=0.125, train_loss_epoch=0.125]\n",
      "Predicting DataLoader 0: 100%|██████████| 1/1 [00:00<00:00, 251.22it/s]\n",
      "Epoch 249: 100%|██████████| 1/1 [00:00<00:00, 14.66it/s, v_num=8402, train_loss_step=0.120, train_loss_epoch=0.120]\n",
      "Predicting DataLoader 0: 100%|██████████| 1/1 [00:00<00:00, 200.03it/s]\n",
      "Epoch 249: 100%|██████████| 1/1 [00:00<00:00, 12.67it/s, v_num=8404, train_loss_step=0.131, train_loss_epoch=0.131]\n",
      "Predicting DataLoader 0: 100%|██████████| 1/1 [00:00<00:00, 116.38it/s]\n",
      "Epoch 249: 100%|██████████| 1/1 [00:00<00:00, 11.07it/s, v_num=8406, train_loss_step=0.124, train_loss_epoch=0.124]\n",
      "Predicting DataLoader 0: 100%|██████████| 1/1 [00:00<?, ?it/s]\n",
      "Epoch 249: 100%|██████████| 1/1 [00:00<00:00, 11.91it/s, v_num=8408, train_loss_step=0.123, train_loss_epoch=0.123]\n",
      "Predicting DataLoader 0: 100%|██████████| 1/1 [00:00<00:00, 159.63it/s]\n",
      "Epoch 249: 100%|██████████| 1/1 [00:00<00:00, 11.42it/s, v_num=8410, train_loss_step=0.124, train_loss_epoch=0.124]\n",
      "Predicting DataLoader 0: 100%|██████████| 1/1 [00:00<00:00, 90.73it/s] \n",
      "Epoch 249: 100%|██████████| 1/1 [00:00<00:00, 11.91it/s, v_num=8412, train_loss_step=0.124, train_loss_epoch=0.124]\n",
      "Predicting DataLoader 0: 100%|██████████| 1/1 [00:00<00:00, 253.36it/s]\n",
      "Epoch 249: 100%|██████████| 1/1 [00:00<00:00, 11.52it/s, v_num=8414, train_loss_step=0.124, train_loss_epoch=0.124]\n",
      "Predicting DataLoader 0: 100%|██████████| 1/1 [00:00<00:00, 231.74it/s]"
     ]
    },
    {
     "name": "stderr",
     "output_type": "stream",
     "text": [
      "[I 2023-12-21 15:01:20,483] Trial 1 finished with value: 238.1392300079112 and parameters: {'n_blocks1': 1, 'n_blocks2': 2, 'n_blocks3': 2, 'mlp_units': 128, 'n_pool_kernel_size1': 2, 'n_pool_kernel_size2': 1, 'n_pool_kernel_size3': 2, 'n_freq_downsample1': 3, 'n_freq_downsample2': 1, 'n_freq_downsample3': 1, 'learning_rate': 0.001882971019395533, 'dropout_prob_theta': 0.2523403153323739}. Best is trial 1 with value: 238.1392300079112.\n",
      "Seed set to 1\n"
     ]
    },
    {
     "name": "stdout",
     "output_type": "stream",
     "text": [
      "\n",
      "Epoch 249: 100%|██████████| 1/1 [00:00<00:00, 16.29it/s, v_num=8416, train_loss_step=0.135, train_loss_epoch=0.135]\n",
      "Predicting DataLoader 0: 100%|██████████| 1/1 [00:00<00:00, 52.19it/s]\n",
      "Epoch 249: 100%|██████████| 1/1 [00:00<00:00, 15.85it/s, v_num=8418, train_loss_step=0.128, train_loss_epoch=0.128]\n",
      "Predicting DataLoader 0: 100%|██████████| 1/1 [00:00<00:00, 104.23it/s]\n",
      "Epoch 249: 100%|██████████| 1/1 [00:00<00:00, 15.58it/s, v_num=8420, train_loss_step=0.143, train_loss_epoch=0.143]\n",
      "Predicting DataLoader 0: 100%|██████████| 1/1 [00:00<00:00, 114.38it/s]\n",
      "Epoch 249: 100%|██████████| 1/1 [00:00<00:00, 19.97it/s, v_num=8422, train_loss_step=0.131, train_loss_epoch=0.131]\n",
      "Predicting DataLoader 0: 100%|██████████| 1/1 [00:00<00:00, 116.13it/s]\n",
      "Epoch 249: 100%|██████████| 1/1 [00:00<00:00, 17.74it/s, v_num=8424, train_loss_step=0.133, train_loss_epoch=0.133]\n",
      "Predicting DataLoader 0: 100%|██████████| 1/1 [00:00<00:00, 133.33it/s]\n",
      "Epoch 249: 100%|██████████| 1/1 [00:00<00:00, 16.88it/s, v_num=8426, train_loss_step=0.136, train_loss_epoch=0.136]\n",
      "Predicting DataLoader 0: 100%|██████████| 1/1 [00:00<00:00, 446.77it/s]\n",
      "Epoch 249: 100%|██████████| 1/1 [00:00<00:00, 16.62it/s, v_num=8428, train_loss_step=0.132, train_loss_epoch=0.132]\n",
      "Predicting DataLoader 0: 100%|██████████| 1/1 [00:00<00:00, 45.51it/s]\n",
      "Epoch 249: 100%|██████████| 1/1 [00:00<00:00, 15.13it/s, v_num=8430, train_loss_step=0.131, train_loss_epoch=0.131]\n",
      "Predicting DataLoader 0: 100%|██████████| 1/1 [00:00<00:00, 163.18it/s]"
     ]
    },
    {
     "name": "stderr",
     "output_type": "stream",
     "text": [
      "[I 2023-12-21 15:03:30,521] Trial 2 finished with value: 265.7431284740102 and parameters: {'n_blocks1': 3, 'n_blocks2': 1, 'n_blocks3': 1, 'mlp_units': 32, 'n_pool_kernel_size1': 1, 'n_pool_kernel_size2': 3, 'n_pool_kernel_size3': 1, 'n_freq_downsample1': 4, 'n_freq_downsample2': 1, 'n_freq_downsample3': 2, 'learning_rate': 0.006198507000137306, 'dropout_prob_theta': 0.058778503173606556}. Best is trial 1 with value: 238.1392300079112.\n",
      "Seed set to 1\n"
     ]
    },
    {
     "name": "stdout",
     "output_type": "stream",
     "text": [
      "\n",
      "Epoch 249: 100%|██████████| 1/1 [00:00<00:00, 14.84it/s, v_num=8432, train_loss_step=0.249, train_loss_epoch=0.249]\n",
      "Predicting DataLoader 0: 100%|██████████| 1/1 [00:00<00:00, 180.13it/s]\n",
      "Epoch 249: 100%|██████████| 1/1 [00:00<00:00, 14.30it/s, v_num=8434, train_loss_step=0.234, train_loss_epoch=0.234]\n",
      "Predicting DataLoader 0: 100%|██████████| 1/1 [00:00<00:00, 177.13it/s]\n",
      "Epoch 249: 100%|██████████| 1/1 [00:00<00:00, 12.27it/s, v_num=8436, train_loss_step=0.254, train_loss_epoch=0.254]\n",
      "Predicting DataLoader 0: 100%|██████████| 1/1 [00:00<00:00, 495.96it/s]\n",
      "Epoch 249: 100%|██████████| 1/1 [00:00<00:00,  9.07it/s, v_num=8438, train_loss_step=0.236, train_loss_epoch=0.236]\n",
      "Predicting DataLoader 0: 100%|██████████| 1/1 [00:00<00:00, 106.18it/s]\n",
      "Epoch 249: 100%|██████████| 1/1 [00:00<00:00, 12.99it/s, v_num=8440, train_loss_step=0.244, train_loss_epoch=0.244]\n",
      "Predicting DataLoader 0: 100%|██████████| 1/1 [00:00<00:00, 70.00it/s] \n",
      "Epoch 249: 100%|██████████| 1/1 [00:00<00:00, 15.41it/s, v_num=8442, train_loss_step=0.248, train_loss_epoch=0.248]\n",
      "Predicting DataLoader 0: 100%|██████████| 1/1 [00:00<00:00, 62.63it/s]\n",
      "Epoch 249: 100%|██████████| 1/1 [00:00<00:00, 14.92it/s, v_num=8444, train_loss_step=0.244, train_loss_epoch=0.244]\n",
      "Predicting DataLoader 0: 100%|██████████| 1/1 [00:00<00:00, 438.69it/s]\n",
      "Epoch 249: 100%|██████████| 1/1 [00:00<00:00, 13.98it/s, v_num=8446, train_loss_step=0.250, train_loss_epoch=0.250]\n",
      "Predicting DataLoader 0: 100%|██████████| 1/1 [00:00<00:00, 493.22it/s]"
     ]
    },
    {
     "name": "stderr",
     "output_type": "stream",
     "text": [
      "[I 2023-12-21 15:06:08,505] Trial 3 finished with value: 180.4689285109288 and parameters: {'n_blocks1': 1, 'n_blocks2': 3, 'n_blocks3': 3, 'mlp_units': 32, 'n_pool_kernel_size1': 2, 'n_pool_kernel_size2': 3, 'n_pool_kernel_size3': 2, 'n_freq_downsample1': 3, 'n_freq_downsample2': 4, 'n_freq_downsample3': 4, 'learning_rate': 0.005593019744857369, 'dropout_prob_theta': 0.4083751075794747}. Best is trial 3 with value: 180.4689285109288.\n",
      "Seed set to 1\n"
     ]
    },
    {
     "name": "stdout",
     "output_type": "stream",
     "text": [
      "\n",
      "Epoch 249: 100%|██████████| 1/1 [00:00<00:00,  9.79it/s, v_num=8448, train_loss_step=0.440, train_loss_epoch=0.440]\n",
      "Predicting DataLoader 0: 100%|██████████| 1/1 [00:00<00:00, 171.92it/s]\n",
      "Epoch 249: 100%|██████████| 1/1 [00:00<00:00, 10.52it/s, v_num=8450, train_loss_step=0.390, train_loss_epoch=0.390]\n",
      "Predicting DataLoader 0: 100%|██████████| 1/1 [00:00<00:00, 204.29it/s]\n",
      "Epoch 249: 100%|██████████| 1/1 [00:00<00:00,  9.51it/s, v_num=8452, train_loss_step=0.450, train_loss_epoch=0.450]\n",
      "Predicting DataLoader 0: 100%|██████████| 1/1 [00:00<?, ?it/s]\n",
      "Epoch 249: 100%|██████████| 1/1 [00:00<00:00, 10.55it/s, v_num=8454, train_loss_step=0.414, train_loss_epoch=0.414]\n",
      "Predicting DataLoader 0: 100%|██████████| 1/1 [00:00<00:00, 105.42it/s]\n",
      "Epoch 249: 100%|██████████| 1/1 [00:00<00:00,  9.45it/s, v_num=8456, train_loss_step=0.426, train_loss_epoch=0.426]\n",
      "Predicting DataLoader 0: 100%|██████████| 1/1 [00:00<00:00, 68.04it/s]\n",
      "Epoch 249: 100%|██████████| 1/1 [00:00<00:00,  7.15it/s, v_num=8458, train_loss_step=0.426, train_loss_epoch=0.426]\n",
      "Predicting DataLoader 0: 100%|██████████| 1/1 [00:00<00:00, 156.60it/s]\n",
      "Epoch 249: 100%|██████████| 1/1 [00:00<00:00, 10.23it/s, v_num=8460, train_loss_step=0.413, train_loss_epoch=0.413]\n",
      "Predicting DataLoader 0: 100%|██████████| 1/1 [00:00<00:00, 118.16it/s]\n",
      "Epoch 249: 100%|██████████| 1/1 [00:00<00:00,  9.05it/s, v_num=8462, train_loss_step=0.412, train_loss_epoch=0.412]\n",
      "Predicting DataLoader 0: 100%|██████████| 1/1 [00:00<00:00, 179.63it/s]"
     ]
    },
    {
     "name": "stderr",
     "output_type": "stream",
     "text": [
      "[I 2023-12-21 15:10:01,567] Trial 4 finished with value: 153.7426779275064 and parameters: {'n_blocks1': 2, 'n_blocks2': 2, 'n_blocks3': 3, 'mlp_units': 128, 'n_pool_kernel_size1': 1, 'n_pool_kernel_size2': 2, 'n_pool_kernel_size3': 2, 'n_freq_downsample1': 5, 'n_freq_downsample2': 3, 'n_freq_downsample3': 4, 'learning_rate': 4.955922526890784e-05, 'dropout_prob_theta': 0.08404299333572118}. Best is trial 4 with value: 153.7426779275064.\n",
      "Seed set to 1\n"
     ]
    },
    {
     "name": "stdout",
     "output_type": "stream",
     "text": [
      "\n",
      "Epoch 249: 100%|██████████| 1/1 [00:00<00:00,  8.94it/s, v_num=8464, train_loss_step=0.440, train_loss_epoch=0.440]\n",
      "Predicting DataLoader 0: 100%|██████████| 1/1 [00:00<00:00, 143.11it/s]\n",
      "Epoch 249: 100%|██████████| 1/1 [00:00<00:00, 10.29it/s, v_num=8466, train_loss_step=0.390, train_loss_epoch=0.390]\n",
      "Predicting DataLoader 0: 100%|██████████| 1/1 [00:00<00:00, 30.28it/s]\n",
      "Epoch 249: 100%|██████████| 1/1 [00:00<00:00,  9.22it/s, v_num=8468, train_loss_step=0.450, train_loss_epoch=0.450]\n",
      "Predicting DataLoader 0: 100%|██████████| 1/1 [00:00<00:00, 61.50it/s]\n",
      "Epoch 249: 100%|██████████| 1/1 [00:00<00:00,  8.74it/s, v_num=8470, train_loss_step=0.414, train_loss_epoch=0.414]\n",
      "Predicting DataLoader 0: 100%|██████████| 1/1 [00:00<00:00, 33.33it/s]\n",
      "Epoch 249: 100%|██████████| 1/1 [00:00<00:00, 10.12it/s, v_num=8472, train_loss_step=0.426, train_loss_epoch=0.426]\n",
      "Predicting DataLoader 0: 100%|██████████| 1/1 [00:00<00:00, 120.89it/s]\n",
      "Epoch 249: 100%|██████████| 1/1 [00:00<00:00,  8.52it/s, v_num=8474, train_loss_step=0.426, train_loss_epoch=0.426]\n",
      "Predicting DataLoader 0: 100%|██████████| 1/1 [00:00<00:00, 73.94it/s] \n",
      "Epoch 249: 100%|██████████| 1/1 [00:00<00:00,  8.28it/s, v_num=8476, train_loss_step=0.413, train_loss_epoch=0.413]\n",
      "Predicting DataLoader 0: 100%|██████████| 1/1 [00:00<00:00, 133.29it/s]\n",
      "Epoch 249: 100%|██████████| 1/1 [00:00<00:00,  7.55it/s, v_num=8478, train_loss_step=0.412, train_loss_epoch=0.412]\n",
      "Predicting DataLoader 0: 100%|██████████| 1/1 [00:00<00:00, 131.93it/s]\n",
      "Epoch 249: 100%|██████████| 1/1 [00:00<00:00,  9.39it/s, v_num=8480, train_loss_step=0.384, train_loss_epoch=0.384]\n",
      "Predicting DataLoader 0: 100%|██████████| 1/1 [00:00<00:00, 103.53it/s]\n",
      "Epoch 249: 100%|██████████| 1/1 [00:00<00:00, 10.13it/s, v_num=8482, train_loss_step=0.402, train_loss_epoch=0.402]\n",
      "Predicting DataLoader 0: 100%|██████████| 1/1 [00:00<00:00, 103.32it/s]\n",
      "Epoch 249: 100%|██████████| 1/1 [00:00<00:00, 10.42it/s, v_num=8484, train_loss_step=0.446, train_loss_epoch=0.446]\n",
      "Predicting DataLoader 0: 100%|██████████| 1/1 [00:00<00:00, 56.81it/s]\n",
      "Epoch 249: 100%|██████████| 1/1 [00:00<00:00,  9.87it/s, v_num=8486, train_loss_step=0.475, train_loss_epoch=0.475]\n",
      "Predicting DataLoader 0: 100%|██████████| 1/1 [00:00<00:00, 254.69it/s]\n",
      "Epoch 249: 100%|██████████| 1/1 [00:00<00:00,  9.06it/s, v_num=8488, train_loss_step=0.447, train_loss_epoch=0.447]\n",
      "Predicting DataLoader 0: 100%|██████████| 1/1 [00:00<00:00, 158.05it/s]\n",
      "Epoch 249: 100%|██████████| 1/1 [00:00<00:00, 10.02it/s, v_num=8490, train_loss_step=0.403, train_loss_epoch=0.403]\n",
      "Predicting DataLoader 0: 100%|██████████| 1/1 [00:00<00:00, 235.86it/s]\n",
      "Epoch 249: 100%|██████████| 1/1 [00:00<00:00,  7.50it/s, v_num=8492, train_loss_step=0.456, train_loss_epoch=0.456]\n",
      "Predicting DataLoader 0: 100%|██████████| 1/1 [00:00<00:00, 342.17it/s]\n",
      "Epoch 249: 100%|██████████| 1/1 [00:00<00:00,  8.95it/s, v_num=8494, train_loss_step=0.436, train_loss_epoch=0.436]\n",
      "Predicting DataLoader 0: 100%|██████████| 1/1 [00:00<00:00, 221.41it/s]\n",
      "Epoch 249: 100%|██████████| 1/1 [00:00<00:00, 10.01it/s, v_num=8496, train_loss_step=0.446, train_loss_epoch=0.446]\n",
      "Predicting DataLoader 0: 100%|██████████| 1/1 [00:00<00:00, 72.50it/s]\n",
      "Epoch 249: 100%|██████████| 1/1 [00:00<00:00,  9.33it/s, v_num=8498, train_loss_step=0.428, train_loss_epoch=0.428]\n",
      "Predicting DataLoader 0: 100%|██████████| 1/1 [00:00<00:00, 31.53it/s]\n",
      "Epoch 249: 100%|██████████| 1/1 [00:00<00:00,  9.77it/s, v_num=8500, train_loss_step=0.465, train_loss_epoch=0.465]\n",
      "Predicting DataLoader 0: 100%|██████████| 1/1 [00:00<00:00, 52.06it/s]\n",
      "Epoch 249: 100%|██████████| 1/1 [00:00<00:00, 10.74it/s, v_num=8502, train_loss_step=0.414, train_loss_epoch=0.414]\n",
      "Predicting DataLoader 0: 100%|██████████| 1/1 [00:00<00:00, 139.92it/s]"
     ]
    },
    {
     "name": "stderr",
     "output_type": "stream",
     "text": [
      "[I 2023-12-21 15:19:48,563] A new study created in memory with name: no-name-67f850b8-fc59-4168-87e4-5c74c346ab86\n",
      "Seed set to 1\n"
     ]
    },
    {
     "name": "stdout",
     "output_type": "stream",
     "text": [
      "\n",
      "Prefix: NFLX | mode: financial_and_news | model_type: TFT\n",
      "Epoch 24: 100%|██████████| 1/1 [00:00<00:00,  1.78it/s, v_num=8504, train_loss_step=0.420, train_loss_epoch=0.420]\n",
      "Predicting DataLoader 0: 100%|██████████| 1/1 [00:00<00:00, 202.09it/s]\n",
      "Epoch 24: 100%|██████████| 1/1 [00:00<00:00,  1.72it/s, v_num=8506, train_loss_step=0.445, train_loss_epoch=0.445]\n",
      "Predicting DataLoader 0: 100%|██████████| 1/1 [00:00<00:00, 57.69it/s]\n",
      "Epoch 24: 100%|██████████| 1/1 [00:00<00:00,  1.63it/s, v_num=8508, train_loss_step=0.458, train_loss_epoch=0.458]\n",
      "Predicting DataLoader 0: 100%|██████████| 1/1 [00:00<00:00, 97.68it/s]\n",
      "Epoch 24: 100%|██████████| 1/1 [00:00<00:00,  1.71it/s, v_num=8510, train_loss_step=0.460, train_loss_epoch=0.460]\n",
      "Predicting DataLoader 0: 100%|██████████| 1/1 [00:00<00:00, 99.42it/s]\n",
      "Epoch 24: 100%|██████████| 1/1 [00:00<00:00,  1.67it/s, v_num=8512, train_loss_step=0.461, train_loss_epoch=0.461]\n",
      "Predicting DataLoader 0: 100%|██████████| 1/1 [00:00<00:00, 178.53it/s]\n",
      "Epoch 24: 100%|██████████| 1/1 [00:00<00:00,  1.76it/s, v_num=8514, train_loss_step=0.450, train_loss_epoch=0.450]\n",
      "Predicting DataLoader 0: 100%|██████████| 1/1 [00:00<00:00, 103.26it/s]\n",
      "Epoch 24: 100%|██████████| 1/1 [00:00<00:00,  1.70it/s, v_num=8516, train_loss_step=0.440, train_loss_epoch=0.440]\n",
      "Predicting DataLoader 0: 100%|██████████| 1/1 [00:00<00:00, 59.58it/s]\n",
      "Epoch 24: 100%|██████████| 1/1 [00:00<00:00,  1.78it/s, v_num=8518, train_loss_step=0.446, train_loss_epoch=0.446]\n",
      "Predicting DataLoader 0: 100%|██████████| 1/1 [00:00<00:00, 48.93it/s]"
     ]
    },
    {
     "name": "stderr",
     "output_type": "stream",
     "text": [
      "[I 2023-12-21 15:21:57,751] Trial 0 finished with value: 173.33486491348617 and parameters: {'learning_rate': 0.02615626781225328, 'hidden_size': 32, 'dropout': 0.10427593869842627, 'attn_dropout': 0.06894416661839559}. Best is trial 0 with value: 173.33486491348617.\n",
      "Seed set to 1\n"
     ]
    },
    {
     "name": "stdout",
     "output_type": "stream",
     "text": [
      "\n",
      "Epoch 24: 100%|██████████| 1/1 [00:00<00:00,  1.74it/s, v_num=8520, train_loss_step=0.856, train_loss_epoch=0.856]\n",
      "Predicting DataLoader 0: 100%|██████████| 1/1 [00:00<00:00, 230.41it/s]\n",
      "Epoch 24: 100%|██████████| 1/1 [00:00<00:00,  1.83it/s, v_num=8522, train_loss_step=0.874, train_loss_epoch=0.874]\n",
      "Predicting DataLoader 0: 100%|██████████| 1/1 [00:00<00:00, 54.85it/s]\n",
      "Epoch 24: 100%|██████████| 1/1 [00:00<00:00,  1.71it/s, v_num=8524, train_loss_step=0.880, train_loss_epoch=0.880]\n",
      "Predicting DataLoader 0: 100%|██████████| 1/1 [00:00<00:00, 35.96it/s]\n",
      "Epoch 24: 100%|██████████| 1/1 [00:00<00:00,  1.84it/s, v_num=8526, train_loss_step=0.871, train_loss_epoch=0.871]\n",
      "Predicting DataLoader 0: 100%|██████████| 1/1 [00:00<00:00, 270.95it/s]\n",
      "Epoch 24: 100%|██████████| 1/1 [00:00<00:00,  1.76it/s, v_num=8528, train_loss_step=0.853, train_loss_epoch=0.853]\n",
      "Predicting DataLoader 0: 100%|██████████| 1/1 [00:00<00:00, 83.71it/s]\n",
      "Epoch 24: 100%|██████████| 1/1 [00:00<00:00,  1.79it/s, v_num=8530, train_loss_step=0.825, train_loss_epoch=0.825]\n",
      "Predicting DataLoader 0: 100%|██████████| 1/1 [00:00<00:00, 190.81it/s]\n",
      "Epoch 24: 100%|██████████| 1/1 [00:00<00:00,  1.78it/s, v_num=8532, train_loss_step=0.820, train_loss_epoch=0.820]\n",
      "Predicting DataLoader 0: 100%|██████████| 1/1 [00:00<00:00, 69.31it/s]\n",
      "Epoch 24: 100%|██████████| 1/1 [00:00<00:00,  1.68it/s, v_num=8534, train_loss_step=0.835, train_loss_epoch=0.835]\n",
      "Predicting DataLoader 0: 100%|██████████| 1/1 [00:00<00:00, 71.35it/s]"
     ]
    },
    {
     "name": "stderr",
     "output_type": "stream",
     "text": [
      "[I 2023-12-21 15:24:01,694] Trial 1 finished with value: 185.30948938566735 and parameters: {'learning_rate': 0.0002574435031258513, 'hidden_size': 28, 'dropout': 0.1815087245706063, 'attn_dropout': 0.20033764069324922}. Best is trial 0 with value: 173.33486491348617.\n",
      "Seed set to 1\n"
     ]
    },
    {
     "name": "stdout",
     "output_type": "stream",
     "text": [
      "\n",
      "Epoch 24: 100%|██████████| 1/1 [00:00<00:00,  2.16it/s, v_num=8536, train_loss_step=0.428, train_loss_epoch=0.428]\n",
      "Predicting DataLoader 0: 100%|██████████| 1/1 [00:00<00:00, 300.45it/s]\n",
      "Epoch 24: 100%|██████████| 1/1 [00:00<00:00,  2.25it/s, v_num=8538, train_loss_step=0.444, train_loss_epoch=0.444]\n",
      "Predicting DataLoader 0: 100%|██████████| 1/1 [00:00<00:00, 194.31it/s]\n",
      "Epoch 24: 100%|██████████| 1/1 [00:00<00:00,  2.21it/s, v_num=8540, train_loss_step=0.464, train_loss_epoch=0.464]\n",
      "Predicting DataLoader 0: 100%|██████████| 1/1 [00:00<00:00, 79.49it/s]\n",
      "Epoch 24: 100%|██████████| 1/1 [00:00<00:00,  2.25it/s, v_num=8542, train_loss_step=0.470, train_loss_epoch=0.470]\n",
      "Predicting DataLoader 0: 100%|██████████| 1/1 [00:00<00:00, 53.08it/s]\n",
      "Epoch 24: 100%|██████████| 1/1 [00:00<00:00,  2.13it/s, v_num=8544, train_loss_step=0.463, train_loss_epoch=0.463]\n",
      "Predicting DataLoader 0: 100%|██████████| 1/1 [00:00<00:00, 106.11it/s]\n",
      "Epoch 24: 100%|██████████| 1/1 [00:00<00:00,  2.13it/s, v_num=8546, train_loss_step=0.456, train_loss_epoch=0.456]\n",
      "Predicting DataLoader 0: 100%|██████████| 1/1 [00:00<00:00, 91.78it/s] \n",
      "Epoch 24: 100%|██████████| 1/1 [00:00<00:00,  2.16it/s, v_num=8548, train_loss_step=0.447, train_loss_epoch=0.447]\n",
      "Predicting DataLoader 0: 100%|██████████| 1/1 [00:00<00:00, 989.46it/s]\n",
      "Epoch 24: 100%|██████████| 1/1 [00:00<00:00,  2.27it/s, v_num=8550, train_loss_step=0.453, train_loss_epoch=0.453]\n",
      "Predicting DataLoader 0: 100%|██████████| 1/1 [00:00<00:00, 68.94it/s]"
     ]
    },
    {
     "name": "stderr",
     "output_type": "stream",
     "text": [
      "[I 2023-12-21 15:25:41,976] Trial 2 finished with value: 173.02769331277838 and parameters: {'learning_rate': 0.011009276855368764, 'hidden_size': 20, 'dropout': 0.26894864304251637, 'attn_dropout': 0.004052230199897255}. Best is trial 2 with value: 173.02769331277838.\n",
      "Seed set to 1\n"
     ]
    },
    {
     "name": "stdout",
     "output_type": "stream",
     "text": [
      "\n",
      "Epoch 24: 100%|██████████| 1/1 [00:00<00:00,  2.86it/s, v_num=8552, train_loss_step=0.817, train_loss_epoch=0.817]\n",
      "Predicting DataLoader 0: 100%|██████████| 1/1 [00:00<00:00, 71.97it/s]\n",
      "Epoch 24: 100%|██████████| 1/1 [00:00<00:00,  2.40it/s, v_num=8554, train_loss_step=0.835, train_loss_epoch=0.835]\n",
      "Predicting DataLoader 0: 100%|██████████| 1/1 [00:00<00:00, 87.65it/s] \n",
      "Epoch 24: 100%|██████████| 1/1 [00:00<00:00,  2.90it/s, v_num=8556, train_loss_step=0.842, train_loss_epoch=0.842]\n",
      "Predicting DataLoader 0: 100%|██████████| 1/1 [00:00<00:00, 70.63it/s]\n",
      "Epoch 24: 100%|██████████| 1/1 [00:00<00:00,  2.86it/s, v_num=8558, train_loss_step=0.833, train_loss_epoch=0.833]\n",
      "Predicting DataLoader 0: 100%|██████████| 1/1 [00:00<00:00, 81.44it/s] \n",
      "Epoch 24: 100%|██████████| 1/1 [00:00<00:00,  2.87it/s, v_num=8560, train_loss_step=0.816, train_loss_epoch=0.816]\n",
      "Predicting DataLoader 0: 100%|██████████| 1/1 [00:00<00:00, 53.79it/s]\n",
      "Epoch 24: 100%|██████████| 1/1 [00:00<00:00,  2.83it/s, v_num=8562, train_loss_step=0.787, train_loss_epoch=0.787]\n",
      "Predicting DataLoader 0: 100%|██████████| 1/1 [00:00<00:00, 75.27it/s] \n",
      "Epoch 24: 100%|██████████| 1/1 [00:00<00:00,  2.91it/s, v_num=8564, train_loss_step=0.781, train_loss_epoch=0.781]\n",
      "Predicting DataLoader 0: 100%|██████████| 1/1 [00:00<00:00, 141.59it/s]\n",
      "Epoch 24: 100%|██████████| 1/1 [00:00<00:00,  3.02it/s, v_num=8566, train_loss_step=0.794, train_loss_epoch=0.794]\n",
      "Predicting DataLoader 0: 100%|██████████| 1/1 [00:00<00:00, 64.36it/s]"
     ]
    },
    {
     "name": "stderr",
     "output_type": "stream",
     "text": [
      "[I 2023-12-21 15:27:00,672] Trial 3 finished with value: 278.3007189285479 and parameters: {'learning_rate': 0.00076907239432421, 'hidden_size': 16, 'dropout': 0.22360654026554977, 'attn_dropout': 0.281068926017616}. Best is trial 2 with value: 173.02769331277838.\n",
      "Seed set to 1\n"
     ]
    },
    {
     "name": "stdout",
     "output_type": "stream",
     "text": [
      "\n",
      "Epoch 24: 100%|██████████| 1/1 [00:00<00:00,  2.84it/s, v_num=8568, train_loss_step=0.941, train_loss_epoch=0.941]\n",
      "Predicting DataLoader 0: 100%|██████████| 1/1 [00:00<00:00, 96.74it/s]\n",
      "Epoch 24: 100%|██████████| 1/1 [00:00<00:00,  3.01it/s, v_num=8570, train_loss_step=0.959, train_loss_epoch=0.959]\n",
      "Predicting DataLoader 0: 100%|██████████| 1/1 [00:00<00:00, 285.04it/s]\n",
      "Epoch 24: 100%|██████████| 1/1 [00:00<00:00,  2.96it/s, v_num=8572, train_loss_step=0.965, train_loss_epoch=0.965]\n",
      "Predicting DataLoader 0: 100%|██████████| 1/1 [00:00<00:00, 53.74it/s]\n",
      "Epoch 24: 100%|██████████| 1/1 [00:00<00:00,  3.15it/s, v_num=8574, train_loss_step=0.956, train_loss_epoch=0.956]\n",
      "Predicting DataLoader 0: 100%|██████████| 1/1 [00:00<00:00, 45.00it/s]\n",
      "Epoch 24: 100%|██████████| 1/1 [00:00<00:00,  2.92it/s, v_num=8576, train_loss_step=0.937, train_loss_epoch=0.937]\n",
      "Predicting DataLoader 0: 100%|██████████| 1/1 [00:00<00:00, 103.86it/s]\n",
      "Epoch 24: 100%|██████████| 1/1 [00:00<00:00,  2.92it/s, v_num=8578, train_loss_step=0.910, train_loss_epoch=0.910]\n",
      "Predicting DataLoader 0: 100%|██████████| 1/1 [00:00<00:00, 88.32it/s]\n",
      "Epoch 24: 100%|██████████| 1/1 [00:00<00:00,  3.04it/s, v_num=8580, train_loss_step=0.903, train_loss_epoch=0.903]\n",
      "Predicting DataLoader 0: 100%|██████████| 1/1 [00:00<00:00, 284.51it/s]\n",
      "Epoch 24: 100%|██████████| 1/1 [00:00<00:00,  2.87it/s, v_num=8582, train_loss_step=0.918, train_loss_epoch=0.918]\n",
      "Predicting DataLoader 0: 100%|██████████| 1/1 [00:00<?, ?it/s]"
     ]
    },
    {
     "name": "stderr",
     "output_type": "stream",
     "text": [
      "[I 2023-12-21 15:28:18,813] Trial 4 finished with value: 202.38145177771813 and parameters: {'learning_rate': 0.00023366837997876967, 'hidden_size': 12, 'dropout': 0.38776540315327424, 'attn_dropout': 0.4626231368560989}. Best is trial 2 with value: 173.02769331277838.\n",
      "Seed set to 1\n"
     ]
    },
    {
     "name": "stdout",
     "output_type": "stream",
     "text": [
      "\n",
      "Epoch 24: 100%|██████████| 1/1 [00:00<00:00,  2.31it/s, v_num=8584, train_loss_step=0.428, train_loss_epoch=0.428]\n",
      "Predicting DataLoader 0: 100%|██████████| 1/1 [00:00<00:00, 68.55it/s]\n",
      "Epoch 24: 100%|██████████| 1/1 [00:00<00:00,  1.85it/s, v_num=8586, train_loss_step=0.444, train_loss_epoch=0.444]\n",
      "Predicting DataLoader 0: 100%|██████████| 1/1 [00:00<00:00, 68.94it/s]\n",
      "Epoch 24: 100%|██████████| 1/1 [00:00<00:00,  2.18it/s, v_num=8588, train_loss_step=0.464, train_loss_epoch=0.464]\n",
      "Predicting DataLoader 0: 100%|██████████| 1/1 [00:00<00:00, 62.61it/s]\n",
      "Epoch 24: 100%|██████████| 1/1 [00:00<00:00,  1.80it/s, v_num=8590, train_loss_step=0.470, train_loss_epoch=0.470]\n",
      "Predicting DataLoader 0: 100%|██████████| 1/1 [00:00<00:00, 61.92it/s]\n",
      "Epoch 24: 100%|██████████| 1/1 [00:00<00:00,  2.32it/s, v_num=8592, train_loss_step=0.463, train_loss_epoch=0.463]\n",
      "Predicting DataLoader 0: 100%|██████████| 1/1 [00:00<00:00, 60.22it/s]\n",
      "Epoch 24: 100%|██████████| 1/1 [00:00<00:00,  2.39it/s, v_num=8594, train_loss_step=0.456, train_loss_epoch=0.456]\n",
      "Predicting DataLoader 0: 100%|██████████| 1/1 [00:00<00:00, 112.44it/s]\n",
      "Epoch 24: 100%|██████████| 1/1 [00:00<00:00,  2.32it/s, v_num=8596, train_loss_step=0.447, train_loss_epoch=0.447]\n",
      "Predicting DataLoader 0: 100%|██████████| 1/1 [00:00<00:00, 15.65it/s]\n",
      "Epoch 24: 100%|██████████| 1/1 [00:00<00:00,  2.23it/s, v_num=8598, train_loss_step=0.453, train_loss_epoch=0.453]\n",
      "Predicting DataLoader 0: 100%|██████████| 1/1 [00:00<00:00, 47.94it/s]\n",
      "Epoch 24: 100%|██████████| 1/1 [00:00<00:00,  2.19it/s, v_num=8600, train_loss_step=0.435, train_loss_epoch=0.435]\n",
      "Predicting DataLoader 0: 100%|██████████| 1/1 [00:00<00:00, 78.77it/s]\n",
      "Epoch 24: 100%|██████████| 1/1 [00:00<00:00,  1.97it/s, v_num=8602, train_loss_step=0.443, train_loss_epoch=0.443]\n",
      "Predicting DataLoader 0: 100%|██████████| 1/1 [00:00<?, ?it/s]\n",
      "Epoch 24: 100%|██████████| 1/1 [00:00<00:00,  2.26it/s, v_num=8604, train_loss_step=0.441, train_loss_epoch=0.441]\n",
      "Predicting DataLoader 0: 100%|██████████| 1/1 [00:00<00:00, 138.29it/s]\n",
      "Epoch 24: 100%|██████████| 1/1 [00:00<00:00,  2.35it/s, v_num=8606, train_loss_step=0.456, train_loss_epoch=0.456]\n",
      "Predicting DataLoader 0: 100%|██████████| 1/1 [00:00<00:00, 68.43it/s]\n",
      "Epoch 24: 100%|██████████| 1/1 [00:00<00:00,  2.24it/s, v_num=8608, train_loss_step=0.467, train_loss_epoch=0.467]\n",
      "Predicting DataLoader 0: 100%|██████████| 1/1 [00:00<00:00, 55.15it/s]\n",
      "Epoch 24: 100%|██████████| 1/1 [00:00<00:00,  2.26it/s, v_num=8610, train_loss_step=0.445, train_loss_epoch=0.445]\n",
      "Predicting DataLoader 0: 100%|██████████| 1/1 [00:00<00:00, 71.43it/s]\n",
      "Epoch 24: 100%|██████████| 1/1 [00:00<00:00,  1.95it/s, v_num=8612, train_loss_step=0.445, train_loss_epoch=0.445]\n",
      "Predicting DataLoader 0: 100%|██████████| 1/1 [00:00<00:00, 117.57it/s]\n",
      "Epoch 24: 100%|██████████| 1/1 [00:00<00:00,  1.67it/s, v_num=8614, train_loss_step=0.454, train_loss_epoch=0.454]\n",
      "Predicting DataLoader 0: 100%|██████████| 1/1 [00:00<00:00, 186.29it/s]\n",
      "Epoch 24: 100%|██████████| 1/1 [00:00<00:00,  2.21it/s, v_num=8616, train_loss_step=0.467, train_loss_epoch=0.467]\n",
      "Predicting DataLoader 0: 100%|██████████| 1/1 [00:00<00:00, 62.32it/s]\n",
      "Epoch 24: 100%|██████████| 1/1 [00:00<00:00,  2.23it/s, v_num=8618, train_loss_step=0.447, train_loss_epoch=0.447]\n",
      "Predicting DataLoader 0: 100%|██████████| 1/1 [00:00<00:00, 83.95it/s]\n",
      "Epoch 24: 100%|██████████| 1/1 [00:00<00:00,  2.20it/s, v_num=8620, train_loss_step=0.439, train_loss_epoch=0.439]\n",
      "Predicting DataLoader 0: 100%|██████████| 1/1 [00:00<00:00, 468.17it/s]\n",
      "Epoch 24: 100%|██████████| 1/1 [00:00<00:00,  2.04it/s, v_num=8622, train_loss_step=0.448, train_loss_epoch=0.448]\n",
      "Predicting DataLoader 0: 100%|██████████| 1/1 [00:00<00:00, 45.36it/s]\n"
     ]
    }
   ],
   "source": [
    "prefix = \"NFLX\"\n",
    "# modes = ['financial', 'news', 'financial_and_news']\n",
    "# model_types = ['NBEATS', 'NHITS', 'TFT']\n",
    "# final_columns = [\n",
    "#     ['norm_rsi_gspc_14', 'norm_rsi_14', 'norm_slowk_14', 'minmax_high_norm', 'log_return_1'],\n",
    "#     ['finbert_Score', 'bart_Score', 'vader_Score', 'mean_influential', 'mean_trustworthy'],\n",
    "#     ['finbert_Score', 'bart_Score', 'vader_Score', 'mean_influential', 'mean_trustworthy', 'norm_rsi_gspc_14', 'norm_rsi_14', 'norm_slowk_14', 'minmax_high_norm', 'log_return_1']\n",
    "# ]\n",
    "modes = ['financial_and_news']\n",
    "model_types = ['NBEATS', 'NHITS', 'TFT']\n",
    "final_columns = [\n",
    "    # ['norm_rsi_gspc_14', 'norm_rsi_14', 'norm_slowk_14', 'minmax_high_norm', 'log_return_1'],\n",
    "    # ['finbert_Score', 'bart_Score', 'vader_Score', 'mean_influential', 'mean_trustworthy'],\n",
    "    ['finbert_Score', 'bart_Score', 'vader_Score', 'mean_influential', 'mean_trustworthy', 'norm_rsi_gspc_14', 'norm_rsi_14', 'norm_slowk_14', 'minmax_high_norm', 'log_return_1']\n",
    "]\n",
    "train_set_all = pd.read_csv('csv/'+prefix+'/train_set_full.csv')\n",
    "val_set_all = pd.read_csv('csv/'+prefix+'/val_set_full.csv')\n",
    "test_set_all = pd.read_csv('csv/'+prefix+'/test_set_full.csv')\n",
    "horizon = 5\n",
    "max_steps = [250, 250, 25]\n",
    "scaler_type = 'standard'\n",
    "loss_func = mean_squared_error\n",
    "loss=MQLoss()\n",
    "n_trials = 5\n",
    "random_seed = 1\n",
    "\n",
    "for i, mode in enumerate(modes):\n",
    "    for j, model_type in enumerate(model_types):\n",
    "        print(f'Prefix: {prefix} | mode: {mode} | model_type: {model_type}')\n",
    "        ht = HorizonTrainer(prefix, mode, model_type, final_columns[i], train_set_all, val_set_all, test_set_all, horizon, max_steps[j], scaler_type, loss_func, loss, n_trials, random_seed)\n",
    "        ht.train()\n"
   ]
  },
  {
   "cell_type": "code",
   "execution_count": 12,
   "metadata": {},
   "outputs": [
    {
     "data": {
      "text/plain": [
       "'RMSE()'"
      ]
     },
     "execution_count": 12,
     "metadata": {},
     "output_type": "execute_result"
    }
   ],
   "source": [
    "str(RMSE())"
   ]
  },
  {
   "cell_type": "code",
   "execution_count": 3,
   "metadata": {},
   "outputs": [],
   "source": [
    "val = pd.read_csv('results/NFLX/financial_and_news/NBEATS/val_pred.csv')\n",
    "test = pd.read_csv('results/NFLX/financial_and_news/NBEATS/test_pred.csv')"
   ]
  },
  {
   "cell_type": "code",
   "execution_count": 5,
   "metadata": {},
   "outputs": [
    {
     "data": {
      "image/png": "[encoded data removed]",
      "text/plain": [
       "<Figure size 1000x600 with 1 Axes>"
      ]
     },
     "metadata": {},
     "output_type": "display_data"
    }
   ],
   "source": [
    "plot_actual_vs_predicted(val['y'][1:].reset_index(drop=True), val['NBEATS-median'][1:].reset_index(drop=True), val['y'].shift(1)[1:].reset_index(drop=True), val['modelID'][1:].reset_index(drop=True))"
   ]
  },
  {
   "cell_type": "code",
   "execution_count": null,
   "metadata": {},
   "outputs": [],
   "source": []
  }
 ],
 "metadata": {
  "kernelspec": {
   "display_name": "Python 3",
   "language": "python",
   "name": "python3"
  },
  "language_info": {
   "codemirror_mode": {
    "name": "ipython",
    "version": 3
   },
   "file_extension": ".py",
   "mimetype": "text/x-python",
   "name": "python",
   "nbconvert_exporter": "python",
   "pygments_lexer": "ipython3",
   "version": "3.10.6"
  }
 },
 "nbformat": 4,
 "nbformat_minor": 2
}
