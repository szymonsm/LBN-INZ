{
 "cells": [
  {
   "cell_type": "code",
   "execution_count": 1,
   "metadata": {},
   "outputs": [
    {
     "name": "stderr",
     "output_type": "stream",
     "text": [
      "c:\\Users\\szymo\\AppData\\Local\\Programs\\Python\\Python310\\lib\\site-packages\\tqdm\\auto.py:21: TqdmWarning: IProgress not found. Please update jupyter and ipywidgets. See https://ipywidgets.readthedocs.io/en/stable/user_install.html\n",
      "  from .autonotebook import tqdm as notebook_tqdm\n",
      "c:\\Users\\szymo\\AppData\\Local\\Programs\\Python\\Python310\\lib\\site-packages\\torchvision\\io\\image.py:13: UserWarning: Failed to load image Python extension: [WinError 127] Nie można odnaleźć określonej procedury\n",
      "  warn(f\"Failed to load image Python extension: {e}\")\n"
     ]
    }
   ],
   "source": [
    "from model_training import *\n",
    "import pandas as pd\n",
    "import numpy as np\n",
    "from scripts.essentials import *\n",
    "from scripts.plots import *\n",
    "from scripts.train_utilities import *\n",
    "from neuralforecast.losses.pytorch import RMSE"
   ]
  },
  {
   "cell_type": "code",
   "execution_count": 2,
   "metadata": {},
   "outputs": [
    {
     "name": "stdout",
     "output_type": "stream",
     "text": [
      "(744, 54)\n",
      "(40, 54)\n",
      "(60, 54)\n"
     ]
    }
   ],
   "source": [
    "prefix = \"NFLX\"\n",
    "FINAL_COLUMNS = ['mean_future', 'mean_influential','mean_trustworthy', 'mean_clickbait','norm_rsi_14', 'norm_rsi_gspc_14', 'norm_slowk_14']\n",
    "df_without_weekends = pd.read_csv(\"csv/\"+prefix+'_without_weekends.csv')\n",
    "df_without_weekends['DateGen'] = pd.date_range(start='2021-01-01', end='2023-11-26', freq='D')[:len(df_without_weekends)]\n",
    "max_date = df_without_weekends['DateGen'].max()\n",
    "test_start_date = max_date - pd.DateOffset(days=59)\n",
    "val_start_date = test_start_date - pd.DateOffset(days=40)\n",
    "train_set, val_set, test_set = split_data(df_without_weekends, 'DateGen', val_start_date, test_start_date, start_date_train = '2021-01-01')\n",
    "print(train_set.shape)\n",
    "print(val_set.shape)\n",
    "print(test_set.shape)\n",
    "\n",
    "cols_min_max = ['^GSPC_Volume', 'NFLX_Volume',\n",
    "'daily_variation', 'high_close_pressure', 'low_open_pressure',\n",
    "'low_norm', 'close_norm', 'high_norm', 'open_norm']\n",
    "\n",
    "train_set, scaler_min_max = min_max_scale(train_set,'Date', cols_min_max, train_data=True, scaler=None)\n",
    "val_set = min_max_scale(val_set,'Date', cols_min_max, train_data=False, scaler=scaler_min_max)\n",
    "test_set = min_max_scale(test_set,'Date', cols_min_max, train_data=False, scaler=scaler_min_max)\n",
    "\n",
    "train_set = train_set[['DateGen', f'{prefix}_Close'] + FINAL_COLUMNS]\n",
    "val_set = val_set[['DateGen', f'{prefix}_Close'] + FINAL_COLUMNS]\n",
    "test_set = test_set[['DateGen', f'{prefix}_Close'] + FINAL_COLUMNS]\n",
    "train_set.rename(columns={'DateGen':'ds', f'{prefix}_Close':'y'}, inplace=True)\n",
    "val_set.rename(columns={'DateGen':'ds', f'{prefix}_Close':'y'}, inplace=True)\n",
    "test_set.rename(columns={'DateGen':'ds', f'{prefix}_Close':'y'}, inplace=True)\n",
    "train_set['unique_id'] = prefix\n",
    "val_set['unique_id'] = prefix\n",
    "test_set['unique_id'] = prefix"
   ]
  },
  {
   "cell_type": "code",
   "execution_count": 6,
   "metadata": {},
   "outputs": [
    {
     "name": "stderr",
     "output_type": "stream",
     "text": [
      "[I 2023-12-18 21:51:27,717] A new study created in memory with name: no-name-c3b6beb1-58a4-4f05-90b7-b913a87e6010\n",
      "Seed set to 1\n"
     ]
    },
    {
     "name": "stdout",
     "output_type": "stream",
     "text": [
      "744 5\n",
      "Epoch 9: 100%|██████████| 1/1 [00:00<00:00, 16.98it/s, v_num=1916, train_loss_step=3.570, train_loss_epoch=3.570]\n",
      "Predicting DataLoader 0: 100%|██████████| 1/1 [00:00<00:00, 147.76it/s]\n",
      "749 5\n",
      "Epoch 9: 100%|██████████| 1/1 [00:00<00:00, 18.92it/s, v_num=1918, train_loss_step=3.600, train_loss_epoch=3.600]\n",
      "Predicting DataLoader 0: 100%|██████████| 1/1 [00:00<00:00, 76.89it/s]\n",
      "754 5\n",
      "Epoch 9: 100%|██████████| 1/1 [00:00<00:00, 17.64it/s, v_num=1920, train_loss_step=3.620, train_loss_epoch=3.620]\n",
      "Predicting DataLoader 0: 100%|██████████| 1/1 [00:00<00:00, 52.70it/s]\n",
      "759 5\n",
      "Epoch 9: 100%|██████████| 1/1 [00:00<00:00, 18.92it/s, v_num=1922, train_loss_step=3.580, train_loss_epoch=3.580]\n",
      "Predicting DataLoader 0: 100%|██████████| 1/1 [00:00<00:00, 56.65it/s]\n",
      "764 5\n",
      "Epoch 9: 100%|██████████| 1/1 [00:00<00:00, 22.32it/s, v_num=1924, train_loss_step=3.450, train_loss_epoch=3.450]\n",
      "Predicting DataLoader 0: 100%|██████████| 1/1 [00:00<00:00, 215.48it/s]\n",
      "769 5\n",
      "Epoch 9: 100%|██████████| 1/1 [00:00<00:00, 16.19it/s, v_num=1926, train_loss_step=3.440, train_loss_epoch=3.440]\n",
      "Predicting DataLoader 0: 100%|██████████| 1/1 [00:00<00:00, 209.63it/s]\n",
      "774 5\n",
      "Epoch 9: 100%|██████████| 1/1 [00:00<00:00, 17.98it/s, v_num=1928, train_loss_step=3.530, train_loss_epoch=3.530]\n",
      "Predicting DataLoader 0: 100%|██████████| 1/1 [00:00<00:00, 76.11it/s]\n",
      "779 5\n",
      "Epoch 9: 100%|██████████| 1/1 [00:00<00:00, 19.83it/s, v_num=1930, train_loss_step=3.520, train_loss_epoch=3.520]\n",
      "Predicting DataLoader 0: 100%|██████████| 1/1 [00:00<00:00, 119.65it/s]"
     ]
    },
    {
     "name": "stderr",
     "output_type": "stream",
     "text": [
      "[I 2023-12-18 21:51:35,986] Trial 0 finished with value: 166.28039769905178 and parameters: {'input_size': 7, 'n_blocks_season': 3, 'n_blocks_trend': 2, 'n_blocks_ident': 2, 'mlp_units': 32, 'num_hidden': 3, 'n_harmonics': 1, 'n_polynomials': 5, 'learning_rate': 0.05208060292448183}. Best is trial 0 with value: 166.28039769905178.\n",
      "Seed set to 1\n"
     ]
    },
    {
     "name": "stdout",
     "output_type": "stream",
     "text": [
      "\n",
      "744 5\n",
      "Epoch 9: 100%|██████████| 1/1 [00:00<00:00, 18.11it/s, v_num=1932, train_loss_step=5.360, train_loss_epoch=5.360]\n",
      "Predicting DataLoader 0: 100%|██████████| 1/1 [00:00<00:00, 131.75it/s]\n",
      "749 5\n",
      "Epoch 9: 100%|██████████| 1/1 [00:00<00:00, 15.58it/s, v_num=1934, train_loss_step=5.340, train_loss_epoch=5.340]\n",
      "Predicting DataLoader 0: 100%|██████████| 1/1 [00:00<00:00, 55.06it/s]\n",
      "754 5\n",
      "Epoch 9: 100%|██████████| 1/1 [00:00<00:00, 15.68it/s, v_num=1936, train_loss_step=5.210, train_loss_epoch=5.210]\n",
      "Predicting DataLoader 0: 100%|██████████| 1/1 [00:00<00:00, 322.29it/s]\n",
      "759 5\n",
      "Epoch 9: 100%|██████████| 1/1 [00:00<00:00, 19.42it/s, v_num=1938, train_loss_step=5.130, train_loss_epoch=5.130]\n",
      "Predicting DataLoader 0: 100%|██████████| 1/1 [00:00<00:00, 189.53it/s]\n",
      "764 5\n",
      "Epoch 9: 100%|██████████| 1/1 [00:00<00:00, 20.14it/s, v_num=1940, train_loss_step=5.200, train_loss_epoch=5.200]\n",
      "Predicting DataLoader 0: 100%|██████████| 1/1 [00:00<?, ?it/s]\n",
      "769 5\n",
      "Epoch 9: 100%|██████████| 1/1 [00:00<00:00, 16.97it/s, v_num=1942, train_loss_step=5.350, train_loss_epoch=5.350]\n",
      "Predicting DataLoader 0: 100%|██████████| 1/1 [00:00<00:00, 296.52it/s]\n",
      "774 5\n",
      "Epoch 9: 100%|██████████| 1/1 [00:00<00:00, 10.66it/s, v_num=1944, train_loss_step=5.450, train_loss_epoch=5.450]\n",
      "Predicting DataLoader 0: 100%|██████████| 1/1 [00:00<00:00, 55.05it/s]\n",
      "779 5\n",
      "Epoch 9: 100%|██████████| 1/1 [00:00<00:00, 14.47it/s, v_num=1946, train_loss_step=5.330, train_loss_epoch=5.330]\n",
      "Predicting DataLoader 0: 100%|██████████| 1/1 [00:00<00:00, 97.39it/s] "
     ]
    },
    {
     "name": "stderr",
     "output_type": "stream",
     "text": [
      "[I 2023-12-18 21:51:42,863] Trial 1 finished with value: 216.0770509076308 and parameters: {'input_size': 4, 'n_blocks_season': 2, 'n_blocks_trend': 3, 'n_blocks_ident': 3, 'mlp_units': 64, 'num_hidden': 3, 'n_harmonics': 1, 'n_polynomials': 2, 'learning_rate': 0.04313409983625165}. Best is trial 0 with value: 166.28039769905178.\n",
      "Seed set to 1\n"
     ]
    },
    {
     "name": "stdout",
     "output_type": "stream",
     "text": [
      "\n",
      "744 5\n",
      "Epoch 9: 100%|██████████| 1/1 [00:00<00:00, 16.66it/s, v_num=1948, train_loss_step=3.570, train_loss_epoch=3.570]\n",
      "Predicting DataLoader 0: 100%|██████████| 1/1 [00:00<00:00, 133.19it/s]\n",
      "749 5\n",
      "Epoch 9: 100%|██████████| 1/1 [00:00<00:00, 17.41it/s, v_num=1950, train_loss_step=3.600, train_loss_epoch=3.600]\n",
      "Predicting DataLoader 0: 100%|██████████| 1/1 [00:00<00:00, 139.23it/s]\n",
      "754 5\n",
      "Epoch 9: 100%|██████████| 1/1 [00:00<00:00, 15.78it/s, v_num=1952, train_loss_step=3.620, train_loss_epoch=3.620]\n",
      "Predicting DataLoader 0: 100%|██████████| 1/1 [00:00<00:00, 208.65it/s]\n",
      "759 5\n",
      "Epoch 9: 100%|██████████| 1/1 [00:00<00:00, 20.33it/s, v_num=1954, train_loss_step=3.580, train_loss_epoch=3.580]\n",
      "Predicting DataLoader 0: 100%|██████████| 1/1 [00:00<00:00, 65.51it/s]\n",
      "764 5\n",
      "Epoch 9: 100%|██████████| 1/1 [00:00<00:00, 16.88it/s, v_num=1956, train_loss_step=3.450, train_loss_epoch=3.450]\n",
      "Predicting DataLoader 0: 100%|██████████| 1/1 [00:00<00:00, 105.62it/s]\n",
      "769 5\n",
      "Epoch 9: 100%|██████████| 1/1 [00:00<00:00, 14.26it/s, v_num=1958, train_loss_step=3.440, train_loss_epoch=3.440]\n",
      "Predicting DataLoader 0: 100%|██████████| 1/1 [00:00<00:00, 508.89it/s]\n",
      "774 5\n",
      "Epoch 9: 100%|██████████| 1/1 [00:00<00:00, 16.32it/s, v_num=1960, train_loss_step=3.530, train_loss_epoch=3.530]\n",
      "Predicting DataLoader 0: 100%|██████████| 1/1 [00:00<00:00, 992.26it/s]\n",
      "779 5\n",
      "Epoch 9: 100%|██████████| 1/1 [00:00<00:00, 14.84it/s, v_num=1962, train_loss_step=3.520, train_loss_epoch=3.520]\n",
      "Predicting DataLoader 0: 100%|██████████| 1/1 [00:00<00:00, 116.36it/s]\n",
      "784 5\n",
      "Epoch 9: 100%|██████████| 1/1 [00:00<00:00, 19.81it/s, v_num=1964, train_loss_step=3.600, train_loss_epoch=3.600]\n",
      "Predicting DataLoader 0: 100%|██████████| 1/1 [00:00<00:00, 87.74it/s] \n",
      "789 5\n",
      "Epoch 9: 100%|██████████| 1/1 [00:00<00:00, 20.27it/s, v_num=1966, train_loss_step=3.490, train_loss_epoch=3.490]\n",
      "Predicting DataLoader 0: 100%|██████████| 1/1 [00:00<00:00, 97.61it/s] \n",
      "794 5\n",
      "Epoch 9: 100%|██████████| 1/1 [00:00<00:00, 17.04it/s, v_num=1968, train_loss_step=3.530, train_loss_epoch=3.530]\n",
      "Predicting DataLoader 0: 100%|██████████| 1/1 [00:00<00:00, 65.40it/s]\n",
      "799 5\n",
      "Epoch 9: 100%|██████████| 1/1 [00:00<00:00, 21.59it/s, v_num=1970, train_loss_step=3.570, train_loss_epoch=3.570]\n",
      "Predicting DataLoader 0: 100%|██████████| 1/1 [00:00<?, ?it/s]\n",
      "804 5\n",
      "Epoch 9: 100%|██████████| 1/1 [00:00<00:00, 19.11it/s, v_num=1972, train_loss_step=3.550, train_loss_epoch=3.550]\n",
      "Predicting DataLoader 0: 100%|██████████| 1/1 [00:00<00:00, 153.82it/s]\n",
      "809 5\n",
      "Epoch 9: 100%|██████████| 1/1 [00:00<00:00, 20.29it/s, v_num=1974, train_loss_step=3.370, train_loss_epoch=3.370]\n",
      "Predicting DataLoader 0: 100%|██████████| 1/1 [00:00<00:00, 83.99it/s]\n",
      "814 5\n",
      "Epoch 9: 100%|██████████| 1/1 [00:00<00:00, 20.12it/s, v_num=1976, train_loss_step=3.160, train_loss_epoch=3.160]\n",
      "Predicting DataLoader 0: 100%|██████████| 1/1 [00:00<00:00, 280.18it/s]\n",
      "819 5\n",
      "Epoch 9: 100%|██████████| 1/1 [00:00<00:00, 22.44it/s, v_num=1978, train_loss_step=3.120, train_loss_epoch=3.120]\n",
      "Predicting DataLoader 0: 100%|██████████| 1/1 [00:00<00:00, 204.32it/s]\n",
      "824 5\n",
      "Epoch 9: 100%|██████████| 1/1 [00:00<00:00, 21.34it/s, v_num=1980, train_loss_step=3.210, train_loss_epoch=3.210]\n",
      "Predicting DataLoader 0: 100%|██████████| 1/1 [00:00<00:00, 398.81it/s]\n",
      "829 5\n",
      "Epoch 9: 100%|██████████| 1/1 [00:00<00:00, 20.35it/s, v_num=1982, train_loss_step=3.220, train_loss_epoch=3.220]\n",
      "Predicting DataLoader 0: 100%|██████████| 1/1 [00:00<00:00, 237.53it/s]\n",
      "834 5\n",
      "Epoch 9: 100%|██████████| 1/1 [00:00<00:00, 21.06it/s, v_num=1984, train_loss_step=3.220, train_loss_epoch=3.220]\n",
      "Predicting DataLoader 0: 100%|██████████| 1/1 [00:00<00:00, 229.40it/s]\n",
      "839 5\n",
      "Epoch 9: 100%|██████████| 1/1 [00:00<00:00, 20.19it/s, v_num=1986, train_loss_step=3.230, train_loss_epoch=3.230]\n",
      "Predicting DataLoader 0: 100%|██████████| 1/1 [00:00<00:00, 321.40it/s]\n"
     ]
    }
   ],
   "source": [
    "############### NBEATS #################\n",
    "horizon = 5\n",
    "model_name = 'NBEATS'\n",
    "max_steps = 10\n",
    "random_seed = 1\n",
    "loss_func = mean_squared_error\n",
    "stack_types = ['seasonality', 'trend', 'identity']\n",
    "scaler_type = 'standard'\n",
    "loss=RMSE()\n",
    "\n",
    "study = optuna.create_study(direction='minimize')\n",
    "study.optimize(partial(objective, train_set=train_set, val_set=val_set, loss=loss, model_name=model_name, horizon=horizon, hist_exog_list=FINAL_COLUMNS, max_steps=max_steps, random_seed=random_seed, loss_func=loss_func, scaler_type=scaler_type), n_trials=2)\n",
    "prms = study.best_trial.params\n",
    "# Predykcja na podstawie najlepszych hiperparametrów\n",
    "n_blocks = [prms['n_blocks_season'], prms['n_blocks_trend'], prms['n_blocks_ident']]\n",
    "mlp_units=[[prms['mlp_units'], prms['mlp_units']]]*prms['num_hidden']\n",
    "models = [NBEATS(\n",
    "                 h=horizon,\n",
    "                 loss=loss,\n",
    "                 max_steps=max_steps,\n",
    "                 hist_exog_list=FINAL_COLUMNS,\n",
    "                 input_size=prms['input_size'],\n",
    "                 stack_types=stack_types,\n",
    "                 mlp_units=mlp_units,\n",
    "                 n_blocks=n_blocks,\n",
    "                 learning_rate=prms['learning_rate'],\n",
    "                 n_harmonics=prms['n_harmonics'],\n",
    "                 n_polynomials=prms['n_polynomials'],\n",
    "                 scaler_type=scaler_type,\n",
    "                random_seed=random_seed\n",
    "                 )]\n",
    "\n",
    "# Pipeline, który robi predykcję batchami co ileś dni, ustalane przez horizon\n",
    "loss_val, predictions_val = pipeline_train_predict(models, train_set, val_set, horizon, mean_squared_error, model_name)\n",
    "# Merge train and val sets\n",
    "train_val_set = pd.concat([train_set, val_set])\n",
    "loss_test, predictions_test = pipeline_train_predict(models, train_val_set, test_set, horizon, mean_squared_error, model_name)"
   ]
  },
  {
   "cell_type": "code",
   "execution_count": 7,
   "metadata": {},
   "outputs": [
    {
     "data": {
      "text/plain": [
       "166.28039769905178"
      ]
     },
     "execution_count": 7,
     "metadata": {},
     "output_type": "execute_result"
    }
   ],
   "source": [
    "loss_val"
   ]
  },
  {
   "cell_type": "code",
   "execution_count": 8,
   "metadata": {},
   "outputs": [
    {
     "name": "stderr",
     "output_type": "stream",
     "text": [
      "[I 2023-12-18 21:52:27,570] A new study created in memory with name: no-name-8a2fa2eb-b67d-49d5-8032-6478006e4204\n",
      "Seed set to 1\n"
     ]
    },
    {
     "name": "stdout",
     "output_type": "stream",
     "text": [
      "744 5\n",
      "Epoch 9: 100%|██████████| 1/1 [00:00<00:00, 10.92it/s, v_num=1988, train_loss_step=1.640, train_loss_epoch=1.640]\n",
      "Predicting DataLoader 0: 100%|██████████| 1/1 [00:00<00:00, 105.45it/s]\n",
      "749 5\n",
      "Epoch 9: 100%|██████████| 1/1 [00:00<00:00, 15.81it/s, v_num=1990, train_loss_step=1.610, train_loss_epoch=1.610]\n",
      "Predicting DataLoader 0: 100%|██████████| 1/1 [00:00<00:00, 387.11it/s]\n",
      "754 5\n",
      "Epoch 9: 100%|██████████| 1/1 [00:00<00:00, 13.06it/s, v_num=1992, train_loss_step=1.570, train_loss_epoch=1.570]\n",
      "Predicting DataLoader 0: 100%|██████████| 1/1 [00:00<00:00, 317.94it/s]\n",
      "759 5\n",
      "Epoch 9: 100%|██████████| 1/1 [00:00<00:00, 14.63it/s, v_num=1994, train_loss_step=1.560, train_loss_epoch=1.560]\n",
      "Predicting DataLoader 0: 100%|██████████| 1/1 [00:00<00:00, 52.28it/s]\n",
      "764 5\n",
      "Epoch 9: 100%|██████████| 1/1 [00:00<00:00, 15.11it/s, v_num=1996, train_loss_step=1.530, train_loss_epoch=1.530]\n",
      "Predicting DataLoader 0: 100%|██████████| 1/1 [00:00<?, ?it/s]\n",
      "769 5\n",
      "Epoch 9: 100%|██████████| 1/1 [00:00<00:00, 14.50it/s, v_num=1998, train_loss_step=1.530, train_loss_epoch=1.530]\n",
      "Predicting DataLoader 0: 100%|██████████| 1/1 [00:00<00:00, 221.51it/s]\n",
      "774 5\n",
      "Epoch 9: 100%|██████████| 1/1 [00:00<00:00, 14.87it/s, v_num=2000, train_loss_step=1.530, train_loss_epoch=1.530]\n",
      "Predicting DataLoader 0: 100%|██████████| 1/1 [00:00<00:00, 53.51it/s]\n",
      "779 5\n",
      "Epoch 9: 100%|██████████| 1/1 [00:00<00:00, 13.52it/s, v_num=2002, train_loss_step=1.490, train_loss_epoch=1.490]\n",
      "Predicting DataLoader 0: 100%|██████████| 1/1 [00:00<00:00, 135.21it/s]"
     ]
    },
    {
     "name": "stderr",
     "output_type": "stream",
     "text": [
      "[I 2023-12-18 21:52:36,190] Trial 0 finished with value: 173.88642383848813 and parameters: {'input_size': 19, 'n_blocks1': 1, 'n_blocks2': 2, 'n_blocks3': 1, 'mlp_units': 128, 'n_pool_kernel_size1': 1, 'n_pool_kernel_size2': 1, 'n_pool_kernel_size3': 3, 'n_freq_downsample1': 4, 'n_freq_downsample2': 4, 'n_freq_downsample3': 3, 'learning_rate': 0.009341722913469208, 'dropout_prob_theta': 0.27485758098995744}. Best is trial 0 with value: 173.88642383848813.\n",
      "Seed set to 1\n"
     ]
    },
    {
     "name": "stdout",
     "output_type": "stream",
     "text": [
      "\n",
      "744 5\n",
      "Epoch 9: 100%|██████████| 1/1 [00:00<00:00, 14.73it/s, v_num=2004, train_loss_step=1.590, train_loss_epoch=1.590]\n",
      "Predicting DataLoader 0: 100%|██████████| 1/1 [00:00<?, ?it/s]\n",
      "749 5\n",
      "Epoch 9: 100%|██████████| 1/1 [00:00<00:00, 17.59it/s, v_num=2006, train_loss_step=1.590, train_loss_epoch=1.590]\n",
      "Predicting DataLoader 0: 100%|██████████| 1/1 [00:00<?, ?it/s]\n",
      "754 5\n",
      "Epoch 9: 100%|██████████| 1/1 [00:00<00:00, 11.40it/s, v_num=2008, train_loss_step=1.580, train_loss_epoch=1.580]\n",
      "Predicting DataLoader 0: 100%|██████████| 1/1 [00:00<00:00, 85.50it/s] \n",
      "759 5\n",
      "Epoch 9: 100%|██████████| 1/1 [00:00<00:00, 16.37it/s, v_num=2010, train_loss_step=1.570, train_loss_epoch=1.570]\n",
      "Predicting DataLoader 0: 100%|██████████| 1/1 [00:00<?, ?it/s]\n",
      "764 5\n",
      "Epoch 9: 100%|██████████| 1/1 [00:00<00:00, 12.62it/s, v_num=2012, train_loss_step=1.590, train_loss_epoch=1.590]\n",
      "Predicting DataLoader 0: 100%|██████████| 1/1 [00:00<00:00, 189.62it/s]\n",
      "769 5\n",
      "Epoch 9: 100%|██████████| 1/1 [00:00<00:00, 17.37it/s, v_num=2014, train_loss_step=1.580, train_loss_epoch=1.580]\n",
      "Predicting DataLoader 0: 100%|██████████| 1/1 [00:00<?, ?it/s]\n",
      "774 5\n",
      "Epoch 9: 100%|██████████| 1/1 [00:00<00:00, 16.47it/s, v_num=2016, train_loss_step=1.570, train_loss_epoch=1.570]\n",
      "Predicting DataLoader 0: 100%|██████████| 1/1 [00:00<00:00, 62.33it/s]\n",
      "779 5\n",
      "Epoch 9: 100%|██████████| 1/1 [00:00<00:00, 14.41it/s, v_num=2018, train_loss_step=1.570, train_loss_epoch=1.570]\n",
      "Predicting DataLoader 0: 100%|██████████| 1/1 [00:00<00:00, 772.86it/s]"
     ]
    },
    {
     "name": "stderr",
     "output_type": "stream",
     "text": [
      "[I 2023-12-18 21:52:44,049] Trial 1 finished with value: 159.87073754039616 and parameters: {'input_size': 17, 'n_blocks1': 1, 'n_blocks2': 2, 'n_blocks3': 3, 'mlp_units': 64, 'n_pool_kernel_size1': 1, 'n_pool_kernel_size2': 1, 'n_pool_kernel_size3': 2, 'n_freq_downsample1': 4, 'n_freq_downsample2': 2, 'n_freq_downsample3': 4, 'learning_rate': 7.790845054376245e-05, 'dropout_prob_theta': 0.4100162291293383}. Best is trial 1 with value: 159.87073754039616.\n",
      "Seed set to 1\n"
     ]
    },
    {
     "name": "stdout",
     "output_type": "stream",
     "text": [
      "\n",
      "744 5\n",
      "Epoch 9: 100%|██████████| 1/1 [00:00<00:00, 14.15it/s, v_num=2020, train_loss_step=1.590, train_loss_epoch=1.590]\n",
      "Predicting DataLoader 0: 100%|██████████| 1/1 [00:00<00:00, 59.35it/s]\n",
      "749 5\n",
      "Epoch 9: 100%|██████████| 1/1 [00:00<00:00, 16.37it/s, v_num=2022, train_loss_step=1.590, train_loss_epoch=1.590]\n",
      "Predicting DataLoader 0: 100%|██████████| 1/1 [00:00<?, ?it/s]\n",
      "754 5\n",
      "Epoch 9: 100%|██████████| 1/1 [00:00<00:00, 14.43it/s, v_num=2024, train_loss_step=1.580, train_loss_epoch=1.580]\n",
      "Predicting DataLoader 0: 100%|██████████| 1/1 [00:00<?, ?it/s]\n",
      "759 5\n",
      "Epoch 9: 100%|██████████| 1/1 [00:00<00:00, 12.12it/s, v_num=2026, train_loss_step=1.570, train_loss_epoch=1.570]\n",
      "Predicting DataLoader 0: 100%|██████████| 1/1 [00:00<?, ?it/s]\n",
      "764 5\n",
      "Epoch 9: 100%|██████████| 1/1 [00:00<00:00, 11.87it/s, v_num=2028, train_loss_step=1.590, train_loss_epoch=1.590]\n",
      "Predicting DataLoader 0: 100%|██████████| 1/1 [00:00<00:00, 120.17it/s]\n",
      "769 5\n",
      "Epoch 9: 100%|██████████| 1/1 [00:00<00:00, 13.87it/s, v_num=2030, train_loss_step=1.580, train_loss_epoch=1.580]\n",
      "Predicting DataLoader 0: 100%|██████████| 1/1 [00:00<?, ?it/s]\n",
      "774 5\n",
      "Epoch 9: 100%|██████████| 1/1 [00:00<00:00, 16.76it/s, v_num=2032, train_loss_step=1.570, train_loss_epoch=1.570]\n",
      "Predicting DataLoader 0: 100%|██████████| 1/1 [00:00<00:00, 93.23it/s]\n",
      "779 5\n",
      "Epoch 9: 100%|██████████| 1/1 [00:00<00:00, 15.32it/s, v_num=2034, train_loss_step=1.570, train_loss_epoch=1.570]\n",
      "Predicting DataLoader 0: 100%|██████████| 1/1 [00:00<00:00, 138.17it/s]\n",
      "784 5\n",
      "Epoch 9: 100%|██████████| 1/1 [00:00<00:00, 15.81it/s, v_num=2036, train_loss_step=1.550, train_loss_epoch=1.550]\n",
      "Predicting DataLoader 0: 100%|██████████| 1/1 [00:00<?, ?it/s]\n",
      "789 5\n",
      "Epoch 9: 100%|██████████| 1/1 [00:00<00:00, 12.82it/s, v_num=2038, train_loss_step=1.580, train_loss_epoch=1.580]\n",
      "Predicting DataLoader 0: 100%|██████████| 1/1 [00:00<?, ?it/s]\n",
      "794 5\n",
      "Epoch 9: 100%|██████████| 1/1 [00:00<00:00, 12.52it/s, v_num=2040, train_loss_step=1.540, train_loss_epoch=1.540]\n",
      "Predicting DataLoader 0: 100%|██████████| 1/1 [00:00<?, ?it/s]\n",
      "799 5\n",
      "Epoch 9: 100%|██████████| 1/1 [00:00<00:00, 11.89it/s, v_num=2042, train_loss_step=1.530, train_loss_epoch=1.530]\n",
      "Predicting DataLoader 0: 100%|██████████| 1/1 [00:00<00:00, 85.07it/s] \n",
      "804 5\n",
      "Epoch 9: 100%|██████████| 1/1 [00:00<00:00,  9.91it/s, v_num=2044, train_loss_step=1.520, train_loss_epoch=1.520]\n",
      "Predicting DataLoader 0: 100%|██████████| 1/1 [00:00<00:00, 99.33it/s] \n",
      "809 5\n",
      "Epoch 9: 100%|██████████| 1/1 [00:00<00:00, 13.88it/s, v_num=2046, train_loss_step=1.510, train_loss_epoch=1.510]\n",
      "Predicting DataLoader 0: 100%|██████████| 1/1 [00:00<00:00, 312.45it/s]\n",
      "814 5\n",
      "Epoch 9: 100%|██████████| 1/1 [00:00<00:00, 14.24it/s, v_num=2048, train_loss_step=1.520, train_loss_epoch=1.520]\n",
      "Predicting DataLoader 0: 100%|██████████| 1/1 [00:00<00:00, 286.48it/s]\n",
      "819 5\n",
      "Epoch 9: 100%|██████████| 1/1 [00:00<00:00, 14.74it/s, v_num=2050, train_loss_step=1.530, train_loss_epoch=1.530]\n",
      "Predicting DataLoader 0: 100%|██████████| 1/1 [00:00<00:00, 276.03it/s]\n",
      "824 5\n",
      "Epoch 9: 100%|██████████| 1/1 [00:00<00:00, 11.71it/s, v_num=2052, train_loss_step=1.540, train_loss_epoch=1.540]\n",
      "Predicting DataLoader 0: 100%|██████████| 1/1 [00:00<00:00, 127.34it/s]\n",
      "829 5\n",
      "Epoch 9: 100%|██████████| 1/1 [00:00<00:00,  5.80it/s, v_num=2054, train_loss_step=1.540, train_loss_epoch=1.540]\n",
      "Predicting DataLoader 0: 100%|██████████| 1/1 [00:00<00:00, 122.97it/s]\n",
      "834 5\n",
      "Epoch 9: 100%|██████████| 1/1 [00:00<00:00, 15.01it/s, v_num=2056, train_loss_step=1.520, train_loss_epoch=1.520]\n",
      "Predicting DataLoader 0: 100%|██████████| 1/1 [00:00<00:00, 145.50it/s]\n",
      "839 5\n",
      "Epoch 9: 100%|██████████| 1/1 [00:00<00:00, 14.04it/s, v_num=2058, train_loss_step=1.540, train_loss_epoch=1.540]\n",
      "Predicting DataLoader 0: 100%|██████████| 1/1 [00:00<00:00, 67.78it/s]\n"
     ]
    }
   ],
   "source": [
    "############### NHITS #################\n",
    "horizon = 5\n",
    "model_name = 'NHITS'\n",
    "max_steps = 10\n",
    "random_seed = 1\n",
    "loss_func = mean_squared_error\n",
    "stack_types = ['identity', 'identity', 'identity']\n",
    "scaler_type = 'standard'\n",
    "loss=RMSE()\n",
    "\n",
    "study = optuna.create_study(direction='minimize')\n",
    "study.optimize(partial(objective, train_set=train_set, val_set=val_set, loss=loss, model_name=model_name, horizon=horizon, hist_exog_list=FINAL_COLUMNS, max_steps=max_steps, random_seed=random_seed, loss_func=loss_func, scaler_type=scaler_type), n_trials=2)\n",
    "prms = study.best_trial.params\n",
    "# Predykcja na podstawie najlepszych hiperparametrów\n",
    "n_blocks = [prms['n_blocks1'], prms['n_blocks2'], prms['n_blocks3']]\n",
    "mlp_units=[[prms['mlp_units'], prms['mlp_units']]]*3\n",
    "n_pool_kernel_size = [prms['n_pool_kernel_size1'], prms['n_pool_kernel_size2'], prms['n_pool_kernel_size3']]\n",
    "n_freq_downsample = [prms['n_freq_downsample1'], prms['n_freq_downsample2'], prms['n_freq_downsample3']]\n",
    "models = [NHITS(\n",
    "                 h=horizon,\n",
    "                 loss=loss,\n",
    "                 max_steps=max_steps,\n",
    "                 hist_exog_list=FINAL_COLUMNS,\n",
    "                 input_size=prms['input_size'],\n",
    "                 stack_types=stack_types,\n",
    "                 mlp_units=mlp_units,\n",
    "                 n_blocks=n_blocks,\n",
    "                 learning_rate=prms['learning_rate'],\n",
    "                 n_pool_kernel_size=n_pool_kernel_size,\n",
    "                 n_freq_downsample=n_freq_downsample,\n",
    "                 dropout_prob_theta=prms['dropout_prob_theta'],\n",
    "                 scaler_type=scaler_type,\n",
    "                random_seed=random_seed\n",
    "                 )]\n",
    "\n",
    "# Pipeline, który robi predykcję batchami co ileś dni, ustalane przez horizon\n",
    "loss_val, predictions_val = pipeline_train_predict(models, train_set, val_set, horizon, mean_squared_error, model_name)\n",
    "# Merge train and val sets\n",
    "train_val_set = pd.concat([train_set, val_set])\n",
    "loss_test, predictions_test = pipeline_train_predict(models, train_val_set, test_set, horizon, mean_squared_error, model_name)"
   ]
  },
  {
   "cell_type": "code",
   "execution_count": 9,
   "metadata": {},
   "outputs": [
    {
     "data": {
      "text/plain": [
       "159.87073754039616"
      ]
     },
     "execution_count": 9,
     "metadata": {},
     "output_type": "execute_result"
    }
   ],
   "source": [
    "loss_val"
   ]
  },
  {
   "cell_type": "code",
   "execution_count": 5,
   "metadata": {},
   "outputs": [
    {
     "name": "stderr",
     "output_type": "stream",
     "text": [
      "[I 2023-12-18 21:57:46,837] A new study created in memory with name: no-name-cb0c3339-c13e-451c-9bc2-270de00e36d0\n",
      "Seed set to 1\n"
     ]
    },
    {
     "name": "stdout",
     "output_type": "stream",
     "text": [
      "Epoch 9: 100%|██████████| 1/1 [00:00<00:00,  6.27it/s, v_num=2108, train_loss_step=30.10, train_loss_epoch=30.10]\n",
      "Predicting DataLoader 0: 100%|██████████| 1/1 [00:00<00:00, 58.57it/s]\n",
      "Epoch 9: 100%|██████████| 1/1 [00:00<00:00,  7.90it/s, v_num=2110, train_loss_step=30.20, train_loss_epoch=30.20]\n",
      "Predicting DataLoader 0: 100%|██████████| 1/1 [00:00<?, ?it/s]\n",
      "Epoch 9: 100%|██████████| 1/1 [00:00<00:00,  7.47it/s, v_num=2112, train_loss_step=30.20, train_loss_epoch=30.20]\n",
      "Predicting DataLoader 0: 100%|██████████| 1/1 [00:00<00:00, 108.23it/s]\n",
      "Epoch 9: 100%|██████████| 1/1 [00:00<00:00,  7.49it/s, v_num=2114, train_loss_step=30.10, train_loss_epoch=30.10]\n",
      "Predicting DataLoader 0: 100%|██████████| 1/1 [00:00<?, ?it/s]\n",
      "Epoch 9: 100%|██████████| 1/1 [00:00<00:00,  7.87it/s, v_num=2116, train_loss_step=30.20, train_loss_epoch=30.20]\n",
      "Predicting DataLoader 0: 100%|██████████| 1/1 [00:00<00:00, 97.84it/s] \n",
      "Epoch 9: 100%|██████████| 1/1 [00:00<00:00,  7.32it/s, v_num=2118, train_loss_step=30.20, train_loss_epoch=30.20]\n",
      "Predicting DataLoader 0: 100%|██████████| 1/1 [00:00<?, ?it/s]\n",
      "Epoch 9: 100%|██████████| 1/1 [00:00<00:00,  6.50it/s, v_num=2120, train_loss_step=30.30, train_loss_epoch=30.30]\n",
      "Predicting DataLoader 0: 100%|██████████| 1/1 [00:00<00:00, 97.19it/s] \n",
      "Epoch 9: 100%|██████████| 1/1 [00:00<00:00,  7.56it/s, v_num=2122, train_loss_step=30.20, train_loss_epoch=30.20]\n",
      "Predicting DataLoader 0: 100%|██████████| 1/1 [00:00<00:00, 84.92it/s]"
     ]
    },
    {
     "name": "stderr",
     "output_type": "stream",
     "text": [
      "[I 2023-12-18 21:58:00,041] Trial 0 finished with value: 375.66886641590395 and parameters: {'input_size': 3, 'learning_rate': 1.4619019934073393e-05, 'hidden_size': 12, 'dropout': 0.18289535556885061, 'attn_dropout': 0.447507788311037}. Best is trial 0 with value: 375.66886641590395.\n",
      "Seed set to 1\n"
     ]
    },
    {
     "name": "stdout",
     "output_type": "stream",
     "text": [
      "\n",
      "Epoch 9: 100%|██████████| 1/1 [00:00<00:00,  4.09it/s, v_num=2124, train_loss_step=2.780, train_loss_epoch=2.780]\n",
      "Predicting DataLoader 0: 100%|██████████| 1/1 [00:00<00:00, 87.63it/s]\n",
      "Epoch 9: 100%|██████████| 1/1 [00:00<00:00,  3.79it/s, v_num=2126, train_loss_step=2.770, train_loss_epoch=2.770]\n",
      "Predicting DataLoader 0: 100%|██████████| 1/1 [00:00<00:00, 113.00it/s]\n",
      "Epoch 9: 100%|██████████| 1/1 [00:00<00:00,  4.07it/s, v_num=2128, train_loss_step=2.880, train_loss_epoch=2.880]\n",
      "Predicting DataLoader 0: 100%|██████████| 1/1 [00:00<00:00, 403.41it/s]\n",
      "Epoch 9: 100%|██████████| 1/1 [00:00<00:00,  4.00it/s, v_num=2130, train_loss_step=2.880, train_loss_epoch=2.880]\n",
      "Predicting DataLoader 0: 100%|██████████| 1/1 [00:00<00:00, 260.92it/s]\n",
      "Epoch 9: 100%|██████████| 1/1 [00:00<00:00,  2.71it/s, v_num=2132, train_loss_step=2.880, train_loss_epoch=2.880]\n",
      "Predicting DataLoader 0: 100%|██████████| 1/1 [00:00<00:00, 80.58it/s]\n",
      "Epoch 9: 100%|██████████| 1/1 [00:00<00:00,  3.82it/s, v_num=2134, train_loss_step=2.890, train_loss_epoch=2.890]\n",
      "Predicting DataLoader 0: 100%|██████████| 1/1 [00:00<00:00, 51.32it/s]\n",
      "Epoch 9: 100%|██████████| 1/1 [00:00<00:00,  3.98it/s, v_num=2136, train_loss_step=3.030, train_loss_epoch=3.030]\n",
      "Predicting DataLoader 0: 100%|██████████| 1/1 [00:00<00:00, 115.25it/s]\n",
      "Epoch 9: 100%|██████████| 1/1 [00:00<00:00,  4.01it/s, v_num=2138, train_loss_step=3.050, train_loss_epoch=3.050]\n",
      "Predicting DataLoader 0: 100%|██████████| 1/1 [00:00<00:00, 232.86it/s]"
     ]
    },
    {
     "name": "stderr",
     "output_type": "stream",
     "text": [
      "[I 2023-12-18 21:58:23,367] Trial 1 finished with value: 229.69487190034735 and parameters: {'input_size': 8, 'learning_rate': 0.0032831202948453196, 'hidden_size': 20, 'dropout': 0.32601738794520446, 'attn_dropout': 0.3124408660151364}. Best is trial 1 with value: 229.69487190034735.\n",
      "Seed set to 1\n"
     ]
    },
    {
     "name": "stdout",
     "output_type": "stream",
     "text": [
      "\n",
      "Epoch 9: 100%|██████████| 1/1 [00:00<00:00,  4.06it/s, v_num=2140, train_loss_step=2.780, train_loss_epoch=2.780]\n",
      "Predicting DataLoader 0: 100%|██████████| 1/1 [00:00<00:00, 206.83it/s]\n",
      "Epoch 9: 100%|██████████| 1/1 [00:00<00:00,  4.02it/s, v_num=2142, train_loss_step=2.770, train_loss_epoch=2.770]\n",
      "Predicting DataLoader 0: 100%|██████████| 1/1 [00:00<00:00, 118.15it/s]\n",
      "Epoch 9: 100%|██████████| 1/1 [00:00<00:00,  3.56it/s, v_num=2144, train_loss_step=2.880, train_loss_epoch=2.880]\n",
      "Predicting DataLoader 0: 100%|██████████| 1/1 [00:00<00:00, 117.81it/s]\n",
      "Epoch 9: 100%|██████████| 1/1 [00:00<00:00,  3.07it/s, v_num=2146, train_loss_step=2.880, train_loss_epoch=2.880]\n",
      "Predicting DataLoader 0: 100%|██████████| 1/1 [00:00<00:00, 71.96it/s]\n",
      "Epoch 9: 100%|██████████| 1/1 [00:00<00:00,  3.17it/s, v_num=2148, train_loss_step=2.880, train_loss_epoch=2.880]\n",
      "Predicting DataLoader 0: 100%|██████████| 1/1 [00:00<00:00, 208.65it/s]\n",
      "Epoch 9: 100%|██████████| 1/1 [00:00<00:00,  3.66it/s, v_num=2150, train_loss_step=2.890, train_loss_epoch=2.890]\n",
      "Predicting DataLoader 0: 100%|██████████| 1/1 [00:00<00:00, 41.63it/s]\n",
      "Epoch 9: 100%|██████████| 1/1 [00:00<00:00,  3.73it/s, v_num=2152, train_loss_step=3.030, train_loss_epoch=3.030]\n",
      "Predicting DataLoader 0: 100%|██████████| 1/1 [00:00<00:00, 172.37it/s]\n",
      "Epoch 9: 100%|██████████| 1/1 [00:00<00:00,  3.97it/s, v_num=2154, train_loss_step=3.050, train_loss_epoch=3.050]\n",
      "Predicting DataLoader 0: 100%|██████████| 1/1 [00:00<00:00, 304.95it/s]\n",
      "Epoch 9: 100%|██████████| 1/1 [00:00<00:00,  3.72it/s, v_num=2156, train_loss_step=3.080, train_loss_epoch=3.080]\n",
      "Predicting DataLoader 0: 100%|██████████| 1/1 [00:00<00:00, 66.60it/s]\n",
      "Epoch 9: 100%|██████████| 1/1 [00:00<00:00,  3.72it/s, v_num=2158, train_loss_step=2.980, train_loss_epoch=2.980]\n",
      "Predicting DataLoader 0: 100%|██████████| 1/1 [00:00<00:00, 104.30it/s]\n",
      "Epoch 9: 100%|██████████| 1/1 [00:00<00:00,  3.66it/s, v_num=2160, train_loss_step=2.980, train_loss_epoch=2.980]\n",
      "Predicting DataLoader 0: 100%|██████████| 1/1 [00:00<00:00, 70.00it/s]\n",
      "Epoch 9: 100%|██████████| 1/1 [00:00<00:00,  3.75it/s, v_num=2162, train_loss_step=3.030, train_loss_epoch=3.030]\n",
      "Predicting DataLoader 0: 100%|██████████| 1/1 [00:00<00:00, 79.09it/s]\n",
      "Epoch 9: 100%|██████████| 1/1 [00:00<00:00,  3.74it/s, v_num=2164, train_loss_step=3.030, train_loss_epoch=3.030]\n",
      "Predicting DataLoader 0: 100%|██████████| 1/1 [00:00<00:00, 72.03it/s]\n",
      "Epoch 9: 100%|██████████| 1/1 [00:00<00:00,  3.89it/s, v_num=2166, train_loss_step=3.030, train_loss_epoch=3.030]\n",
      "Predicting DataLoader 0: 100%|██████████| 1/1 [00:00<00:00, 86.56it/s]\n",
      "Epoch 9: 100%|██████████| 1/1 [00:00<00:00,  3.76it/s, v_num=2168, train_loss_step=2.960, train_loss_epoch=2.960]\n",
      "Predicting DataLoader 0: 100%|██████████| 1/1 [00:00<00:00, 98.98it/s] \n",
      "Epoch 9: 100%|██████████| 1/1 [00:00<00:00,  3.71it/s, v_num=2170, train_loss_step=2.940, train_loss_epoch=2.940]\n",
      "Predicting DataLoader 0: 100%|██████████| 1/1 [00:00<00:00, 211.20it/s]\n",
      "Epoch 9: 100%|██████████| 1/1 [00:00<00:00,  3.78it/s, v_num=2172, train_loss_step=3.150, train_loss_epoch=3.150]\n",
      "Predicting DataLoader 0: 100%|██████████| 1/1 [00:00<00:00, 65.85it/s]\n",
      "Epoch 9: 100%|██████████| 1/1 [00:00<00:00,  3.74it/s, v_num=2174, train_loss_step=3.150, train_loss_epoch=3.150]\n",
      "Predicting DataLoader 0: 100%|██████████| 1/1 [00:00<00:00, 65.40it/s]\n",
      "Epoch 9: 100%|██████████| 1/1 [00:00<00:00,  3.57it/s, v_num=2176, train_loss_step=3.120, train_loss_epoch=3.120]\n",
      "Predicting DataLoader 0: 100%|██████████| 1/1 [00:00<00:00, 49.26it/s]\n",
      "Epoch 9: 100%|██████████| 1/1 [00:00<00:00,  3.72it/s, v_num=2178, train_loss_step=3.020, train_loss_epoch=3.020]\n",
      "Predicting DataLoader 0: 100%|██████████| 1/1 [00:00<00:00, 114.41it/s]\n"
     ]
    }
   ],
   "source": [
    "############### TFT #################\n",
    "horizon = 5\n",
    "model_name = 'TFT'\n",
    "max_steps = 10\n",
    "random_seed = 1\n",
    "loss_func = mean_squared_error\n",
    "stack_types = ['identity', 'identity', 'identity']\n",
    "scaler_type = 'standard'\n",
    "loss=RMSE()\n",
    "\n",
    "study = optuna.create_study(direction='minimize')\n",
    "study.optimize(partial(objective, train_set=train_set, val_set=val_set, loss=loss, model_name=model_name, horizon=horizon, hist_exog_list=FINAL_COLUMNS, max_steps=max_steps, random_seed=random_seed, loss_func=loss_func, scaler_type=scaler_type), n_trials=2)\n",
    "prms = study.best_trial.params\n",
    "# Predykcja na podstawie najlepszych hiperparametrów\n",
    "models = [TFT(\n",
    "                 h=horizon,\n",
    "                 loss=loss,\n",
    "                 max_steps=max_steps,\n",
    "                 hist_exog_list=FINAL_COLUMNS,\n",
    "                 input_size=prms['input_size'],\n",
    "                 learning_rate=prms['learning_rate'],\n",
    "                 hidden_size=prms['hidden_size'],\n",
    "                 dropout=prms['dropout'],\n",
    "                 attn_dropout=prms['attn_dropout'],\n",
    "                 scaler_type=scaler_type,\n",
    "                random_seed=random_seed\n",
    "                 )]\n",
    "\n",
    "# Pipeline, który robi predykcję batchami co ileś dni, ustalane przez horizon\n",
    "loss_val, predictions_val = pipeline_train_predict(models, train_set, val_set, horizon, mean_squared_error, model_name)\n",
    "# Merge train and val sets\n",
    "train_val_set = pd.concat([train_set, val_set])\n",
    "loss_test, predictions_test = pipeline_train_predict(models, train_val_set, test_set, horizon, mean_squared_error, model_name)"
   ]
  },
  {
   "cell_type": "code",
   "execution_count": 6,
   "metadata": {},
   "outputs": [
    {
     "data": {
      "text/plain": [
       "229.69487190034735"
      ]
     },
     "execution_count": 6,
     "metadata": {},
     "output_type": "execute_result"
    }
   ],
   "source": [
    "loss_val"
   ]
  },
  {
   "cell_type": "code",
   "execution_count": 18,
   "metadata": {},
   "outputs": [
    {
     "name": "stderr",
     "output_type": "stream",
     "text": [
      "Seed set to 1\n"
     ]
    },
    {
     "name": "stdout",
     "output_type": "stream",
     "text": [
      "Epoch 9: 100%|██████████| 1/1 [00:00<00:00,  8.22it/s, v_num=1914, train_loss_step=0.612, train_loss_epoch=0.612]\n",
      "Predicting DataLoader 0: 100%|██████████| 1/1 [00:00<00:00, 13.67it/s]\n"
     ]
    }
   ],
   "source": [
    "from neuralforecast.models import DilatedRNN\n",
    "\n",
    "models = [DilatedRNN(\n",
    "                 h=horizon,\n",
    "                 loss=loss,\n",
    "                 max_steps=max_steps,\n",
    "                 hist_exog_list=FINAL_COLUMNS,\n",
    "                 input_size=10,\n",
    "                 #stack_types=stack_types,\n",
    "                 #mlp_units=mlp_units,\n",
    "                 #n_blocks=n_blocks,\n",
    "                 #learning_rate=prms['learning_rate'],\n",
    "                 #n_harmonics=prms['n_harmonics'],\n",
    "                 #n_polynomials=prms['n_polynomials'],\n",
    "                 scaler_type=scaler_type,\n",
    "                random_seed=random_seed\n",
    "                 )]\n",
    "model = NeuralForecast(models=models, freq='D')\n",
    "model.fit(train_set)\n",
    "p =  model.predict().reset_index()\n",
    "p = p.merge(val_set[['ds','unique_id', 'y']].reset_index(), on=['ds', 'unique_id'], how='left')"
   ]
  },
  {
   "cell_type": "code",
   "execution_count": 20,
   "metadata": {},
   "outputs": [
    {
     "data": {
      "text/plain": [
       "[6, 6, 6, 6]"
      ]
     },
     "execution_count": 20,
     "metadata": {},
     "output_type": "execute_result"
    }
   ],
   "source": [
    "[6]*4"
   ]
  },
  {
   "cell_type": "code",
   "execution_count": 19,
   "metadata": {},
   "outputs": [
    {
     "data": {
      "text/html": [
       "<div>\n",
       "<style scoped>\n",
       "    .dataframe tbody tr th:only-of-type {\n",
       "        vertical-align: middle;\n",
       "    }\n",
       "\n",
       "    .dataframe tbody tr th {\n",
       "        vertical-align: top;\n",
       "    }\n",
       "\n",
       "    .dataframe thead th {\n",
       "        text-align: right;\n",
       "    }\n",
       "</style>\n",
       "<table border=\"1\" class=\"dataframe\">\n",
       "  <thead>\n",
       "    <tr style=\"text-align: right;\">\n",
       "      <th></th>\n",
       "      <th>unique_id</th>\n",
       "      <th>ds</th>\n",
       "      <th>DilatedRNN</th>\n",
       "      <th>index</th>\n",
       "      <th>y</th>\n",
       "    </tr>\n",
       "  </thead>\n",
       "  <tbody>\n",
       "    <tr>\n",
       "      <th>0</th>\n",
       "      <td>NFLX</td>\n",
       "      <td>2023-01-15</td>\n",
       "      <td>438.156189</td>\n",
       "      <td>0</td>\n",
       "      <td>441.709991</td>\n",
       "    </tr>\n",
       "    <tr>\n",
       "      <th>1</th>\n",
       "      <td>NFLX</td>\n",
       "      <td>2023-01-16</td>\n",
       "      <td>439.109467</td>\n",
       "      <td>1</td>\n",
       "      <td>440.209991</td>\n",
       "    </tr>\n",
       "    <tr>\n",
       "      <th>2</th>\n",
       "      <td>NFLX</td>\n",
       "      <td>2023-01-17</td>\n",
       "      <td>439.157562</td>\n",
       "      <td>2</td>\n",
       "      <td>444.049988</td>\n",
       "    </tr>\n",
       "    <tr>\n",
       "      <th>3</th>\n",
       "      <td>NFLX</td>\n",
       "      <td>2023-01-18</td>\n",
       "      <td>440.515656</td>\n",
       "      <td>3</td>\n",
       "      <td>450.380005</td>\n",
       "    </tr>\n",
       "    <tr>\n",
       "      <th>4</th>\n",
       "      <td>NFLX</td>\n",
       "      <td>2023-01-19</td>\n",
       "      <td>440.727509</td>\n",
       "      <td>4</td>\n",
       "      <td>441.910004</td>\n",
       "    </tr>\n",
       "  </tbody>\n",
       "</table>\n",
       "</div>"
      ],
      "text/plain": [
       "  unique_id         ds  DilatedRNN  index           y\n",
       "0      NFLX 2023-01-15  438.156189      0  441.709991\n",
       "1      NFLX 2023-01-16  439.109467      1  440.209991\n",
       "2      NFLX 2023-01-17  439.157562      2  444.049988\n",
       "3      NFLX 2023-01-18  440.515656      3  450.380005\n",
       "4      NFLX 2023-01-19  440.727509      4  441.910004"
      ]
     },
     "execution_count": 19,
     "metadata": {},
     "output_type": "execute_result"
    }
   ],
   "source": [
    "p"
   ]
  },
  {
   "cell_type": "code",
   "execution_count": 5,
   "metadata": {},
   "outputs": [],
   "source": [
    "ts = pd.read_csv('csv/BA/train_set_full.csv')"
   ]
  },
  {
   "cell_type": "code",
   "execution_count": 6,
   "metadata": {},
   "outputs": [
    {
     "data": {
      "text/plain": [
       "Index(['future', 'influential', 'trustworthy', 'not clickbait',\n",
       "       'finbert_Score', 'bart_Score', 'vader_Score', 'future_finbert',\n",
       "       'future_bart', 'future_vader', 'influential_finbert',\n",
       "       'influential_bart', 'influential_vader', 'trustworthy_finbert',\n",
       "       'trustworthy_bart', 'trustworthy_vader', 'clickbait_finbert',\n",
       "       'clickbait_bart', 'clickbait_vader', 'Date', 'EURUSD=X_Close',\n",
       "       'mean_future', 'mean_influential', 'mean_trustworthy', 'mean_clickbait',\n",
       "       'norm_rsi_14', 'norm_rsi_gspc_14', 'norm_slowk_14', 'norm_roc_14',\n",
       "       'log_return_1', 'log_return_5', 'log_return_10', 'log_return_20',\n",
       "       'log_return_gspc_1', 'log_return_gspc_5', 'log_return_gspc_10',\n",
       "       'log_return_gspc_20', 'target_1', 'target_5', 'target_10', 'target_20',\n",
       "       'minmax_^GSPC_Volume', 'minmax_BA_Volume', 'minmax_daily_variation',\n",
       "       'minmax_high_close_pressure', 'minmax_low_open_pressure',\n",
       "       'minmax_low_norm', 'minmax_close_norm', 'minmax_high_norm',\n",
       "       'minmax_open_norm'],\n",
       "      dtype='object')"
      ]
     },
     "execution_count": 6,
     "metadata": {},
     "output_type": "execute_result"
    }
   ],
   "source": [
    "ts.columns"
   ]
  },
  {
   "cell_type": "code",
   "execution_count": null,
   "metadata": {},
   "outputs": [],
   "source": [
    "# Same finansowe, same newsy, finansowe + newsy\n",
    "# Do zapisu: model nauczony na treningu, na treningu i walidacji\n",
    "# predykcja na walidacyjnym\n",
    "# predykcja na testowym\n",
    "# loss na walidacyjnym\n",
    "# loss na testowym\n",
    "# Dla każdego znacznika: json['financial'/'news'/'financial_and_news']['TFT'/'NBEATS'/'NHITS']['params'/'loss'] - zapis\n",
    "# json['BA']['financial']['loss']['val'/'test']\n",
    "# Dla każdego znacznika: zapis val_pred.csv oraz test_pred.csv results/BA/financial/TFT/val_pred.csv\n",
    "horizon = 5\n",
    "model_name = 'TFT'\n",
    "max_steps = 10\n",
    "random_seed = 1\n",
    "loss_func = mean_squared_error\n",
    "stack_types = ['identity', 'identity', 'identity']\n",
    "scaler_type = 'standard'\n",
    "loss=RMSE()\n",
    "\n",
    "def train_all(indicator, model_names, max_steps, random_seed, FINAL_COLUMNS, scaler_type='standard', loss=RMSE()):\n",
    "    \n",
    "    # Prepare data\n",
    "    pass"
   ]
  }
 ],
 "metadata": {
  "kernelspec": {
   "display_name": "Python 3",
   "language": "python",
   "name": "python3"
  },
  "language_info": {
   "codemirror_mode": {
    "name": "ipython",
    "version": 3
   },
   "file_extension": ".py",
   "mimetype": "text/x-python",
   "name": "python",
   "nbconvert_exporter": "python",
   "pygments_lexer": "ipython3",
   "version": "3.10.6"
  }
 },
 "nbformat": 4,
 "nbformat_minor": 2
}
