{
  "cells": [
    {
      "cell_type": "markdown",
      "metadata": {
        "id": "vILXkCC3rQKC"
      },
      "source": [
        "## Import"
      ]
    },
    {
      "cell_type": "code",
      "execution_count": 1,
      "metadata": {
        "id": "KzJ9C3-dsypH"
      },
      "outputs": [],
      "source": [
        "import yfinance as yf\n",
        "import pandas as pd\n",
        "import datetime\n",
        "import numpy as np\n",
        "from sklearn.preprocessing import MinMaxScaler\n",
        "from scripts.yahoofinanse_downloader import YFinanceDownloader"
      ]
    },
    {
      "cell_type": "code",
      "execution_count": 2,
      "metadata": {
        "id": "pHuZi1iLz3vU"
      },
      "outputs": [],
      "source": [
        "df_news = pd.read_csv(\"csv/BA_full_agg.csv\")"
      ]
    },
    {
      "cell_type": "code",
      "execution_count": 3,
      "metadata": {
        "colab": {
          "base_uri": "https://localhost:8080/"
        },
        "id": "F3lsbh-DS7ER",
        "outputId": "0dd9d76f-fdb9-417a-ccb3-4e943290576e"
      },
      "outputs": [
        {
          "name": "stdout",
          "output_type": "stream",
          "text": [
            "[*********************100%%**********************]  1 of 1 completed\n",
            "Ticker data downloaded correctly\n",
            "[*********************100%%**********************]  1 of 1 completed\n",
            "Ticker data downloaded correctly\n",
            "[*********************100%%**********************]  1 of 1 completed\n",
            "Ticker data downloaded correctly\n",
            "[*********************100%%**********************]  1 of 1 completed\n",
            "Ticker data downloaded correctly\n",
            "[*********************100%%**********************]  1 of 1 completed\n",
            "Ticker data downloaded correctly\n"
          ]
        }
      ],
      "source": [
        "ticker_list = ['^GSPC', 'EURUSD=X', 'BA',\"NFLX\",\"BTC-USD\"]\n",
        "begin_date = \"20200901\"\n",
        "end_date = \"20231124\"\n",
        "\n",
        "yfd = YFinanceDownloader(ticker_list,begin_date,end_date)\n",
        "\n",
        "df = yfd.create_df()"
      ]
    },
    {
      "cell_type": "code",
      "execution_count": 7,
      "metadata": {},
      "outputs": [],
      "source": [
        "df.to_csv(\"d.csv\")"
      ]
    },
    {
      "cell_type": "code",
      "execution_count": null,
      "metadata": {
        "id": "Qw8YbLzgTSDN"
      },
      "outputs": [],
      "source": [
        "df_news['day'] = pd.to_datetime(df_news['day'])\n",
        "df['Date'] = pd.to_datetime(df['Date'])\n",
        "\n",
        "df_full = pd.merge(df_news, df, left_on='day',right_on='Date', how='right')"
      ]
    },
    {
      "cell_type": "code",
      "execution_count": null,
      "metadata": {
        "colab": {
          "base_uri": "https://localhost:8080/"
        },
        "id": "qdjcTXdXUKfF",
        "outputId": "ee03bc3b-4042-43cc-9430-0a31a5031107"
      },
      "outputs": [
        {
          "data": {
            "text/html": [
              "\n",
              "  <div id=\"df-03b12ea3-ad90-4310-8846-20b4440f5578\" class=\"colab-df-container\">\n",
              "    <div>\n",
              "<style scoped>\n",
              "    .dataframe tbody tr th:only-of-type {\n",
              "        vertical-align: middle;\n",
              "    }\n",
              "\n",
              "    .dataframe tbody tr th {\n",
              "        vertical-align: top;\n",
              "    }\n",
              "\n",
              "    .dataframe thead th {\n",
              "        text-align: right;\n",
              "    }\n",
              "</style>\n",
              "<table border=\"1\" class=\"dataframe\">\n",
              "  <thead>\n",
              "    <tr style=\"text-align: right;\">\n",
              "      <th></th>\n",
              "      <th>Unnamed: 0</th>\n",
              "      <th>day</th>\n",
              "      <th>future</th>\n",
              "      <th>influential</th>\n",
              "      <th>trustworthy</th>\n",
              "      <th>not clickbait</th>\n",
              "      <th>finbert_Score</th>\n",
              "      <th>bart_Score</th>\n",
              "      <th>vader_Score</th>\n",
              "      <th>future_finbert</th>\n",
              "      <th>...</th>\n",
              "      <th>EURUSD=X_Close</th>\n",
              "      <th>EURUSD=X_Adj Close</th>\n",
              "      <th>EURUSD=X_Volume</th>\n",
              "      <th>BA_Open</th>\n",
              "      <th>BA_High</th>\n",
              "      <th>BA_Low</th>\n",
              "      <th>BA_Close</th>\n",
              "      <th>BA_Adj Close</th>\n",
              "      <th>BA_Volume</th>\n",
              "      <th>is_weekend</th>\n",
              "    </tr>\n",
              "  </thead>\n",
              "  <tbody>\n",
              "    <tr>\n",
              "      <th>1053</th>\n",
              "      <td>817.0</td>\n",
              "      <td>2023-11-20</td>\n",
              "      <td>0.272856</td>\n",
              "      <td>0.974173</td>\n",
              "      <td>0.831511</td>\n",
              "      <td>0.404557</td>\n",
              "      <td>0.333699</td>\n",
              "      <td>0.522658</td>\n",
              "      <td>0.65024</td>\n",
              "      <td>0.072376</td>\n",
              "      <td>...</td>\n",
              "      <td>1.090703</td>\n",
              "      <td>1.090703</td>\n",
              "      <td>0.0</td>\n",
              "      <td>211.009995</td>\n",
              "      <td>218.880005</td>\n",
              "      <td>210.940002</td>\n",
              "      <td>217.710007</td>\n",
              "      <td>217.710007</td>\n",
              "      <td>11568100.0</td>\n",
              "      <td>False</td>\n",
              "    </tr>\n",
              "    <tr>\n",
              "      <th>1054</th>\n",
              "      <td>818.0</td>\n",
              "      <td>2023-11-21</td>\n",
              "      <td>0.181532</td>\n",
              "      <td>0.991608</td>\n",
              "      <td>0.948953</td>\n",
              "      <td>0.371553</td>\n",
              "      <td>0.578798</td>\n",
              "      <td>0.949727</td>\n",
              "      <td>0.69140</td>\n",
              "      <td>0.130884</td>\n",
              "      <td>...</td>\n",
              "      <td>1.094595</td>\n",
              "      <td>1.094595</td>\n",
              "      <td>0.0</td>\n",
              "      <td>216.500000</td>\n",
              "      <td>219.380005</td>\n",
              "      <td>216.070007</td>\n",
              "      <td>218.270004</td>\n",
              "      <td>218.270004</td>\n",
              "      <td>5362100.0</td>\n",
              "      <td>False</td>\n",
              "    </tr>\n",
              "    <tr>\n",
              "      <th>1055</th>\n",
              "      <td>819.0</td>\n",
              "      <td>2023-11-22</td>\n",
              "      <td>0.406208</td>\n",
              "      <td>0.940190</td>\n",
              "      <td>0.918550</td>\n",
              "      <td>0.268571</td>\n",
              "      <td>0.077828</td>\n",
              "      <td>0.508711</td>\n",
              "      <td>0.49390</td>\n",
              "      <td>0.031614</td>\n",
              "      <td>...</td>\n",
              "      <td>1.091822</td>\n",
              "      <td>1.091822</td>\n",
              "      <td>0.0</td>\n",
              "      <td>218.000000</td>\n",
              "      <td>221.500000</td>\n",
              "      <td>217.699997</td>\n",
              "      <td>219.910004</td>\n",
              "      <td>219.910004</td>\n",
              "      <td>5384400.0</td>\n",
              "      <td>False</td>\n",
              "    </tr>\n",
              "    <tr>\n",
              "      <th>1056</th>\n",
              "      <td>820.0</td>\n",
              "      <td>2023-11-23</td>\n",
              "      <td>0.281758</td>\n",
              "      <td>0.986497</td>\n",
              "      <td>0.950668</td>\n",
              "      <td>0.456025</td>\n",
              "      <td>0.735246</td>\n",
              "      <td>0.892426</td>\n",
              "      <td>-0.08400</td>\n",
              "      <td>0.207115</td>\n",
              "      <td>...</td>\n",
              "      <td>1.089087</td>\n",
              "      <td>1.089087</td>\n",
              "      <td>0.0</td>\n",
              "      <td>NaN</td>\n",
              "      <td>NaN</td>\n",
              "      <td>NaN</td>\n",
              "      <td>NaN</td>\n",
              "      <td>NaN</td>\n",
              "      <td>NaN</td>\n",
              "      <td>False</td>\n",
              "    </tr>\n",
              "    <tr>\n",
              "      <th>1057</th>\n",
              "      <td>821.0</td>\n",
              "      <td>2023-11-24</td>\n",
              "      <td>0.287800</td>\n",
              "      <td>0.977845</td>\n",
              "      <td>0.949522</td>\n",
              "      <td>0.353708</td>\n",
              "      <td>0.472922</td>\n",
              "      <td>0.617432</td>\n",
              "      <td>0.88725</td>\n",
              "      <td>0.145961</td>\n",
              "      <td>...</td>\n",
              "      <td>1.090631</td>\n",
              "      <td>1.090631</td>\n",
              "      <td>0.0</td>\n",
              "      <td>220.610001</td>\n",
              "      <td>221.589996</td>\n",
              "      <td>218.960007</td>\n",
              "      <td>220.000000</td>\n",
              "      <td>220.000000</td>\n",
              "      <td>2312100.0</td>\n",
              "      <td>False</td>\n",
              "    </tr>\n",
              "  </tbody>\n",
              "</table>\n",
              "<p>5 rows × 41 columns</p>\n",
              "</div>\n",
              "    <div class=\"colab-df-buttons\">\n",
              "\n",
              "  <div class=\"colab-df-container\">\n",
              "    <button class=\"colab-df-convert\" onclick=\"convertToInteractive('df-03b12ea3-ad90-4310-8846-20b4440f5578')\"\n",
              "            title=\"Convert this dataframe to an interactive table.\"\n",
              "            style=\"display:none;\">\n",
              "\n",
              "  <svg xmlns=\"http://www.w3.org/2000/svg\" height=\"24px\" viewBox=\"0 -960 960 960\">\n",
              "    <path d=\"M120-120v-720h720v720H120Zm60-500h600v-160H180v160Zm220 220h160v-160H400v160Zm0 220h160v-160H400v160ZM180-400h160v-160H180v160Zm440 0h160v-160H620v160ZM180-180h160v-160H180v160Zm440 0h160v-160H620v160Z\"/>\n",
              "  </svg>\n",
              "    </button>\n",
              "\n",
              "  <style>\n",
              "    .colab-df-container {\n",
              "      display:flex;\n",
              "      gap: 12px;\n",
              "    }\n",
              "\n",
              "    .colab-df-convert {\n",
              "      background-color: #E8F0FE;\n",
              "      border: none;\n",
              "      border-radius: 50%;\n",
              "      cursor: pointer;\n",
              "      display: none;\n",
              "      fill: #1967D2;\n",
              "      height: 32px;\n",
              "      padding: 0 0 0 0;\n",
              "      width: 32px;\n",
              "    }\n",
              "\n",
              "    .colab-df-convert:hover {\n",
              "      background-color: #E2EBFA;\n",
              "      box-shadow: 0px 1px 2px rgba(60, 64, 67, 0.3), 0px 1px 3px 1px rgba(60, 64, 67, 0.15);\n",
              "      fill: #174EA6;\n",
              "    }\n",
              "\n",
              "    .colab-df-buttons div {\n",
              "      margin-bottom: 4px;\n",
              "    }\n",
              "\n",
              "    [theme=dark] .colab-df-convert {\n",
              "      background-color: #3B4455;\n",
              "      fill: #D2E3FC;\n",
              "    }\n",
              "\n",
              "    [theme=dark] .colab-df-convert:hover {\n",
              "      background-color: #434B5C;\n",
              "      box-shadow: 0px 1px 3px 1px rgba(0, 0, 0, 0.15);\n",
              "      filter: drop-shadow(0px 1px 2px rgba(0, 0, 0, 0.3));\n",
              "      fill: #FFFFFF;\n",
              "    }\n",
              "  </style>\n",
              "\n",
              "    <script>\n",
              "      const buttonEl =\n",
              "        document.querySelector('#df-03b12ea3-ad90-4310-8846-20b4440f5578 button.colab-df-convert');\n",
              "      buttonEl.style.display =\n",
              "        google.colab.kernel.accessAllowed ? 'block' : 'none';\n",
              "\n",
              "      async function convertToInteractive(key) {\n",
              "        const element = document.querySelector('#df-03b12ea3-ad90-4310-8846-20b4440f5578');\n",
              "        const dataTable =\n",
              "          await google.colab.kernel.invokeFunction('convertToInteractive',\n",
              "                                                    [key], {});\n",
              "        if (!dataTable) return;\n",
              "\n",
              "        const docLinkHtml = 'Like what you see? Visit the ' +\n",
              "          '<a target=\"_blank\" href=https://colab.research.google.com/notebooks/data_table.ipynb>data table notebook</a>'\n",
              "          + ' to learn more about interactive tables.';\n",
              "        element.innerHTML = '';\n",
              "        dataTable['output_type'] = 'display_data';\n",
              "        await google.colab.output.renderOutput(dataTable, element);\n",
              "        const docLink = document.createElement('div');\n",
              "        docLink.innerHTML = docLinkHtml;\n",
              "        element.appendChild(docLink);\n",
              "      }\n",
              "    </script>\n",
              "  </div>\n",
              "\n",
              "\n",
              "<div id=\"df-0fe53fd9-36ec-448d-a2f1-75d384987b5a\">\n",
              "  <button class=\"colab-df-quickchart\" onclick=\"quickchart('df-0fe53fd9-36ec-448d-a2f1-75d384987b5a')\"\n",
              "            title=\"Suggest charts\"\n",
              "            style=\"display:none;\">\n",
              "\n",
              "<svg xmlns=\"http://www.w3.org/2000/svg\" height=\"24px\"viewBox=\"0 0 24 24\"\n",
              "     width=\"24px\">\n",
              "    <g>\n",
              "        <path d=\"M19 3H5c-1.1 0-2 .9-2 2v14c0 1.1.9 2 2 2h14c1.1 0 2-.9 2-2V5c0-1.1-.9-2-2-2zM9 17H7v-7h2v7zm4 0h-2V7h2v10zm4 0h-2v-4h2v4z\"/>\n",
              "    </g>\n",
              "</svg>\n",
              "  </button>\n",
              "\n",
              "<style>\n",
              "  .colab-df-quickchart {\n",
              "      --bg-color: #E8F0FE;\n",
              "      --fill-color: #1967D2;\n",
              "      --hover-bg-color: #E2EBFA;\n",
              "      --hover-fill-color: #174EA6;\n",
              "      --disabled-fill-color: #AAA;\n",
              "      --disabled-bg-color: #DDD;\n",
              "  }\n",
              "\n",
              "  [theme=dark] .colab-df-quickchart {\n",
              "      --bg-color: #3B4455;\n",
              "      --fill-color: #D2E3FC;\n",
              "      --hover-bg-color: #434B5C;\n",
              "      --hover-fill-color: #FFFFFF;\n",
              "      --disabled-bg-color: #3B4455;\n",
              "      --disabled-fill-color: #666;\n",
              "  }\n",
              "\n",
              "  .colab-df-quickchart {\n",
              "    background-color: var(--bg-color);\n",
              "    border: none;\n",
              "    border-radius: 50%;\n",
              "    cursor: pointer;\n",
              "    display: none;\n",
              "    fill: var(--fill-color);\n",
              "    height: 32px;\n",
              "    padding: 0;\n",
              "    width: 32px;\n",
              "  }\n",
              "\n",
              "  .colab-df-quickchart:hover {\n",
              "    background-color: var(--hover-bg-color);\n",
              "    box-shadow: 0 1px 2px rgba(60, 64, 67, 0.3), 0 1px 3px 1px rgba(60, 64, 67, 0.15);\n",
              "    fill: var(--button-hover-fill-color);\n",
              "  }\n",
              "\n",
              "  .colab-df-quickchart-complete:disabled,\n",
              "  .colab-df-quickchart-complete:disabled:hover {\n",
              "    background-color: var(--disabled-bg-color);\n",
              "    fill: var(--disabled-fill-color);\n",
              "    box-shadow: none;\n",
              "  }\n",
              "\n",
              "  .colab-df-spinner {\n",
              "    border: 2px solid var(--fill-color);\n",
              "    border-color: transparent;\n",
              "    border-bottom-color: var(--fill-color);\n",
              "    animation:\n",
              "      spin 1s steps(1) infinite;\n",
              "  }\n",
              "\n",
              "  @keyframes spin {\n",
              "    0% {\n",
              "      border-color: transparent;\n",
              "      border-bottom-color: var(--fill-color);\n",
              "      border-left-color: var(--fill-color);\n",
              "    }\n",
              "    20% {\n",
              "      border-color: transparent;\n",
              "      border-left-color: var(--fill-color);\n",
              "      border-top-color: var(--fill-color);\n",
              "    }\n",
              "    30% {\n",
              "      border-color: transparent;\n",
              "      border-left-color: var(--fill-color);\n",
              "      border-top-color: var(--fill-color);\n",
              "      border-right-color: var(--fill-color);\n",
              "    }\n",
              "    40% {\n",
              "      border-color: transparent;\n",
              "      border-right-color: var(--fill-color);\n",
              "      border-top-color: var(--fill-color);\n",
              "    }\n",
              "    60% {\n",
              "      border-color: transparent;\n",
              "      border-right-color: var(--fill-color);\n",
              "    }\n",
              "    80% {\n",
              "      border-color: transparent;\n",
              "      border-right-color: var(--fill-color);\n",
              "      border-bottom-color: var(--fill-color);\n",
              "    }\n",
              "    90% {\n",
              "      border-color: transparent;\n",
              "      border-bottom-color: var(--fill-color);\n",
              "    }\n",
              "  }\n",
              "</style>\n",
              "\n",
              "  <script>\n",
              "    async function quickchart(key) {\n",
              "      const quickchartButtonEl =\n",
              "        document.querySelector('#' + key + ' button');\n",
              "      quickchartButtonEl.disabled = true;  // To prevent multiple clicks.\n",
              "      quickchartButtonEl.classList.add('colab-df-spinner');\n",
              "      try {\n",
              "        const charts = await google.colab.kernel.invokeFunction(\n",
              "            'suggestCharts', [key], {});\n",
              "      } catch (error) {\n",
              "        console.error('Error during call to suggestCharts:', error);\n",
              "      }\n",
              "      quickchartButtonEl.classList.remove('colab-df-spinner');\n",
              "      quickchartButtonEl.classList.add('colab-df-quickchart-complete');\n",
              "    }\n",
              "    (() => {\n",
              "      let quickchartButtonEl =\n",
              "        document.querySelector('#df-0fe53fd9-36ec-448d-a2f1-75d384987b5a button');\n",
              "      quickchartButtonEl.style.display =\n",
              "        google.colab.kernel.accessAllowed ? 'block' : 'none';\n",
              "    })();\n",
              "  </script>\n",
              "</div>\n",
              "    </div>\n",
              "  </div>\n"
            ],
            "text/plain": [
              "      Unnamed: 0        day    future  influential  trustworthy  \\\n",
              "1053       817.0 2023-11-20  0.272856     0.974173     0.831511   \n",
              "1054       818.0 2023-11-21  0.181532     0.991608     0.948953   \n",
              "1055       819.0 2023-11-22  0.406208     0.940190     0.918550   \n",
              "1056       820.0 2023-11-23  0.281758     0.986497     0.950668   \n",
              "1057       821.0 2023-11-24  0.287800     0.977845     0.949522   \n",
              "\n",
              "      not clickbait  finbert_Score  bart_Score  vader_Score  future_finbert  \\\n",
              "1053       0.404557       0.333699    0.522658      0.65024        0.072376   \n",
              "1054       0.371553       0.578798    0.949727      0.69140        0.130884   \n",
              "1055       0.268571       0.077828    0.508711      0.49390        0.031614   \n",
              "1056       0.456025       0.735246    0.892426     -0.08400        0.207115   \n",
              "1057       0.353708       0.472922    0.617432      0.88725        0.145961   \n",
              "\n",
              "      ...  EURUSD=X_Close  EURUSD=X_Adj Close  EURUSD=X_Volume     BA_Open  \\\n",
              "1053  ...        1.090703            1.090703              0.0  211.009995   \n",
              "1054  ...        1.094595            1.094595              0.0  216.500000   \n",
              "1055  ...        1.091822            1.091822              0.0  218.000000   \n",
              "1056  ...        1.089087            1.089087              0.0         NaN   \n",
              "1057  ...        1.090631            1.090631              0.0  220.610001   \n",
              "\n",
              "         BA_High      BA_Low    BA_Close  BA_Adj Close   BA_Volume  is_weekend  \n",
              "1053  218.880005  210.940002  217.710007    217.710007  11568100.0       False  \n",
              "1054  219.380005  216.070007  218.270004    218.270004   5362100.0       False  \n",
              "1055  221.500000  217.699997  219.910004    219.910004   5384400.0       False  \n",
              "1056         NaN         NaN         NaN           NaN         NaN       False  \n",
              "1057  221.589996  218.960007  220.000000    220.000000   2312100.0       False  \n",
              "\n",
              "[5 rows x 41 columns]"
            ]
          },
          "execution_count": 31,
          "metadata": {},
          "output_type": "execute_result"
        }
      ],
      "source": [
        "df_full.tail(5)"
      ]
    },
    {
      "cell_type": "code",
      "execution_count": null,
      "metadata": {
        "colab": {
          "base_uri": "https://localhost:8080/"
        },
        "id": "yFF1eonyUzAQ",
        "outputId": "0f2d4463-3846-438d-c18d-9397954862a4"
      },
      "outputs": [
        {
          "data": {
            "text/plain": [
              "Index(['Unnamed: 0', 'day', 'future', 'influential', 'trustworthy',\n",
              "       'not clickbait', 'finbert_Score', 'bart_Score', 'vader_Score',\n",
              "       'future_finbert', 'future_bart', 'future_vader', 'influential_finbert',\n",
              "       'influential_bart', 'influential_vader', 'trustworthy_finbert',\n",
              "       'trustworthy_bart', 'trustworthy_vader', 'clickbait_finbert',\n",
              "       'clickbait_bart', 'clickbait_vader', 'Date', '^GSPC_Open', '^GSPC_High',\n",
              "       '^GSPC_Low', '^GSPC_Close', '^GSPC_Adj Close', '^GSPC_Volume',\n",
              "       'EURUSD=X_Open', 'EURUSD=X_High', 'EURUSD=X_Low', 'EURUSD=X_Close',\n",
              "       'EURUSD=X_Adj Close', 'EURUSD=X_Volume', 'BA_Open', 'BA_High', 'BA_Low',\n",
              "       'BA_Close', 'BA_Adj Close', 'BA_Volume', 'is_weekend'],\n",
              "      dtype='object')"
            ]
          },
          "execution_count": 32,
          "metadata": {},
          "output_type": "execute_result"
        }
      ],
      "source": [
        "df_full.columns"
      ]
    },
    {
      "cell_type": "code",
      "execution_count": null,
      "metadata": {
        "id": "niYNQFFX0GVi"
      },
      "outputs": [],
      "source": [
        "df_full.drop(columns=['is_weekend','Unnamed: 0','day',\n",
        "                      'EURUSD=X_Volume','EURUSD=X_Open','EURUSD=X_High',\n",
        "                      'EURUSD=X_Low','^GSPC_Adj Close','EURUSD=X_Adj Close']\n",
        "             ,inplace=True)"
      ]
    },
    {
      "cell_type": "code",
      "execution_count": null,
      "metadata": {
        "id": "tc80qE7ehMuj"
      },
      "outputs": [],
      "source": [
        "df_full.loc[:,['future', 'influential', 'trustworthy', 'not clickbait',\n",
        "       'finbert_Score', 'bart_Score', 'vader_Score', 'future_finbert',\n",
        "       'future_bart', 'future_vader', 'influential_finbert',\n",
        "       'influential_bart', 'influential_vader', 'trustworthy_finbert',\n",
        "       'trustworthy_bart', 'trustworthy_vader', 'clickbait_finbert',\n",
        "       'clickbait_bart', 'clickbait_vader']] = replace_with_0(df_full,['future', 'influential', 'trustworthy', 'not clickbait',\n",
        "       'finbert_Score', 'bart_Score', 'vader_Score', 'future_finbert',\n",
        "       'future_bart', 'future_vader', 'influential_finbert',\n",
        "       'influential_bart', 'influential_vader', 'trustworthy_finbert',\n",
        "       'trustworthy_bart', 'trustworthy_vader', 'clickbait_finbert',\n",
        "       'clickbait_bart', 'clickbait_vader'])"
      ]
    },
    {
      "cell_type": "code",
      "execution_count": null,
      "metadata": {
        "colab": {
          "base_uri": "https://localhost:8080/"
        },
        "id": "tpUvzP8T01KD",
        "outputId": "dc4a0e06-59d0-47c8-d568-8a65562dbbc5"
      },
      "outputs": [
        {
          "name": "stdout",
          "output_type": "stream",
          "text": [
            "<class 'pandas.core.frame.DataFrame'>\n",
            "Int64Index: 1058 entries, 0 to 1057\n",
            "Data columns (total 32 columns):\n",
            " #   Column               Non-Null Count  Dtype         \n",
            "---  ------               --------------  -----         \n",
            " 0   future               1058 non-null   float64       \n",
            " 1   influential          1058 non-null   float64       \n",
            " 2   trustworthy          1058 non-null   float64       \n",
            " 3   not clickbait        1058 non-null   float64       \n",
            " 4   finbert_Score        1058 non-null   float64       \n",
            " 5   bart_Score           1058 non-null   float64       \n",
            " 6   vader_Score          1058 non-null   float64       \n",
            " 7   future_finbert       1058 non-null   float64       \n",
            " 8   future_bart          1058 non-null   float64       \n",
            " 9   future_vader         1058 non-null   float64       \n",
            " 10  influential_finbert  1058 non-null   float64       \n",
            " 11  influential_bart     1058 non-null   float64       \n",
            " 12  influential_vader    1058 non-null   float64       \n",
            " 13  trustworthy_finbert  1058 non-null   float64       \n",
            " 14  trustworthy_bart     1058 non-null   float64       \n",
            " 15  trustworthy_vader    1058 non-null   float64       \n",
            " 16  clickbait_finbert    1058 non-null   float64       \n",
            " 17  clickbait_bart       1058 non-null   float64       \n",
            " 18  clickbait_vader      1058 non-null   float64       \n",
            " 19  Date                 1058 non-null   datetime64[ns]\n",
            " 20  ^GSPC_Open           729 non-null    float64       \n",
            " 21  ^GSPC_High           729 non-null    float64       \n",
            " 22  ^GSPC_Low            729 non-null    float64       \n",
            " 23  ^GSPC_Close          729 non-null    float64       \n",
            " 24  ^GSPC_Volume         729 non-null    float64       \n",
            " 25  EURUSD=X_Close       756 non-null    float64       \n",
            " 26  BA_Open              729 non-null    float64       \n",
            " 27  BA_High              729 non-null    float64       \n",
            " 28  BA_Low               729 non-null    float64       \n",
            " 29  BA_Close             729 non-null    float64       \n",
            " 30  BA_Adj Close         729 non-null    float64       \n",
            " 31  BA_Volume            729 non-null    float64       \n",
            "dtypes: datetime64[ns](1), float64(31)\n",
            "memory usage: 272.8 KB\n"
          ]
        }
      ],
      "source": [
        "df_full.info()"
      ]
    },
    {
      "cell_type": "markdown",
      "metadata": {
        "id": "nQo1Uo8MpV6Y"
      },
      "source": [
        "## Apply"
      ]
    },
    {
      "cell_type": "code",
      "execution_count": null,
      "metadata": {
        "colab": {
          "base_uri": "https://localhost:8080/"
        },
        "id": "x716Dsl3878H",
        "outputId": "6b015ca2-e023-4da5-8e6c-abf5bc4c1471"
      },
      "outputs": [
        {
          "data": {
            "text/plain": [
              "(455, 19)"
            ]
          },
          "execution_count": 111,
          "metadata": {},
          "output_type": "execute_result"
        }
      ],
      "source": [
        "df_full.shape"
      ]
    },
    {
      "cell_type": "code",
      "execution_count": null,
      "metadata": {
        "id": "RAeosAYW_0jB"
      },
      "outputs": [],
      "source": [
        "stock_data = df_full"
      ]
    },
    {
      "cell_type": "code",
      "execution_count": null,
      "metadata": {
        "id": "pVsJr9rlKMhM"
      },
      "outputs": [],
      "source": [
        "stock_data = forward_fill_columns(stock_data,['^GSPC_Open', '^GSPC_High', '^GSPC_Low', '^GSPC_Close',\n",
        "       '^GSPC_Volume', 'EURUSD=X_Close', 'BA_Open', 'BA_High', 'BA_Low',\n",
        "       'BA_Close', 'BA_Volume'])\n",
        "\n",
        "stock_data = replace_with_0(stock_data, ['ticker_0.15', 'ticker_0.5', 'ticker_0.85',\n",
        "       'overall_0.15', 'overall_0.5', 'overall_0.85', 'number_of_cases'])\n",
        "\n",
        "stock_data = apply_weighted_weekend_news(stock_data, 'Date', ['ticker_0.15', 'ticker_0.5', 'ticker_0.85',\n",
        "       'overall_0.15', 'overall_0.5', 'overall_0.85','number_of_cases'], weights=[0.5,1,0.5])\n",
        "\n",
        "stock_data.reset_index(drop=True,inplace=True)\n",
        "stock_data = get_calculated_features(stock_data, 'Date','BA_Open', 'BA_High', 'BA_Low', 'BA_Close','BA_Volume')\n",
        "\n",
        "cols_min_max = ['^GSPC_Open','^GSPC_High','^GSPC_Low','^GSPC_Close',\n",
        "       '^GSPC_Volume','EURUSD=X_Close','BA_Open','BA_High','BA_Low',\n",
        "       'BA_Close','BA_Volume','Daily_Variation','High_Close_Pressure',\n",
        "          'Low_Open_Pressure','Amount','number_of_cases','Price_Change']\n",
        "stock_data.loc[:300,cols_min_max], scaler = min_max_scale(stock_data.loc[:300], cols_min_max, train_data=True)\n",
        "\n",
        "stock_data.loc[301:,cols_min_max] = min_max_scale(stock_data.loc[301:], cols_min_max, False,scaler)\n"
      ]
    },
    {
      "cell_type": "code",
      "execution_count": null,
      "metadata": {
        "colab": {
          "base_uri": "https://localhost:8080/",
          "height": 342
        },
        "id": "vZHXlrq0-DhF",
        "outputId": "b9fe8f28-4837-491c-d206-bd4eed2fafed"
      },
      "outputs": [
        {
          "data": {
            "text/html": [
              "\n",
              "  <div id=\"df-74a44310-a441-47d4-aeeb-ad489ca57da5\" class=\"colab-df-container\">\n",
              "    <div>\n",
              "<style scoped>\n",
              "    .dataframe tbody tr th:only-of-type {\n",
              "        vertical-align: middle;\n",
              "    }\n",
              "\n",
              "    .dataframe tbody tr th {\n",
              "        vertical-align: top;\n",
              "    }\n",
              "\n",
              "    .dataframe thead th {\n",
              "        text-align: right;\n",
              "    }\n",
              "</style>\n",
              "<table border=\"1\" class=\"dataframe\">\n",
              "  <thead>\n",
              "    <tr style=\"text-align: right;\">\n",
              "      <th></th>\n",
              "      <th>Date</th>\n",
              "      <th>^GSPC_Open</th>\n",
              "      <th>^GSPC_High</th>\n",
              "      <th>^GSPC_Low</th>\n",
              "      <th>^GSPC_Close</th>\n",
              "      <th>^GSPC_Volume</th>\n",
              "      <th>EURUSD=X_Close</th>\n",
              "      <th>BA_Open</th>\n",
              "      <th>BA_High</th>\n",
              "      <th>BA_Low</th>\n",
              "      <th>...</th>\n",
              "      <th>overall_0.85</th>\n",
              "      <th>number_of_cases</th>\n",
              "      <th>Daily_Variation</th>\n",
              "      <th>High_Close_Pressure</th>\n",
              "      <th>Low_Open_Pressure</th>\n",
              "      <th>Amount</th>\n",
              "      <th>Price_Change</th>\n",
              "      <th>weekday</th>\n",
              "      <th>Year_Progress</th>\n",
              "      <th>Month_Progress</th>\n",
              "    </tr>\n",
              "  </thead>\n",
              "  <tbody>\n",
              "    <tr>\n",
              "      <th>0</th>\n",
              "      <td>2022-08-01</td>\n",
              "      <td>0.549230</td>\n",
              "      <td>0.537293</td>\n",
              "      <td>0.558859</td>\n",
              "      <td>0.535215</td>\n",
              "      <td>0.326413</td>\n",
              "      <td>0.372886</td>\n",
              "      <td>0.375673</td>\n",
              "      <td>0.393470</td>\n",
              "      <td>0.371905</td>\n",
              "      <td>...</td>\n",
              "      <td>0.272818</td>\n",
              "      <td>0.702941</td>\n",
              "      <td>0.320017</td>\n",
              "      <td>0.145787</td>\n",
              "      <td>0.898492</td>\n",
              "      <td>0.494487</td>\n",
              "      <td>NaN</td>\n",
              "      <td>0.00</td>\n",
              "      <td>0.666667</td>\n",
              "      <td>0.03</td>\n",
              "    </tr>\n",
              "    <tr>\n",
              "      <th>1</th>\n",
              "      <td>2022-08-02</td>\n",
              "      <td>0.541651</td>\n",
              "      <td>0.532807</td>\n",
              "      <td>0.543872</td>\n",
              "      <td>0.508098</td>\n",
              "      <td>0.395047</td>\n",
              "      <td>0.405241</td>\n",
              "      <td>0.384648</td>\n",
              "      <td>0.355807</td>\n",
              "      <td>0.362362</td>\n",
              "      <td>...</td>\n",
              "      <td>0.230645</td>\n",
              "      <td>0.058824</td>\n",
              "      <td>0.141192</td>\n",
              "      <td>0.218115</td>\n",
              "      <td>0.770965</td>\n",
              "      <td>0.247381</td>\n",
              "      <td>0.224159</td>\n",
              "      <td>0.25</td>\n",
              "      <td>0.666667</td>\n",
              "      <td>0.06</td>\n",
              "    </tr>\n",
              "    <tr>\n",
              "      <th>2</th>\n",
              "      <td>2022-08-03</td>\n",
              "      <td>0.545130</td>\n",
              "      <td>0.560031</td>\n",
              "      <td>0.569899</td>\n",
              "      <td>0.571324</td>\n",
              "      <td>0.345889</td>\n",
              "      <td>0.340864</td>\n",
              "      <td>0.363364</td>\n",
              "      <td>0.357422</td>\n",
              "      <td>0.355399</td>\n",
              "      <td>...</td>\n",
              "      <td>0.208560</td>\n",
              "      <td>0.050000</td>\n",
              "      <td>0.198467</td>\n",
              "      <td>0.048111</td>\n",
              "      <td>0.868691</td>\n",
              "      <td>0.124480</td>\n",
              "      <td>0.514267</td>\n",
              "      <td>0.50</td>\n",
              "      <td>0.666667</td>\n",
              "      <td>0.10</td>\n",
              "    </tr>\n",
              "    <tr>\n",
              "      <th>3</th>\n",
              "      <td>2022-08-04</td>\n",
              "      <td>0.588632</td>\n",
              "      <td>0.553653</td>\n",
              "      <td>0.595288</td>\n",
              "      <td>0.568132</td>\n",
              "      <td>0.336940</td>\n",
              "      <td>0.342057</td>\n",
              "      <td>0.374135</td>\n",
              "      <td>0.362523</td>\n",
              "      <td>0.373281</td>\n",
              "      <td>...</td>\n",
              "      <td>0.202386</td>\n",
              "      <td>0.050000</td>\n",
              "      <td>0.117164</td>\n",
              "      <td>0.087893</td>\n",
              "      <td>0.918705</td>\n",
              "      <td>0.072350</td>\n",
              "      <td>0.403297</td>\n",
              "      <td>0.75</td>\n",
              "      <td>0.666667</td>\n",
              "      <td>0.13</td>\n",
              "    </tr>\n",
              "    <tr>\n",
              "      <th>4</th>\n",
              "      <td>2022-08-05</td>\n",
              "      <td>0.552468</td>\n",
              "      <td>0.543931</td>\n",
              "      <td>0.569298</td>\n",
              "      <td>0.561462</td>\n",
              "      <td>0.311132</td>\n",
              "      <td>0.396977</td>\n",
              "      <td>0.362424</td>\n",
              "      <td>0.353596</td>\n",
              "      <td>0.369154</td>\n",
              "      <td>...</td>\n",
              "      <td>0.228841</td>\n",
              "      <td>0.016912</td>\n",
              "      <td>0.088072</td>\n",
              "      <td>0.111057</td>\n",
              "      <td>0.971671</td>\n",
              "      <td>0.060780</td>\n",
              "      <td>0.361445</td>\n",
              "      <td>1.00</td>\n",
              "      <td>0.666667</td>\n",
              "      <td>0.16</td>\n",
              "    </tr>\n",
              "  </tbody>\n",
              "</table>\n",
              "<p>5 rows × 27 columns</p>\n",
              "</div>\n",
              "    <div class=\"colab-df-buttons\">\n",
              "\n",
              "  <div class=\"colab-df-container\">\n",
              "    <button class=\"colab-df-convert\" onclick=\"convertToInteractive('df-74a44310-a441-47d4-aeeb-ad489ca57da5')\"\n",
              "            title=\"Convert this dataframe to an interactive table.\"\n",
              "            style=\"display:none;\">\n",
              "\n",
              "  <svg xmlns=\"http://www.w3.org/2000/svg\" height=\"24px\" viewBox=\"0 -960 960 960\">\n",
              "    <path d=\"M120-120v-720h720v720H120Zm60-500h600v-160H180v160Zm220 220h160v-160H400v160Zm0 220h160v-160H400v160ZM180-400h160v-160H180v160Zm440 0h160v-160H620v160ZM180-180h160v-160H180v160Zm440 0h160v-160H620v160Z\"/>\n",
              "  </svg>\n",
              "    </button>\n",
              "\n",
              "  <style>\n",
              "    .colab-df-container {\n",
              "      display:flex;\n",
              "      gap: 12px;\n",
              "    }\n",
              "\n",
              "    .colab-df-convert {\n",
              "      background-color: #E8F0FE;\n",
              "      border: none;\n",
              "      border-radius: 50%;\n",
              "      cursor: pointer;\n",
              "      display: none;\n",
              "      fill: #1967D2;\n",
              "      height: 32px;\n",
              "      padding: 0 0 0 0;\n",
              "      width: 32px;\n",
              "    }\n",
              "\n",
              "    .colab-df-convert:hover {\n",
              "      background-color: #E2EBFA;\n",
              "      box-shadow: 0px 1px 2px rgba(60, 64, 67, 0.3), 0px 1px 3px 1px rgba(60, 64, 67, 0.15);\n",
              "      fill: #174EA6;\n",
              "    }\n",
              "\n",
              "    .colab-df-buttons div {\n",
              "      margin-bottom: 4px;\n",
              "    }\n",
              "\n",
              "    [theme=dark] .colab-df-convert {\n",
              "      background-color: #3B4455;\n",
              "      fill: #D2E3FC;\n",
              "    }\n",
              "\n",
              "    [theme=dark] .colab-df-convert:hover {\n",
              "      background-color: #434B5C;\n",
              "      box-shadow: 0px 1px 3px 1px rgba(0, 0, 0, 0.15);\n",
              "      filter: drop-shadow(0px 1px 2px rgba(0, 0, 0, 0.3));\n",
              "      fill: #FFFFFF;\n",
              "    }\n",
              "  </style>\n",
              "\n",
              "    <script>\n",
              "      const buttonEl =\n",
              "        document.querySelector('#df-74a44310-a441-47d4-aeeb-ad489ca57da5 button.colab-df-convert');\n",
              "      buttonEl.style.display =\n",
              "        google.colab.kernel.accessAllowed ? 'block' : 'none';\n",
              "\n",
              "      async function convertToInteractive(key) {\n",
              "        const element = document.querySelector('#df-74a44310-a441-47d4-aeeb-ad489ca57da5');\n",
              "        const dataTable =\n",
              "          await google.colab.kernel.invokeFunction('convertToInteractive',\n",
              "                                                    [key], {});\n",
              "        if (!dataTable) return;\n",
              "\n",
              "        const docLinkHtml = 'Like what you see? Visit the ' +\n",
              "          '<a target=\"_blank\" href=https://colab.research.google.com/notebooks/data_table.ipynb>data table notebook</a>'\n",
              "          + ' to learn more about interactive tables.';\n",
              "        element.innerHTML = '';\n",
              "        dataTable['output_type'] = 'display_data';\n",
              "        await google.colab.output.renderOutput(dataTable, element);\n",
              "        const docLink = document.createElement('div');\n",
              "        docLink.innerHTML = docLinkHtml;\n",
              "        element.appendChild(docLink);\n",
              "      }\n",
              "    </script>\n",
              "  </div>\n",
              "\n",
              "\n",
              "<div id=\"df-7446c0ce-6d6c-46ae-b1c1-2100ec12e4db\">\n",
              "  <button class=\"colab-df-quickchart\" onclick=\"quickchart('df-7446c0ce-6d6c-46ae-b1c1-2100ec12e4db')\"\n",
              "            title=\"Suggest charts\"\n",
              "            style=\"display:none;\">\n",
              "\n",
              "<svg xmlns=\"http://www.w3.org/2000/svg\" height=\"24px\"viewBox=\"0 0 24 24\"\n",
              "     width=\"24px\">\n",
              "    <g>\n",
              "        <path d=\"M19 3H5c-1.1 0-2 .9-2 2v14c0 1.1.9 2 2 2h14c1.1 0 2-.9 2-2V5c0-1.1-.9-2-2-2zM9 17H7v-7h2v7zm4 0h-2V7h2v10zm4 0h-2v-4h2v4z\"/>\n",
              "    </g>\n",
              "</svg>\n",
              "  </button>\n",
              "\n",
              "<style>\n",
              "  .colab-df-quickchart {\n",
              "      --bg-color: #E8F0FE;\n",
              "      --fill-color: #1967D2;\n",
              "      --hover-bg-color: #E2EBFA;\n",
              "      --hover-fill-color: #174EA6;\n",
              "      --disabled-fill-color: #AAA;\n",
              "      --disabled-bg-color: #DDD;\n",
              "  }\n",
              "\n",
              "  [theme=dark] .colab-df-quickchart {\n",
              "      --bg-color: #3B4455;\n",
              "      --fill-color: #D2E3FC;\n",
              "      --hover-bg-color: #434B5C;\n",
              "      --hover-fill-color: #FFFFFF;\n",
              "      --disabled-bg-color: #3B4455;\n",
              "      --disabled-fill-color: #666;\n",
              "  }\n",
              "\n",
              "  .colab-df-quickchart {\n",
              "    background-color: var(--bg-color);\n",
              "    border: none;\n",
              "    border-radius: 50%;\n",
              "    cursor: pointer;\n",
              "    display: none;\n",
              "    fill: var(--fill-color);\n",
              "    height: 32px;\n",
              "    padding: 0;\n",
              "    width: 32px;\n",
              "  }\n",
              "\n",
              "  .colab-df-quickchart:hover {\n",
              "    background-color: var(--hover-bg-color);\n",
              "    box-shadow: 0 1px 2px rgba(60, 64, 67, 0.3), 0 1px 3px 1px rgba(60, 64, 67, 0.15);\n",
              "    fill: var(--button-hover-fill-color);\n",
              "  }\n",
              "\n",
              "  .colab-df-quickchart-complete:disabled,\n",
              "  .colab-df-quickchart-complete:disabled:hover {\n",
              "    background-color: var(--disabled-bg-color);\n",
              "    fill: var(--disabled-fill-color);\n",
              "    box-shadow: none;\n",
              "  }\n",
              "\n",
              "  .colab-df-spinner {\n",
              "    border: 2px solid var(--fill-color);\n",
              "    border-color: transparent;\n",
              "    border-bottom-color: var(--fill-color);\n",
              "    animation:\n",
              "      spin 1s steps(1) infinite;\n",
              "  }\n",
              "\n",
              "  @keyframes spin {\n",
              "    0% {\n",
              "      border-color: transparent;\n",
              "      border-bottom-color: var(--fill-color);\n",
              "      border-left-color: var(--fill-color);\n",
              "    }\n",
              "    20% {\n",
              "      border-color: transparent;\n",
              "      border-left-color: var(--fill-color);\n",
              "      border-top-color: var(--fill-color);\n",
              "    }\n",
              "    30% {\n",
              "      border-color: transparent;\n",
              "      border-left-color: var(--fill-color);\n",
              "      border-top-color: var(--fill-color);\n",
              "      border-right-color: var(--fill-color);\n",
              "    }\n",
              "    40% {\n",
              "      border-color: transparent;\n",
              "      border-right-color: var(--fill-color);\n",
              "      border-top-color: var(--fill-color);\n",
              "    }\n",
              "    60% {\n",
              "      border-color: transparent;\n",
              "      border-right-color: var(--fill-color);\n",
              "    }\n",
              "    80% {\n",
              "      border-color: transparent;\n",
              "      border-right-color: var(--fill-color);\n",
              "      border-bottom-color: var(--fill-color);\n",
              "    }\n",
              "    90% {\n",
              "      border-color: transparent;\n",
              "      border-bottom-color: var(--fill-color);\n",
              "    }\n",
              "  }\n",
              "</style>\n",
              "\n",
              "  <script>\n",
              "    async function quickchart(key) {\n",
              "      const quickchartButtonEl =\n",
              "        document.querySelector('#' + key + ' button');\n",
              "      quickchartButtonEl.disabled = true;  // To prevent multiple clicks.\n",
              "      quickchartButtonEl.classList.add('colab-df-spinner');\n",
              "      try {\n",
              "        const charts = await google.colab.kernel.invokeFunction(\n",
              "            'suggestCharts', [key], {});\n",
              "      } catch (error) {\n",
              "        console.error('Error during call to suggestCharts:', error);\n",
              "      }\n",
              "      quickchartButtonEl.classList.remove('colab-df-spinner');\n",
              "      quickchartButtonEl.classList.add('colab-df-quickchart-complete');\n",
              "    }\n",
              "    (() => {\n",
              "      let quickchartButtonEl =\n",
              "        document.querySelector('#df-7446c0ce-6d6c-46ae-b1c1-2100ec12e4db button');\n",
              "      quickchartButtonEl.style.display =\n",
              "        google.colab.kernel.accessAllowed ? 'block' : 'none';\n",
              "    })();\n",
              "  </script>\n",
              "</div>\n",
              "    </div>\n",
              "  </div>\n"
            ],
            "text/plain": [
              "        Date  ^GSPC_Open  ^GSPC_High  ^GSPC_Low  ^GSPC_Close  ^GSPC_Volume  \\\n",
              "0 2022-08-01    0.549230    0.537293   0.558859     0.535215      0.326413   \n",
              "1 2022-08-02    0.541651    0.532807   0.543872     0.508098      0.395047   \n",
              "2 2022-08-03    0.545130    0.560031   0.569899     0.571324      0.345889   \n",
              "3 2022-08-04    0.588632    0.553653   0.595288     0.568132      0.336940   \n",
              "4 2022-08-05    0.552468    0.543931   0.569298     0.561462      0.311132   \n",
              "\n",
              "   EURUSD=X_Close   BA_Open   BA_High    BA_Low  ...  overall_0.85  \\\n",
              "0        0.372886  0.375673  0.393470  0.371905  ...      0.272818   \n",
              "1        0.405241  0.384648  0.355807  0.362362  ...      0.230645   \n",
              "2        0.340864  0.363364  0.357422  0.355399  ...      0.208560   \n",
              "3        0.342057  0.374135  0.362523  0.373281  ...      0.202386   \n",
              "4        0.396977  0.362424  0.353596  0.369154  ...      0.228841   \n",
              "\n",
              "   number_of_cases  Daily_Variation  High_Close_Pressure  Low_Open_Pressure  \\\n",
              "0         0.702941         0.320017             0.145787           0.898492   \n",
              "1         0.058824         0.141192             0.218115           0.770965   \n",
              "2         0.050000         0.198467             0.048111           0.868691   \n",
              "3         0.050000         0.117164             0.087893           0.918705   \n",
              "4         0.016912         0.088072             0.111057           0.971671   \n",
              "\n",
              "     Amount  Price_Change  weekday  Year_Progress  Month_Progress  \n",
              "0  0.494487           NaN     0.00       0.666667            0.03  \n",
              "1  0.247381      0.224159     0.25       0.666667            0.06  \n",
              "2  0.124480      0.514267     0.50       0.666667            0.10  \n",
              "3  0.072350      0.403297     0.75       0.666667            0.13  \n",
              "4  0.060780      0.361445     1.00       0.666667            0.16  \n",
              "\n",
              "[5 rows x 27 columns]"
            ]
          },
          "execution_count": 22,
          "metadata": {},
          "output_type": "execute_result"
        }
      ],
      "source": [
        "stock_data.head()"
      ]
    },
    {
      "cell_type": "markdown",
      "metadata": {
        "id": "hmurd8Aisg1c"
      },
      "source": [
        "## PCA"
      ]
    },
    {
      "cell_type": "code",
      "execution_count": null,
      "metadata": {
        "colab": {
          "base_uri": "https://localhost:8080/",
          "height": 472
        },
        "id": "DtApLCIA-1Ag",
        "outputId": "9e20b8e4-6c44-4014-fbb0-b3c82a9700c8"
      },
      "outputs": [
        {
          "data": {
            "image/png": "[encoded data removed]",
            "text/plain": [
              "<Figure size 640x480 with 1 Axes>"
            ]
          },
          "metadata": {},
          "output_type": "display_data"
        }
      ],
      "source": [
        "import numpy as np\n",
        "import pandas as pd\n",
        "import matplotlib.pyplot as plt\n",
        "from sklearn.decomposition import PCA\n",
        "\n",
        "np.random.seed(30)\n",
        "X = stock_data.drop(columns=['Date'])[1:]\n",
        "\n",
        "# Try different values of n_components\n",
        "num_components_to_try = X.shape[1]  # Try up to the number of features\n",
        "explained_variances = []\n",
        "\n",
        "for n_components in range(5, num_components_to_try + 1):\n",
        "    # Create the PCA model\n",
        "    pca = PCA(n_components=n_components)\n",
        "\n",
        "    # Fit and transform the features using PCA\n",
        "    X_pca = pca.fit_transform(X)\n",
        "\n",
        "    # Get the explained variance ratio and append it to the list\n",
        "    explained_variances.append(np.sum(pca.explained_variance_ratio_))\n",
        "\n",
        "# Plot the explained variance ratio for different numbers of components\n",
        "plt.plot(range(5, num_components_to_try + 1), explained_variances, marker='o')\n",
        "plt.xlabel('Number of Components')\n",
        "plt.ylabel('Cumulative Explained Variance Ratio')\n",
        "plt.title('Explained Variance Ratio vs. Number of Components')\n",
        "plt.show()\n"
      ]
    },
    {
      "cell_type": "markdown",
      "metadata": {
        "id": "vjg_XodIspLM"
      },
      "source": [
        "## FB Prophet"
      ]
    },
    {
      "cell_type": "code",
      "execution_count": null,
      "metadata": {
        "id": "KU9qX5UQsrwW"
      },
      "outputs": [],
      "source": [
        "from prophet import Prophet"
      ]
    },
    {
      "cell_type": "code",
      "execution_count": null,
      "metadata": {
        "colab": {
          "base_uri": "https://localhost:8080/"
        },
        "id": "j1MPMOlOt86N",
        "outputId": "17fd216c-c4b8-4ccf-fc21-34ea7ab16907"
      },
      "outputs": [
        {
          "name": "stderr",
          "output_type": "stream",
          "text": [
            "INFO:prophet:Disabling daily seasonality. Run prophet with daily_seasonality=True to override this.\n",
            "DEBUG:cmdstanpy:input tempfile: /tmp/tmp62sgejvt/1p_918ew.json\n",
            "DEBUG:cmdstanpy:input tempfile: /tmp/tmp62sgejvt/9_ny0cl9.json\n",
            "DEBUG:cmdstanpy:idx 0\n",
            "DEBUG:cmdstanpy:running CmdStan, num_threads: None\n",
            "DEBUG:cmdstanpy:CmdStan args: ['/usr/local/lib/python3.10/dist-packages/prophet/stan_model/prophet_model.bin', 'random', 'seed=2628', 'data', 'file=/tmp/tmp62sgejvt/1p_918ew.json', 'init=/tmp/tmp62sgejvt/9_ny0cl9.json', 'output', 'file=/tmp/tmp62sgejvt/prophet_modeltc4es9_x/prophet_model-20231129181623.csv', 'method=optimize', 'algorithm=lbfgs', 'iter=10000']\n",
            "18:16:23 - cmdstanpy - INFO - Chain [1] start processing\n",
            "INFO:cmdstanpy:Chain [1] start processing\n",
            "18:16:23 - cmdstanpy - INFO - Chain [1] done processing\n",
            "INFO:cmdstanpy:Chain [1] done processing\n"
          ]
        },
        {
          "name": "stdout",
          "output_type": "stream",
          "text": [
            "train mae:  2.5887224916330793\n",
            "train mse:  14.30712272722248\n",
            "test mae:  2.6183858733771945\n",
            "test mse:  12.238470423230332\n"
          ]
        }
      ],
      "source": [
        "df_prophet = df_full.copy()\n",
        "cols = df_prophet.drop(columns=['Date']).columns\n",
        "df_prophet = forward_fill_columns(df_prophet,cols)\n",
        "df_prophet.rename(columns={\"Date\":\"ds\"},inplace=True)\n",
        "\n",
        "df_prophet['y'] = df_prophet['BA_Close'].shift(-1)\n",
        "df_prophet['Amount'] = df_prophet['BA_Volume'] * df_prophet['BA_Close']\n",
        "cols = ['BA_Close','^GSPC_Close','BA_Open','BA_High','BA_Low','EURUSD=X_Close']\n",
        "\n",
        "train = df_prophet.loc[3:800,['ds','y']+cols]\n",
        "test = df_prophet.loc[801:,['ds','y']+cols]\n",
        "\n",
        "m = Prophet()\n",
        "for col in cols:\n",
        "  m.add_regressor(col)\n",
        "\n",
        "m.fit(train)\n",
        "\n",
        "forecast = m.predict(test)\n",
        "forecast['y'] = test.reset_index(drop=True)['y']\n",
        "forecast_t = m.predict(train)\n",
        "forecast_t['y'] = train.reset_index(drop=True)['y']\n",
        "print('train mae: ', (abs(forecast_t['y']-forecast_t['yhat']).mean()))\n",
        "print('train mse: ', (np.square((forecast_t['y']-forecast_t['yhat'])).mean()))\n",
        "print('test mae: ', (abs(forecast['y']-forecast['yhat']).mean()))\n",
        "print('test mse: ', (np.square((forecast['y']-forecast['yhat'])).mean()))"
      ]
    },
    {
      "cell_type": "code",
      "execution_count": null,
      "metadata": {
        "colab": {
          "base_uri": "https://localhost:8080/"
        },
        "id": "tVHgUliwikYy",
        "outputId": "0fa982f0-0eef-4007-8fdd-09bc9f2d4aff"
      },
      "outputs": [
        {
          "name": "stdout",
          "output_type": "stream",
          "text": [
            "when added a 2\n",
            "test mae:  2.118503640536287\n",
            "test mse:  10.054663041618905\n"
          ]
        }
      ],
      "source": [
        "print('when added a 2')\n",
        "print('test mae: ', (abs(forecast['y']-(forecast['yhat']+2)).mean()))\n",
        "print('test mse: ', (np.square((forecast['y']-(forecast['yhat']+2))).mean()))"
      ]
    },
    {
      "cell_type": "code",
      "execution_count": null,
      "metadata": {
        "colab": {
          "base_uri": "https://localhost:8080/"
        },
        "id": "6YJFQ1S1gTM6",
        "outputId": "1712eee6-7ca9-49d7-b7c8-b74be74f4978"
      },
      "outputs": [
        {
          "data": {
            "text/html": [
              "\n",
              "  <div id=\"df-eb3e20c8-817c-4e2b-89dd-318d788b8728\" class=\"colab-df-container\">\n",
              "    <div>\n",
              "<style scoped>\n",
              "    .dataframe tbody tr th:only-of-type {\n",
              "        vertical-align: middle;\n",
              "    }\n",
              "\n",
              "    .dataframe tbody tr th {\n",
              "        vertical-align: top;\n",
              "    }\n",
              "\n",
              "    .dataframe thead th {\n",
              "        text-align: right;\n",
              "    }\n",
              "</style>\n",
              "<table border=\"1\" class=\"dataframe\">\n",
              "  <thead>\n",
              "    <tr style=\"text-align: right;\">\n",
              "      <th></th>\n",
              "      <th>y</th>\n",
              "      <th>yhat</th>\n",
              "    </tr>\n",
              "  </thead>\n",
              "  <tbody>\n",
              "    <tr>\n",
              "      <th>0</th>\n",
              "      <td>207.279999</td>\n",
              "      <td>204.991918</td>\n",
              "    </tr>\n",
              "    <tr>\n",
              "      <th>1</th>\n",
              "      <td>198.210007</td>\n",
              "      <td>208.492773</td>\n",
              "    </tr>\n",
              "    <tr>\n",
              "      <th>2</th>\n",
              "      <td>203.190002</td>\n",
              "      <td>200.022123</td>\n",
              "    </tr>\n",
              "    <tr>\n",
              "      <th>3</th>\n",
              "      <td>201.050003</td>\n",
              "      <td>203.734310</td>\n",
              "    </tr>\n",
              "    <tr>\n",
              "      <th>4</th>\n",
              "      <td>201.050003</td>\n",
              "      <td>202.687072</td>\n",
              "    </tr>\n",
              "  </tbody>\n",
              "</table>\n",
              "</div>\n",
              "    <div class=\"colab-df-buttons\">\n",
              "\n",
              "  <div class=\"colab-df-container\">\n",
              "    <button class=\"colab-df-convert\" onclick=\"convertToInteractive('df-eb3e20c8-817c-4e2b-89dd-318d788b8728')\"\n",
              "            title=\"Convert this dataframe to an interactive table.\"\n",
              "            style=\"display:none;\">\n",
              "\n",
              "  <svg xmlns=\"http://www.w3.org/2000/svg\" height=\"24px\" viewBox=\"0 -960 960 960\">\n",
              "    <path d=\"M120-120v-720h720v720H120Zm60-500h600v-160H180v160Zm220 220h160v-160H400v160Zm0 220h160v-160H400v160ZM180-400h160v-160H180v160Zm440 0h160v-160H620v160ZM180-180h160v-160H180v160Zm440 0h160v-160H620v160Z\"/>\n",
              "  </svg>\n",
              "    </button>\n",
              "\n",
              "  <style>\n",
              "    .colab-df-container {\n",
              "      display:flex;\n",
              "      gap: 12px;\n",
              "    }\n",
              "\n",
              "    .colab-df-convert {\n",
              "      background-color: #E8F0FE;\n",
              "      border: none;\n",
              "      border-radius: 50%;\n",
              "      cursor: pointer;\n",
              "      display: none;\n",
              "      fill: #1967D2;\n",
              "      height: 32px;\n",
              "      padding: 0 0 0 0;\n",
              "      width: 32px;\n",
              "    }\n",
              "\n",
              "    .colab-df-convert:hover {\n",
              "      background-color: #E2EBFA;\n",
              "      box-shadow: 0px 1px 2px rgba(60, 64, 67, 0.3), 0px 1px 3px 1px rgba(60, 64, 67, 0.15);\n",
              "      fill: #174EA6;\n",
              "    }\n",
              "\n",
              "    .colab-df-buttons div {\n",
              "      margin-bottom: 4px;\n",
              "    }\n",
              "\n",
              "    [theme=dark] .colab-df-convert {\n",
              "      background-color: #3B4455;\n",
              "      fill: #D2E3FC;\n",
              "    }\n",
              "\n",
              "    [theme=dark] .colab-df-convert:hover {\n",
              "      background-color: #434B5C;\n",
              "      box-shadow: 0px 1px 3px 1px rgba(0, 0, 0, 0.15);\n",
              "      filter: drop-shadow(0px 1px 2px rgba(0, 0, 0, 0.3));\n",
              "      fill: #FFFFFF;\n",
              "    }\n",
              "  </style>\n",
              "\n",
              "    <script>\n",
              "      const buttonEl =\n",
              "        document.querySelector('#df-eb3e20c8-817c-4e2b-89dd-318d788b8728 button.colab-df-convert');\n",
              "      buttonEl.style.display =\n",
              "        google.colab.kernel.accessAllowed ? 'block' : 'none';\n",
              "\n",
              "      async function convertToInteractive(key) {\n",
              "        const element = document.querySelector('#df-eb3e20c8-817c-4e2b-89dd-318d788b8728');\n",
              "        const dataTable =\n",
              "          await google.colab.kernel.invokeFunction('convertToInteractive',\n",
              "                                                    [key], {});\n",
              "        if (!dataTable) return;\n",
              "\n",
              "        const docLinkHtml = 'Like what you see? Visit the ' +\n",
              "          '<a target=\"_blank\" href=https://colab.research.google.com/notebooks/data_table.ipynb>data table notebook</a>'\n",
              "          + ' to learn more about interactive tables.';\n",
              "        element.innerHTML = '';\n",
              "        dataTable['output_type'] = 'display_data';\n",
              "        await google.colab.output.renderOutput(dataTable, element);\n",
              "        const docLink = document.createElement('div');\n",
              "        docLink.innerHTML = docLinkHtml;\n",
              "        element.appendChild(docLink);\n",
              "      }\n",
              "    </script>\n",
              "  </div>\n",
              "\n",
              "\n",
              "<div id=\"df-e6c68d1e-b835-438a-b259-c8371c2baa77\">\n",
              "  <button class=\"colab-df-quickchart\" onclick=\"quickchart('df-e6c68d1e-b835-438a-b259-c8371c2baa77')\"\n",
              "            title=\"Suggest charts\"\n",
              "            style=\"display:none;\">\n",
              "\n",
              "<svg xmlns=\"http://www.w3.org/2000/svg\" height=\"24px\"viewBox=\"0 0 24 24\"\n",
              "     width=\"24px\">\n",
              "    <g>\n",
              "        <path d=\"M19 3H5c-1.1 0-2 .9-2 2v14c0 1.1.9 2 2 2h14c1.1 0 2-.9 2-2V5c0-1.1-.9-2-2-2zM9 17H7v-7h2v7zm4 0h-2V7h2v10zm4 0h-2v-4h2v4z\"/>\n",
              "    </g>\n",
              "</svg>\n",
              "  </button>\n",
              "\n",
              "<style>\n",
              "  .colab-df-quickchart {\n",
              "      --bg-color: #E8F0FE;\n",
              "      --fill-color: #1967D2;\n",
              "      --hover-bg-color: #E2EBFA;\n",
              "      --hover-fill-color: #174EA6;\n",
              "      --disabled-fill-color: #AAA;\n",
              "      --disabled-bg-color: #DDD;\n",
              "  }\n",
              "\n",
              "  [theme=dark] .colab-df-quickchart {\n",
              "      --bg-color: #3B4455;\n",
              "      --fill-color: #D2E3FC;\n",
              "      --hover-bg-color: #434B5C;\n",
              "      --hover-fill-color: #FFFFFF;\n",
              "      --disabled-bg-color: #3B4455;\n",
              "      --disabled-fill-color: #666;\n",
              "  }\n",
              "\n",
              "  .colab-df-quickchart {\n",
              "    background-color: var(--bg-color);\n",
              "    border: none;\n",
              "    border-radius: 50%;\n",
              "    cursor: pointer;\n",
              "    display: none;\n",
              "    fill: var(--fill-color);\n",
              "    height: 32px;\n",
              "    padding: 0;\n",
              "    width: 32px;\n",
              "  }\n",
              "\n",
              "  .colab-df-quickchart:hover {\n",
              "    background-color: var(--hover-bg-color);\n",
              "    box-shadow: 0 1px 2px rgba(60, 64, 67, 0.3), 0 1px 3px 1px rgba(60, 64, 67, 0.15);\n",
              "    fill: var(--button-hover-fill-color);\n",
              "  }\n",
              "\n",
              "  .colab-df-quickchart-complete:disabled,\n",
              "  .colab-df-quickchart-complete:disabled:hover {\n",
              "    background-color: var(--disabled-bg-color);\n",
              "    fill: var(--disabled-fill-color);\n",
              "    box-shadow: none;\n",
              "  }\n",
              "\n",
              "  .colab-df-spinner {\n",
              "    border: 2px solid var(--fill-color);\n",
              "    border-color: transparent;\n",
              "    border-bottom-color: var(--fill-color);\n",
              "    animation:\n",
              "      spin 1s steps(1) infinite;\n",
              "  }\n",
              "\n",
              "  @keyframes spin {\n",
              "    0% {\n",
              "      border-color: transparent;\n",
              "      border-bottom-color: var(--fill-color);\n",
              "      border-left-color: var(--fill-color);\n",
              "    }\n",
              "    20% {\n",
              "      border-color: transparent;\n",
              "      border-left-color: var(--fill-color);\n",
              "      border-top-color: var(--fill-color);\n",
              "    }\n",
              "    30% {\n",
              "      border-color: transparent;\n",
              "      border-left-color: var(--fill-color);\n",
              "      border-top-color: var(--fill-color);\n",
              "      border-right-color: var(--fill-color);\n",
              "    }\n",
              "    40% {\n",
              "      border-color: transparent;\n",
              "      border-right-color: var(--fill-color);\n",
              "      border-top-color: var(--fill-color);\n",
              "    }\n",
              "    60% {\n",
              "      border-color: transparent;\n",
              "      border-right-color: var(--fill-color);\n",
              "    }\n",
              "    80% {\n",
              "      border-color: transparent;\n",
              "      border-right-color: var(--fill-color);\n",
              "      border-bottom-color: var(--fill-color);\n",
              "    }\n",
              "    90% {\n",
              "      border-color: transparent;\n",
              "      border-bottom-color: var(--fill-color);\n",
              "    }\n",
              "  }\n",
              "</style>\n",
              "\n",
              "  <script>\n",
              "    async function quickchart(key) {\n",
              "      const quickchartButtonEl =\n",
              "        document.querySelector('#' + key + ' button');\n",
              "      quickchartButtonEl.disabled = true;  // To prevent multiple clicks.\n",
              "      quickchartButtonEl.classList.add('colab-df-spinner');\n",
              "      try {\n",
              "        const charts = await google.colab.kernel.invokeFunction(\n",
              "            'suggestCharts', [key], {});\n",
              "      } catch (error) {\n",
              "        console.error('Error during call to suggestCharts:', error);\n",
              "      }\n",
              "      quickchartButtonEl.classList.remove('colab-df-spinner');\n",
              "      quickchartButtonEl.classList.add('colab-df-quickchart-complete');\n",
              "    }\n",
              "    (() => {\n",
              "      let quickchartButtonEl =\n",
              "        document.querySelector('#df-e6c68d1e-b835-438a-b259-c8371c2baa77 button');\n",
              "      quickchartButtonEl.style.display =\n",
              "        google.colab.kernel.accessAllowed ? 'block' : 'none';\n",
              "    })();\n",
              "  </script>\n",
              "</div>\n",
              "    </div>\n",
              "  </div>\n"
            ],
            "text/plain": [
              "            y        yhat\n",
              "0  207.279999  204.991918\n",
              "1  198.210007  208.492773\n",
              "2  203.190002  200.022123\n",
              "3  201.050003  203.734310\n",
              "4  201.050003  202.687072"
            ]
          },
          "execution_count": 39,
          "metadata": {},
          "output_type": "execute_result"
        }
      ],
      "source": [
        "forecast[['y','yhat']].head()"
      ]
    },
    {
      "cell_type": "code",
      "execution_count": null,
      "metadata": {
        "colab": {
          "base_uri": "https://localhost:8080/"
        },
        "id": "loOnqPnd3Djn",
        "outputId": "804e5d97-689d-4450-c150-04a3d56aa5a1"
      },
      "outputs": [
        {
          "data": {
            "image/png": "[encoded data removed]",
            "text/plain": [
              "<Figure size 640x480 with 1 Axes>"
            ]
          },
          "metadata": {},
          "output_type": "display_data"
        }
      ],
      "source": [
        "import matplotlib.pyplot as plt\n",
        "df1 = forecast\n",
        "plt.plot(df1['ds'], df1['yhat'], label='yhat', color='green')\n",
        "plt.plot(df1['ds'], df1['y'], label='y', color='black')\n",
        "\n",
        "plt.fill_between(df1['ds'], df1['yhat_lower'], df1['yhat_upper'], color='blue', alpha=0.3, label='yhat range')\n",
        "\n",
        "plt.xlabel('Date')\n",
        "plt.ylabel('Values')\n",
        "plt.title('yhat and yhat range')\n",
        "plt.legend()\n",
        "plt.show()"
      ]
    },
    {
      "cell_type": "code",
      "execution_count": null,
      "metadata": {
        "id": "h4Gq0KVleieK"
      },
      "outputs": [],
      "source": [
        "# add prophet columns\n",
        "df_prophet2 = m.predict(df_prophet[3:])"
      ]
    },
    {
      "cell_type": "code",
      "execution_count": null,
      "metadata": {
        "id": "516yBLmHhLwi"
      },
      "outputs": [],
      "source": [
        "df_full2 = pd.merge(df_prophet[3:], df_prophet2, left_on='ds',right_on='ds', how='left',suffixes=('', '_y'))"
      ]
    },
    {
      "cell_type": "code",
      "execution_count": null,
      "metadata": {
        "colab": {
          "base_uri": "https://localhost:8080/"
        },
        "id": "d1D93BYaiFpo",
        "outputId": "e16b5a92-b4fa-4428-a8cf-a7d5359fdbf5"
      },
      "outputs": [
        {
          "data": {
            "image/png": "[encoded data removed]",
            "text/plain": [
              "<Figure size 900x1200 with 4 Axes>"
            ]
          },
          "metadata": {},
          "output_type": "display_data"
        }
      ],
      "source": [
        "fig2 = m.plot_components(df_prophet2)"
      ]
    },
    {
      "cell_type": "markdown",
      "metadata": {
        "id": "CXPePIN2tK-X"
      },
      "source": [
        "## Train/Test"
      ]
    },
    {
      "cell_type": "code",
      "execution_count": null,
      "metadata": {
        "colab": {
          "base_uri": "https://localhost:8080/"
        },
        "id": "5-R5x7JUtNLg",
        "outputId": "3a9ee86f-c358-48f8-e033-6a3d5e636c84"
      },
      "outputs": [
        {
          "name": "stderr",
          "output_type": "stream",
          "text": [
            "<ipython-input-20-20f64aa79565>:10: SettingWithCopyWarning: \n",
            "A value is trying to be set on a copy of a slice from a DataFrame.\n",
            "Try using .loc[row_indexer,col_indexer] = value instead\n",
            "\n",
            "See the caveats in the documentation: https://pandas.pydata.org/pandas-docs/stable/user_guide/indexing.html#returning-a-view-versus-a-copy\n",
            "  df['Daily_Variation'] = (df[high_col] - df[low_col]) / df[open_col]\n",
            "<ipython-input-20-20f64aa79565>:13: SettingWithCopyWarning: \n",
            "A value is trying to be set on a copy of a slice from a DataFrame.\n",
            "Try using .loc[row_indexer,col_indexer] = value instead\n",
            "\n",
            "See the caveats in the documentation: https://pandas.pydata.org/pandas-docs/stable/user_guide/indexing.html#returning-a-view-versus-a-copy\n",
            "  df['High_Close_Pressure'] = (df[high_col] - df[close_col]) / df[open_col]\n",
            "<ipython-input-20-20f64aa79565>:16: SettingWithCopyWarning: \n",
            "A value is trying to be set on a copy of a slice from a DataFrame.\n",
            "Try using .loc[row_indexer,col_indexer] = value instead\n",
            "\n",
            "See the caveats in the documentation: https://pandas.pydata.org/pandas-docs/stable/user_guide/indexing.html#returning-a-view-versus-a-copy\n",
            "  df['Low_Open_Pressure'] = (df[low_col] - df[open_col]) / df[open_col]\n",
            "<ipython-input-20-20f64aa79565>:19: SettingWithCopyWarning: \n",
            "A value is trying to be set on a copy of a slice from a DataFrame.\n",
            "Try using .loc[row_indexer,col_indexer] = value instead\n",
            "\n",
            "See the caveats in the documentation: https://pandas.pydata.org/pandas-docs/stable/user_guide/indexing.html#returning-a-view-versus-a-copy\n",
            "  df['Amount'] = df[volume_col] * df[close_col]\n",
            "<ipython-input-20-20f64aa79565>:22: SettingWithCopyWarning: \n",
            "A value is trying to be set on a copy of a slice from a DataFrame.\n",
            "Try using .loc[row_indexer,col_indexer] = value instead\n",
            "\n",
            "See the caveats in the documentation: https://pandas.pydata.org/pandas-docs/stable/user_guide/indexing.html#returning-a-view-versus-a-copy\n",
            "  df['Price_Change'] = df[close_col]- df[close_col].shift(1)\n"
          ]
        }
      ],
      "source": [
        "news_cols = ['future', 'influential', 'trustworthy', 'not clickbait',\n",
        "       'finbert_Score', 'bart_Score', 'vader_Score', 'future_finbert',\n",
        "       'future_bart', 'future_vader', 'influential_finbert',\n",
        "       'influential_bart', 'influential_vader', 'trustworthy_finbert',\n",
        "       'trustworthy_bart', 'trustworthy_vader', 'clickbait_finbert',\n",
        "       'clickbait_bart', 'clickbait_vader']\n",
        "\n",
        "df_full2 = apply_weighted_weekend_news(df_full2, 'ds', news_cols , [1,1,0.2])\n",
        "\n",
        "df_full2.reset_index(drop=True,inplace=True)\n",
        "df_full2 = get_calculated_features(df_full2, 'ds','BA_Open', 'BA_High', 'BA_Low', 'BA_Close','BA_Volume')"
      ]
    },
    {
      "cell_type": "code",
      "execution_count": null,
      "metadata": {
        "colab": {
          "base_uri": "https://localhost:8080/"
        },
        "id": "tD0U_Pr_uGJk",
        "outputId": "7e6bb797-a589-4267-c569-dd8706473d66"
      },
      "outputs": [
        {
          "data": {
            "text/plain": [
              "Index(['future', 'influential', 'trustworthy', 'not clickbait',\n",
              "       'finbert_Score', 'bart_Score', 'vader_Score', 'future_finbert',\n",
              "       'future_bart', 'future_vader', 'influential_finbert',\n",
              "       'influential_bart', 'influential_vader', 'trustworthy_finbert',\n",
              "       'trustworthy_bart', 'trustworthy_vader', 'clickbait_finbert',\n",
              "       'clickbait_bart', 'clickbait_vader', 'ds', '^GSPC_Open', '^GSPC_High',\n",
              "       '^GSPC_Low', '^GSPC_Close', '^GSPC_Volume', 'EURUSD=X_Close', 'BA_Open',\n",
              "       'BA_High', 'BA_Low', 'BA_Close', 'BA_Adj Close', 'BA_Volume', 'y',\n",
              "       'Amount', 'trend', 'yhat_lower', 'yhat_upper', 'trend_lower',\n",
              "       'trend_upper', 'BA_Close_y', 'BA_Close_lower', 'BA_Close_upper',\n",
              "       'BA_High_y', 'BA_High_lower', 'BA_High_upper', 'BA_Low_y',\n",
              "       'BA_Low_lower', 'BA_Low_upper', 'BA_Open_y', 'BA_Open_lower',\n",
              "       'BA_Open_upper', 'EURUSD=X_Close_y', 'EURUSD=X_Close_lower',\n",
              "       'EURUSD=X_Close_upper', '^GSPC_Close_y', '^GSPC_Close_lower',\n",
              "       '^GSPC_Close_upper', 'additive_terms', 'additive_terms_lower',\n",
              "       'additive_terms_upper', 'extra_regressors_additive',\n",
              "       'extra_regressors_additive_lower', 'extra_regressors_additive_upper',\n",
              "       'weekly', 'weekly_lower', 'weekly_upper', 'yearly', 'yearly_lower',\n",
              "       'yearly_upper', 'multiplicative_terms', 'multiplicative_terms_lower',\n",
              "       'multiplicative_terms_upper', 'yhat', 'Daily_Variation',\n",
              "       'High_Close_Pressure', 'Low_Open_Pressure', 'Price_Change'],\n",
              "      dtype='object')"
            ]
          },
          "execution_count": 47,
          "metadata": {},
          "output_type": "execute_result"
        }
      ],
      "source": [
        "df_full2.columns"
      ]
    },
    {
      "cell_type": "code",
      "execution_count": null,
      "metadata": {
        "colab": {
          "base_uri": "https://localhost:8080/"
        },
        "id": "CMc0rIFLuqko",
        "outputId": "34858df6-aaa4-4c1c-cdd6-bcac4972f263"
      },
      "outputs": [
        {
          "name": "stderr",
          "output_type": "stream",
          "text": [
            "<ipython-input-48-f29886aede5f>:1: FutureWarning: The pandas.datetime class is deprecated and will be removed from pandas in a future version. Import from datetime module instead.\n",
            "  split_date = pd.datetime(2023,3,12) #taki był dla prophet\n"
          ]
        }
      ],
      "source": [
        "split_date = pd.datetime(2023,3,12) #taki był dla prophet\n",
        "\n",
        "df_training = df_full2.loc[df_full2['ds'] <= split_date]\n",
        "df_test = df_full2.loc[df_full2['ds'] > split_date]"
      ]
    },
    {
      "cell_type": "code",
      "execution_count": null,
      "metadata": {
        "colab": {
          "base_uri": "https://localhost:8080/"
        },
        "id": "aUH4bId9tfiK",
        "outputId": "26cf965d-8171-493e-98e8-8ae30c7943b0"
      },
      "outputs": [
        {
          "name": "stderr",
          "output_type": "stream",
          "text": [
            "<ipython-input-49-3f69d413ada4>:4: SettingWithCopyWarning: \n",
            "A value is trying to be set on a copy of a slice from a DataFrame.\n",
            "Try using .loc[row_indexer,col_indexer] = value instead\n",
            "\n",
            "See the caveats in the documentation: https://pandas.pydata.org/pandas-docs/stable/user_guide/indexing.html#returning-a-view-versus-a-copy\n",
            "  df_training.loc[:,['min_max_'+col for col in cols_min_max]],scaler_min_max = min_max_scale(df_training, cols_min_max, train_data=True, scaler=None)\n"
          ]
        }
      ],
      "source": [
        "cols_min_max = ['Amount','^GSPC_Close','trend','Daily_Variation', 'High_Close_Pressure',\n",
        "       'Low_Open_Pressure', 'Price_Change','^GSPC_Open','^GSPC_Volume','^GSPC_High',\n",
        "                        '^GSPC_Low','BA_Adj Close','BA_Volume']\n",
        "df_training.loc[:,['min_max_'+col for col in cols_min_max]],scaler_min_max = min_max_scale(df_training, cols_min_max, train_data=True, scaler=None)"
      ]
    },
    {
      "cell_type": "code",
      "execution_count": null,
      "metadata": {
        "colab": {
          "base_uri": "https://localhost:8080/"
        },
        "id": "VSBgrlrfv5Id",
        "outputId": "d1e533bb-f633-4c6b-b8d6-555e68a4c216"
      },
      "outputs": [
        {
          "name": "stderr",
          "output_type": "stream",
          "text": [
            "<ipython-input-50-6ab6df941ace>:1: SettingWithCopyWarning: \n",
            "A value is trying to be set on a copy of a slice from a DataFrame.\n",
            "Try using .loc[row_indexer,col_indexer] = value instead\n",
            "\n",
            "See the caveats in the documentation: https://pandas.pydata.org/pandas-docs/stable/user_guide/indexing.html#returning-a-view-versus-a-copy\n",
            "  df_test.loc[:,['min_max_'+col for col in cols_min_max]] = min_max_scale(df_test, cols_min_max, train_data=False, scaler=scaler_min_max)\n"
          ]
        }
      ],
      "source": [
        "df_test.loc[:,['min_max_'+col for col in cols_min_max]] = min_max_scale(df_test, cols_min_max, train_data=False, scaler=scaler_min_max)"
      ]
    },
    {
      "cell_type": "markdown",
      "metadata": {
        "id": "aLJXCTuhTaBx"
      },
      "source": [
        "## Korelacje"
      ]
    },
    {
      "cell_type": "markdown",
      "metadata": {
        "id": "iTTz_etPwF88"
      },
      "source": [
        "### korelacje"
      ]
    },
    {
      "cell_type": "code",
      "execution_count": null,
      "metadata": {
        "colab": {
          "base_uri": "https://localhost:8080/"
        },
        "id": "kJ7fBKQUzau_",
        "outputId": "3003a13c-deb2-4417-9412-be9943de99c6"
      },
      "outputs": [
        {
          "data": {
            "text/plain": [
              "3.4648329428084494"
            ]
          },
          "execution_count": 621,
          "metadata": {},
          "output_type": "execute_result"
        }
      ],
      "source": [
        "abs(df_training['Price_Change']).mean()"
      ]
    },
    {
      "cell_type": "code",
      "execution_count": null,
      "metadata": {
        "id": "g5eHJz8dy2NT"
      },
      "outputs": [],
      "source": [
        "df_training.loc[:,'y_change'] = df_training['Price_Change'].shift(-1)"
      ]
    },
    {
      "cell_type": "code",
      "execution_count": null,
      "metadata": {
        "colab": {
          "base_uri": "https://localhost:8080/"
        },
        "id": "0BcDtwKEtSRr",
        "outputId": "e457946e-b54d-44c1-91e3-4d348fb25828"
      },
      "outputs": [
        {
          "name": "stdout",
          "output_type": "stream",
          "text": [
            "y_change             1.000000\n",
            "^GSPC_Close_upper    0.113002\n",
            "^GSPC_Close_lower    0.113002\n",
            "^GSPC_Close_y        0.113002\n",
            "Name: y_change, dtype: float64\n",
            "min_max_^GSPC_High    -0.109544\n",
            "^GSPC_High            -0.109544\n",
            "^GSPC_Open            -0.111650\n",
            "min_max_^GSPC_Open    -0.111650\n",
            "min_max_^GSPC_Low     -0.111743\n",
            "^GSPC_Low             -0.111743\n",
            "min_max_^GSPC_Close   -0.113002\n",
            "^GSPC_Close           -0.113002\n",
            "Name: y_change, dtype: float64\n"
          ]
        }
      ],
      "source": [
        "correlation_matrix = df_training.drop(columns=['ds']).corr()\n",
        "correlation_with_target = correlation_matrix['y_change'].sort_values(ascending=False)\n",
        "print(correlation_with_target[correlation_with_target>0.1])\n",
        "print(correlation_with_target[correlation_with_target<-0.1])"
      ]
    },
    {
      "cell_type": "code",
      "execution_count": null,
      "metadata": {
        "colab": {
          "base_uri": "https://localhost:8080/"
        },
        "id": "IJWcoZsQ1bN4",
        "outputId": "82632616-1f64-4a87-9a92-f72f25aef03f"
      },
      "outputs": [
        {
          "name": "stdout",
          "output_type": "stream",
          "text": [
            "y                                  1.000000\n",
            "yhat_lower                         0.993671\n",
            "yhat                               0.993667\n",
            "yhat_upper                         0.993667\n",
            "additive_terms_upper               0.993058\n",
            "additive_terms_lower               0.993058\n",
            "additive_terms                     0.993058\n",
            "extra_regressors_additive_upper    0.993036\n",
            "extra_regressors_additive_lower    0.993036\n",
            "extra_regressors_additive          0.993036\n",
            "BA_Close_upper                     0.993029\n",
            "BA_Close_lower                     0.993029\n",
            "BA_Close_y                         0.993029\n",
            "BA_Adj Close                       0.993029\n",
            "BA_Close                           0.993029\n",
            "min_max_BA_Adj Close               0.993029\n",
            "BA_Low_y                           0.990606\n",
            "BA_Low_lower                       0.990606\n",
            "BA_Low_upper                       0.990606\n",
            "BA_Low                             0.990606\n",
            "BA_High                            0.990568\n",
            "BA_Open_lower                      0.987126\n",
            "BA_Open_y                          0.987126\n",
            "BA_Open_upper                      0.987126\n",
            "BA_Open                            0.987126\n",
            "EURUSD=X_Close                     0.838701\n",
            "EURUSD=X_Close_y                   0.838701\n",
            "EURUSD=X_Close_lower               0.838701\n",
            "EURUSD=X_Close_upper               0.838701\n",
            "min_max_trend                      0.723167\n",
            "trend_upper                        0.723167\n",
            "trend_lower                        0.723167\n",
            "trend                              0.723167\n",
            "Amount                             0.538534\n",
            "min_max_Amount                     0.538534\n",
            "min_max_^GSPC_Low                  0.426642\n",
            "^GSPC_Low                          0.426642\n",
            "min_max_^GSPC_Close                0.408832\n",
            "^GSPC_Close                        0.408832\n",
            "^GSPC_Open                         0.399821\n",
            "min_max_^GSPC_Open                 0.399821\n",
            "min_max_^GSPC_High                 0.383106\n",
            "^GSPC_High                         0.383106\n",
            "yearly                             0.297159\n",
            "yearly_lower                       0.297159\n",
            "yearly_upper                       0.297159\n",
            "BA_Volume                          0.261828\n",
            "min_max_BA_Volume                  0.261828\n",
            "Low_Open_Pressure                  0.213414\n",
            "min_max_Low_Open_Pressure          0.213414\n",
            "Name: y, dtype: float64\n",
            "High_Close_Pressure           -0.201808\n",
            "min_max_High_Close_Pressure   -0.201808\n",
            "Daily_Variation               -0.407691\n",
            "min_max_Daily_Variation       -0.407691\n",
            "^GSPC_Close_y                 -0.408832\n",
            "^GSPC_Close_lower             -0.408832\n",
            "^GSPC_Close_upper             -0.408832\n",
            "BA_High_y                     -0.990568\n",
            "BA_High_lower                 -0.990568\n",
            "BA_High_upper                 -0.990568\n",
            "Name: y, dtype: float64\n"
          ]
        }
      ],
      "source": [
        "correlation_matrix = df_training.drop(columns=['ds']).corr()\n",
        "correlation_with_target = correlation_matrix['y'].sort_values(ascending=False)\n",
        "print(correlation_with_target[correlation_with_target>0.2])\n",
        "print(correlation_with_target[correlation_with_target<-0.2])"
      ]
    },
    {
      "cell_type": "markdown",
      "metadata": {
        "id": "qLFC_WJ01weB"
      },
      "source": [
        "### testy"
      ]
    },
    {
      "cell_type": "code",
      "execution_count": null,
      "metadata": {
        "colab": {
          "base_uri": "https://localhost:8080/"
        },
        "id": "cwqqXtBh1ytK",
        "outputId": "0e32439b-f078-4822-d573-8f1da75b6a1b"
      },
      "outputs": [
        {
          "name": "stdout",
          "output_type": "stream",
          "text": [
            "                            OLS Regression Results                            \n",
            "==============================================================================\n",
            "Dep. Variable:               y_change   R-squared:                       0.160\n",
            "Model:                            OLS   Adj. R-squared:                  0.096\n",
            "Method:                 Least Squares   F-statistic:                     2.502\n",
            "Date:                Tue, 28 Nov 2023   Prob (F-statistic):           2.37e-06\n",
            "Time:                        21:34:45   Log-Likelihood:                -1630.1\n",
            "No. Observations:                 568   AIC:                             3342.\n",
            "Df Residuals:                     527   BIC:                             3520.\n",
            "Df Model:                          40                                         \n",
            "Covariance Type:            nonrobust                                         \n",
            "===================================================================================================\n",
            "                                      coef    std err          t      P>|t|      [0.025      0.975]\n",
            "---------------------------------------------------------------------------------------------------\n",
            "const                              -0.0059      0.002     -3.650      0.000      -0.009      -0.003\n",
            "future                              6.7928      6.917      0.982      0.327      -6.795      20.381\n",
            "influential                       -14.2452      7.442     -1.914      0.056     -28.864       0.374\n",
            "trustworthy                        10.3002      7.586      1.358      0.175      -4.603      25.203\n",
            "not clickbait                       5.3969      7.778      0.694      0.488      -9.882      20.676\n",
            "finbert_Score                      19.4792     27.729      0.702      0.483     -34.993      73.951\n",
            "bart_Score                         24.7818     23.901      1.037      0.300     -22.172      71.735\n",
            "vader_Score                        -4.8767     24.240     -0.201      0.841     -52.496      42.742\n",
            "future_finbert                     -8.7473      6.621     -1.321      0.187     -21.755       4.260\n",
            "future_bart                       -12.0491     10.919     -1.104      0.270     -33.499       9.401\n",
            "future_vader                       -0.1842      6.943     -0.027      0.979     -13.824      13.455\n",
            "influential_finbert               -17.7569     28.256     -0.628      0.530     -73.265      37.751\n",
            "influential_bart                  -13.1461     26.669     -0.493      0.622     -65.536      39.244\n",
            "influential_vader                   1.5416     25.053      0.062      0.951     -47.673      50.757\n",
            "trustworthy_finbert                 2.1151      7.473      0.283      0.777     -12.566      16.796\n",
            "trustworthy_bart                   -1.8838     10.865     -0.173      0.862     -23.228      19.460\n",
            "trustworthy_vader                  -1.7507      6.669     -0.263      0.793     -14.851      11.349\n",
            "clickbait_finbert                  -3.2200      8.032     -0.401      0.689     -18.998      12.558\n",
            "clickbait_bart                    -11.6004     11.926     -0.973      0.331     -35.029      11.828\n",
            "clickbait_vader                    10.4323      7.803      1.337      0.182      -4.897      25.761\n",
            "^GSPC_Open                         -0.0277      0.014     -1.976      0.049      -0.055      -0.000\n",
            "^GSPC_High                          0.0385      0.016      2.341      0.020       0.006       0.071\n",
            "^GSPC_Low                           0.0046      0.015      0.301      0.764      -0.025       0.035\n",
            "^GSPC_Close                        -0.0175      0.014     -1.245      0.214      -0.045       0.010\n",
            "^GSPC_Volume                    -2.202e-10   2.73e-10     -0.807      0.420   -7.56e-10    3.16e-10\n",
            "EURUSD=X_Close                     -0.0061      0.009     -0.679      0.497      -0.024       0.012\n",
            "BA_Open                            -0.7889      0.528     -1.494      0.136      -1.826       0.248\n",
            "BA_High                             0.7207      0.660      1.093      0.275      -0.575       2.017\n",
            "BA_Low                              0.4519      0.647      0.698      0.485      -0.820       1.724\n",
            "BA_Close                           -1.0441      0.276     -3.780      0.000      -1.587      -0.501\n",
            "BA_Adj Close                       -1.0441      0.276     -3.780      0.000      -1.587      -0.501\n",
            "BA_Volume                        3.296e-07   2.78e-07      1.186      0.236   -2.16e-07    8.75e-07\n",
            "Amount                          -1.461e-09   1.27e-09     -1.151      0.250   -3.96e-09    1.03e-09\n",
            "trend                               0.0255      0.287      0.089      0.929      -0.538       0.589\n",
            "yhat_lower                          0.9804      0.983      0.997      0.319      -0.951       2.912\n",
            "yhat_upper                          0.8393      0.954      0.880      0.380      -1.035       2.714\n",
            "trend_lower                         0.0255      0.287      0.089      0.929      -0.538       0.589\n",
            "trend_upper                         0.0255      0.287      0.089      0.929      -0.538       0.589\n",
            "BA_Close_y                          0.1031      0.085      1.207      0.228      -0.065       0.271\n",
            "BA_Close_lower                      0.1031      0.085      1.207      0.228      -0.065       0.271\n",
            "BA_Close_upper                      0.1031      0.085      1.207      0.228      -0.065       0.271\n",
            "BA_High_y                          -0.1038      0.048     -2.167      0.031      -0.198      -0.010\n",
            "BA_High_lower                      -0.1038      0.048     -2.167      0.031      -0.198      -0.010\n",
            "BA_High_upper                      -0.1038      0.048     -2.167      0.031      -0.198      -0.010\n",
            "BA_Low_y                            0.0345      0.018      1.910      0.057      -0.001       0.070\n",
            "BA_Low_lower                        0.0345      0.018      1.910      0.057      -0.001       0.070\n",
            "BA_Low_upper                        0.0345      0.018      1.910      0.057      -0.001       0.070\n",
            "BA_Open_y                           0.0127      0.017      0.757      0.449      -0.020       0.046\n",
            "BA_Open_lower                       0.0127      0.017      0.757      0.449      -0.020       0.046\n",
            "BA_Open_upper                       0.0127      0.017      0.757      0.449      -0.020       0.046\n",
            "EURUSD=X_Close_y                    0.0054      0.107      0.050      0.960      -0.205       0.216\n",
            "EURUSD=X_Close_lower                0.0054      0.107      0.050      0.960      -0.205       0.216\n",
            "EURUSD=X_Close_upper                0.0054      0.107      0.050      0.960      -0.205       0.216\n",
            "^GSPC_Close_y                      -0.0807      0.022     -3.648      0.000      -0.124      -0.037\n",
            "^GSPC_Close_lower                  -0.0807      0.022     -3.648      0.000      -0.124      -0.037\n",
            "^GSPC_Close_upper                  -0.0807      0.022     -3.648      0.000      -0.124      -0.037\n",
            "additive_terms                     -0.0910      0.208     -0.438      0.661      -0.499       0.317\n",
            "additive_terms_lower               -0.0910      0.208     -0.438      0.661      -0.499       0.317\n",
            "additive_terms_upper               -0.0910      0.208     -0.438      0.661      -0.499       0.317\n",
            "extra_regressors_additive          -0.0288      0.082     -0.350      0.727      -0.191       0.133\n",
            "extra_regressors_additive_lower    -0.0288      0.082     -0.350      0.727      -0.191       0.133\n",
            "extra_regressors_additive_upper    -0.0288      0.082     -0.350      0.727      -0.191       0.133\n",
            "weekly                             -0.1055      0.181     -0.581      0.561      -0.462       0.251\n",
            "weekly_lower                       -0.1055      0.181     -0.581      0.561      -0.462       0.251\n",
            "weekly_upper                       -0.1055      0.181     -0.581      0.561      -0.462       0.251\n",
            "yearly                              0.0433      0.113      0.384      0.701      -0.178       0.265\n",
            "yearly_lower                        0.0433      0.113      0.384      0.701      -0.178       0.265\n",
            "yearly_upper                        0.0433      0.113      0.384      0.701      -0.178       0.265\n",
            "multiplicative_terms                     0          0        nan        nan           0           0\n",
            "multiplicative_terms_lower               0          0        nan        nan           0           0\n",
            "multiplicative_terms_upper               0          0        nan        nan           0           0\n",
            "yhat                               -0.0655      0.486     -0.135      0.893      -1.020       0.888\n",
            "Daily_Variation                    -0.9722      1.208     -0.805      0.421      -3.345       1.401\n",
            "High_Close_Pressure                -1.0346      1.243     -0.832      0.406      -3.477       1.407\n",
            "Low_Open_Pressure                  -1.6383      0.974     -1.682      0.093      -3.552       0.275\n",
            "Price_Change                        0.0111      0.084      0.132      0.895      -0.154       0.176\n",
            "min_max_Amount                      0.0003   8.92e-05      3.650      0.000       0.000       0.001\n",
            "min_max_^GSPC_Close                 0.0172      0.005      3.647      0.000       0.008       0.026\n",
            "min_max_trend                       0.2065      0.081      2.536      0.012       0.047       0.366\n",
            "min_max_Daily_Variation            -8.7394     10.860     -0.805      0.421     -30.074      12.595\n",
            "min_max_High_Close_Pressure        -9.3054     11.180     -0.832      0.406     -31.267      12.657\n",
            "min_max_Low_Open_Pressure         -16.2399      9.653     -1.682      0.093     -35.204       2.724\n",
            "min_max_Price_Change               -0.0025      0.003     -0.952      0.342      -0.008       0.003\n",
            "min_max_^GSPC_Open                  0.0161      0.004      3.645      0.000       0.007       0.025\n",
            "min_max_^GSPC_Volume                0.0012      0.000      3.650      0.000       0.001       0.002\n",
            "min_max_^GSPC_High                  0.0175      0.005      3.657      0.000       0.008       0.027\n",
            "min_max_^GSPC_Low                   0.0159      0.004      3.652      0.000       0.007       0.024\n",
            "min_max_BA_Adj Close               -0.0024      0.001     -3.319      0.001      -0.004      -0.001\n",
            "min_max_BA_Volume                   0.0004      0.000      3.650      0.000       0.000       0.001\n",
            "==============================================================================\n",
            "Omnibus:                       12.169   Durbin-Watson:                   1.985\n",
            "Prob(Omnibus):                  0.002   Jarque-Bera (JB):               19.938\n",
            "Skew:                           0.123   Prob(JB):                     4.68e-05\n",
            "Kurtosis:                       3.884   Cond. No.                     2.02e+19\n",
            "==============================================================================\n",
            "\n",
            "Notes:\n",
            "[1] Standard Errors assume that the covariance matrix of the errors is correctly specified.\n",
            "[2] The smallest eigenvalue is 3.52e-17. This might indicate that there are\n",
            "strong multicollinearity problems or that the design matrix is singular.\n"
          ]
        }
      ],
      "source": [
        "import statsmodels.api as sm\n",
        "\n",
        "X = df_training[1:-1].drop(['ds', 'y_change','y'], axis=1)\n",
        "y = df_training[1:-1]['y_change']\n",
        "\n",
        "X = sm.add_constant(X)\n",
        "\n",
        "# Fit a linear regression model\n",
        "model = sm.OLS(y, X)\n",
        "results = model.fit()\n",
        "\n",
        "# Display summary statistics\n",
        "print(results.summary())"
      ]
    },
    {
      "cell_type": "code",
      "execution_count": null,
      "metadata": {
        "colab": {
          "base_uri": "https://localhost:8080/"
        },
        "id": "IxhbeerZ3SdY",
        "outputId": "1bcb0af8-bcee-4617-a8fb-8a15b268ef9d"
      },
      "outputs": [
        {
          "name": "stdout",
          "output_type": "stream",
          "text": [
            "                            OLS Regression Results                            \n",
            "==============================================================================\n",
            "Dep. Variable:                      y   R-squared:                       0.988\n",
            "Model:                            OLS   Adj. R-squared:                  0.987\n",
            "Method:                 Least Squares   F-statistic:                     1109.\n",
            "Date:                Tue, 28 Nov 2023   Prob (F-statistic):               0.00\n",
            "Time:                        21:37:07   Log-Likelihood:                -1572.6\n",
            "No. Observations:                 568   AIC:                             3227.\n",
            "Df Residuals:                     527   BIC:                             3405.\n",
            "Df Model:                          40                                         \n",
            "Covariance Type:            nonrobust                                         \n",
            "===================================================================================================\n",
            "                                      coef    std err          t      P>|t|      [0.025      0.975]\n",
            "---------------------------------------------------------------------------------------------------\n",
            "const                              -0.0022      0.001     -1.532      0.126      -0.005       0.001\n",
            "future                              6.5778      6.251      1.052      0.293      -5.702      18.858\n",
            "influential                       -13.1375      6.725     -1.953      0.051     -26.349       0.074\n",
            "trustworthy                        11.4167      6.856      1.665      0.096      -2.052      24.885\n",
            "not clickbait                      -1.0658      7.029     -0.152      0.880     -14.874      12.742\n",
            "finbert_Score                      39.5104     25.059      1.577      0.115      -9.718      88.738\n",
            "bart_Score                         40.2715     21.600      1.864      0.063      -2.162      82.705\n",
            "vader_Score                       -14.4948     21.907     -0.662      0.508     -57.530      28.540\n",
            "future_finbert                     -7.6146      5.984     -1.273      0.204     -19.370       4.141\n",
            "future_bart                       -10.8594      9.868     -1.101      0.272     -30.244       8.525\n",
            "future_vader                       -3.3740      6.275     -0.538      0.591     -15.700       8.952\n",
            "influential_finbert               -34.6609     25.536     -1.357      0.175     -84.825      15.503\n",
            "influential_bart                  -28.0204     24.101     -1.163      0.246     -75.367      19.326\n",
            "influential_vader                  10.7164     22.641      0.473      0.636     -33.761      55.194\n",
            "trustworthy_finbert                 1.0756      6.754      0.159      0.874     -12.192      14.343\n",
            "trustworthy_bart                   -6.7418      9.819     -0.687      0.493     -26.031      12.547\n",
            "trustworthy_vader                   1.3548      6.027      0.225      0.822     -10.484      13.194\n",
            "clickbait_finbert                 -10.6720      7.258     -1.470      0.142     -24.931       3.587\n",
            "clickbait_bart                     -4.0240     10.778     -0.373      0.709     -25.197      17.149\n",
            "clickbait_vader                     8.3925      7.052      1.190      0.235      -5.461      22.246\n",
            "^GSPC_Open                         -0.0176      0.013     -1.394      0.164      -0.042       0.007\n",
            "^GSPC_High                          0.0185      0.015      1.243      0.214      -0.011       0.048\n",
            "^GSPC_Low                           0.0118      0.014      0.854      0.393      -0.015       0.039\n",
            "^GSPC_Close                        -0.0136      0.013     -1.067      0.287      -0.039       0.011\n",
            "^GSPC_Volume                    -5.585e-11   2.47e-10     -0.226      0.821    -5.4e-10    4.29e-10\n",
            "EURUSD=X_Close                     -0.0032      0.008     -0.394      0.693      -0.019       0.013\n",
            "BA_Open                            -0.6393      0.477     -1.340      0.181      -1.577       0.298\n",
            "BA_High                             0.6954      0.596      1.167      0.244      -0.476       1.866\n",
            "BA_Low                              0.2462      0.585      0.421      0.674      -0.903       1.395\n",
            "BA_Close                           -0.3608      0.250     -1.445      0.149      -0.851       0.130\n",
            "BA_Adj Close                       -0.3608      0.250     -1.445      0.149      -0.851       0.130\n",
            "BA_Volume                        2.919e-07   2.51e-07      1.162      0.246   -2.01e-07    7.85e-07\n",
            "Amount                          -1.283e-09   1.15e-09     -1.118      0.264   -3.54e-09    9.71e-10\n",
            "trend                               0.0032      0.259      0.012      0.990      -0.506       0.513\n",
            "yhat_lower                          0.9342      0.889      1.051      0.294      -0.811       2.680\n",
            "yhat_upper                          0.6409      0.862      0.743      0.458      -1.053       2.335\n",
            "trend_lower                         0.0032      0.259      0.012      0.990      -0.506       0.513\n",
            "trend_upper                         0.0032      0.259      0.012      0.990      -0.506       0.513\n",
            "BA_Close_y                          0.0723      0.077      0.936      0.350      -0.079       0.224\n",
            "BA_Close_lower                      0.0723      0.077      0.936      0.350      -0.079       0.224\n",
            "BA_Close_upper                      0.0723      0.077      0.936      0.350      -0.079       0.224\n",
            "BA_High_y                          -0.0625      0.043     -1.445      0.149      -0.148       0.022\n",
            "BA_High_lower                      -0.0625      0.043     -1.445      0.149      -0.148       0.022\n",
            "BA_High_upper                      -0.0625      0.043     -1.445      0.149      -0.148       0.022\n",
            "BA_Low_y                            0.0147      0.016      0.901      0.368      -0.017       0.047\n",
            "BA_Low_lower                        0.0147      0.016      0.901      0.368      -0.017       0.047\n",
            "BA_Low_upper                        0.0147      0.016      0.901      0.368      -0.017       0.047\n",
            "BA_Open_y                          -0.0070      0.015     -0.461      0.645      -0.037       0.023\n",
            "BA_Open_lower                      -0.0070      0.015     -0.461      0.645      -0.037       0.023\n",
            "BA_Open_upper                      -0.0070      0.015     -0.461      0.645      -0.037       0.023\n",
            "EURUSD=X_Close_y                   -0.0091      0.097     -0.094      0.925      -0.199       0.181\n",
            "EURUSD=X_Close_lower               -0.0091      0.097     -0.094      0.925      -0.199       0.181\n",
            "EURUSD=X_Close_upper               -0.0091      0.097     -0.094      0.925      -0.199       0.181\n",
            "^GSPC_Close_y                      -0.0306      0.020     -1.530      0.127      -0.070       0.009\n",
            "^GSPC_Close_lower                  -0.0306      0.020     -1.530      0.127      -0.070       0.009\n",
            "^GSPC_Close_upper                  -0.0306      0.020     -1.530      0.127      -0.070       0.009\n",
            "additive_terms                     -0.0774      0.188     -0.412      0.680      -0.446       0.292\n",
            "additive_terms_lower               -0.0774      0.188     -0.412      0.680      -0.446       0.292\n",
            "additive_terms_upper               -0.0774      0.188     -0.412      0.680      -0.446       0.292\n",
            "extra_regressors_additive          -0.0222      0.074     -0.298      0.766      -0.168       0.124\n",
            "extra_regressors_additive_lower    -0.0222      0.074     -0.298      0.766      -0.168       0.124\n",
            "extra_regressors_additive_upper    -0.0222      0.074     -0.298      0.766      -0.168       0.124\n",
            "weekly                             -0.0748      0.164     -0.456      0.648      -0.397       0.247\n",
            "weekly_lower                       -0.0748      0.164     -0.456      0.648      -0.397       0.247\n",
            "weekly_upper                       -0.0748      0.164     -0.456      0.648      -0.397       0.247\n",
            "yearly                              0.0196      0.102      0.193      0.847      -0.180       0.220\n",
            "yearly_lower                        0.0196      0.102      0.193      0.847      -0.180       0.220\n",
            "yearly_upper                        0.0196      0.102      0.193      0.847      -0.180       0.220\n",
            "multiplicative_terms                     0          0        nan        nan           0           0\n",
            "multiplicative_terms_lower               0          0        nan        nan           0           0\n",
            "multiplicative_terms_upper               0          0        nan        nan           0           0\n",
            "yhat                               -0.0742      0.439     -0.169      0.866      -0.936       0.788\n",
            "Daily_Variation                    -0.8769      1.092     -0.803      0.422      -3.022       1.268\n",
            "High_Close_Pressure                -0.8672      1.123     -0.772      0.440      -3.074       1.340\n",
            "Low_Open_Pressure                  -1.3751      0.880     -1.562      0.119      -3.105       0.354\n",
            "Price_Change                        0.0160      0.076      0.211      0.833      -0.133       0.165\n",
            "min_max_Amount                      0.0001   8.06e-05      1.532      0.126   -3.48e-05       0.000\n",
            "min_max_^GSPC_Close                 0.0065      0.004      1.530      0.127      -0.002       0.015\n",
            "min_max_trend                       0.0772      0.074      1.049      0.295      -0.067       0.222\n",
            "min_max_Daily_Variation            -7.8829      9.815     -0.803      0.422     -27.163      11.398\n",
            "min_max_High_Close_Pressure        -7.7992     10.103     -0.772      0.440     -27.647      12.049\n",
            "min_max_Low_Open_Pressure         -13.6282      8.724     -1.562      0.119     -30.766       3.510\n",
            "min_max_Price_Change               -0.0006      0.002     -0.245      0.806      -0.005       0.004\n",
            "min_max_^GSPC_Open                  0.0061      0.004      1.529      0.127      -0.002       0.014\n",
            "min_max_^GSPC_Volume                0.0005      0.000      1.532      0.126      -0.000       0.001\n",
            "min_max_^GSPC_High                  0.0067      0.004      1.536      0.125      -0.002       0.015\n",
            "min_max_^GSPC_Low                   0.0060      0.004      1.535      0.125      -0.002       0.014\n",
            "min_max_BA_Adj Close               -0.0007      0.001     -1.037      0.300      -0.002       0.001\n",
            "min_max_BA_Volume                   0.0001   9.21e-05      1.532      0.126   -3.98e-05       0.000\n",
            "==============================================================================\n",
            "Omnibus:                       24.243   Durbin-Watson:                   1.961\n",
            "Prob(Omnibus):                  0.000   Jarque-Bera (JB):               57.802\n",
            "Skew:                           0.158   Prob(JB):                     2.81e-13\n",
            "Kurtosis:                       4.531   Cond. No.                     2.02e+19\n",
            "==============================================================================\n",
            "\n",
            "Notes:\n",
            "[1] Standard Errors assume that the covariance matrix of the errors is correctly specified.\n",
            "[2] The smallest eigenvalue is 3.52e-17. This might indicate that there are\n",
            "strong multicollinearity problems or that the design matrix is singular.\n"
          ]
        }
      ],
      "source": [
        "X = df_training[1:-1].drop(['ds', 'y_change','y'], axis=1)\n",
        "y = df_training[1:-1]['y']\n",
        "\n",
        "X = sm.add_constant(X)\n",
        "\n",
        "# Fit a linear regression model\n",
        "model = sm.OLS(y, X)\n",
        "results = model.fit()\n",
        "\n",
        "# Display summary statistics\n",
        "print(results.summary())"
      ]
    },
    {
      "cell_type": "markdown",
      "metadata": {
        "id": "j0WiLFfhh7rc"
      },
      "source": [
        "## LSTM"
      ]
    },
    {
      "cell_type": "code",
      "execution_count": null,
      "metadata": {
        "id": "dxbzhcKCJaAt"
      },
      "outputs": [],
      "source": [
        "from keras.models import Sequential\n",
        "from keras.layers import Dense, LSTM, Dropout, Conv1D, InputLayer\n",
        "from keras.losses import Huber\n",
        "import tensorflow as tf\n",
        "import matplotlib.pyplot as plt\n"
      ]
    },
    {
      "cell_type": "code",
      "execution_count": 105,
      "metadata": {
        "colab": {
          "base_uri": "https://localhost:8080/"
        },
        "id": "bGNu7SaBbKiL",
        "outputId": "8a58d2e4-0660-4ad7-d20a-ae732dcbd36d"
      },
      "outputs": [
        {
          "name": "stderr",
          "output_type": "stream",
          "text": [
            "<ipython-input-105-268a89c0ecf9>:7: SettingWithCopyWarning: \n",
            "A value is trying to be set on a copy of a slice from a DataFrame.\n",
            "Try using .loc[row_indexer,col_indexer] = value instead\n",
            "\n",
            "See the caveats in the documentation: https://pandas.pydata.org/pandas-docs/stable/user_guide/indexing.html#returning-a-view-versus-a-copy\n",
            "  df_training[cols_sc] = (df_training[cols_sc] - min_sc)/max_sc\n",
            "<ipython-input-105-268a89c0ecf9>:8: SettingWithCopyWarning: \n",
            "A value is trying to be set on a copy of a slice from a DataFrame.\n",
            "Try using .loc[row_indexer,col_indexer] = value instead\n",
            "\n",
            "See the caveats in the documentation: https://pandas.pydata.org/pandas-docs/stable/user_guide/indexing.html#returning-a-view-versus-a-copy\n",
            "  df_test[cols_sc] = (df_test[cols_sc] - min_sc)/max_sc\n"
          ]
        }
      ],
      "source": [
        "cols_sc = [\n",
        "    'BA_Open','BA_High','BA_Low',\n",
        "    'BA_Close','yhat_lower','yhat_upper']\n",
        "min_sc = (np.array(df_training[cols_sc])).min()\n",
        "max_sc = (np.array(df_training[cols_sc])).max()\n",
        "\n",
        "df_training[cols_sc] = (df_training[cols_sc] - min_sc)/max_sc\n",
        "df_test[cols_sc] = (df_test[cols_sc] - min_sc)/max_sc"
      ]
    },
    {
      "cell_type": "code",
      "execution_count": 8,
      "metadata": {
        "id": "EQM8A1gb5I-W"
      },
      "outputs": [],
      "source": [
        "news_cols = [\n",
        "    #'future',\n",
        " #'influential',\n",
        " #'trustworthy'\n",
        "#  'not clickbait',\n",
        "#   'finbert_Score', 'influential_finbert', 'future_finbert','trustworthy_finbert','clickbait_finbert',\n",
        "  #  'bart_Score','influential_bart','future_bart','trustworthy_bart', 'clickbait_bart',\n",
        "#  'vader_Score','future_vader','trustworthy_vader','clickbait_vader','influential_vader'\n",
        "\n",
        " ]"
      ]
    },
    {
      "cell_type": "code",
      "execution_count": 9,
      "metadata": {
        "colab": {
          "base_uri": "https://localhost:8080/",
          "height": 246
        },
        "id": "QfqnshB20IPb",
        "outputId": "68c652bc-5af1-40e0-e6a7-2e155b1b449f"
      },
      "outputs": [
        {
          "ename": "NameError",
          "evalue": "ignored",
          "output_type": "error",
          "traceback": [
            "\u001b[0;31m---------------------------------------------------------------------------\u001b[0m",
            "\u001b[0;31mNameError\u001b[0m                                 Traceback (most recent call last)",
            "\u001b[0;32m<ipython-input-9-7a000dba3092>\u001b[0m in \u001b[0;36m<cell line: 13>\u001b[0;34m()\u001b[0m\n\u001b[1;32m     11\u001b[0m     'ds']+news_cols\n\u001b[1;32m     12\u001b[0m \u001b[0;34m\u001b[0m\u001b[0m\n\u001b[0;32m---> 13\u001b[0;31m \u001b[0mdf_training1\u001b[0m \u001b[0;34m=\u001b[0m \u001b[0mdf_training\u001b[0m\u001b[0;34m[\u001b[0m\u001b[0mcols\u001b[0m\u001b[0;34m]\u001b[0m\u001b[0;34m\u001b[0m\u001b[0;34m\u001b[0m\u001b[0m\n\u001b[0m\u001b[1;32m     14\u001b[0m \u001b[0mdf_test1\u001b[0m \u001b[0;34m=\u001b[0m \u001b[0mdf_test\u001b[0m\u001b[0;34m[\u001b[0m\u001b[0mcols\u001b[0m\u001b[0;34m]\u001b[0m\u001b[0;34m\u001b[0m\u001b[0;34m\u001b[0m\u001b[0m\n\u001b[1;32m     15\u001b[0m \u001b[0mdf_test1\u001b[0m\u001b[0;34m.\u001b[0m\u001b[0mreset_index\u001b[0m\u001b[0;34m(\u001b[0m\u001b[0minplace\u001b[0m\u001b[0;34m=\u001b[0m\u001b[0;32mTrue\u001b[0m\u001b[0;34m,\u001b[0m\u001b[0mdrop\u001b[0m\u001b[0;34m=\u001b[0m\u001b[0;32mTrue\u001b[0m\u001b[0;34m)\u001b[0m\u001b[0;34m\u001b[0m\u001b[0;34m\u001b[0m\u001b[0m\n",
            "\u001b[0;31mNameError\u001b[0m: name 'df_training' is not defined"
          ]
        }
      ],
      "source": [
        "cols = [\n",
        "    #'min_max_High_Close_Pressure','min_max_Daily_Variation',\n",
        "    #'yhat_lower','yhat_upper',\n",
        "        #'min_max_Low_Open_Pressure',\n",
        "        #'yearly',\n",
        "#'min_max_Amount','min_max_trend',\n",
        "   # 'EURUSD=X_Close',\n",
        "    #    '^GSPC_Close',\n",
        "   'BA_Open','BA_High','BA_Low',\n",
        "'BA_Close',\n",
        "    'ds']+news_cols\n",
        "\n",
        "df_training1 = df_training[cols]\n",
        "df_test1 = df_test[cols]\n",
        "df_test1.reset_index(inplace=True,drop=True)"
      ]
    },
    {
      "cell_type": "code",
      "execution_count": 224,
      "metadata": {
        "colab": {
          "base_uri": "https://localhost:8080/"
        },
        "id": "rCDUJzQT9SOq",
        "outputId": "23e8646a-1fd9-4862-dccd-71512f10e1ef"
      },
      "outputs": [
        {
          "name": "stderr",
          "output_type": "stream",
          "text": [
            "<ipython-input-224-a153d56bfdb7>:1: SettingWithCopyWarning: \n",
            "A value is trying to be set on a copy of a slice from a DataFrame.\n",
            "Try using .loc[row_indexer,col_indexer] = value instead\n",
            "\n",
            "See the caveats in the documentation: https://pandas.pydata.org/pandas-docs/stable/user_guide/indexing.html#returning-a-view-versus-a-copy\n",
            "  df_training1['y'] = df_training1['BA_Close'].shift(-1)\n",
            "<ipython-input-224-a153d56bfdb7>:3: SettingWithCopyWarning: \n",
            "A value is trying to be set on a copy of a slice from a DataFrame.\n",
            "Try using .loc[row_indexer,col_indexer] = value instead\n",
            "\n",
            "See the caveats in the documentation: https://pandas.pydata.org/pandas-docs/stable/user_guide/indexing.html#returning-a-view-versus-a-copy\n",
            "  df_test1['y'] = df_test1['BA_Close'].shift(-1)\n"
          ]
        }
      ],
      "source": [
        "df_training1['y'] = df_training1['BA_Close'].shift(-1)\n",
        "df_training1 = df_training1[:-1]\n",
        "df_test1['y'] = df_test1['BA_Close'].shift(-1)\n",
        "df_test1 = df_test1[:-1]\n"
      ]
    },
    {
      "cell_type": "code",
      "execution_count": 108,
      "metadata": {
        "id": "D1n3powwmyts"
      },
      "outputs": [],
      "source": [
        "def create_X_y(df_,hops,y_col,date_col=None):\n",
        "  X_ = []\n",
        "  y_ = []\n",
        "  df_t = df_.drop(columns=[date_col,y_col])\n",
        "  for i in range(hops,df_.shape[0]):\n",
        "    X_.append(df_t[i-hops:i])\n",
        "    y_.append(df_[y_col][i])\n",
        "\n",
        "  X_, y_ = np.array(X_), np.array(y_)\n",
        "  X_ = np.reshape(X_,(X_.shape[0],X_.shape[1],X_.shape[2]))\n",
        "\n",
        "  return X_ ,y_"
      ]
    },
    {
      "cell_type": "code",
      "execution_count": 225,
      "metadata": {
        "id": "LOSgMezerbVC"
      },
      "outputs": [],
      "source": [
        "X_train, y_train = create_X_y(df_training1,10,'y','ds')"
      ]
    },
    {
      "cell_type": "code",
      "execution_count": 226,
      "metadata": {
        "id": "iyELAZdVq5cl"
      },
      "outputs": [],
      "source": [
        "X_test, y_test = create_X_y(df_test1,10,'y','ds')"
      ]
    },
    {
      "cell_type": "code",
      "execution_count": 227,
      "metadata": {
        "id": "4B_XXhcXp64L"
      },
      "outputs": [],
      "source": [
        "model = Sequential()\n",
        "model.add(InputLayer(input_shape=(X_train.shape[1], X_train.shape[2])))\n",
        "model.add(Conv1D(filters=32, kernel_size=3,\n",
        "                      strides=1, padding=\"causal\",\n",
        "                      activation=\"relu\",\n",
        "                      ))\n",
        "\n",
        "#model.add(Dropout(0.3))\n",
        "model.add(LSTM(units=25,return_sequences=True))\n",
        "#model.add(Dropout(0.3))\n",
        "model.add(LSTM(units=25,return_sequences=False))\n",
        "model.add(Dense(10, activation='relu'))\n",
        "model.add(Dense(units=1))\n",
        "\n",
        "model.compile(optimizer='adam',loss='mean_squared_error')"
      ]
    },
    {
      "cell_type": "code",
      "execution_count": 232,
      "metadata": {
        "colab": {
          "base_uri": "https://localhost:8080/"
        },
        "id": "zaqJm2VPumrS",
        "outputId": "0c2fed11-2d22-4181-8faa-bbea35a9f3a9"
      },
      "outputs": [
        {
          "name": "stdout",
          "output_type": "stream",
          "text": [
            "Epoch 1/100\n",
            "18/18 [==============================] - 0s 12ms/step - loss: 5.9907e-04\n",
            "Epoch 2/100\n",
            "18/18 [==============================] - 0s 13ms/step - loss: 5.9984e-04\n",
            "Epoch 3/100\n",
            "18/18 [==============================] - 0s 12ms/step - loss: 6.3740e-04\n",
            "Epoch 4/100\n",
            "18/18 [==============================] - 0s 12ms/step - loss: 5.8530e-04\n",
            "Epoch 5/100\n",
            "18/18 [==============================] - 0s 14ms/step - loss: 6.8983e-04\n",
            "Epoch 6/100\n",
            "18/18 [==============================] - 0s 12ms/step - loss: 6.3520e-04\n",
            "Epoch 7/100\n",
            "18/18 [==============================] - 0s 12ms/step - loss: 6.5413e-04\n",
            "Epoch 8/100\n",
            "18/18 [==============================] - 0s 13ms/step - loss: 6.4219e-04\n",
            "Epoch 9/100\n",
            "18/18 [==============================] - 0s 12ms/step - loss: 6.2678e-04\n",
            "Epoch 10/100\n",
            "18/18 [==============================] - 0s 13ms/step - loss: 5.7883e-04\n",
            "Epoch 11/100\n",
            "18/18 [==============================] - 0s 13ms/step - loss: 5.8796e-04\n",
            "Epoch 12/100\n",
            "18/18 [==============================] - 0s 12ms/step - loss: 5.9008e-04\n",
            "Epoch 13/100\n",
            "18/18 [==============================] - 0s 13ms/step - loss: 5.8471e-04\n",
            "Epoch 14/100\n",
            "18/18 [==============================] - 0s 13ms/step - loss: 5.7750e-04\n",
            "Epoch 15/100\n",
            "18/18 [==============================] - 0s 13ms/step - loss: 6.7983e-04\n",
            "Epoch 16/100\n",
            "18/18 [==============================] - 0s 12ms/step - loss: 6.6006e-04\n",
            "Epoch 17/100\n",
            "18/18 [==============================] - 0s 12ms/step - loss: 6.6464e-04\n",
            "Epoch 18/100\n",
            "18/18 [==============================] - 0s 13ms/step - loss: 5.6115e-04\n",
            "Epoch 19/100\n",
            "18/18 [==============================] - 0s 13ms/step - loss: 5.9778e-04\n",
            "Epoch 20/100\n",
            "18/18 [==============================] - 0s 13ms/step - loss: 6.2567e-04\n",
            "Epoch 21/100\n",
            "18/18 [==============================] - 0s 18ms/step - loss: 6.5721e-04\n",
            "Epoch 22/100\n",
            "18/18 [==============================] - 0s 18ms/step - loss: 5.6289e-04\n",
            "Epoch 23/100\n",
            "18/18 [==============================] - 0s 18ms/step - loss: 5.9884e-04\n",
            "Epoch 24/100\n",
            "18/18 [==============================] - 0s 18ms/step - loss: 6.1135e-04\n",
            "Epoch 25/100\n",
            "18/18 [==============================] - 0s 18ms/step - loss: 6.4637e-04\n",
            "Epoch 26/100\n",
            "18/18 [==============================] - 0s 18ms/step - loss: 5.9867e-04\n",
            "Epoch 27/100\n",
            "18/18 [==============================] - 0s 18ms/step - loss: 6.3377e-04\n",
            "Epoch 28/100\n",
            "18/18 [==============================] - 0s 19ms/step - loss: 5.7054e-04\n",
            "Epoch 29/100\n",
            "18/18 [==============================] - 0s 19ms/step - loss: 5.9832e-04\n",
            "Epoch 30/100\n",
            "18/18 [==============================] - 0s 18ms/step - loss: 5.6536e-04\n",
            "Epoch 31/100\n",
            "18/18 [==============================] - 0s 17ms/step - loss: 5.7573e-04\n",
            "Epoch 32/100\n",
            "18/18 [==============================] - 0s 19ms/step - loss: 5.8119e-04\n",
            "Epoch 33/100\n",
            "18/18 [==============================] - 0s 19ms/step - loss: 5.5652e-04\n",
            "Epoch 34/100\n",
            "18/18 [==============================] - 0s 16ms/step - loss: 6.0308e-04\n",
            "Epoch 35/100\n",
            "18/18 [==============================] - 0s 13ms/step - loss: 5.7350e-04\n",
            "Epoch 36/100\n",
            "18/18 [==============================] - 0s 13ms/step - loss: 6.2418e-04\n",
            "Epoch 37/100\n",
            "18/18 [==============================] - 0s 12ms/step - loss: 6.3926e-04\n",
            "Epoch 38/100\n",
            "18/18 [==============================] - 0s 12ms/step - loss: 6.0100e-04\n",
            "Epoch 39/100\n",
            "18/18 [==============================] - 0s 13ms/step - loss: 5.5824e-04\n",
            "Epoch 40/100\n",
            "18/18 [==============================] - 0s 12ms/step - loss: 6.2017e-04\n",
            "Epoch 41/100\n",
            "18/18 [==============================] - 0s 12ms/step - loss: 6.3179e-04\n",
            "Epoch 42/100\n",
            "18/18 [==============================] - 0s 12ms/step - loss: 5.7123e-04\n",
            "Epoch 43/100\n",
            "18/18 [==============================] - 0s 12ms/step - loss: 5.9096e-04\n",
            "Epoch 44/100\n",
            "18/18 [==============================] - 0s 13ms/step - loss: 5.9183e-04\n",
            "Epoch 45/100\n",
            "18/18 [==============================] - 0s 13ms/step - loss: 5.9091e-04\n",
            "Epoch 46/100\n",
            "18/18 [==============================] - 0s 12ms/step - loss: 5.8214e-04\n",
            "Epoch 47/100\n",
            "18/18 [==============================] - 0s 12ms/step - loss: 5.6766e-04\n",
            "Epoch 48/100\n",
            "18/18 [==============================] - 0s 13ms/step - loss: 5.6482e-04\n",
            "Epoch 49/100\n",
            "18/18 [==============================] - 0s 12ms/step - loss: 5.6192e-04\n",
            "Epoch 50/100\n",
            "18/18 [==============================] - 0s 12ms/step - loss: 5.8536e-04\n",
            "Epoch 51/100\n",
            "18/18 [==============================] - 0s 12ms/step - loss: 5.8667e-04\n",
            "Epoch 52/100\n",
            "18/18 [==============================] - 0s 13ms/step - loss: 6.1145e-04\n",
            "Epoch 53/100\n",
            "18/18 [==============================] - 0s 12ms/step - loss: 6.8042e-04\n",
            "Epoch 54/100\n",
            "18/18 [==============================] - 0s 12ms/step - loss: 5.9469e-04\n",
            "Epoch 55/100\n",
            "18/18 [==============================] - 0s 13ms/step - loss: 6.2718e-04\n",
            "Epoch 56/100\n",
            "18/18 [==============================] - 0s 13ms/step - loss: 6.3237e-04\n",
            "Epoch 57/100\n",
            "18/18 [==============================] - 0s 14ms/step - loss: 5.9048e-04\n",
            "Epoch 58/100\n",
            "18/18 [==============================] - 0s 12ms/step - loss: 5.4259e-04\n",
            "Epoch 59/100\n",
            "18/18 [==============================] - 0s 12ms/step - loss: 5.4603e-04\n",
            "Epoch 60/100\n",
            "18/18 [==============================] - 0s 13ms/step - loss: 5.4775e-04\n",
            "Epoch 61/100\n",
            "18/18 [==============================] - 0s 13ms/step - loss: 5.3578e-04\n",
            "Epoch 62/100\n",
            "18/18 [==============================] - 0s 13ms/step - loss: 5.3528e-04\n",
            "Epoch 63/100\n",
            "18/18 [==============================] - 0s 12ms/step - loss: 5.4892e-04\n",
            "Epoch 64/100\n",
            "18/18 [==============================] - 0s 13ms/step - loss: 5.5982e-04\n",
            "Epoch 65/100\n",
            "18/18 [==============================] - 0s 13ms/step - loss: 5.5704e-04\n",
            "Epoch 66/100\n",
            "18/18 [==============================] - 0s 13ms/step - loss: 5.4045e-04\n",
            "Epoch 67/100\n",
            "18/18 [==============================] - 0s 13ms/step - loss: 5.6859e-04\n",
            "Epoch 68/100\n",
            "18/18 [==============================] - 0s 13ms/step - loss: 5.3927e-04\n",
            "Epoch 69/100\n",
            "18/18 [==============================] - 0s 13ms/step - loss: 5.3192e-04\n",
            "Epoch 70/100\n",
            "18/18 [==============================] - 0s 13ms/step - loss: 5.3656e-04\n",
            "Epoch 71/100\n",
            "18/18 [==============================] - 0s 13ms/step - loss: 5.5215e-04\n",
            "Epoch 72/100\n",
            "18/18 [==============================] - 0s 12ms/step - loss: 5.5201e-04\n",
            "Epoch 73/100\n",
            "18/18 [==============================] - 0s 13ms/step - loss: 5.4346e-04\n",
            "Epoch 74/100\n",
            "18/18 [==============================] - 0s 14ms/step - loss: 5.3617e-04\n",
            "Epoch 75/100\n",
            "18/18 [==============================] - 0s 12ms/step - loss: 5.9378e-04\n",
            "Epoch 76/100\n",
            "18/18 [==============================] - 0s 13ms/step - loss: 5.5007e-04\n",
            "Epoch 77/100\n",
            "18/18 [==============================] - 0s 20ms/step - loss: 5.5651e-04\n",
            "Epoch 78/100\n",
            "18/18 [==============================] - 0s 18ms/step - loss: 5.1598e-04\n",
            "Epoch 79/100\n",
            "18/18 [==============================] - 0s 18ms/step - loss: 5.8515e-04\n",
            "Epoch 80/100\n",
            "18/18 [==============================] - 0s 18ms/step - loss: 5.3217e-04\n",
            "Epoch 81/100\n",
            "18/18 [==============================] - 0s 18ms/step - loss: 5.4416e-04\n",
            "Epoch 82/100\n",
            "18/18 [==============================] - 0s 17ms/step - loss: 5.2891e-04\n",
            "Epoch 83/100\n",
            "18/18 [==============================] - 0s 17ms/step - loss: 5.4307e-04\n",
            "Epoch 84/100\n",
            "18/18 [==============================] - 0s 19ms/step - loss: 5.2013e-04\n",
            "Epoch 85/100\n",
            "18/18 [==============================] - 0s 19ms/step - loss: 5.2020e-04\n",
            "Epoch 86/100\n",
            "18/18 [==============================] - 0s 18ms/step - loss: 5.7264e-04\n",
            "Epoch 87/100\n",
            "18/18 [==============================] - 0s 17ms/step - loss: 5.3499e-04\n",
            "Epoch 88/100\n",
            "18/18 [==============================] - 0s 18ms/step - loss: 5.3016e-04\n",
            "Epoch 89/100\n",
            "18/18 [==============================] - 0s 18ms/step - loss: 5.4000e-04\n",
            "Epoch 90/100\n",
            "18/18 [==============================] - 0s 18ms/step - loss: 5.3502e-04\n",
            "Epoch 91/100\n",
            "18/18 [==============================] - 0s 15ms/step - loss: 6.2549e-04\n",
            "Epoch 92/100\n",
            "18/18 [==============================] - 0s 13ms/step - loss: 5.2559e-04\n",
            "Epoch 93/100\n",
            "18/18 [==============================] - 0s 13ms/step - loss: 5.2578e-04\n",
            "Epoch 94/100\n",
            "18/18 [==============================] - 0s 12ms/step - loss: 5.2607e-04\n",
            "Epoch 95/100\n",
            "18/18 [==============================] - 0s 13ms/step - loss: 5.2638e-04\n",
            "Epoch 96/100\n",
            "18/18 [==============================] - 0s 13ms/step - loss: 5.3622e-04\n",
            "Epoch 97/100\n",
            "18/18 [==============================] - 0s 13ms/step - loss: 5.5281e-04\n",
            "Epoch 98/100\n",
            "18/18 [==============================] - 0s 13ms/step - loss: 5.4265e-04\n",
            "Epoch 99/100\n",
            "18/18 [==============================] - 0s 14ms/step - loss: 5.8349e-04\n",
            "Epoch 100/100\n",
            "18/18 [==============================] - 0s 12ms/step - loss: 5.4673e-04\n"
          ]
        },
        {
          "data": {
            "text/plain": [
              "<keras.src.callbacks.History at 0x792c7ae05720>"
            ]
          },
          "execution_count": 232,
          "metadata": {},
          "output_type": "execute_result"
        }
      ],
      "source": [
        "model.fit(X_train,y_train,epochs=100,batch_size=32)"
      ]
    },
    {
      "cell_type": "code",
      "execution_count": 233,
      "metadata": {
        "colab": {
          "base_uri": "https://localhost:8080/"
        },
        "id": "MjU73Zw2sRhG",
        "outputId": "e201b725-04e6-4c7b-d585-5a5506411a57"
      },
      "outputs": [
        {
          "name": "stdout",
          "output_type": "stream",
          "text": [
            "6/6 [==============================] - 0s 4ms/step\n"
          ]
        }
      ],
      "source": [
        "y_pred = model.predict(X_test)"
      ]
    },
    {
      "cell_type": "code",
      "execution_count": 234,
      "metadata": {
        "id": "MF9FJ6l_Uhha"
      },
      "outputs": [],
      "source": [
        "y_pred = (y_pred*max_sc)+min_sc\n",
        "y = (y_test*max_sc)+min_sc\n",
        "y_pred_list = [i[0] for i in y_pred]"
      ]
    },
    {
      "cell_type": "code",
      "execution_count": 235,
      "metadata": {
        "colab": {
          "base_uri": "https://localhost:8080/"
        },
        "id": "uRgK7ZMKsjM9",
        "outputId": "15bf9788-438d-404f-db7a-1d7ebe2dd580"
      },
      "outputs": [
        {
          "data": {
            "text/plain": [
              "40.518866412779154"
            ]
          },
          "execution_count": 235,
          "metadata": {},
          "output_type": "execute_result"
        }
      ],
      "source": [
        "np.square(y_pred_list-y).mean()"
      ]
    },
    {
      "cell_type": "code",
      "execution_count": 236,
      "metadata": {
        "colab": {
          "base_uri": "https://localhost:8080/",
          "height": 449
        },
        "id": "FA_uJJDutd5n",
        "outputId": "0acb5683-4e45-4215-89ee-983ae945b2a3"
      },
      "outputs": [
        {
          "data": {
            "image/png": "[encoded data removed]",
            "text/plain": [
              "<Figure size 640x480 with 1 Axes>"
            ]
          },
          "metadata": {},
          "output_type": "display_data"
        }
      ],
      "source": [
        "import matplotlib.pyplot as plt\n",
        "df1 = df_test\n",
        "\n",
        "x = [i for i in range(df_test.shape[0]-10-1)]\n",
        "plt.plot(x, y_pred_list, label='y_pred', color='green')\n",
        "plt.plot(x, y, label='y', color='black')\n",
        "\n",
        "\n",
        "plt.xlabel('Date')\n",
        "plt.ylabel('Values')\n",
        "plt.legend()\n",
        "plt.show()"
      ]
    },
    {
      "cell_type": "code",
      "execution_count": 160,
      "metadata": {
        "colab": {
          "base_uri": "https://localhost:8080/"
        },
        "id": "R9aFRH9fZFKq",
        "outputId": "0af84bda-d4cb-4d20-ad00-14c71793ab9a"
      },
      "outputs": [
        {
          "name": "stdout",
          "output_type": "stream",
          "text": [
            "Correlation: 0.9706787628702978\n"
          ]
        }
      ],
      "source": [
        "import pandas as pd\n",
        "import numpy as np\n",
        "\n",
        "# Assuming you have two arrays: y_test and y_pred_list\n",
        "#make it\n",
        "# Calculate the correlation between y_test and y_pred_list\n",
        "df2 = pd.DataFrame({'y_test': y_test, 'y_pred': y_pred_list})\n",
        "\n",
        "correlation = df2['y_test'].corr(df2['y_pred'])\n",
        "\n",
        "# Print the correlation value\n",
        "print(\"Correlation:\", correlation)"
      ]
    }
  ],
  "metadata": {
    "colab": {
      "collapsed_sections": [
        "vILXkCC3rQKC",
        "tC533jBkGNr4",
        "nQo1Uo8MpV6Y",
        "hmurd8Aisg1c",
        "jCQa1nHNsjKK",
        "vjg_XodIspLM"
      ],
      "provenance": []
    },
    "kernelspec": {
      "display_name": "Python 3",
      "name": "python3"
    },
    "language_info": {
      "codemirror_mode": {
        "name": "ipython",
        "version": 3
      },
      "file_extension": ".py",
      "mimetype": "text/x-python",
      "name": "python",
      "nbconvert_exporter": "python",
      "pygments_lexer": "ipython3",
      "version": "3.12.0"
    }
  },
  "nbformat": 4,
  "nbformat_minor": 0
}
