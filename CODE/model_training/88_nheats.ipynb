{
 "cells": [
  {
   "cell_type": "markdown",
   "metadata": {},
   "source": [
    "notebook 8 \n",
    "NHEATS\n",
    "- wybór okna czasowego\n",
    "- podzbiory kolumn\n",
    "- optuna na strukturze\n",
    "- sprawdzenie funkcji do metryk"
   ]
  },
  {
   "cell_type": "code",
   "execution_count": null,
   "metadata": {},
   "outputs": [],
   "source": []
  }
 ],
 "metadata": {
  "language_info": {
   "name": "python"
  }
 },
 "nbformat": 4,
 "nbformat_minor": 2
}
