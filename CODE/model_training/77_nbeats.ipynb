{
 "cells": [
  {
   "cell_type": "markdown",
   "metadata": {},
   "source": [
    "notebook 7 \n",
    "NBEATS\n",
    "- wybór okna czasowego\n",
    "- podzbiory kolumn\n",
    "- optuna na strukturze\n",
    "- sprawdzenie funkcji do metryk"
   ]
  },
  {
   "cell_type": "code",
   "execution_count": 1,
   "metadata": {},
   "outputs": [
    {
     "name": "stdout",
     "output_type": "stream",
     "text": [
      "Collecting neuralforecast\n",
      "  Downloading neuralforecast-1.6.4-py3-none-any.whl.metadata (15 kB)\n",
      "Requirement already satisfied: numpy>=1.21.6 in d:\\anaconda\\envs\\inz\\lib\\site-packages (from neuralforecast) (1.26.2)\n",
      "Requirement already satisfied: pandas>=1.3.5 in d:\\anaconda\\envs\\inz\\lib\\site-packages (from neuralforecast) (2.1.3)\n",
      "INFO: pip is looking at multiple versions of neuralforecast to determine which version is compatible with other requirements. This could take a while.\n",
      "  Downloading neuralforecast-1.6.3-py3-none-any.whl.metadata (15 kB)\n",
      "  Downloading neuralforecast-1.6.2-py3-none-any.whl.metadata (15 kB)\n",
      "  Downloading neuralforecast-1.6.1-py3-none-any.whl.metadata (15 kB)\n",
      "  Downloading neuralforecast-1.6.0-py3-none-any.whl.metadata (15 kB)\n",
      "  Downloading neuralforecast-1.5.0-py3-none-any.whl (141 kB)\n",
      "     ---------------------------------------- 0.0/141.8 kB ? eta -:--:--\n",
      "     ---------- -------------------------- 41.0/141.8 kB 991.0 kB/s eta 0:00:01\n",
      "     ------------------------- ------------- 92.2/141.8 kB 1.3 MB/s eta 0:00:01\n",
      "     -------------------------------------- 141.8/141.8 kB 1.4 MB/s eta 0:00:00\n",
      "  Downloading neuralforecast-1.4.0-py3-none-any.whl (96 kB)\n",
      "     ---------------------------------------- 0.0/96.5 kB ? eta -:--:--\n",
      "     ---------------- ----------------------- 41.0/96.5 kB 1.9 MB/s eta 0:00:01\n",
      "     ---------------------------------------- 96.5/96.5 kB 1.1 MB/s eta 0:00:00\n",
      "  Downloading neuralforecast-1.3.0-py3-none-any.whl (91 kB)\n",
      "     ---------------------------------------- 0.0/91.2 kB ? eta -:--:--\n",
      "     ----------------- -------------------- 41.0/91.2 kB 991.0 kB/s eta 0:00:01\n",
      "     ---------------------------------------- 91.2/91.2 kB 1.3 MB/s eta 0:00:00\n",
      "INFO: pip is still looking at multiple versions of neuralforecast to determine which version is compatible with other requirements. This could take a while.\n",
      "  Downloading neuralforecast-1.2.0-py3-none-any.whl (90 kB)\n",
      "     ---------------------------------------- 0.0/90.6 kB ? eta -:--:--\n",
      "     ------------------ --------------------- 41.0/90.6 kB 2.0 MB/s eta 0:00:01\n",
      "     ---------------------------------------- 90.6/90.6 kB 1.7 MB/s eta 0:00:00\n",
      "  Downloading neuralforecast-1.1.0-py3-none-any.whl (85 kB)\n",
      "     ---------------------------------------- 0.0/85.7 kB ? eta -:--:--\n",
      "     ---------------------------- ----------- 61.4/85.7 kB 1.7 MB/s eta 0:00:01\n",
      "     ---------------------------------------- 85.7/85.7 kB 1.6 MB/s eta 0:00:00\n",
      "  Downloading neuralforecast-1.0.0-py3-none-any.whl (62 kB)\n",
      "     ---------------------------------------- 0.0/62.7 kB ? eta -:--:--\n",
      "     ------------------------ ------------- 41.0/62.7 kB 991.0 kB/s eta 0:00:01\n",
      "     -------------------------------------- 62.7/62.7 kB 846.1 kB/s eta 0:00:00\n",
      "  Downloading neuralforecast-0.1.0-py3-none-any.whl (138 kB)\n",
      "     ---------------------------------------- 0.0/138.7 kB ? eta -:--:--\n",
      "     ----------- --------------------------- 41.0/138.7 kB 2.0 MB/s eta 0:00:01\n",
      "     --------------------------------- ---- 122.9/138.7 kB 1.8 MB/s eta 0:00:01\n",
      "     -------------------------------------- 138.7/138.7 kB 1.4 MB/s eta 0:00:00\n",
      "Requirement already satisfied: pip in d:\\anaconda\\envs\\inz\\lib\\site-packages (from neuralforecast) (23.3.1)\n",
      "Collecting hyperopt (from neuralforecast)\n",
      "  Downloading hyperopt-0.2.7-py2.py3-none-any.whl (1.6 MB)\n",
      "     ---------------------------------------- 0.0/1.6 MB ? eta -:--:--\n",
      "     - -------------------------------------- 0.1/1.6 MB 1.7 MB/s eta 0:00:01\n",
      "     --- ------------------------------------ 0.1/1.6 MB 1.7 MB/s eta 0:00:01\n",
      "     ----- ---------------------------------- 0.2/1.6 MB 1.6 MB/s eta 0:00:01\n",
      "     ------- -------------------------------- 0.3/1.6 MB 1.8 MB/s eta 0:00:01\n",
      "     --------- ------------------------------ 0.4/1.6 MB 1.7 MB/s eta 0:00:01\n",
      "     ----------- ---------------------------- 0.5/1.6 MB 1.8 MB/s eta 0:00:01\n",
      "     ------------- -------------------------- 0.5/1.6 MB 1.8 MB/s eta 0:00:01\n",
      "     ---------------- ----------------------- 0.7/1.6 MB 1.8 MB/s eta 0:00:01\n",
      "     ------------------ --------------------- 0.7/1.6 MB 1.8 MB/s eta 0:00:01\n",
      "     -------------------- ------------------- 0.8/1.6 MB 1.8 MB/s eta 0:00:01\n",
      "     --------------------- ------------------ 0.9/1.6 MB 1.8 MB/s eta 0:00:01\n",
      "     ----------------------- ---------------- 0.9/1.6 MB 1.8 MB/s eta 0:00:01\n",
      "     ------------------------- -------------- 1.0/1.6 MB 1.8 MB/s eta 0:00:01\n",
      "     --------------------------- ------------ 1.1/1.6 MB 1.8 MB/s eta 0:00:01\n",
      "     ----------------------------- ---------- 1.2/1.6 MB 1.8 MB/s eta 0:00:01\n",
      "     ------------------------------- -------- 1.2/1.6 MB 1.8 MB/s eta 0:00:01\n",
      "     -------------------------------- ------- 1.3/1.6 MB 1.7 MB/s eta 0:00:01\n",
      "     ---------------------------------- ----- 1.4/1.6 MB 1.8 MB/s eta 0:00:01\n",
      "     ------------------------------------ --- 1.5/1.6 MB 1.7 MB/s eta 0:00:01\n",
      "     ---------------------------------------  1.6/1.6 MB 1.8 MB/s eta 0:00:01\n",
      "     ---------------------------------------- 1.6/1.6 MB 1.8 MB/s eta 0:00:00\n",
      "Collecting fastcore (from neuralforecast)\n",
      "  Downloading fastcore-1.5.29-py3-none-any.whl (67 kB)\n",
      "     ---------------------------------------- 0.0/67.6 kB ? eta -:--:--\n",
      "     ---------------------------------------- 67.6/67.6 kB 3.6 MB/s eta 0:00:00\n",
      "Requirement already satisfied: matplotlib in d:\\anaconda\\envs\\inz\\lib\\site-packages (from neuralforecast) (3.8.2)\n",
      "Collecting numba (from neuralforecast)\n",
      "  Using cached numba-0.58.1.tar.gz (2.6 MB)\n",
      "  Preparing metadata (setup.py): started\n",
      "  Preparing metadata (setup.py): finished with status 'error'\n",
      "Note: you may need to restart the kernel to use updated packages.\n"
     ]
    },
    {
     "name": "stderr",
     "output_type": "stream",
     "text": [
      "  error: subprocess-exited-with-error\n",
      "  \n",
      "  × python setup.py egg_info did not run successfully.\n",
      "  │ exit code: 1\n",
      "  ╰─> [8 lines of output]\n",
      "      Traceback (most recent call last):\n",
      "        File \"<string>\", line 2, in <module>\n",
      "        File \"<pip-setuptools-caller>\", line 34, in <module>\n",
      "        File \"C:\\Users\\HP\\AppData\\Local\\Temp\\pip-install-0x6mvtf8\\numba_97f8cf0429ea4203a9f1bd52484ec2ca\\setup.py\", line 51, in <module>\n",
      "          _guard_py_ver()\n",
      "        File \"C:\\Users\\HP\\AppData\\Local\\Temp\\pip-install-0x6mvtf8\\numba_97f8cf0429ea4203a9f1bd52484ec2ca\\setup.py\", line 48, in _guard_py_ver\n",
      "          raise RuntimeError(msg.format(cur_py, min_py, max_py))\n",
      "      RuntimeError: Cannot install on Python version 3.12.0; only versions >=3.8,<3.12 are supported.\n",
      "      [end of output]\n",
      "  \n",
      "  note: This error originates from a subprocess, and is likely not a problem with pip.\n",
      "error: metadata-generation-failed\n",
      "\n",
      "× Encountered error while generating package metadata.\n",
      "╰─> See above for output.\n",
      "\n",
      "note: This is an issue with the package mentioned above, not pip.\n",
      "hint: See above for details.\n"
     ]
    }
   ],
   "source": [
    "pip install neuralforecast"
   ]
  },
  {
   "cell_type": "code",
   "execution_count": null,
   "metadata": {},
   "outputs": [],
   "source": [
    "import numpy as np\n",
    "import pandas as pd\n",
    "from IPython.display import display, Markdown\n",
    "\n",
    "import matplotlib.pyplot as plt\n",
    "from neuralforecast import NeuralForecast\n",
    "from neuralforecast.models import NBEATS, NHITS\n",
    "from neuralforecast.utils import AirPassengersDF\n",
    "\n",
    "# Split data and declare panel dataset\n",
    "Y_df = AirPassengersDF\n",
    "Y_train_df = Y_df[Y_df.ds<='1959-12-31'] # 132 train\n",
    "Y_test_df = Y_df[Y_df.ds>'1959-12-31'] # 12 test\n",
    "\n",
    "# Fit and predict with NBEATS and NHITS models\n",
    "horizon = len(Y_test_df)\n",
    "models = [NBEATS(input_size=2 * horizon, h=horizon, max_steps=50),\n",
    "          NHITS(input_size=2 * horizon, h=horizon, max_steps=50)]\n",
    "nf = NeuralForecast(models=models, freq='M')\n",
    "nf.fit(df=Y_train_df)\n",
    "Y_hat_df = nf.predict().reset_index()\n",
    "\n",
    "# Plot predictions\n",
    "fig, ax = plt.subplots(1, 1, figsize = (20, 7))\n",
    "Y_hat_df = Y_test_df.merge(Y_hat_df, how='left', on=['unique_id', 'ds'])\n",
    "plot_df = pd.concat([Y_train_df, Y_hat_df]).set_index('ds')\n",
    "\n",
    "plot_df[['y', 'NBEATS', 'NHITS']].plot(ax=ax, linewidth=2)\n",
    "\n",
    "ax.set_title('AirPassengers Forecast', fontsize=22)\n",
    "ax.set_ylabel('Monthly Passengers', fontsize=20)\n",
    "ax.set_xlabel('Timestamp [t]', fontsize=20)\n",
    "ax.legend(prop={'size': 15})\n",
    "ax.grid()"
   ]
  },
  {
   "cell_type": "code",
   "execution_count": 4,
   "metadata": {},
   "outputs": [],
   "source": [
    "import pandas as pd\n",
    "import numpy as np\n",
    "from scripts.essentials import *\n",
    "from scripts.plots import *\n",
    "from scripts.train_utilities import *"
   ]
  },
  {
   "cell_type": "code",
   "execution_count": 1,
   "metadata": {},
   "outputs": [],
   "source": [
    "import pandas as pd\n",
    "\n",
    "prefix = \"NFLX\"\n",
    "\n",
    "df_with_weekends = pd.read_csv(\"csv/\"+prefix+'_with_weekends.csv')\n",
    "df_without_weekends = pd.read_csv(\"csv/\"+prefix+'_without_weekends.csv')"
   ]
  },
  {
   "cell_type": "code",
   "execution_count": 45,
   "metadata": {},
   "outputs": [],
   "source": [
    "df_with_weekends.drop(columns=['NFLX_Open', 'NFLX_High', 'NFLX_Low', 'NFLX_Close', 'Unnamed: 0', '^GSPC_Close','vwap_14'], inplace=True) "
   ]
  },
  {
   "cell_type": "code",
   "execution_count": 46,
   "metadata": {},
   "outputs": [],
   "source": [
    "df_with_weekends['target_1'] = df_with_weekends['log_return_1'].shift(-1)\n",
    "df_with_weekends['target_5'] = df_with_weekends['log_return_5'].shift(-5)\n",
    "df_with_weekends['target_10'] = df_with_weekends['log_return_10'].shift(-10)\n",
    "df_with_weekends['target_20'] = df_with_weekends['log_return_20'].shift(-20)"
   ]
  },
  {
   "cell_type": "code",
   "execution_count": 134,
   "metadata": {},
   "outputs": [
    {
     "name": "stdout",
     "output_type": "stream",
     "text": [
      "(730, 50)\n",
      "(59, 50)\n",
      "(55, 50)\n"
     ]
    }
   ],
   "source": [
    "train_set, val_set, test_set = split_data(df_without_weekends, 'Date', '2023-01-01', '2023-03-01', start_date_train = '2021-01-01')\n",
    "print(train_set.shape)\n",
    "print(val_set.shape)\n",
    "print(test_set.shape)"
   ]
  },
  {
   "cell_type": "code",
   "execution_count": 11,
   "metadata": {},
   "outputs": [
    {
     "data": {
      "text/plain": [
       "Index(['future', 'influential', 'trustworthy', 'not clickbait',\n",
       "       'finbert_Score', 'bart_Score', 'vader_Score', 'future_finbert',\n",
       "       'future_bart', 'future_vader', 'influential_finbert',\n",
       "       'influential_bart', 'influential_vader', 'trustworthy_finbert',\n",
       "       'trustworthy_bart', 'trustworthy_vader', 'clickbait_finbert',\n",
       "       'clickbait_bart', 'clickbait_vader', 'Date', '^GSPC_Volume',\n",
       "       'EURUSD=X_Close', 'NFLX_Volume', 'mean_future', 'mean_influential',\n",
       "       'mean_trustworthy', 'mean_clickbait', 'norm_rsi_14', 'norm_rsi_gspc_14',\n",
       "       'norm_slowk_14', 'norm_roc_14', 'log_return_1', 'log_return_5',\n",
       "       'log_return_10', 'log_return_20', 'log_return_gspc_1',\n",
       "       'log_return_gspc_5', 'log_return_gspc_10', 'log_return_gspc_20',\n",
       "       'daily_variation', 'high_close_pressure', 'low_open_pressure',\n",
       "       'low_norm', 'close_norm', 'high_norm', 'open_norm', 'target_1',\n",
       "       'target_5', 'target_10', 'target_20'],\n",
       "      dtype='object')"
      ]
     },
     "execution_count": 11,
     "metadata": {},
     "output_type": "execute_result"
    }
   ],
   "source": [
    "train_set.columns"
   ]
  },
  {
   "cell_type": "code",
   "execution_count": 135,
   "metadata": {},
   "outputs": [],
   "source": [
    "train_set = train_set[['Date', 'log_return_1','mean_future', 'mean_influential','mean_trustworthy', 'mean_clickbait', 'log_return_gspc_1', 'norm_rsi_14', 'norm_slowk_14', 'norm_roc_14', 'target_1']]\n",
    "val_set = val_set[['Date','log_return_1','mean_future', 'mean_influential','mean_trustworthy', 'mean_clickbait', 'log_return_gspc_1', 'norm_rsi_14', 'norm_slowk_14', 'norm_roc_14', 'target_1']]\n",
    "test_set = test_set[['Date','log_return_1','mean_future', 'mean_influential','mean_trustworthy', 'mean_clickbait', 'log_return_gspc_1', 'norm_rsi_14', 'norm_slowk_14', 'norm_roc_14', 'target_1']]\n",
    "train_set.rename(columns={'Date':'ds', 'target_1':'y'}, inplace=True)\n",
    "val_set.rename(columns={'Date':'ds', 'target_1':'y'}, inplace=True)\n",
    "test_set.rename(columns={'Date':'ds', 'target_1':'y'}, inplace=True)\n",
    "train_set['unique_id'] = 'NFLX'\n",
    "val_set['unique_id'] = 'NFLX'\n",
    "test_set['unique_id'] = 'NFLX'"
   ]
  },
  {
   "cell_type": "code",
   "execution_count": 136,
   "metadata": {},
   "outputs": [
    {
     "data": {
      "text/html": [
       "<div>\n",
       "<style scoped>\n",
       "    .dataframe tbody tr th:only-of-type {\n",
       "        vertical-align: middle;\n",
       "    }\n",
       "\n",
       "    .dataframe tbody tr th {\n",
       "        vertical-align: top;\n",
       "    }\n",
       "\n",
       "    .dataframe thead th {\n",
       "        text-align: right;\n",
       "    }\n",
       "</style>\n",
       "<table border=\"1\" class=\"dataframe\">\n",
       "  <thead>\n",
       "    <tr style=\"text-align: right;\">\n",
       "      <th></th>\n",
       "      <th>ds</th>\n",
       "      <th>log_return_1</th>\n",
       "      <th>mean_future</th>\n",
       "      <th>mean_influential</th>\n",
       "      <th>mean_trustworthy</th>\n",
       "      <th>mean_clickbait</th>\n",
       "      <th>log_return_gspc_1</th>\n",
       "      <th>norm_rsi_14</th>\n",
       "      <th>norm_slowk_14</th>\n",
       "      <th>norm_roc_14</th>\n",
       "      <th>y</th>\n",
       "      <th>unique_id</th>\n",
       "    </tr>\n",
       "  </thead>\n",
       "  <tbody>\n",
       "    <tr>\n",
       "      <th>784</th>\n",
       "      <td>2023-02-24</td>\n",
       "      <td>0.000000</td>\n",
       "      <td>0.074717</td>\n",
       "      <td>0.304888</td>\n",
       "      <td>0.275707</td>\n",
       "      <td>0.082836</td>\n",
       "      <td>0.000000</td>\n",
       "      <td>0.577912</td>\n",
       "      <td>0.881310</td>\n",
       "      <td>0.038187</td>\n",
       "      <td>0.019808</td>\n",
       "      <td>NFLX</td>\n",
       "    </tr>\n",
       "    <tr>\n",
       "      <th>785</th>\n",
       "      <td>2023-02-25</td>\n",
       "      <td>0.019808</td>\n",
       "      <td>0.086859</td>\n",
       "      <td>0.232262</td>\n",
       "      <td>0.222720</td>\n",
       "      <td>0.049219</td>\n",
       "      <td>-0.004203</td>\n",
       "      <td>0.617332</td>\n",
       "      <td>0.913743</td>\n",
       "      <td>0.079986</td>\n",
       "      <td>-0.006529</td>\n",
       "      <td>NFLX</td>\n",
       "    </tr>\n",
       "    <tr>\n",
       "      <th>786</th>\n",
       "      <td>2023-02-26</td>\n",
       "      <td>-0.006529</td>\n",
       "      <td>0.138287</td>\n",
       "      <td>0.405005</td>\n",
       "      <td>0.384895</td>\n",
       "      <td>0.126674</td>\n",
       "      <td>-0.006996</td>\n",
       "      <td>0.597395</td>\n",
       "      <td>0.860940</td>\n",
       "      <td>0.106104</td>\n",
       "      <td>-0.005895</td>\n",
       "      <td>NFLX</td>\n",
       "    </tr>\n",
       "    <tr>\n",
       "      <th>787</th>\n",
       "      <td>2023-02-27</td>\n",
       "      <td>-0.005895</td>\n",
       "      <td>0.057587</td>\n",
       "      <td>0.125473</td>\n",
       "      <td>0.104018</td>\n",
       "      <td>0.036830</td>\n",
       "      <td>-0.003216</td>\n",
       "      <td>0.579317</td>\n",
       "      <td>0.808897</td>\n",
       "      <td>0.095444</td>\n",
       "      <td>-0.000768</td>\n",
       "      <td>NFLX</td>\n",
       "    </tr>\n",
       "    <tr>\n",
       "      <th>788</th>\n",
       "      <td>2023-02-28</td>\n",
       "      <td>-0.000768</td>\n",
       "      <td>0.056839</td>\n",
       "      <td>0.190404</td>\n",
       "      <td>0.187410</td>\n",
       "      <td>0.041343</td>\n",
       "      <td>0.001426</td>\n",
       "      <td>0.576877</td>\n",
       "      <td>0.774746</td>\n",
       "      <td>0.084523</td>\n",
       "      <td>0.005765</td>\n",
       "      <td>NFLX</td>\n",
       "    </tr>\n",
       "  </tbody>\n",
       "</table>\n",
       "</div>"
      ],
      "text/plain": [
       "            ds  log_return_1  mean_future  mean_influential  mean_trustworthy  \\\n",
       "784 2023-02-24      0.000000     0.074717          0.304888          0.275707   \n",
       "785 2023-02-25      0.019808     0.086859          0.232262          0.222720   \n",
       "786 2023-02-26     -0.006529     0.138287          0.405005          0.384895   \n",
       "787 2023-02-27     -0.005895     0.057587          0.125473          0.104018   \n",
       "788 2023-02-28     -0.000768     0.056839          0.190404          0.187410   \n",
       "\n",
       "     mean_clickbait  log_return_gspc_1  norm_rsi_14  norm_slowk_14  \\\n",
       "784        0.082836           0.000000     0.577912       0.881310   \n",
       "785        0.049219          -0.004203     0.617332       0.913743   \n",
       "786        0.126674          -0.006996     0.597395       0.860940   \n",
       "787        0.036830          -0.003216     0.579317       0.808897   \n",
       "788        0.041343           0.001426     0.576877       0.774746   \n",
       "\n",
       "     norm_roc_14         y unique_id  \n",
       "784     0.038187  0.019808      NFLX  \n",
       "785     0.079986 -0.006529      NFLX  \n",
       "786     0.106104 -0.005895      NFLX  \n",
       "787     0.095444 -0.000768      NFLX  \n",
       "788     0.084523  0.005765      NFLX  "
      ]
     },
     "execution_count": 136,
     "metadata": {},
     "output_type": "execute_result"
    }
   ],
   "source": [
    "val_set.tail()"
   ]
  },
  {
   "cell_type": "code",
   "execution_count": 40,
   "metadata": {},
   "outputs": [],
   "source": [
    "# if there is not row with a date then copy row from previous day with this date  \n",
    "train_set = train_set.set_index('ds').resample('D').ffill().reset_index()\n",
    "val_set = val_set.set_index('ds').resample('D').ffill().reset_index()\n",
    "test_set = test_set.set_index('ds').resample('D').ffill().reset_index()\n"
   ]
  },
  {
   "cell_type": "code",
   "execution_count": 137,
   "metadata": {},
   "outputs": [],
   "source": [
    "# make ds as timestamp\n",
    "train_set['ds'] = pd.to_datetime(train_set['ds'])\n",
    "val_set['ds'] = pd.to_datetime(val_set['ds'])\n",
    "test_set['ds'] = pd.to_datetime(test_set['ds'])"
   ]
  },
  {
   "cell_type": "code",
   "execution_count": 79,
   "metadata": {},
   "outputs": [
    {
     "data": {
      "text/plain": [
       "{'input_size': 6,\n",
       " 'n_blocks_season': 2,\n",
       " 'n_blocks_trend': 3,\n",
       " 'n_blocks_ident': 2,\n",
       " 'mlp_units': 64,\n",
       " 'num_hidden': 3,\n",
       " 'n_harmonics': 2,\n",
       " 'n_polynomials': 4,\n",
       " 'scaler_type': 'standard',\n",
       " 'learning_rate': 0.0009164455243785934}"
      ]
     },
     "execution_count": 79,
     "metadata": {},
     "output_type": "execute_result"
    }
   ],
   "source": [
    "study.best_params"
   ]
  },
  {
   "cell_type": "code",
   "execution_count": 234,
   "metadata": {},
   "outputs": [
    {
     "name": "stderr",
     "output_type": "stream",
     "text": [
      "Seed set to 1\n"
     ]
    },
    {
     "name": "stdout",
     "output_type": "stream",
     "text": [
      "Epoch 999: 100%|██████████| 1/1 [00:00<00:00,  9.00it/s, v_num=339, train_loss_step=8.000, train_loss_epoch=8.000]    \n",
      "Predicting DataLoader 0: 100%|██████████| 1/1 [00:00<00:00, 46.47it/s]\n"
     ]
    },
    {
     "data": {
      "text/plain": [
       "1.0"
      ]
     },
     "execution_count": 234,
     "metadata": {},
     "output_type": "execute_result"
    }
   ],
   "source": [
    "from neuralforecast import NeuralForecast\n",
    "from neuralforecast.models import NBEATS \n",
    "from neuralforecast.losses.pytorch import DistributionLoss, MQLoss\n",
    "h = val_set['ds'].nunique()\n",
    "# models = [NBEATS(h=h,input_size=2,\n",
    "#                  loss=DistributionLoss(distribution='Normal', level=[90]),\n",
    "#                  max_steps=100,\n",
    "#                  scaler_type='standard',\n",
    "#                 futr_exog_list=['mean_future', 'mean_influential','mean_trustworthy', 'mean_clickbait', 'log_return_gspc_1', 'norm_rsi_14', 'norm_slowk_14', 'norm_roc_14'])]\n",
    "n_blocks = [prms['n_blocks_season'], prms['n_blocks_trend'], prms['n_blocks_ident']]\n",
    "mlp_units=[[prms['mlp_units'], prms['mlp_units']]*prms['num_hidden']]\n",
    "models = [NBEATS(\n",
    "                 h=h,\n",
    "                 loss=DistributionLoss(distribution='Normal', level=[90]),\n",
    "                 max_steps=1000,\n",
    "                 futr_exog_list=['log_return_1','mean_future', 'mean_influential','mean_trustworthy', 'mean_clickbait', 'log_return_gspc_1', 'norm_rsi_14', 'norm_slowk_14', 'norm_roc_14'],\n",
    "                 input_size=prms['input_size'],\n",
    "                 stack_types=['seasonality', 'trend', 'identity'],\n",
    "                 mlp_units=mlp_units,\n",
    "                 n_blocks=n_blocks,\n",
    "                 learning_rate=prms['learning_rate'],\n",
    "                 n_harmonics=prms['n_harmonics'],\n",
    "                 n_polynomials=prms['n_polynomials'],\n",
    "                 scaler_type='standard',\n",
    "                random_seed=1\n",
    "                 )]\n",
    "model = NeuralForecast(models=models, freq='D')\n",
    "model.fit(train_set)\n",
    "\n",
    "p =  model.predict(futr_df=val_set).reset_index()\n",
    "#p = p.merge(val_set[['ds','unique_id', 'y']], on=['ds', 'unique_id'], how='left')\n",
    "# p = p.merge(val_set[['Date', 'target_1']], on=['Date'], how='left')\n",
    "p = p.merge(val_set[['ds','unique_id', 'y']].reset_index(), on=['ds', 'unique_id'], how='left')\n",
    "loss = count_signs_matrix(p['y'], p['NBEATS']) \n",
    "loss = loss[1][1]/(loss[1][0]+loss[1][1])\n",
    "loss"
   ]
  },
  {
   "cell_type": "code",
   "execution_count": 233,
   "metadata": {},
   "outputs": [],
   "source": [
    "prms = study.best_trial.params"
   ]
  },
  {
   "cell_type": "code",
   "execution_count": 150,
   "metadata": {},
   "outputs": [
    {
     "data": {
      "text/plain": [
       "0.0005643292272526135"
      ]
     },
     "execution_count": 150,
     "metadata": {},
     "output_type": "execute_result"
    }
   ],
   "source": [
    "mean_squared_error(p['y'], p['NBEATS'])"
   ]
  },
  {
   "cell_type": "code",
   "execution_count": 176,
   "metadata": {},
   "outputs": [
    {
     "data": {
      "text/plain": [
       "59"
      ]
     },
     "execution_count": 176,
     "metadata": {},
     "output_type": "execute_result"
    }
   ],
   "source": [
    "h"
   ]
  },
  {
   "cell_type": "code",
   "execution_count": 214,
   "metadata": {},
   "outputs": [],
   "source": [
    "from sklearn.metrics import mean_squared_error\n",
    "import optuna\n",
    "\n",
    "def objective(trial):\n",
    "    input_size = trial.suggest_int('input_size', 1, 15)\n",
    "    \n",
    "    n_blocks_season = trial.suggest_int('n_blocks_season', 1, 3)\n",
    "    n_blocks_trend = trial.suggest_int('n_blocks_trend', 1, 3)\n",
    "    n_blocks_identity = trial.suggest_int('n_blocks_ident', 1, 3)\n",
    "    \n",
    "    mlp_units_n = trial.suggest_categorical('mlp_units', [32, 64, 128])\n",
    "    num_hidden = trial.suggest_int('num_hidden', 1, 3)\n",
    "    \n",
    "    n_harmonics = trial.suggest_int('n_harmonics', 1, 5)\n",
    "    n_polynomials = trial.suggest_int('n_polynomials', 1, 5)\n",
    "    \n",
    "    scaler_type = trial.suggest_categorical('scaler_type', ['standard'])\n",
    "    learning_rate = trial.suggest_loguniform('learning_rate', 1e-5, 1e-1)\n",
    "    \n",
    "    \n",
    "    n_blocks = [n_blocks_season, n_blocks_trend, n_blocks_identity]\n",
    "    mlp_units=[[mlp_units_n, mlp_units_n]]*num_hidden\n",
    "    h = val_set['ds'].nunique()\n",
    "    models = [NBEATS(h=h,input_size=input_size,\n",
    "                 loss=DistributionLoss(distribution='Normal', level=[90]),\n",
    "                 max_steps=1000,\n",
    "                 futr_exog_list=['log_return_1','mean_future', 'mean_influential','mean_trustworthy', 'mean_clickbait', 'log_return_gspc_1', 'norm_rsi_14', 'norm_slowk_14', 'norm_roc_14'],\n",
    "                 stack_types=['seasonality', 'trend', 'identity'],\n",
    "                 mlp_units=mlp_units,\n",
    "                 n_blocks=n_blocks,\n",
    "                 learning_rate=learning_rate,\n",
    "                 n_harmonics=n_harmonics,\n",
    "                 n_polynomials=n_polynomials,\n",
    "                 scaler_type=scaler_type)\n",
    "                 ]\n",
    "    model = NeuralForecast(models=models, freq='D')\n",
    "    model.fit(train_set)\n",
    "    p = model.predict(futr_df=val_set).reset_index()\n",
    "    p = p.merge(val_set[['ds', 'unique_id', 'y']], on=['ds', 'unique_id'], how='left')\n",
    "    loss = count_signs_matrix(p['y'], p['NBEATS']) \n",
    "    loss = (2*loss[1][1]/(loss[1][0]+loss[1][1]) + loss[1][1]/(loss[0][1]+loss[1][1]))/3\n",
    "\n",
    "    return loss"
   ]
  },
  {
   "cell_type": "code",
   "execution_count": 215,
   "metadata": {},
   "outputs": [
    {
     "name": "stderr",
     "output_type": "stream",
     "text": [
      "[I 2023-12-15 19:53:45,776] A new study created in memory with name: no-name-c2f6ac2f-b237-417b-bdd2-228e57d3db9c\n",
      "Seed set to 1\n"
     ]
    },
    {
     "name": "stdout",
     "output_type": "stream",
     "text": [
      "Epoch 999: 100%|██████████| 1/1 [00:00<00:00,  7.07it/s, v_num=301, train_loss_step=-.664, train_loss_epoch=-.664]  \n",
      "Predicting DataLoader 0: 100%|██████████| 1/1 [00:00<00:00, 44.70it/s]"
     ]
    },
    {
     "name": "stderr",
     "output_type": "stream",
     "text": [
      "[I 2023-12-15 19:55:37,754] Trial 0 finished with value: 0.23076923076923078 and parameters: {'input_size': 1, 'n_blocks_season': 3, 'n_blocks_trend': 2, 'n_blocks_ident': 2, 'mlp_units': 128, 'num_hidden': 3, 'n_harmonics': 2, 'n_polynomials': 3, 'scaler_type': 'standard', 'learning_rate': 0.0018224348752240212}. Best is trial 0 with value: 0.23076923076923078.\n"
     ]
    },
    {
     "name": "stdout",
     "output_type": "stream",
     "text": [
      "\n"
     ]
    },
    {
     "name": "stderr",
     "output_type": "stream",
     "text": [
      "Seed set to 1\n"
     ]
    },
    {
     "name": "stdout",
     "output_type": "stream",
     "text": [
      "Epoch 999: 100%|██████████| 1/1 [00:00<00:00,  8.82it/s, v_num=303, train_loss_step=0.708, train_loss_epoch=0.708]      \n",
      "Predicting DataLoader 0: 100%|██████████| 1/1 [00:00<00:00, 37.36it/s]\n"
     ]
    },
    {
     "name": "stderr",
     "output_type": "stream",
     "text": [
      "[I 2023-12-15 19:57:04,337] Trial 1 finished with value: 0.5 and parameters: {'input_size': 2, 'n_blocks_season': 3, 'n_blocks_trend': 3, 'n_blocks_ident': 3, 'mlp_units': 128, 'num_hidden': 1, 'n_harmonics': 1, 'n_polynomials': 1, 'scaler_type': 'standard', 'learning_rate': 9.100866201018801e-05}. Best is trial 1 with value: 0.5.\n",
      "Seed set to 1\n"
     ]
    },
    {
     "name": "stdout",
     "output_type": "stream",
     "text": [
      "Epoch 999: 100%|██████████| 1/1 [00:00<00:00,  7.22it/s, v_num=305, train_loss_step=-2.31, train_loss_epoch=-2.31]\n",
      "Predicting DataLoader 0: 100%|██████████| 1/1 [00:00<00:00, 80.98it/s]\n"
     ]
    },
    {
     "name": "stderr",
     "output_type": "stream",
     "text": [
      "[I 2023-12-15 19:58:34,457] Trial 2 finished with value: 0.038461538461538464 and parameters: {'input_size': 5, 'n_blocks_season': 2, 'n_blocks_trend': 3, 'n_blocks_ident': 1, 'mlp_units': 128, 'num_hidden': 2, 'n_harmonics': 1, 'n_polynomials': 3, 'scaler_type': 'standard', 'learning_rate': 0.00037754651485030695}. Best is trial 1 with value: 0.5.\n",
      "Seed set to 1\n"
     ]
    },
    {
     "name": "stdout",
     "output_type": "stream",
     "text": [
      "Epoch 999: 100%|██████████| 1/1 [00:00<00:00,  8.20it/s, v_num=307, train_loss_step=-1.67, train_loss_epoch=-1.67]  \n",
      "Predicting DataLoader 0: 100%|██████████| 1/1 [00:00<00:00, 57.15it/s]\n"
     ]
    },
    {
     "name": "stderr",
     "output_type": "stream",
     "text": [
      "[I 2023-12-15 20:00:07,320] Trial 3 finished with value: 0.6538461538461539 and parameters: {'input_size': 4, 'n_blocks_season': 2, 'n_blocks_trend': 1, 'n_blocks_ident': 3, 'mlp_units': 64, 'num_hidden': 3, 'n_harmonics': 2, 'n_polynomials': 4, 'scaler_type': 'standard', 'learning_rate': 6.347568649856103e-05}. Best is trial 3 with value: 0.6538461538461539.\n",
      "Seed set to 1\n"
     ]
    },
    {
     "name": "stdout",
     "output_type": "stream",
     "text": [
      "Epoch 999: 100%|██████████| 1/1 [00:00<00:00,  6.59it/s, v_num=309, train_loss_step=1.29e+10, train_loss_epoch=1.29e+10]\n",
      "Predicting DataLoader 0: 100%|██████████| 1/1 [00:00<00:00, 45.90it/s]"
     ]
    },
    {
     "name": "stderr",
     "output_type": "stream",
     "text": [
      "[I 2023-12-15 20:02:08,372] Trial 4 finished with value: 0.5 and parameters: {'input_size': 2, 'n_blocks_season': 3, 'n_blocks_trend': 2, 'n_blocks_ident': 3, 'mlp_units': 128, 'num_hidden': 1, 'n_harmonics': 3, 'n_polynomials': 1, 'scaler_type': 'standard', 'learning_rate': 0.015457594723471803}. Best is trial 3 with value: 0.6538461538461539.\n",
      "Seed set to 1\n"
     ]
    },
    {
     "name": "stdout",
     "output_type": "stream",
     "text": [
      "\n",
      "Epoch 999: 100%|██████████| 1/1 [00:00<00:00,  8.32it/s, v_num=311, train_loss_step=14.20, train_loss_epoch=14.20]      \n",
      "Predicting DataLoader 0: 100%|██████████| 1/1 [00:00<00:00, 35.22it/s]"
     ]
    },
    {
     "name": "stderr",
     "output_type": "stream",
     "text": [
      "[I 2023-12-15 20:03:36,134] Trial 5 finished with value: 0.5 and parameters: {'input_size': 3, 'n_blocks_season': 3, 'n_blocks_trend': 1, 'n_blocks_ident': 1, 'mlp_units': 128, 'num_hidden': 1, 'n_harmonics': 1, 'n_polynomials': 3, 'scaler_type': 'standard', 'learning_rate': 0.016752815803282823}. Best is trial 3 with value: 0.6538461538461539.\n",
      "Seed set to 1\n"
     ]
    },
    {
     "name": "stdout",
     "output_type": "stream",
     "text": [
      "\n",
      "Epoch 999: 100%|██████████| 1/1 [00:00<00:00,  9.69it/s, v_num=313, train_loss_step=-1.52, train_loss_epoch=-1.52]  \n",
      "Predicting DataLoader 0: 100%|██████████| 1/1 [00:00<00:00, 38.35it/s]"
     ]
    },
    {
     "name": "stderr",
     "output_type": "stream",
     "text": [
      "[I 2023-12-15 20:05:05,523] Trial 6 finished with value: 0.07692307692307693 and parameters: {'input_size': 5, 'n_blocks_season': 1, 'n_blocks_trend': 3, 'n_blocks_ident': 3, 'mlp_units': 32, 'num_hidden': 3, 'n_harmonics': 3, 'n_polynomials': 3, 'scaler_type': 'standard', 'learning_rate': 4.075053763785384e-05}. Best is trial 3 with value: 0.6538461538461539.\n"
     ]
    },
    {
     "name": "stdout",
     "output_type": "stream",
     "text": [
      "\n"
     ]
    },
    {
     "name": "stderr",
     "output_type": "stream",
     "text": [
      "Seed set to 1\n"
     ]
    },
    {
     "name": "stdout",
     "output_type": "stream",
     "text": [
      "Epoch 999: 100%|██████████| 1/1 [00:00<00:00,  8.11it/s, v_num=315, train_loss_step=8.000, train_loss_epoch=8.000]    \n",
      "Predicting DataLoader 0: 100%|██████████| 1/1 [00:00<00:00, 35.48it/s]\n"
     ]
    },
    {
     "name": "stderr",
     "output_type": "stream",
     "text": [
      "[I 2023-12-15 20:06:45,030] Trial 7 finished with value: 1.0 and parameters: {'input_size': 1, 'n_blocks_season': 2, 'n_blocks_trend': 2, 'n_blocks_ident': 2, 'mlp_units': 128, 'num_hidden': 1, 'n_harmonics': 3, 'n_polynomials': 2, 'scaler_type': 'standard', 'learning_rate': 0.0027906075985262703}. Best is trial 7 with value: 1.0.\n",
      "Seed set to 1\n"
     ]
    },
    {
     "name": "stdout",
     "output_type": "stream",
     "text": [
      "Epoch 999: 100%|██████████| 1/1 [00:00<00:00,  9.85it/s, v_num=317, train_loss_step=6.900, train_loss_epoch=6.900]    \n",
      "Predicting DataLoader 0: 100%|██████████| 1/1 [00:00<00:00, 50.45it/s]"
     ]
    },
    {
     "name": "stderr",
     "output_type": "stream",
     "text": [
      "[I 2023-12-15 20:08:17,806] Trial 8 finished with value: 0.23076923076923078 and parameters: {'input_size': 2, 'n_blocks_season': 3, 'n_blocks_trend': 2, 'n_blocks_ident': 1, 'mlp_units': 128, 'num_hidden': 1, 'n_harmonics': 2, 'n_polynomials': 3, 'scaler_type': 'standard', 'learning_rate': 1.4021518125086367e-05}. Best is trial 7 with value: 1.0.\n"
     ]
    },
    {
     "name": "stdout",
     "output_type": "stream",
     "text": [
      "\n"
     ]
    },
    {
     "name": "stderr",
     "output_type": "stream",
     "text": [
      "Seed set to 1\n"
     ]
    },
    {
     "name": "stdout",
     "output_type": "stream",
     "text": [
      "Predicting DataLoader 0: 100%|██████████| 1/1 [00:00<00:00, 51.98it/s]_step=0.104, train_loss_epoch=0.104]              \n"
     ]
    },
    {
     "name": "stderr",
     "output_type": "stream",
     "text": [
      "[I 2023-12-15 20:08:45,778] Trial 9 finished with value: 0.34615384615384615 and parameters: {'input_size': 2, 'n_blocks_season': 2, 'n_blocks_trend': 2, 'n_blocks_ident': 1, 'mlp_units': 64, 'num_hidden': 2, 'n_harmonics': 3, 'n_polynomials': 3, 'scaler_type': 'standard', 'learning_rate': 0.0004919778755160735}. Best is trial 7 with value: 1.0.\n",
      "Seed set to 1\n"
     ]
    },
    {
     "name": "stdout",
     "output_type": "stream",
     "text": [
      "Predicting DataLoader 0: 100%|██████████| 1/1 [00:00<00:00, 54.52it/s]_step=4.600, train_loss_epoch=4.600]           "
     ]
    },
    {
     "name": "stderr",
     "output_type": "stream",
     "text": [
      "[I 2023-12-15 20:09:09,446] Trial 10 finished with value: 1.0 and parameters: {'input_size': 6, 'n_blocks_season': 1, 'n_blocks_trend': 1, 'n_blocks_ident': 2, 'mlp_units': 32, 'num_hidden': 2, 'n_harmonics': 5, 'n_polynomials': 5, 'scaler_type': 'standard', 'learning_rate': 0.06614876804105344}. Best is trial 7 with value: 1.0.\n",
      "Seed set to 1\n"
     ]
    },
    {
     "name": "stdout",
     "output_type": "stream",
     "text": [
      "\n",
      "Epoch 276:   0%|          | 0/1 [00:00<?, ?it/s, v_num=321, train_loss_step=4.600, train_loss_epoch=4.600]\n",
      "Predicting DataLoader 0: 100%|██████████| 1/1 [00:00<00:00, 45.71it/s]_step=4.590, train_loss_epoch=4.590]            "
     ]
    },
    {
     "name": "stderr",
     "output_type": "stream",
     "text": [
      "[I 2023-12-15 20:10:09,108] Trial 11 finished with value: 0.6153846153846154 and parameters: {'input_size': 6, 'n_blocks_season': 1, 'n_blocks_trend': 1, 'n_blocks_ident': 2, 'mlp_units': 32, 'num_hidden': 2, 'n_harmonics': 5, 'n_polynomials': 5, 'scaler_type': 'standard', 'learning_rate': 0.08760874571494572}. Best is trial 7 with value: 1.0.\n",
      "Seed set to 1\n"
     ]
    },
    {
     "name": "stdout",
     "output_type": "stream",
     "text": [
      "\n",
      "Predicting DataLoader 0: 100%|██████████| 1/1 [00:00<00:00, 23.25it/s]_step=-2.22, train_loss_epoch=-2.22]        "
     ]
    },
    {
     "name": "stderr",
     "output_type": "stream",
     "text": [
      "[I 2023-12-15 20:10:58,023] Trial 12 finished with value: 0.2692307692307692 and parameters: {'input_size': 6, 'n_blocks_season': 1, 'n_blocks_trend': 1, 'n_blocks_ident': 2, 'mlp_units': 32, 'num_hidden': 2, 'n_harmonics': 5, 'n_polynomials': 5, 'scaler_type': 'standard', 'learning_rate': 0.004412107092660275}. Best is trial 7 with value: 1.0.\n"
     ]
    },
    {
     "name": "stdout",
     "output_type": "stream",
     "text": [
      "\n"
     ]
    },
    {
     "name": "stderr",
     "output_type": "stream",
     "text": [
      "Seed set to 1\n"
     ]
    },
    {
     "name": "stdout",
     "output_type": "stream",
     "text": [
      "Epoch 447:   0%|          | 0/1 [00:00<?, ?it/s, v_num=325, train_loss_step=-2.22, train_loss_epoch=-2.22]\n",
      "Predicting DataLoader 0: 100%|██████████| 1/1 [00:00<00:00, 34.99it/s]_step=7.35e+3, train_loss_epoch=7.35e+3]        "
     ]
    },
    {
     "name": "stderr",
     "output_type": "stream",
     "text": [
      "[I 2023-12-15 20:11:13,459] Trial 13 finished with value: 0.5384615384615384 and parameters: {'input_size': 4, 'n_blocks_season': 1, 'n_blocks_trend': 1, 'n_blocks_ident': 2, 'mlp_units': 32, 'num_hidden': 1, 'n_harmonics': 4, 'n_polynomials': 2, 'scaler_type': 'standard', 'learning_rate': 0.05891590234938065}. Best is trial 7 with value: 1.0.\n",
      "Seed set to 1\n"
     ]
    },
    {
     "name": "stdout",
     "output_type": "stream",
     "text": [
      "\n",
      "Predicting DataLoader 0: 100%|██████████| 1/1 [00:00<00:00, 36.46it/s]_step=-.657, train_loss_epoch=-.657]         "
     ]
    },
    {
     "name": "stderr",
     "output_type": "stream",
     "text": [
      "[I 2023-12-15 20:11:28,496] Trial 14 finished with value: 0.6923076923076923 and parameters: {'input_size': 1, 'n_blocks_season': 2, 'n_blocks_trend': 2, 'n_blocks_ident': 2, 'mlp_units': 32, 'num_hidden': 2, 'n_harmonics': 4, 'n_polynomials': 2, 'scaler_type': 'standard', 'learning_rate': 0.006252015298012767}. Best is trial 7 with value: 1.0.\n"
     ]
    },
    {
     "name": "stdout",
     "output_type": "stream",
     "text": [
      "\n"
     ]
    }
   ],
   "source": [
    "study = optuna.create_study(direction='maximize')\n",
    "study.optimize(objective, n_trials=100)"
   ]
  },
  {
   "cell_type": "code",
   "execution_count": null,
   "metadata": {},
   "outputs": [],
   "source": [
    "prms = study.best_trial.params"
   ]
  },
  {
   "cell_type": "code",
   "execution_count": null,
   "metadata": {},
   "outputs": [],
   "source": [
    "from neuralforecast import NeuralForecast\n",
    "from neuralforecast.models import NBEATS \n",
    "from neuralforecast.losses.pytorch import DistributionLoss, MQLoss\n",
    "h = val_set['ds'].nunique()\n",
    "n_blocks = [prms['n_blocks_season'], prms['n_blocks_trend'], prms['n_blocks_ident']]\n",
    "mlp_units=[[prms['mlp_units'], prms['mlp_units']]*prms['num_hidden']]\n",
    "models = [NBEATS(\n",
    "                 h=h,\n",
    "                 loss=DistributionLoss(distribution='Normal', level=[90]),\n",
    "                 max_steps=1000,\n",
    "                 futr_exog_list=['log_return_1','mean_future', 'mean_influential','mean_trustworthy', 'mean_clickbait', 'log_return_gspc_1', 'norm_rsi_14', 'norm_slowk_14', 'norm_roc_14'],\n",
    "                 input_size=prms['input_size'],\n",
    "                 stack_types=['seasonality', 'trend', 'identity'],\n",
    "                 mlp_units=mlp_units,\n",
    "                 n_blocks=n_blocks,\n",
    "                 learning_rate=prms['learning_rate'],\n",
    "                 n_harmonics=prms['n_harmonics'],\n",
    "                 n_polynomials=prms['n_polynomials'],\n",
    "                 scaler_type='standard',\n",
    "                random_seed=1\n",
    "                 )]\n",
    "model = NeuralForecast(models=models, freq='D')\n",
    "model.fit(train_set)\n",
    "\n",
    "p =  model.predict(futr_df=val_set).reset_index()\n",
    "p = p.merge(val_set[['ds','unique_id', 'y']].reset_index(), on=['ds', 'unique_id'], how='left')\n",
    "loss = count_signs_matrix(p['y'], p['NBEATS']) \n",
    "loss = (2*loss[1][1]/(loss[1][0]+loss[1][1]) + loss[1][1]/(loss[0][1]+loss[1][1]))/3\n",
    "loss"
   ]
  },
  {
   "cell_type": "code",
   "execution_count": 243,
   "metadata": {},
   "outputs": [
    {
     "data": {
      "text/plain": [
       "{'h': 59,\n",
       " 'models_init': [NBEATS],\n",
       " 'models': [NBEATS],\n",
       " 'freq': <Day>,\n",
       " 'local_scaler_type': None,\n",
       " '_fitted': True,\n",
       " 'dataset': TimeSeriesDataset(n_data=730, n_groups=1),\n",
       " 'uids': Index(['NFLX'], dtype='object', name='unique_id'),\n",
       " 'last_dates': DatetimeIndex(['2022-12-31'], dtype='datetime64[ns]', name='ds', freq=None),\n",
       " 'ds': MultiIndex([('NFLX', '2021-01-01'),\n",
       "             ('NFLX', '2021-01-02'),\n",
       "             ('NFLX', '2021-01-03'),\n",
       "             ('NFLX', '2021-01-04'),\n",
       "             ('NFLX', '2021-01-05'),\n",
       "             ('NFLX', '2021-01-06'),\n",
       "             ('NFLX', '2021-01-07'),\n",
       "             ('NFLX', '2021-01-08'),\n",
       "             ('NFLX', '2021-01-09'),\n",
       "             ('NFLX', '2021-01-10'),\n",
       "             ...\n",
       "             ('NFLX', '2022-12-22'),\n",
       "             ('NFLX', '2022-12-23'),\n",
       "             ('NFLX', '2022-12-24'),\n",
       "             ('NFLX', '2022-12-25'),\n",
       "             ('NFLX', '2022-12-26'),\n",
       "             ('NFLX', '2022-12-27'),\n",
       "             ('NFLX', '2022-12-28'),\n",
       "             ('NFLX', '2022-12-29'),\n",
       "             ('NFLX', '2022-12-30'),\n",
       "             ('NFLX', '2022-12-31')],\n",
       "            names=['unique_id', 'ds'], length=730),\n",
       " 'sort_df': True}"
      ]
     },
     "execution_count": 243,
     "metadata": {},
     "output_type": "execute_result"
    }
   ],
   "source": [
    "model.__dict__"
   ]
  },
  {
   "cell_type": "code",
   "execution_count": null,
   "metadata": {},
   "outputs": [],
   "source": [
    "loss_b1 = count_signs_matrix(p['y'][:-1],p['y'].shift(-1)[:(len(p['y'])-1)])\n",
    "loss_b1 = (2*loss_b1[1][1]/(loss_b1[1][0]+loss_b1[1][1]) + loss_b1[1][1]/(loss_b1[0][1]+loss_b1[1][1]))/3\n",
    "loss_b2 = count_signs_matrix(p['y'], [0 for i in range(len(val_set))])\n",
    "loss_b2 = (2*loss_b2[1][1]/(loss_b2[1][0]+loss_b2[1][1]) + loss_b2[1][1]/(loss_b2[0][1]+loss_b2[1][1]))/3\n",
    "\n",
    "print(f\"loss baseline 1: {loss_b1}\")\n",
    "print(f\"loss baseline 2: {loss_b2}\")\n",
    "\n",
    "if loss > loss_b1 and loss > loss_b2:\n",
    "    print(\"Model is better than both baselines\")\n"
   ]
  },
  {
   "cell_type": "code",
   "execution_count": 229,
   "metadata": {},
   "outputs": [],
   "source": [
    "prms = study.get_trials()[10].params"
   ]
  },
  {
   "cell_type": "code",
   "execution_count": 57,
   "metadata": {},
   "outputs": [
    {
     "data": {
      "text/html": [
       "<div>\n",
       "<style scoped>\n",
       "    .dataframe tbody tr th:only-of-type {\n",
       "        vertical-align: middle;\n",
       "    }\n",
       "\n",
       "    .dataframe tbody tr th {\n",
       "        vertical-align: top;\n",
       "    }\n",
       "\n",
       "    .dataframe thead th {\n",
       "        text-align: right;\n",
       "    }\n",
       "</style>\n",
       "<table border=\"1\" class=\"dataframe\">\n",
       "  <thead>\n",
       "    <tr style=\"text-align: right;\">\n",
       "      <th></th>\n",
       "      <th>ds</th>\n",
       "      <th>mean_future</th>\n",
       "      <th>mean_influential</th>\n",
       "      <th>mean_trustworthy</th>\n",
       "      <th>mean_clickbait</th>\n",
       "      <th>log_return_gspc_1</th>\n",
       "      <th>norm_rsi_14</th>\n",
       "      <th>norm_slowk_14</th>\n",
       "      <th>norm_roc_14</th>\n",
       "      <th>y</th>\n",
       "      <th>unique_id</th>\n",
       "    </tr>\n",
       "  </thead>\n",
       "  <tbody>\n",
       "    <tr>\n",
       "      <th>1033</th>\n",
       "      <td>2023-07-01</td>\n",
       "      <td>0.121962</td>\n",
       "      <td>0.479170</td>\n",
       "      <td>0.464013</td>\n",
       "      <td>0.227652</td>\n",
       "      <td>0.00000</td>\n",
       "      <td>0.678372</td>\n",
       "      <td>0.805054</td>\n",
       "      <td>0.019747</td>\n",
       "      <td>0.000000</td>\n",
       "      <td>NFLX</td>\n",
       "    </tr>\n",
       "    <tr>\n",
       "      <th>1034</th>\n",
       "      <td>2023-07-02</td>\n",
       "      <td>0.191431</td>\n",
       "      <td>0.457522</td>\n",
       "      <td>0.426086</td>\n",
       "      <td>0.187946</td>\n",
       "      <td>0.00000</td>\n",
       "      <td>0.678372</td>\n",
       "      <td>0.805054</td>\n",
       "      <td>0.019747</td>\n",
       "      <td>0.002154</td>\n",
       "      <td>NFLX</td>\n",
       "    </tr>\n",
       "    <tr>\n",
       "      <th>1035</th>\n",
       "      <td>2023-07-03</td>\n",
       "      <td>0.197864</td>\n",
       "      <td>0.503323</td>\n",
       "      <td>0.430169</td>\n",
       "      <td>0.164357</td>\n",
       "      <td>0.00117</td>\n",
       "      <td>0.683970</td>\n",
       "      <td>0.917842</td>\n",
       "      <td>0.021947</td>\n",
       "      <td>0.000000</td>\n",
       "      <td>NFLX</td>\n",
       "    </tr>\n",
       "    <tr>\n",
       "      <th>1036</th>\n",
       "      <td>2023-07-04</td>\n",
       "      <td>-0.056240</td>\n",
       "      <td>-0.066822</td>\n",
       "      <td>-0.006749</td>\n",
       "      <td>-0.026588</td>\n",
       "      <td>0.00000</td>\n",
       "      <td>0.683970</td>\n",
       "      <td>0.917842</td>\n",
       "      <td>0.015505</td>\n",
       "      <td>0.010053</td>\n",
       "      <td>NFLX</td>\n",
       "    </tr>\n",
       "    <tr>\n",
       "      <th>1037</th>\n",
       "      <td>2023-07-05</td>\n",
       "      <td>0.112205</td>\n",
       "      <td>0.263429</td>\n",
       "      <td>0.224886</td>\n",
       "      <td>0.101679</td>\n",
       "      <td>-0.00197</td>\n",
       "      <td>0.711326</td>\n",
       "      <td>0.871548</td>\n",
       "      <td>0.050536</td>\n",
       "      <td>-0.015960</td>\n",
       "      <td>NFLX</td>\n",
       "    </tr>\n",
       "  </tbody>\n",
       "</table>\n",
       "</div>"
      ],
      "text/plain": [
       "             ds  mean_future  mean_influential  mean_trustworthy  \\\n",
       "1033 2023-07-01     0.121962          0.479170          0.464013   \n",
       "1034 2023-07-02     0.191431          0.457522          0.426086   \n",
       "1035 2023-07-03     0.197864          0.503323          0.430169   \n",
       "1036 2023-07-04    -0.056240         -0.066822         -0.006749   \n",
       "1037 2023-07-05     0.112205          0.263429          0.224886   \n",
       "\n",
       "      mean_clickbait  log_return_gspc_1  norm_rsi_14  norm_slowk_14  \\\n",
       "1033        0.227652            0.00000     0.678372       0.805054   \n",
       "1034        0.187946            0.00000     0.678372       0.805054   \n",
       "1035        0.164357            0.00117     0.683970       0.917842   \n",
       "1036       -0.026588            0.00000     0.683970       0.917842   \n",
       "1037        0.101679           -0.00197     0.711326       0.871548   \n",
       "\n",
       "      norm_roc_14         y unique_id  \n",
       "1033     0.019747  0.000000      NFLX  \n",
       "1034     0.019747  0.002154      NFLX  \n",
       "1035     0.021947  0.000000      NFLX  \n",
       "1036     0.015505  0.010053      NFLX  \n",
       "1037     0.050536 -0.015960      NFLX  "
      ]
     },
     "execution_count": 57,
     "metadata": {},
     "output_type": "execute_result"
    }
   ],
   "source": [
    "val_set.head()"
   ]
  },
  {
   "cell_type": "code",
   "execution_count": 165,
   "metadata": {},
   "outputs": [
    {
     "data": {
      "text/plain": [
       "789   2023-03-01\n",
       "790   2023-03-02\n",
       "791   2023-03-03\n",
       "792   2023-03-04\n",
       "793   2023-03-05\n",
       "794   2023-03-06\n",
       "795   2023-03-07\n",
       "796   2023-03-08\n",
       "797   2023-03-09\n",
       "798   2023-03-10\n",
       "799   2023-03-11\n",
       "800   2023-03-12\n",
       "801   2023-03-13\n",
       "802   2023-03-14\n",
       "803   2023-03-15\n",
       "804   2023-03-16\n",
       "805   2023-03-17\n",
       "806   2023-03-18\n",
       "807   2023-03-19\n",
       "808   2023-03-20\n",
       "809   2023-03-21\n",
       "810   2023-03-22\n",
       "811   2023-03-23\n",
       "812   2023-03-24\n",
       "813   2023-03-25\n",
       "814   2023-03-26\n",
       "815   2023-03-27\n",
       "816   2023-03-28\n",
       "817   2023-03-29\n",
       "818   2023-03-30\n",
       "819   2023-03-31\n",
       "820   2023-04-01\n",
       "821   2023-04-02\n",
       "822   2023-04-03\n",
       "823   2023-04-04\n",
       "824   2023-04-05\n",
       "825   2023-04-06\n",
       "826   2023-04-07\n",
       "827   2023-04-08\n",
       "828   2023-04-09\n",
       "829   2023-04-10\n",
       "830   2023-04-11\n",
       "831   2023-04-12\n",
       "832   2023-04-13\n",
       "833   2023-04-14\n",
       "834   2023-04-15\n",
       "835   2023-04-16\n",
       "836   2023-04-17\n",
       "837   2023-04-18\n",
       "838   2023-04-19\n",
       "839   2023-04-20\n",
       "840   2023-04-21\n",
       "841   2023-04-22\n",
       "842   2023-04-23\n",
       "843   2023-04-24\n",
       "Name: ds, dtype: datetime64[ns]"
      ]
     },
     "execution_count": 165,
     "metadata": {},
     "output_type": "execute_result"
    }
   ],
   "source": [
    "test_set['ds']"
   ]
  },
  {
   "cell_type": "code",
   "execution_count": 187,
   "metadata": {},
   "outputs": [
    {
     "name": "stdout",
     "output_type": "stream",
     "text": [
      "Predicting DataLoader 0: 100%|██████████| 1/1 [00:00<00:00, 180.12it/s]\n"
     ]
    },
    {
     "data": {
      "text/html": [
       "<div>\n",
       "<style scoped>\n",
       "    .dataframe tbody tr th:only-of-type {\n",
       "        vertical-align: middle;\n",
       "    }\n",
       "\n",
       "    .dataframe tbody tr th {\n",
       "        vertical-align: top;\n",
       "    }\n",
       "\n",
       "    .dataframe thead th {\n",
       "        text-align: right;\n",
       "    }\n",
       "</style>\n",
       "<table border=\"1\" class=\"dataframe\">\n",
       "  <thead>\n",
       "    <tr style=\"text-align: right;\">\n",
       "      <th></th>\n",
       "      <th>unique_id</th>\n",
       "      <th>ds</th>\n",
       "      <th>NBEATS</th>\n",
       "    </tr>\n",
       "  </thead>\n",
       "  <tbody>\n",
       "    <tr>\n",
       "      <th>0</th>\n",
       "      <td>NFLX</td>\n",
       "      <td>2023-01-01</td>\n",
       "      <td>-0.006884</td>\n",
       "    </tr>\n",
       "    <tr>\n",
       "      <th>1</th>\n",
       "      <td>NFLX</td>\n",
       "      <td>2023-01-02</td>\n",
       "      <td>-0.010781</td>\n",
       "    </tr>\n",
       "  </tbody>\n",
       "</table>\n",
       "</div>"
      ],
      "text/plain": [
       "  unique_id         ds    NBEATS\n",
       "0      NFLX 2023-01-01 -0.006884\n",
       "1      NFLX 2023-01-02 -0.010781"
      ]
     },
     "execution_count": 187,
     "metadata": {},
     "output_type": "execute_result"
    }
   ],
   "source": [
    "model.predict(futr_df=val_set).reset_index()"
   ]
  },
  {
   "cell_type": "code",
   "execution_count": 235,
   "metadata": {},
   "outputs": [
    {
     "data": {
      "image/png": "[encoded data removed]",
      "text/plain": [
       "<Figure size 1000x600 with 1 Axes>"
      ]
     },
     "metadata": {},
     "output_type": "display_data"
    }
   ],
   "source": [
    "plot_actual_vs_predicted(p['y'], p['NBEATS'], [0 for i in range(len(val_set))])"
   ]
  },
  {
   "cell_type": "code",
   "execution_count": 213,
   "metadata": {},
   "outputs": [
    {
     "data": {
      "text/plain": [
       "array([[15, 16],\n",
       "       [ 9, 17]])"
      ]
     },
     "execution_count": 213,
     "metadata": {},
     "output_type": "execute_result"
    }
   ],
   "source": [
    "count_signs_matrix(p['y'], p['NBEATS'])"
   ]
  },
  {
   "cell_type": "code",
   "execution_count": 202,
   "metadata": {},
   "outputs": [
    {
     "data": {
      "text/plain": [
       "array([[14, 14],\n",
       "       [15, 11]])"
      ]
     },
     "execution_count": 202,
     "metadata": {},
     "output_type": "execute_result"
    }
   ],
   "source": [
    "count_signs_matrix(p['y'][:-1],p['y'].shift(-1)[:(len(p['y'])-1)])\n"
   ]
  },
  {
   "cell_type": "code",
   "execution_count": 153,
   "metadata": {},
   "outputs": [
    {
     "data": {
      "image/png": "[encoded data removed]",
      "text/plain": [
       "<Figure size 1000x600 with 1 Axes>"
      ]
     },
     "metadata": {},
     "output_type": "display_data"
    }
   ],
   "source": [
    "plot_actual_vs_predicted(p['y'][1:], p['NBEATS'][1:], p['y'].shift(-1))"
   ]
  },
  {
   "cell_type": "code",
   "execution_count": 125,
   "metadata": {},
   "outputs": [],
   "source": [
    "df_without_weekends = pd.read_csv(\"csv/\"+prefix+'_without_weekends.csv')"
   ]
  },
  {
   "cell_type": "code",
   "execution_count": 127,
   "metadata": {},
   "outputs": [],
   "source": [
    "df_without_weekends.drop(columns=['NFLX_Open', 'NFLX_High', 'NFLX_Low', 'NFLX_Close', 'Unnamed: 0', '^GSPC_Close','vwap_14'], inplace=True) "
   ]
  },
  {
   "cell_type": "code",
   "execution_count": 128,
   "metadata": {},
   "outputs": [],
   "source": [
    "df_without_weekends['target_1'] = df_without_weekends['log_return_1'].shift(-1)\n",
    "df_without_weekends['target_5'] = df_without_weekends['log_return_5'].shift(-5)\n",
    "df_without_weekends['target_10'] = df_without_weekends['log_return_10'].shift(-10)\n",
    "df_without_weekends['target_20'] = df_without_weekends['log_return_20'].shift(-20)"
   ]
  },
  {
   "cell_type": "code",
   "execution_count": 131,
   "metadata": {},
   "outputs": [],
   "source": [
    "# Add column date_generated with dates from 2021-01-01 incremented by 1 day\n",
    "df_without_weekends['Date'] = pd.date_range(start='2021-01-01', end='2023-09-01', freq='D')[:len(df_without_weekends)]"
   ]
  },
  {
   "cell_type": "code",
   "execution_count": 1,
   "metadata": {},
   "outputs": [
    {
     "name": "stderr",
     "output_type": "stream",
     "text": [
      "c:\\Users\\szymo\\AppData\\Local\\Programs\\Python\\Python310\\lib\\site-packages\\tqdm\\auto.py:21: TqdmWarning: IProgress not found. Please update jupyter and ipywidgets. See https://ipywidgets.readthedocs.io/en/stable/user_install.html\n",
      "  from .autonotebook import tqdm as notebook_tqdm\n",
      "c:\\Users\\szymo\\AppData\\Local\\Programs\\Python\\Python310\\lib\\site-packages\\torchvision\\io\\image.py:13: UserWarning: Failed to load image Python extension: [WinError 127] Nie można odnaleźć określonej procedury\n",
      "  warn(f\"Failed to load image Python extension: {e}\")\n"
     ]
    }
   ],
   "source": [
    "from model_training import *\n",
    "import pandas as pd\n",
    "import numpy as np\n",
    "from scripts.essentials import *\n",
    "from scripts.plots import *\n",
    "from scripts.train_utilities import *"
   ]
  },
  {
   "cell_type": "code",
   "execution_count": 2,
   "metadata": {},
   "outputs": [
    {
     "data": {
      "text/plain": [
       "['mean_future',\n",
       " 'mean_influential',\n",
       " 'mean_trustworthy',\n",
       " 'mean_clickbait',\n",
       " 'NFLX_High',\n",
       " 'NFLX_Low',\n",
       " 'NFLX_Open']"
      ]
     },
     "execution_count": 2,
     "metadata": {},
     "output_type": "execute_result"
    }
   ],
   "source": [
    "FINAL_COLS"
   ]
  },
  {
   "cell_type": "code",
   "execution_count": 2,
   "metadata": {},
   "outputs": [
    {
     "name": "stdout",
     "output_type": "stream",
     "text": [
      "(744, 54)\n",
      "(40, 54)\n",
      "(60, 54)\n"
     ]
    }
   ],
   "source": [
    "prefix = \"NFLX\"\n",
    "\n",
    "df_without_weekends = pd.read_csv(\"csv/\"+prefix+'_without_weekends.csv')\n",
    "#df_without_weekends.drop(columns=['Unnamed: 0'], inplace=True) \n",
    "df_without_weekends['DateGen'] = pd.date_range(start='2021-01-01', end='2023-11-26', freq='D')[:len(df_without_weekends)]\n",
    "# Take the max date from the dataset\n",
    "max_date = df_without_weekends['DateGen'].max()\n",
    "# Deduct 40 days from this date\n",
    "test_start_date = max_date - pd.DateOffset(days=59)\n",
    "# Deduct 60 days from the test_start_date\n",
    "val_start_date = test_start_date - pd.DateOffset(days=40)\n",
    "train_set, val_set, test_set = split_data(df_without_weekends, 'DateGen', val_start_date, test_start_date, start_date_train = '2021-01-01')\n",
    "print(train_set.shape)\n",
    "print(val_set.shape)\n",
    "print(test_set.shape)\n"
   ]
  },
  {
   "cell_type": "code",
   "execution_count": 3,
   "metadata": {},
   "outputs": [],
   "source": [
    "cols_min_max = ['^GSPC_Volume', 'NFLX_Volume',\n",
    "'daily_variation', 'high_close_pressure', 'low_open_pressure',\n",
    "'low_norm', 'close_norm', 'high_norm', 'open_norm']\n",
    "\n",
    "train_set, scaler_min_max = min_max_scale(train_set,'Date', cols_min_max, train_data=True, scaler=None)\n",
    "val_set = min_max_scale(val_set,'Date', cols_min_max, train_data=False, scaler=scaler_min_max)\n",
    "test_set = min_max_scale(test_set,'Date', cols_min_max, train_data=False, scaler=scaler_min_max)"
   ]
  },
  {
   "cell_type": "code",
   "execution_count": 4,
   "metadata": {},
   "outputs": [
    {
     "data": {
      "text/plain": [
       "(Timestamp('2023-01-14 00:00:00'),\n",
       " Timestamp('2023-01-15 00:00:00'),\n",
       " Timestamp('2023-02-23 00:00:00'),\n",
       " Timestamp('2023-02-24 00:00:00'),\n",
       " Timestamp('2023-04-24 00:00:00'))"
      ]
     },
     "execution_count": 4,
     "metadata": {},
     "output_type": "execute_result"
    }
   ],
   "source": [
    "train_set['DateGen'].max(), val_set['DateGen'].min(),val_set['DateGen'].max(), test_set['DateGen'].min(),test_set['DateGen'].max()"
   ]
  },
  {
   "cell_type": "code",
   "execution_count": 5,
   "metadata": {},
   "outputs": [
    {
     "data": {
      "text/plain": [
       "Index(['Unnamed: 0', 'future', 'influential', 'trustworthy', 'not clickbait',\n",
       "       'finbert_Score', 'bart_Score', 'vader_Score', 'future_finbert',\n",
       "       'future_bart', 'future_vader', 'influential_finbert',\n",
       "       'influential_bart', 'influential_vader', 'trustworthy_finbert',\n",
       "       'trustworthy_bart', 'trustworthy_vader', 'clickbait_finbert',\n",
       "       'clickbait_bart', 'clickbait_vader', 'Date', '^GSPC_Close',\n",
       "       'EURUSD=X_Close', 'NFLX_Open', 'NFLX_High', 'NFLX_Low', 'NFLX_Close',\n",
       "       'mean_future', 'mean_influential', 'mean_trustworthy', 'mean_clickbait',\n",
       "       'norm_rsi_14', 'norm_rsi_gspc_14', 'norm_slowk_14', 'vwap_14',\n",
       "       'norm_roc_14', 'log_return_1', 'log_return_5', 'log_return_10',\n",
       "       'log_return_20', 'log_return_gspc_1', 'log_return_gspc_5',\n",
       "       'log_return_gspc_10', 'log_return_gspc_20', 'DateGen',\n",
       "       'minmax_^GSPC_Volume', 'minmax_NFLX_Volume', 'minmax_daily_variation',\n",
       "       'minmax_high_close_pressure', 'minmax_low_open_pressure',\n",
       "       'minmax_low_norm', 'minmax_close_norm', 'minmax_high_norm',\n",
       "       'minmax_open_norm'],\n",
       "      dtype='object')"
      ]
     },
     "execution_count": 5,
     "metadata": {},
     "output_type": "execute_result"
    }
   ],
   "source": [
    "train_set.columns"
   ]
  },
  {
   "cell_type": "code",
   "execution_count": 6,
   "metadata": {},
   "outputs": [],
   "source": [
    "train_set = train_set[['DateGen','mean_future', 'mean_influential','mean_trustworthy', 'mean_clickbait','norm_rsi_14', 'norm_rsi_gspc_14', 'norm_slowk_14', f'{prefix}_Close']]\n",
    "val_set = val_set[['DateGen','mean_future', 'mean_influential','mean_trustworthy', 'mean_clickbait','norm_rsi_14', 'norm_rsi_gspc_14', 'norm_slowk_14', f'{prefix}_Close']]\n",
    "test_set = test_set[['DateGen','mean_future', 'mean_influential','mean_trustworthy', 'mean_clickbait','norm_rsi_14', 'norm_rsi_gspc_14', 'norm_slowk_14', f'{prefix}_Close']]\n",
    "train_set.rename(columns={'DateGen':'ds', f'{prefix}_Close':'y'}, inplace=True)\n",
    "val_set.rename(columns={'DateGen':'ds', f'{prefix}_Close':'y'}, inplace=True)\n",
    "test_set.rename(columns={'DateGen':'ds', f'{prefix}_Close':'y'}, inplace=True)\n",
    "train_set['unique_id'] = 'NFLX'\n",
    "val_set['unique_id'] = 'NFLX'\n",
    "test_set['unique_id'] = 'NFLX'"
   ]
  },
  {
   "cell_type": "code",
   "execution_count": 7,
   "metadata": {},
   "outputs": [
    {
     "data": {
      "text/plain": [
       "Index(['ds', 'mean_future', 'mean_influential', 'mean_trustworthy',\n",
       "       'mean_clickbait', 'norm_rsi_14', 'norm_rsi_gspc_14', 'norm_slowk_14',\n",
       "       'y', 'unique_id'],\n",
       "      dtype='object')"
      ]
     },
     "execution_count": 7,
     "metadata": {},
     "output_type": "execute_result"
    }
   ],
   "source": [
    "train_set.columns"
   ]
  },
  {
   "cell_type": "code",
   "execution_count": 8,
   "metadata": {},
   "outputs": [
    {
     "data": {
      "text/html": [
       "<pre style=\"white-space:pre;overflow-x:auto;line-height:normal;font-family:Menlo,'DejaVu Sans Mono',consolas,'Courier New',monospace\"><span style=\"color: #800000; text-decoration-color: #800000\">╭─────────────────────────────── </span><span style=\"color: #800000; text-decoration-color: #800000; font-weight: bold\">Traceback </span><span style=\"color: #bf7f7f; text-decoration-color: #bf7f7f; font-weight: bold\">(most recent call last)</span><span style=\"color: #800000; text-decoration-color: #800000\"> ────────────────────────────────╮</span>\n",
       "<span style=\"color: #800000; text-decoration-color: #800000\">│</span> in <span style=\"color: #00ff00; text-decoration-color: #00ff00\">&lt;module&gt;</span>:<span style=\"color: #0000ff; text-decoration-color: #0000ff\">1</span>                                                                                    <span style=\"color: #800000; text-decoration-color: #800000\">│</span>\n",
       "<span style=\"color: #800000; text-decoration-color: #800000\">│</span>                                                                                                  <span style=\"color: #800000; text-decoration-color: #800000\">│</span>\n",
       "<span style=\"color: #800000; text-decoration-color: #800000\">│</span> <span style=\"color: #800000; text-decoration-color: #800000\">❱ </span>1 prms                                                                                         <span style=\"color: #800000; text-decoration-color: #800000\">│</span>\n",
       "<span style=\"color: #800000; text-decoration-color: #800000\">│</span>   <span style=\"color: #7f7f7f; text-decoration-color: #7f7f7f\">2 </span>                                                                                             <span style=\"color: #800000; text-decoration-color: #800000\">│</span>\n",
       "<span style=\"color: #800000; text-decoration-color: #800000\">╰──────────────────────────────────────────────────────────────────────────────────────────────────╯</span>\n",
       "<span style=\"color: #ff0000; text-decoration-color: #ff0000; font-weight: bold\">NameError: </span>name <span style=\"color: #008000; text-decoration-color: #008000\">'prms'</span> is not defined\n",
       "</pre>\n"
      ],
      "text/plain": [
       "\u001b[31m╭─\u001b[0m\u001b[31m──────────────────────────────\u001b[0m\u001b[31m \u001b[0m\u001b[1;31mTraceback \u001b[0m\u001b[1;2;31m(most recent call last)\u001b[0m\u001b[31m \u001b[0m\u001b[31m───────────────────────────────\u001b[0m\u001b[31m─╮\u001b[0m\n",
       "\u001b[31m│\u001b[0m in \u001b[92m<module>\u001b[0m:\u001b[94m1\u001b[0m                                                                                    \u001b[31m│\u001b[0m\n",
       "\u001b[31m│\u001b[0m                                                                                                  \u001b[31m│\u001b[0m\n",
       "\u001b[31m│\u001b[0m \u001b[31m❱ \u001b[0m1 prms                                                                                         \u001b[31m│\u001b[0m\n",
       "\u001b[31m│\u001b[0m   \u001b[2m2 \u001b[0m                                                                                             \u001b[31m│\u001b[0m\n",
       "\u001b[31m╰──────────────────────────────────────────────────────────────────────────────────────────────────╯\u001b[0m\n",
       "\u001b[1;91mNameError: \u001b[0mname \u001b[32m'prms'\u001b[0m is not defined\n"
      ]
     },
     "metadata": {},
     "output_type": "display_data"
    }
   ],
   "source": [
    "prms"
   ]
  },
  {
   "cell_type": "code",
   "execution_count": 10,
   "metadata": {},
   "outputs": [
    {
     "name": "stderr",
     "output_type": "stream",
     "text": [
      "[I 2023-12-17 15:21:13,523] A new study created in memory with name: no-name-54f59947-d272-41b1-bf55-890046422752\n",
      "Seed set to 1\n"
     ]
    },
    {
     "name": "stdout",
     "output_type": "stream",
     "text": [
      "{'input_size': 13, 'max_steps': 300, 'hist_exog_list': ['mean_future', 'mean_influential', 'mean_trustworthy', 'mean_clickbait', 'norm_rsi_14', 'norm_rsi_gspc_14', 'norm_slowk_14'], 'stack_types': ['seasonality', 'trend', 'identity'], 'mlp_units': [[64, 64], [64, 64], [64, 64]], 'n_blocks': [2, 2, 1], 'n_harmonics': 4, 'n_polynomials': 2, 'learning_rate': 0.011962806393427804, 'scaler_type': 'standard', 'random_seed': 1}\n",
      "744 10\n",
      "Epoch 299: 100%|██████████| 1/1 [00:00<00:00,  8.73it/s, v_num=1750, train_loss_step=0.422, train_loss_epoch=0.422]\n",
      "Predicting DataLoader 0: 100%|██████████| 1/1 [00:00<00:00, 74.03it/s]\n",
      "754 10\n",
      "Epoch 299: 100%|██████████| 1/1 [00:00<00:00,  9.42it/s, v_num=1752, train_loss_step=0.413, train_loss_epoch=0.413]\n",
      "Predicting DataLoader 0: 100%|██████████| 1/1 [00:00<00:00, 62.30it/s]\n",
      "764 10\n",
      "Epoch 299: 100%|██████████| 1/1 [00:00<00:00,  7.90it/s, v_num=1754, train_loss_step=0.407, train_loss_epoch=0.407]\n",
      "Predicting DataLoader 0: 100%|██████████| 1/1 [00:00<00:00, 65.71it/s]\n",
      "774 10\n",
      "Epoch 299: 100%|██████████| 1/1 [00:00<00:00,  9.10it/s, v_num=1756, train_loss_step=0.436, train_loss_epoch=0.436]\n",
      "Predicting DataLoader 0: 100%|██████████| 1/1 [00:00<00:00, 117.42it/s]"
     ]
    },
    {
     "name": "stderr",
     "output_type": "stream",
     "text": [
      "[I 2023-12-17 15:22:53,072] Trial 0 finished with value: 555.4748669017108 and parameters: {'input_size': 13, 'n_blocks_season': 2, 'n_blocks_trend': 2, 'n_blocks_ident': 1, 'mlp_units': 64, 'num_hidden': 3, 'n_harmonics': 4, 'n_polynomials': 2, 'scaler_type': 'standard', 'learning_rate': 0.011962806393427804}. Best is trial 0 with value: 555.4748669017108.\n",
      "Seed set to 1\n"
     ]
    },
    {
     "name": "stdout",
     "output_type": "stream",
     "text": [
      "\n",
      "{'input_size': 5, 'max_steps': 300, 'hist_exog_list': ['mean_future', 'mean_influential', 'mean_trustworthy', 'mean_clickbait', 'norm_rsi_14', 'norm_rsi_gspc_14', 'norm_slowk_14'], 'stack_types': ['seasonality', 'trend', 'identity'], 'mlp_units': [[32, 32], [32, 32]], 'n_blocks': [3, 3, 1], 'n_harmonics': 2, 'n_polynomials': 4, 'learning_rate': 1.426366169756759e-05, 'scaler_type': 'standard', 'random_seed': 1}\n",
      "744 10\n",
      "Epoch 299: 100%|██████████| 1/1 [00:00<00:00,  9.61it/s, v_num=1758, train_loss_step=5.420, train_loss_epoch=5.420]\n",
      "Predicting DataLoader 0: 100%|██████████| 1/1 [00:00<00:00, 110.88it/s]\n",
      "754 10\n",
      "Epoch 299: 100%|██████████| 1/1 [00:00<00:00,  8.52it/s, v_num=1760, train_loss_step=5.110, train_loss_epoch=5.110]\n",
      "Predicting DataLoader 0: 100%|██████████| 1/1 [00:00<00:00, 45.79it/s]\n",
      "764 10\n",
      "Epoch 299: 100%|██████████| 1/1 [00:00<00:00,  8.09it/s, v_num=1762, train_loss_step=6.030, train_loss_epoch=6.030]\n",
      "Predicting DataLoader 0: 100%|██████████| 1/1 [00:00<00:00, 47.16it/s]\n",
      "774 10\n",
      "Epoch 299: 100%|██████████| 1/1 [00:00<00:00,  7.47it/s, v_num=1764, train_loss_step=5.410, train_loss_epoch=5.410]\n",
      "Predicting DataLoader 0: 100%|██████████| 1/1 [00:00<00:00, 54.57it/s]"
     ]
    },
    {
     "name": "stderr",
     "output_type": "stream",
     "text": [
      "[I 2023-12-17 15:24:20,618] Trial 1 finished with value: 326.31723167407347 and parameters: {'input_size': 5, 'n_blocks_season': 3, 'n_blocks_trend': 3, 'n_blocks_ident': 1, 'mlp_units': 32, 'num_hidden': 2, 'n_harmonics': 2, 'n_polynomials': 4, 'scaler_type': 'standard', 'learning_rate': 1.426366169756759e-05}. Best is trial 1 with value: 326.31723167407347.\n",
      "Seed set to 1\n"
     ]
    },
    {
     "name": "stdout",
     "output_type": "stream",
     "text": [
      "\n",
      "{'input_size': 5, 'max_steps': 300, 'hist_exog_list': ['mean_future', 'mean_influential', 'mean_trustworthy', 'mean_clickbait', 'norm_rsi_14', 'norm_rsi_gspc_14', 'norm_slowk_14'], 'stack_types': ['seasonality', 'trend', 'identity'], 'mlp_units': [[32, 32], [32, 32]], 'n_blocks': [2, 3, 2], 'n_harmonics': 4, 'n_polynomials': 3, 'learning_rate': 0.0004212993173118761, 'scaler_type': 'standard', 'random_seed': 1}\n",
      "744 10\n",
      "Epoch 299: 100%|██████████| 1/1 [00:00<00:00, 10.97it/s, v_num=1766, train_loss_step=5.240, train_loss_epoch=5.240]\n",
      "Predicting DataLoader 0: 100%|██████████| 1/1 [00:00<00:00, 51.20it/s]\n",
      "754 10\n",
      "Epoch 299: 100%|██████████| 1/1 [00:00<00:00, 15.94it/s, v_num=1768, train_loss_step=4.940, train_loss_epoch=4.940]\n",
      "Predicting DataLoader 0: 100%|██████████| 1/1 [00:00<00:00, 143.20it/s]\n",
      "764 10\n",
      "Epoch 299: 100%|██████████| 1/1 [00:00<00:00, 10.18it/s, v_num=1770, train_loss_step=5.810, train_loss_epoch=5.810]\n",
      "Predicting DataLoader 0: 100%|██████████| 1/1 [00:00<00:00, 47.82it/s]\n",
      "774 10\n",
      "Epoch 299: 100%|██████████| 1/1 [00:00<00:00,  9.57it/s, v_num=1772, train_loss_step=5.210, train_loss_epoch=5.210]\n",
      "Predicting DataLoader 0: 100%|██████████| 1/1 [00:00<00:00, 50.20it/s]"
     ]
    },
    {
     "name": "stderr",
     "output_type": "stream",
     "text": [
      "[I 2023-12-17 15:25:48,284] Trial 2 finished with value: 877.2095823958285 and parameters: {'input_size': 5, 'n_blocks_season': 2, 'n_blocks_trend': 3, 'n_blocks_ident': 2, 'mlp_units': 32, 'num_hidden': 2, 'n_harmonics': 4, 'n_polynomials': 3, 'scaler_type': 'standard', 'learning_rate': 0.0004212993173118761}. Best is trial 1 with value: 326.31723167407347.\n",
      "Seed set to 1\n"
     ]
    },
    {
     "name": "stdout",
     "output_type": "stream",
     "text": [
      "\n",
      "{'input_size': 4, 'max_steps': 300, 'hist_exog_list': ['mean_future', 'mean_influential', 'mean_trustworthy', 'mean_clickbait', 'norm_rsi_14', 'norm_rsi_gspc_14', 'norm_slowk_14'], 'stack_types': ['seasonality', 'trend', 'identity'], 'mlp_units': [[128, 128], [128, 128], [128, 128]], 'n_blocks': [2, 2, 2], 'n_harmonics': 4, 'n_polynomials': 3, 'learning_rate': 8.459625905203762e-05, 'scaler_type': 'standard', 'random_seed': 1}\n",
      "744 10\n",
      "Epoch 299: 100%|██████████| 1/1 [00:00<00:00,  5.62it/s, v_num=1774, train_loss_step=7.970, train_loss_epoch=7.970]\n",
      "Predicting DataLoader 0: 100%|██████████| 1/1 [00:00<00:00, 54.89it/s]\n",
      "754 10\n",
      "Epoch 299: 100%|██████████| 1/1 [00:00<00:00, 11.60it/s, v_num=1776, train_loss_step=8.690, train_loss_epoch=8.690]\n",
      "Predicting DataLoader 0: 100%|██████████| 1/1 [00:00<00:00, 52.29it/s]\n",
      "764 10\n",
      "Epoch 299: 100%|██████████| 1/1 [00:00<00:00, 11.54it/s, v_num=1778, train_loss_step=8.460, train_loss_epoch=8.460]\n",
      "Predicting DataLoader 0: 100%|██████████| 1/1 [00:00<00:00, 26.66it/s]\n",
      "774 10\n",
      "Epoch 299: 100%|██████████| 1/1 [00:00<00:00,  7.93it/s, v_num=1780, train_loss_step=8.800, train_loss_epoch=8.800]\n",
      "Predicting DataLoader 0: 100%|██████████| 1/1 [00:00<00:00, 46.33it/s]"
     ]
    },
    {
     "name": "stderr",
     "output_type": "stream",
     "text": [
      "[I 2023-12-17 15:27:58,900] Trial 3 finished with value: 303.55531954802603 and parameters: {'input_size': 4, 'n_blocks_season': 2, 'n_blocks_trend': 2, 'n_blocks_ident': 2, 'mlp_units': 128, 'num_hidden': 3, 'n_harmonics': 4, 'n_polynomials': 3, 'scaler_type': 'standard', 'learning_rate': 8.459625905203762e-05}. Best is trial 3 with value: 303.55531954802603.\n",
      "Seed set to 1\n"
     ]
    },
    {
     "name": "stdout",
     "output_type": "stream",
     "text": [
      "\n",
      "{'input_size': 7, 'max_steps': 300, 'hist_exog_list': ['mean_future', 'mean_influential', 'mean_trustworthy', 'mean_clickbait', 'norm_rsi_14', 'norm_rsi_gspc_14', 'norm_slowk_14'], 'stack_types': ['seasonality', 'trend', 'identity'], 'mlp_units': [[128, 128], [128, 128]], 'n_blocks': [1, 2, 1], 'n_harmonics': 3, 'n_polynomials': 2, 'learning_rate': 0.06617004778796612, 'scaler_type': 'standard', 'random_seed': 1}\n",
      "744 10\n",
      "Epoch 299: 100%|██████████| 1/1 [00:00<00:00,  8.99it/s, v_num=1782, train_loss_step=16.20, train_loss_epoch=16.20]   \n",
      "Predicting DataLoader 0: 100%|██████████| 1/1 [00:00<00:00, 49.44it/s]\n",
      "754 10\n",
      "Epoch 299: 100%|██████████| 1/1 [00:00<00:00, 11.58it/s, v_num=1784, train_loss_step=65.20, train_loss_epoch=65.20]   \n",
      "Predicting DataLoader 0: 100%|██████████| 1/1 [00:00<00:00, 60.03it/s]\n",
      "764 10\n",
      "Epoch 299: 100%|██████████| 1/1 [00:00<00:00,  9.89it/s, v_num=1786, train_loss_step=4.960, train_loss_epoch=4.960]   \n",
      "Predicting DataLoader 0: 100%|██████████| 1/1 [00:00<00:00, 52.94it/s]\n",
      "774 10\n",
      "Epoch 299: 100%|██████████| 1/1 [00:00<00:00, 16.79it/s, v_num=1788, train_loss_step=6.220, train_loss_epoch=6.220]   \n",
      "Predicting DataLoader 0: 100%|██████████| 1/1 [00:00<00:00, 62.46it/s]"
     ]
    },
    {
     "name": "stderr",
     "output_type": "stream",
     "text": [
      "[I 2023-12-17 15:29:19,415] Trial 4 finished with value: 610759.664366582 and parameters: {'input_size': 7, 'n_blocks_season': 1, 'n_blocks_trend': 2, 'n_blocks_ident': 1, 'mlp_units': 128, 'num_hidden': 2, 'n_harmonics': 3, 'n_polynomials': 2, 'scaler_type': 'standard', 'learning_rate': 0.06617004778796612}. Best is trial 3 with value: 303.55531954802603.\n",
      "Seed set to 1\n"
     ]
    },
    {
     "name": "stdout",
     "output_type": "stream",
     "text": [
      "\n",
      "{'input_size': 7, 'max_steps': 300, 'hist_exog_list': ['mean_future', 'mean_influential', 'mean_trustworthy', 'mean_clickbait', 'norm_rsi_14', 'norm_rsi_gspc_14', 'norm_slowk_14'], 'stack_types': ['seasonality', 'trend', 'identity'], 'mlp_units': [[128, 128]], 'n_blocks': [2, 2, 1], 'n_harmonics': 4, 'n_polynomials': 5, 'learning_rate': 0.00033257178318003524, 'scaler_type': 'standard', 'random_seed': 1}\n",
      "744 10\n",
      "Epoch 299: 100%|██████████| 1/1 [00:00<00:00, 16.37it/s, v_num=1790, train_loss_step=2.690, train_loss_epoch=2.690]\n",
      "Predicting DataLoader 0: 100%|██████████| 1/1 [00:00<00:00, 138.03it/s]\n",
      "754 10\n",
      "Epoch 299: 100%|██████████| 1/1 [00:00<00:00,  9.60it/s, v_num=1792, train_loss_step=2.740, train_loss_epoch=2.740]\n",
      "Predicting DataLoader 0: 100%|██████████| 1/1 [00:00<00:00, 110.35it/s]\n",
      "764 10\n",
      "Epoch 299: 100%|██████████| 1/1 [00:00<00:00, 11.43it/s, v_num=1794, train_loss_step=2.720, train_loss_epoch=2.720]\n",
      "Predicting DataLoader 0: 100%|██████████| 1/1 [00:00<00:00, 53.05it/s]\n",
      "774 10\n",
      "Epoch 299: 100%|██████████| 1/1 [00:00<00:00, 14.94it/s, v_num=1796, train_loss_step=2.790, train_loss_epoch=2.790]\n",
      "Predicting DataLoader 0: 100%|██████████| 1/1 [00:00<00:00, 36.17it/s]"
     ]
    },
    {
     "name": "stderr",
     "output_type": "stream",
     "text": [
      "[I 2023-12-17 15:30:38,211] Trial 5 finished with value: 1614.5293702939525 and parameters: {'input_size': 7, 'n_blocks_season': 2, 'n_blocks_trend': 2, 'n_blocks_ident': 1, 'mlp_units': 128, 'num_hidden': 1, 'n_harmonics': 4, 'n_polynomials': 5, 'scaler_type': 'standard', 'learning_rate': 0.00033257178318003524}. Best is trial 3 with value: 303.55531954802603.\n",
      "Seed set to 1\n"
     ]
    },
    {
     "name": "stdout",
     "output_type": "stream",
     "text": [
      "\n",
      "{'input_size': 4, 'max_steps': 300, 'hist_exog_list': ['mean_future', 'mean_influential', 'mean_trustworthy', 'mean_clickbait', 'norm_rsi_14', 'norm_rsi_gspc_14', 'norm_slowk_14'], 'stack_types': ['seasonality', 'trend', 'identity'], 'mlp_units': [[32, 32]], 'n_blocks': [2, 2, 1], 'n_harmonics': 3, 'n_polynomials': 4, 'learning_rate': 4.606140512789848e-05, 'scaler_type': 'standard', 'random_seed': 1}\n",
      "744 10\n",
      "Epoch 299: 100%|██████████| 1/1 [00:00<00:00, 14.77it/s, v_num=1798, train_loss_step=8.100, train_loss_epoch=8.100]\n",
      "Predicting DataLoader 0: 100%|██████████| 1/1 [00:00<00:00, 110.82it/s]\n",
      "754 10\n",
      "Epoch 299: 100%|██████████| 1/1 [00:00<00:00, 12.35it/s, v_num=1800, train_loss_step=8.870, train_loss_epoch=8.870]\n",
      "Predicting DataLoader 0: 100%|██████████| 1/1 [00:00<00:00, 52.63it/s]\n",
      "764 10\n",
      "Epoch 299: 100%|██████████| 1/1 [00:00<00:00, 11.44it/s, v_num=1802, train_loss_step=8.570, train_loss_epoch=8.570]\n",
      "Predicting DataLoader 0: 100%|██████████| 1/1 [00:00<00:00, 66.15it/s]\n",
      "774 10\n",
      "Epoch 299: 100%|██████████| 1/1 [00:00<00:00, 11.86it/s, v_num=1804, train_loss_step=9.020, train_loss_epoch=9.020]\n",
      "Predicting DataLoader 0: 100%|██████████| 1/1 [00:00<00:00, 64.95it/s]"
     ]
    },
    {
     "name": "stderr",
     "output_type": "stream",
     "text": [
      "[I 2023-12-17 15:31:41,525] Trial 6 finished with value: 411.1466554410992 and parameters: {'input_size': 4, 'n_blocks_season': 2, 'n_blocks_trend': 2, 'n_blocks_ident': 1, 'mlp_units': 32, 'num_hidden': 1, 'n_harmonics': 3, 'n_polynomials': 4, 'scaler_type': 'standard', 'learning_rate': 4.606140512789848e-05}. Best is trial 3 with value: 303.55531954802603.\n",
      "Seed set to 1\n"
     ]
    },
    {
     "name": "stdout",
     "output_type": "stream",
     "text": [
      "\n",
      "{'input_size': 17, 'max_steps': 300, 'hist_exog_list': ['mean_future', 'mean_influential', 'mean_trustworthy', 'mean_clickbait', 'norm_rsi_14', 'norm_rsi_gspc_14', 'norm_slowk_14'], 'stack_types': ['seasonality', 'trend', 'identity'], 'mlp_units': [[64, 64]], 'n_blocks': [2, 1, 1], 'n_harmonics': 4, 'n_polynomials': 2, 'learning_rate': 0.0013028333457774238, 'scaler_type': 'standard', 'random_seed': 1}\n",
      "744 10\n",
      "Epoch 299: 100%|██████████| 1/1 [00:00<00:00, 10.98it/s, v_num=1806, train_loss_step=0.833, train_loss_epoch=0.833]\n",
      "Predicting DataLoader 0: 100%|██████████| 1/1 [00:00<00:00, 68.99it/s]\n",
      "754 10\n",
      "Epoch 299: 100%|██████████| 1/1 [00:00<00:00, 16.39it/s, v_num=1808, train_loss_step=0.835, train_loss_epoch=0.835]\n",
      "Predicting DataLoader 0: 100%|██████████| 1/1 [00:00<00:00, 106.30it/s]\n",
      "764 10\n",
      "Epoch 299: 100%|██████████| 1/1 [00:00<00:00,  9.19it/s, v_num=1810, train_loss_step=0.874, train_loss_epoch=0.874]\n",
      "Predicting DataLoader 0: 100%|██████████| 1/1 [00:00<00:00, 52.99it/s]\n",
      "774 10\n",
      "Epoch 299: 100%|██████████| 1/1 [00:00<00:00, 11.37it/s, v_num=1812, train_loss_step=0.844, train_loss_epoch=0.844]\n",
      "Predicting DataLoader 0: 100%|██████████| 1/1 [00:00<00:00, 70.47it/s]"
     ]
    },
    {
     "name": "stderr",
     "output_type": "stream",
     "text": [
      "[I 2023-12-17 15:32:52,733] Trial 7 finished with value: 887.6187303936347 and parameters: {'input_size': 17, 'n_blocks_season': 2, 'n_blocks_trend': 1, 'n_blocks_ident': 1, 'mlp_units': 64, 'num_hidden': 1, 'n_harmonics': 4, 'n_polynomials': 2, 'scaler_type': 'standard', 'learning_rate': 0.0013028333457774238}. Best is trial 3 with value: 303.55531954802603.\n",
      "Seed set to 1\n"
     ]
    },
    {
     "name": "stdout",
     "output_type": "stream",
     "text": [
      "\n",
      "{'input_size': 7, 'max_steps': 300, 'hist_exog_list': ['mean_future', 'mean_influential', 'mean_trustworthy', 'mean_clickbait', 'norm_rsi_14', 'norm_rsi_gspc_14', 'norm_slowk_14'], 'stack_types': ['seasonality', 'trend', 'identity'], 'mlp_units': [[128, 128]], 'n_blocks': [1, 2, 2], 'n_harmonics': 3, 'n_polynomials': 1, 'learning_rate': 0.01733767344789516, 'scaler_type': 'standard', 'random_seed': 1}\n",
      "744 10\n",
      "Epoch 299: 100%|██████████| 1/1 [00:00<00:00, 10.25it/s, v_num=1814, train_loss_step=2.330, train_loss_epoch=2.330]\n",
      "Predicting DataLoader 0: 100%|██████████| 1/1 [00:00<00:00, 50.68it/s]\n",
      "754 10\n",
      "Epoch 299: 100%|██████████| 1/1 [00:00<00:00, 10.79it/s, v_num=1816, train_loss_step=2.660, train_loss_epoch=2.660]\n",
      "Predicting DataLoader 0: 100%|██████████| 1/1 [00:00<00:00, 57.25it/s]\n",
      "764 10\n",
      "Epoch 299: 100%|██████████| 1/1 [00:00<00:00,  9.54it/s, v_num=1818, train_loss_step=2.250, train_loss_epoch=2.250]\n",
      "Predicting DataLoader 0: 100%|██████████| 1/1 [00:00<00:00, 56.48it/s]\n",
      "774 10\n",
      "Epoch 299: 100%|██████████| 1/1 [00:00<00:00, 11.78it/s, v_num=1820, train_loss_step=2.450, train_loss_epoch=2.450]\n",
      "Predicting DataLoader 0: 100%|██████████| 1/1 [00:00<00:00, 58.76it/s]"
     ]
    },
    {
     "name": "stderr",
     "output_type": "stream",
     "text": [
      "[I 2023-12-17 15:34:06,473] Trial 8 finished with value: 6647.297346003796 and parameters: {'input_size': 7, 'n_blocks_season': 1, 'n_blocks_trend': 2, 'n_blocks_ident': 2, 'mlp_units': 128, 'num_hidden': 1, 'n_harmonics': 3, 'n_polynomials': 1, 'scaler_type': 'standard', 'learning_rate': 0.01733767344789516}. Best is trial 3 with value: 303.55531954802603.\n",
      "Seed set to 1\n"
     ]
    },
    {
     "name": "stdout",
     "output_type": "stream",
     "text": [
      "\n",
      "{'input_size': 6, 'max_steps': 300, 'hist_exog_list': ['mean_future', 'mean_influential', 'mean_trustworthy', 'mean_clickbait', 'norm_rsi_14', 'norm_rsi_gspc_14', 'norm_slowk_14'], 'stack_types': ['seasonality', 'trend', 'identity'], 'mlp_units': [[128, 128]], 'n_blocks': [2, 3, 3], 'n_harmonics': 1, 'n_polynomials': 4, 'learning_rate': 0.01661539585482504, 'scaler_type': 'standard', 'random_seed': 1}\n",
      "744 10\n",
      "Epoch 299: 100%|██████████| 1/1 [00:00<00:00,  8.68it/s, v_num=1822, train_loss_step=3.440, train_loss_epoch=3.440]\n",
      "Predicting DataLoader 0: 100%|██████████| 1/1 [00:00<00:00, 47.46it/s]\n",
      "754 10\n",
      "Epoch 299: 100%|██████████| 1/1 [00:00<00:00,  8.88it/s, v_num=1824, train_loss_step=3.930, train_loss_epoch=3.930]\n",
      "Predicting DataLoader 0: 100%|██████████| 1/1 [00:00<00:00, 63.05it/s]\n",
      "764 10\n",
      "Epoch 299: 100%|██████████| 1/1 [00:00<00:00, 10.67it/s, v_num=1826, train_loss_step=4.980, train_loss_epoch=4.980]\n",
      "Predicting DataLoader 0: 100%|██████████| 1/1 [00:00<00:00, 51.29it/s]\n",
      "774 10\n",
      "Epoch 299: 100%|██████████| 1/1 [00:00<00:00, 11.72it/s, v_num=1828, train_loss_step=3.640, train_loss_epoch=3.640]\n",
      "Predicting DataLoader 0: 100%|██████████| 1/1 [00:00<00:00, 51.46it/s]"
     ]
    },
    {
     "name": "stderr",
     "output_type": "stream",
     "text": [
      "[I 2023-12-17 15:35:39,155] Trial 9 finished with value: 1054.0267861165105 and parameters: {'input_size': 6, 'n_blocks_season': 2, 'n_blocks_trend': 3, 'n_blocks_ident': 3, 'mlp_units': 128, 'num_hidden': 1, 'n_harmonics': 1, 'n_polynomials': 4, 'scaler_type': 'standard', 'learning_rate': 0.01661539585482504}. Best is trial 3 with value: 303.55531954802603.\n",
      "Seed set to 1\n"
     ]
    },
    {
     "name": "stdout",
     "output_type": "stream",
     "text": [
      "\n",
      "744 10\n",
      "Epoch 299: 100%|██████████| 1/1 [00:00<00:00, 10.72it/s, v_num=1830, train_loss_step=7.970, train_loss_epoch=7.970]\n",
      "Predicting DataLoader 0: 100%|██████████| 1/1 [00:00<00:00, 98.91it/s] \n",
      "754 10\n",
      "Epoch 299: 100%|██████████| 1/1 [00:00<00:00,  7.15it/s, v_num=1832, train_loss_step=8.690, train_loss_epoch=8.690]\n",
      "Predicting DataLoader 0: 100%|██████████| 1/1 [00:00<00:00, 69.67it/s]\n",
      "764 10\n",
      "Epoch 299: 100%|██████████| 1/1 [00:00<00:00,  6.77it/s, v_num=1834, train_loss_step=8.460, train_loss_epoch=8.460]\n",
      "Predicting DataLoader 0: 100%|██████████| 1/1 [00:00<00:00, 37.38it/s]\n",
      "774 10\n",
      "Epoch 299: 100%|██████████| 1/1 [00:00<00:00,  6.23it/s, v_num=1836, train_loss_step=8.800, train_loss_epoch=8.800]\n",
      "Predicting DataLoader 0: 100%|██████████| 1/1 [00:00<00:00, 46.74it/s]\n"
     ]
    }
   ],
   "source": [
    "horizon = 10\n",
    "\n",
    "study = optuna.create_study(direction='minimize')\n",
    "study.optimize(partial(objective, train_set=train_set, val_set=val_set, \n",
    "                model_name=\"NBEATS\", horizon=horizon,loss_func=mean_squared_error), n_trials=10)\n",
    "prms = study.best_trial.params\n",
    "# Predykcja na podstawie najlepszych hiperparametrów\n",
    "n_blocks = [prms['n_blocks_season'], prms['n_blocks_trend'], prms['n_blocks_ident']]\n",
    "mlp_units=[[prms['mlp_units'], prms['mlp_units']]]*prms['num_hidden']\n",
    "models = [NBEATS(\n",
    "                 h=horizon,\n",
    "                 loss=RMSE(),\n",
    "                 max_steps=300,\n",
    "                 hist_exog_list=['mean_future', 'mean_influential','mean_trustworthy', 'mean_clickbait','norm_rsi_14', 'norm_rsi_gspc_14', 'norm_slowk_14'],\n",
    "                 input_size=prms['input_size'],\n",
    "                 stack_types=['seasonality', 'trend', 'identity'],\n",
    "                 mlp_units=mlp_units,\n",
    "                 n_blocks=n_blocks,\n",
    "                 learning_rate=prms['learning_rate'],\n",
    "                 n_harmonics=prms['n_harmonics'],\n",
    "                 n_polynomials=prms['n_polynomials'],\n",
    "                 scaler_type='standard',\n",
    "                random_seed=1\n",
    "                 )]\n",
    "# loss, predictions = train(models, train_set, val_set, mean_squared_error, \"NBEATS\")\n",
    "# print(\"MSE: \", loss)\n",
    "\n",
    "# Pipeline, który robi predykcję batchami co ileś dni, ustalane przez horizon\n",
    "loss, predictions = pipeline_train_predict(models, train_set, val_set, horizon, mean_squared_error, \"NBEATS\")"
   ]
  },
  {
   "cell_type": "code",
   "execution_count": null,
   "metadata": {},
   "outputs": [],
   "source": [
    "{'input_size': 11, 'max_steps': 300, 'hist_exog_list': ['mean_future', 'mean_influential', 'mean_trustworthy', 'mean_clickbait', 'NFLX_High', 'NFLX_Low', 'NFLX_Open'], 'stack_types': ['seasonality', 'trend', 'identity'], 'mlp_units': [[128, 128], [128, 128]], 'n_blocks': [1, 2, 1], 'n_harmonics': 3, 'n_polynomials': 2, 'learning_rate': 0.03504441220001611, 'scaler_type': 'standard', 'random_seed': 1}"
   ]
  },
  {
   "cell_type": "code",
   "execution_count": 11,
   "metadata": {},
   "outputs": [
    {
     "data": {
      "text/plain": [
       "303.55531954802603"
      ]
     },
     "execution_count": 11,
     "metadata": {},
     "output_type": "execute_result"
    }
   ],
   "source": [
    "loss"
   ]
  },
  {
   "cell_type": "code",
   "execution_count": 14,
   "metadata": {},
   "outputs": [
    {
     "data": {
      "text/plain": [
       "['mean_future',\n",
       " 'mean_influential',\n",
       " 'mean_trustworthy',\n",
       " 'mean_clickbait',\n",
       " 'NFLX_High',\n",
       " 'NFLX_Low',\n",
       " 'NFLX_Open']"
      ]
     },
     "execution_count": 14,
     "metadata": {},
     "output_type": "execute_result"
    }
   ],
   "source": [
    "models[0].__dict__['hist_exog_list']"
   ]
  },
  {
   "cell_type": "code",
   "execution_count": 27,
   "metadata": {},
   "outputs": [
    {
     "data": {
      "text/plain": [
       "214.15051875847885"
      ]
     },
     "execution_count": 27,
     "metadata": {},
     "output_type": "execute_result"
    }
   ],
   "source": [
    "loss"
   ]
  },
  {
   "cell_type": "code",
   "execution_count": 14,
   "metadata": {},
   "outputs": [
    {
     "name": "stderr",
     "output_type": "stream",
     "text": [
      "Seed set to 1\n"
     ]
    },
    {
     "name": "stdout",
     "output_type": "stream",
     "text": [
      "744 5\n",
      "Epoch 299: 100%|██████████| 1/1 [00:00<00:00, 21.41it/s, v_num=1390, train_loss_step=1.860, train_loss_epoch=1.860] \n",
      "Predicting DataLoader 0: 100%|██████████| 1/1 [00:00<00:00, 51.74it/s]\n",
      "749 5\n",
      "Epoch 299: 100%|██████████| 1/1 [00:00<00:00, 22.26it/s, v_num=1392, train_loss_step=1.800, train_loss_epoch=1.800] \n",
      "Predicting DataLoader 0: 100%|██████████| 1/1 [00:00<00:00, 148.97it/s]\n",
      "754 5\n",
      "Epoch 299: 100%|██████████| 1/1 [00:00<00:00, 23.00it/s, v_num=1394, train_loss_step=1.960, train_loss_epoch=1.960] \n",
      "Predicting DataLoader 0: 100%|██████████| 1/1 [00:00<00:00, 417.39it/s]\n",
      "759 5\n",
      "Epoch 299: 100%|██████████| 1/1 [00:00<00:00, 23.70it/s, v_num=1396, train_loss_step=1.880, train_loss_epoch=1.880] \n",
      "Predicting DataLoader 0: 100%|██████████| 1/1 [00:00<00:00, 162.87it/s]\n",
      "764 5\n",
      "Epoch 299: 100%|██████████| 1/1 [00:00<00:00, 21.84it/s, v_num=1398, train_loss_step=1.960, train_loss_epoch=1.960] \n",
      "Predicting DataLoader 0: 100%|██████████| 1/1 [00:00<00:00, 152.98it/s]\n",
      "769 5\n",
      "Epoch 299: 100%|██████████| 1/1 [00:00<00:00, 21.26it/s, v_num=1400, train_loss_step=1.880, train_loss_epoch=1.880] \n",
      "Predicting DataLoader 0: 100%|██████████| 1/1 [00:00<00:00, 176.67it/s]\n",
      "774 5\n",
      "Epoch 299: 100%|██████████| 1/1 [00:00<00:00, 18.88it/s, v_num=1402, train_loss_step=1.930, train_loss_epoch=1.930]\n",
      "Predicting DataLoader 0: 100%|██████████| 1/1 [00:00<00:00, 167.95it/s]\n",
      "779 5\n",
      "Epoch 299: 100%|██████████| 1/1 [00:00<00:00, 21.07it/s, v_num=1404, train_loss_step=1.850, train_loss_epoch=1.850] \n",
      "Predicting DataLoader 0: 100%|██████████| 1/1 [00:00<00:00, 180.41it/s]\n"
     ]
    }
   ],
   "source": [
    "models = [NBEATS(\n",
    "                 h=horizon,\n",
    "                 loss=RMSE(),\n",
    "                 max_steps=300,\n",
    "                 hist_exog_list=['mean_future', 'mean_influential','mean_trustworthy', 'mean_clickbait','NFLX_High','NFLX_Low','NFLX_Open'],\n",
    "                 input_size=prms['input_size'],\n",
    "                 stack_types=['seasonality', 'trend', 'identity'],\n",
    "                 mlp_units=mlp_units,\n",
    "                 n_blocks=n_blocks,\n",
    "                 learning_rate=prms['learning_rate'],\n",
    "                 n_harmonics=prms['n_harmonics'],\n",
    "                 n_polynomials=prms['n_polynomials'],\n",
    "                 scaler_type='standard',\n",
    "                random_seed=1\n",
    "                 )]\n",
    "# loss, predictions = train(models, train_set, val_set, mean_squared_error, \"NBEATS\")\n",
    "# print(\"MSE: \", loss)\n",
    "\n",
    "# Pipeline, który robi predykcję batchami co ileś dni, ustalane przez horizon\n",
    "loss, predictions = pipeline_train_predict(models, train_set, val_set, horizon, mean_squared_error, \"NBEATS\")"
   ]
  },
  {
   "cell_type": "code",
   "execution_count": 20,
   "metadata": {},
   "outputs": [
    {
     "data": {
      "text/plain": [
       "277.70962418892117"
      ]
     },
     "execution_count": 20,
     "metadata": {},
     "output_type": "execute_result"
    }
   ],
   "source": [
    "loss"
   ]
  },
  {
   "cell_type": "code",
   "execution_count": 12,
   "metadata": {},
   "outputs": [
    {
     "data": {
      "image/png": "[encoded data removed]",
      "text/plain": [
       "<Figure size 1000x600 with 1 Axes>"
      ]
     },
     "metadata": {},
     "output_type": "display_data"
    }
   ],
   "source": [
    "plot_actual_vs_predicted(predictions['y'][1:].reset_index(drop=True), predictions['NBEATS'][1:].reset_index(drop=True), predictions['y'].shift(1)[1:].reset_index(drop=True), predictions['modelID'][1:].reset_index(drop=True))"
   ]
  },
  {
   "cell_type": "code",
   "execution_count": 19,
   "metadata": {},
   "outputs": [
    {
     "name": "stdout",
     "output_type": "stream",
     "text": [
      "784 5\n",
      "Epoch 299: 100%|██████████| 1/1 [00:00<00:00, 19.18it/s, v_num=1502, train_loss_step=1.720, train_loss_epoch=1.720] \n",
      "Predicting DataLoader 0: 100%|██████████| 1/1 [00:00<00:00, 138.99it/s]\n",
      "789 5\n",
      "Epoch 299: 100%|██████████| 1/1 [00:00<00:00, 32.81it/s, v_num=1504, train_loss_step=2.020, train_loss_epoch=2.020] \n",
      "Predicting DataLoader 0: 100%|██████████| 1/1 [00:00<00:00, 272.11it/s]\n",
      "794 5\n",
      "Epoch 299: 100%|██████████| 1/1 [00:00<00:00, 30.16it/s, v_num=1506, train_loss_step=1.870, train_loss_epoch=1.870] \n",
      "Predicting DataLoader 0: 100%|██████████| 1/1 [00:00<00:00, 392.50it/s]\n",
      "799 5\n",
      "Epoch 299: 100%|██████████| 1/1 [00:00<00:00, 20.56it/s, v_num=1508, train_loss_step=2.030, train_loss_epoch=2.030] \n",
      "Predicting DataLoader 0: 100%|██████████| 1/1 [00:00<00:00, 166.22it/s]\n",
      "804 5\n",
      "Epoch 299: 100%|██████████| 1/1 [00:00<00:00, 23.59it/s, v_num=1510, train_loss_step=1.730, train_loss_epoch=1.730] \n",
      "Predicting DataLoader 0: 100%|██████████| 1/1 [00:00<?, ?it/s]\n",
      "809 5\n",
      "Epoch 299: 100%|██████████| 1/1 [00:00<00:00, 18.39it/s, v_num=1512, train_loss_step=1.880, train_loss_epoch=1.880] \n",
      "Predicting DataLoader 0: 100%|██████████| 1/1 [00:00<?, ?it/s]\n",
      "814 5\n",
      "Epoch 299: 100%|██████████| 1/1 [00:00<00:00, 21.62it/s, v_num=1514, train_loss_step=1.810, train_loss_epoch=1.810] \n",
      "Predicting DataLoader 0: 100%|██████████| 1/1 [00:00<00:00, 64.02it/s]\n",
      "819 5\n",
      "Epoch 299: 100%|██████████| 1/1 [00:00<00:00, 22.26it/s, v_num=1516, train_loss_step=2.070, train_loss_epoch=2.070] \n",
      "Predicting DataLoader 0: 100%|██████████| 1/1 [00:00<00:00, 304.66it/s]\n",
      "824 5\n",
      "Epoch 299: 100%|██████████| 1/1 [00:00<00:00, 22.62it/s, v_num=1518, train_loss_step=1.840, train_loss_epoch=1.840] \n",
      "Predicting DataLoader 0: 100%|██████████| 1/1 [00:00<00:00, 66.64it/s]\n",
      "829 5\n",
      "Epoch 299: 100%|██████████| 1/1 [00:00<00:00, 20.22it/s, v_num=1520, train_loss_step=1.580, train_loss_epoch=1.580] \n",
      "Predicting DataLoader 0: 100%|██████████| 1/1 [00:00<00:00, 290.30it/s]\n",
      "834 5\n",
      "Epoch 299: 100%|██████████| 1/1 [00:00<00:00, 22.08it/s, v_num=1522, train_loss_step=1.870, train_loss_epoch=1.870] \n",
      "Predicting DataLoader 0: 100%|██████████| 1/1 [00:00<00:00, 245.61it/s]\n",
      "839 5\n",
      "Epoch 299: 100%|██████████| 1/1 [00:00<00:00, 21.00it/s, v_num=1524, train_loss_step=1.650, train_loss_epoch=1.650]\n",
      "Predicting DataLoader 0: 100%|██████████| 1/1 [00:00<00:00, 285.50it/s]\n"
     ]
    }
   ],
   "source": [
    "train_val_set = pd.concat([train_set, val_set],ignore_index=True)\n",
    "loss, predictions = pipeline_train_predict(models, train_val_set, test_set, horizon, mean_squared_error, \"NBEATS\")"
   ]
  },
  {
   "cell_type": "code",
   "execution_count": 18,
   "metadata": {},
   "outputs": [
    {
     "data": {
      "text/html": [
       "<div>\n",
       "<style scoped>\n",
       "    .dataframe tbody tr th:only-of-type {\n",
       "        vertical-align: middle;\n",
       "    }\n",
       "\n",
       "    .dataframe tbody tr th {\n",
       "        vertical-align: top;\n",
       "    }\n",
       "\n",
       "    .dataframe thead th {\n",
       "        text-align: right;\n",
       "    }\n",
       "</style>\n",
       "<table border=\"1\" class=\"dataframe\">\n",
       "  <thead>\n",
       "    <tr style=\"text-align: right;\">\n",
       "      <th></th>\n",
       "      <th>unique_id</th>\n",
       "      <th>ds</th>\n",
       "      <th>NBEATS</th>\n",
       "      <th>index</th>\n",
       "      <th>y</th>\n",
       "      <th>modelID</th>\n",
       "    </tr>\n",
       "  </thead>\n",
       "  <tbody>\n",
       "    <tr>\n",
       "      <th>0</th>\n",
       "      <td>NFLX</td>\n",
       "      <td>2023-02-24</td>\n",
       "      <td>443.698303</td>\n",
       "      <td>0</td>\n",
       "      <td>439.880005</td>\n",
       "      <td>0</td>\n",
       "    </tr>\n",
       "    <tr>\n",
       "      <th>1</th>\n",
       "      <td>NFLX</td>\n",
       "      <td>2023-02-25</td>\n",
       "      <td>439.346985</td>\n",
       "      <td>1</td>\n",
       "      <td>448.679993</td>\n",
       "      <td>0</td>\n",
       "    </tr>\n",
       "    <tr>\n",
       "      <th>2</th>\n",
       "      <td>NFLX</td>\n",
       "      <td>2023-02-26</td>\n",
       "      <td>442.825897</td>\n",
       "      <td>2</td>\n",
       "      <td>445.760010</td>\n",
       "      <td>0</td>\n",
       "    </tr>\n",
       "    <tr>\n",
       "      <th>3</th>\n",
       "      <td>NFLX</td>\n",
       "      <td>2023-02-27</td>\n",
       "      <td>448.869751</td>\n",
       "      <td>3</td>\n",
       "      <td>443.140015</td>\n",
       "      <td>0</td>\n",
       "    </tr>\n",
       "    <tr>\n",
       "      <th>4</th>\n",
       "      <td>NFLX</td>\n",
       "      <td>2023-02-28</td>\n",
       "      <td>445.565155</td>\n",
       "      <td>4</td>\n",
       "      <td>442.799988</td>\n",
       "      <td>0</td>\n",
       "    </tr>\n",
       "    <tr>\n",
       "      <th>5</th>\n",
       "      <td>NFLX</td>\n",
       "      <td>2023-03-01</td>\n",
       "      <td>445.176117</td>\n",
       "      <td>5</td>\n",
       "      <td>445.359985</td>\n",
       "      <td>0</td>\n",
       "    </tr>\n",
       "    <tr>\n",
       "      <th>6</th>\n",
       "      <td>NFLX</td>\n",
       "      <td>2023-03-02</td>\n",
       "      <td>443.456329</td>\n",
       "      <td>6</td>\n",
       "      <td>434.690002</td>\n",
       "      <td>0</td>\n",
       "    </tr>\n",
       "    <tr>\n",
       "      <th>7</th>\n",
       "      <td>NFLX</td>\n",
       "      <td>2023-03-03</td>\n",
       "      <td>444.735901</td>\n",
       "      <td>7</td>\n",
       "      <td>412.239990</td>\n",
       "      <td>0</td>\n",
       "    </tr>\n",
       "    <tr>\n",
       "      <th>8</th>\n",
       "      <td>NFLX</td>\n",
       "      <td>2023-03-04</td>\n",
       "      <td>443.926605</td>\n",
       "      <td>8</td>\n",
       "      <td>400.489990</td>\n",
       "      <td>0</td>\n",
       "    </tr>\n",
       "    <tr>\n",
       "      <th>9</th>\n",
       "      <td>NFLX</td>\n",
       "      <td>2023-03-05</td>\n",
       "      <td>446.959503</td>\n",
       "      <td>9</td>\n",
       "      <td>396.940002</td>\n",
       "      <td>0</td>\n",
       "    </tr>\n",
       "    <tr>\n",
       "      <th>0</th>\n",
       "      <td>NFLX</td>\n",
       "      <td>2023-03-06</td>\n",
       "      <td>396.652161</td>\n",
       "      <td>10</td>\n",
       "      <td>394.399994</td>\n",
       "      <td>1</td>\n",
       "    </tr>\n",
       "    <tr>\n",
       "      <th>1</th>\n",
       "      <td>NFLX</td>\n",
       "      <td>2023-03-07</td>\n",
       "      <td>394.857330</td>\n",
       "      <td>11</td>\n",
       "      <td>396.200012</td>\n",
       "      <td>1</td>\n",
       "    </tr>\n",
       "    <tr>\n",
       "      <th>2</th>\n",
       "      <td>NFLX</td>\n",
       "      <td>2023-03-08</td>\n",
       "      <td>396.201660</td>\n",
       "      <td>12</td>\n",
       "      <td>386.299988</td>\n",
       "      <td>1</td>\n",
       "    </tr>\n",
       "    <tr>\n",
       "      <th>3</th>\n",
       "      <td>NFLX</td>\n",
       "      <td>2023-03-09</td>\n",
       "      <td>402.809814</td>\n",
       "      <td>13</td>\n",
       "      <td>384.149994</td>\n",
       "      <td>1</td>\n",
       "    </tr>\n",
       "    <tr>\n",
       "      <th>4</th>\n",
       "      <td>NFLX</td>\n",
       "      <td>2023-03-10</td>\n",
       "      <td>404.343781</td>\n",
       "      <td>14</td>\n",
       "      <td>379.809998</td>\n",
       "      <td>1</td>\n",
       "    </tr>\n",
       "    <tr>\n",
       "      <th>5</th>\n",
       "      <td>NFLX</td>\n",
       "      <td>2023-03-11</td>\n",
       "      <td>402.945648</td>\n",
       "      <td>15</td>\n",
       "      <td>384.799988</td>\n",
       "      <td>1</td>\n",
       "    </tr>\n",
       "    <tr>\n",
       "      <th>6</th>\n",
       "      <td>NFLX</td>\n",
       "      <td>2023-03-12</td>\n",
       "      <td>398.246338</td>\n",
       "      <td>16</td>\n",
       "      <td>379.250000</td>\n",
       "      <td>1</td>\n",
       "    </tr>\n",
       "    <tr>\n",
       "      <th>7</th>\n",
       "      <td>NFLX</td>\n",
       "      <td>2023-03-13</td>\n",
       "      <td>392.292328</td>\n",
       "      <td>17</td>\n",
       "      <td>377.589996</td>\n",
       "      <td>1</td>\n",
       "    </tr>\n",
       "    <tr>\n",
       "      <th>8</th>\n",
       "      <td>NFLX</td>\n",
       "      <td>2023-03-14</td>\n",
       "      <td>394.459991</td>\n",
       "      <td>18</td>\n",
       "      <td>376.359985</td>\n",
       "      <td>1</td>\n",
       "    </tr>\n",
       "    <tr>\n",
       "      <th>9</th>\n",
       "      <td>NFLX</td>\n",
       "      <td>2023-03-15</td>\n",
       "      <td>386.785339</td>\n",
       "      <td>19</td>\n",
       "      <td>377.600006</td>\n",
       "      <td>1</td>\n",
       "    </tr>\n",
       "    <tr>\n",
       "      <th>0</th>\n",
       "      <td>NFLX</td>\n",
       "      <td>2023-03-16</td>\n",
       "      <td>375.682373</td>\n",
       "      <td>20</td>\n",
       "      <td>380.329987</td>\n",
       "      <td>2</td>\n",
       "    </tr>\n",
       "    <tr>\n",
       "      <th>1</th>\n",
       "      <td>NFLX</td>\n",
       "      <td>2023-03-17</td>\n",
       "      <td>376.216675</td>\n",
       "      <td>21</td>\n",
       "      <td>376.750000</td>\n",
       "      <td>2</td>\n",
       "    </tr>\n",
       "    <tr>\n",
       "      <th>2</th>\n",
       "      <td>NFLX</td>\n",
       "      <td>2023-03-18</td>\n",
       "      <td>377.051056</td>\n",
       "      <td>22</td>\n",
       "      <td>376.899994</td>\n",
       "      <td>2</td>\n",
       "    </tr>\n",
       "    <tr>\n",
       "      <th>3</th>\n",
       "      <td>NFLX</td>\n",
       "      <td>2023-03-19</td>\n",
       "      <td>372.663513</td>\n",
       "      <td>23</td>\n",
       "      <td>372.589996</td>\n",
       "      <td>2</td>\n",
       "    </tr>\n",
       "    <tr>\n",
       "      <th>4</th>\n",
       "      <td>NFLX</td>\n",
       "      <td>2023-03-20</td>\n",
       "      <td>376.424591</td>\n",
       "      <td>24</td>\n",
       "      <td>381.510010</td>\n",
       "      <td>2</td>\n",
       "    </tr>\n",
       "    <tr>\n",
       "      <th>5</th>\n",
       "      <td>NFLX</td>\n",
       "      <td>2023-03-21</td>\n",
       "      <td>386.437927</td>\n",
       "      <td>25</td>\n",
       "      <td>385.950012</td>\n",
       "      <td>2</td>\n",
       "    </tr>\n",
       "    <tr>\n",
       "      <th>6</th>\n",
       "      <td>NFLX</td>\n",
       "      <td>2023-03-22</td>\n",
       "      <td>383.335785</td>\n",
       "      <td>26</td>\n",
       "      <td>373.320007</td>\n",
       "      <td>2</td>\n",
       "    </tr>\n",
       "    <tr>\n",
       "      <th>7</th>\n",
       "      <td>NFLX</td>\n",
       "      <td>2023-03-23</td>\n",
       "      <td>381.306274</td>\n",
       "      <td>27</td>\n",
       "      <td>365.929993</td>\n",
       "      <td>2</td>\n",
       "    </tr>\n",
       "    <tr>\n",
       "      <th>8</th>\n",
       "      <td>NFLX</td>\n",
       "      <td>2023-03-24</td>\n",
       "      <td>388.490936</td>\n",
       "      <td>28</td>\n",
       "      <td>361.200012</td>\n",
       "      <td>2</td>\n",
       "    </tr>\n",
       "    <tr>\n",
       "      <th>9</th>\n",
       "      <td>NFLX</td>\n",
       "      <td>2023-03-25</td>\n",
       "      <td>390.718506</td>\n",
       "      <td>29</td>\n",
       "      <td>355.679993</td>\n",
       "      <td>2</td>\n",
       "    </tr>\n",
       "    <tr>\n",
       "      <th>0</th>\n",
       "      <td>NFLX</td>\n",
       "      <td>2023-03-26</td>\n",
       "      <td>353.303101</td>\n",
       "      <td>30</td>\n",
       "      <td>360.820007</td>\n",
       "      <td>3</td>\n",
       "    </tr>\n",
       "    <tr>\n",
       "      <th>1</th>\n",
       "      <td>NFLX</td>\n",
       "      <td>2023-03-27</td>\n",
       "      <td>354.254547</td>\n",
       "      <td>31</td>\n",
       "      <td>355.720001</td>\n",
       "      <td>3</td>\n",
       "    </tr>\n",
       "    <tr>\n",
       "      <th>2</th>\n",
       "      <td>NFLX</td>\n",
       "      <td>2023-03-28</td>\n",
       "      <td>354.266296</td>\n",
       "      <td>32</td>\n",
       "      <td>346.190002</td>\n",
       "      <td>3</td>\n",
       "    </tr>\n",
       "    <tr>\n",
       "      <th>3</th>\n",
       "      <td>NFLX</td>\n",
       "      <td>2023-03-29</td>\n",
       "      <td>355.771301</td>\n",
       "      <td>33</td>\n",
       "      <td>401.769989</td>\n",
       "      <td>3</td>\n",
       "    </tr>\n",
       "    <tr>\n",
       "      <th>4</th>\n",
       "      <td>NFLX</td>\n",
       "      <td>2023-03-30</td>\n",
       "      <td>358.597778</td>\n",
       "      <td>34</td>\n",
       "      <td>400.959991</td>\n",
       "      <td>3</td>\n",
       "    </tr>\n",
       "    <tr>\n",
       "      <th>5</th>\n",
       "      <td>NFLX</td>\n",
       "      <td>2023-03-31</td>\n",
       "      <td>357.767395</td>\n",
       "      <td>35</td>\n",
       "      <td>406.839996</td>\n",
       "      <td>3</td>\n",
       "    </tr>\n",
       "    <tr>\n",
       "      <th>6</th>\n",
       "      <td>NFLX</td>\n",
       "      <td>2023-04-01</td>\n",
       "      <td>353.376740</td>\n",
       "      <td>36</td>\n",
       "      <td>413.730011</td>\n",
       "      <td>3</td>\n",
       "    </tr>\n",
       "    <tr>\n",
       "      <th>7</th>\n",
       "      <td>NFLX</td>\n",
       "      <td>2023-04-02</td>\n",
       "      <td>353.546692</td>\n",
       "      <td>37</td>\n",
       "      <td>411.250000</td>\n",
       "      <td>3</td>\n",
       "    </tr>\n",
       "    <tr>\n",
       "      <th>8</th>\n",
       "      <td>NFLX</td>\n",
       "      <td>2023-04-03</td>\n",
       "      <td>351.396332</td>\n",
       "      <td>38</td>\n",
       "      <td>403.540009</td>\n",
       "      <td>3</td>\n",
       "    </tr>\n",
       "    <tr>\n",
       "      <th>9</th>\n",
       "      <td>NFLX</td>\n",
       "      <td>2023-04-04</td>\n",
       "      <td>354.595032</td>\n",
       "      <td>39</td>\n",
       "      <td>397.869995</td>\n",
       "      <td>3</td>\n",
       "    </tr>\n",
       "    <tr>\n",
       "      <th>0</th>\n",
       "      <td>NFLX</td>\n",
       "      <td>2023-04-05</td>\n",
       "      <td>403.673279</td>\n",
       "      <td>40</td>\n",
       "      <td>410.079987</td>\n",
       "      <td>4</td>\n",
       "    </tr>\n",
       "    <tr>\n",
       "      <th>1</th>\n",
       "      <td>NFLX</td>\n",
       "      <td>2023-04-06</td>\n",
       "      <td>403.321869</td>\n",
       "      <td>41</td>\n",
       "      <td>411.690002</td>\n",
       "      <td>4</td>\n",
       "    </tr>\n",
       "    <tr>\n",
       "      <th>2</th>\n",
       "      <td>NFLX</td>\n",
       "      <td>2023-04-07</td>\n",
       "      <td>401.043396</td>\n",
       "      <td>42</td>\n",
       "      <td>420.190002</td>\n",
       "      <td>4</td>\n",
       "    </tr>\n",
       "    <tr>\n",
       "      <th>3</th>\n",
       "      <td>NFLX</td>\n",
       "      <td>2023-04-08</td>\n",
       "      <td>389.324890</td>\n",
       "      <td>43</td>\n",
       "      <td>424.709991</td>\n",
       "      <td>4</td>\n",
       "    </tr>\n",
       "    <tr>\n",
       "      <th>4</th>\n",
       "      <td>NFLX</td>\n",
       "      <td>2023-04-09</td>\n",
       "      <td>393.088440</td>\n",
       "      <td>44</td>\n",
       "      <td>432.359985</td>\n",
       "      <td>4</td>\n",
       "    </tr>\n",
       "    <tr>\n",
       "      <th>5</th>\n",
       "      <td>NFLX</td>\n",
       "      <td>2023-04-10</td>\n",
       "      <td>403.090027</td>\n",
       "      <td>45</td>\n",
       "      <td>434.739990</td>\n",
       "      <td>4</td>\n",
       "    </tr>\n",
       "    <tr>\n",
       "      <th>6</th>\n",
       "      <td>NFLX</td>\n",
       "      <td>2023-04-11</td>\n",
       "      <td>396.268555</td>\n",
       "      <td>46</td>\n",
       "      <td>434.609985</td>\n",
       "      <td>4</td>\n",
       "    </tr>\n",
       "    <tr>\n",
       "      <th>7</th>\n",
       "      <td>NFLX</td>\n",
       "      <td>2023-04-12</td>\n",
       "      <td>402.091980</td>\n",
       "      <td>47</td>\n",
       "      <td>436.649994</td>\n",
       "      <td>4</td>\n",
       "    </tr>\n",
       "    <tr>\n",
       "      <th>8</th>\n",
       "      <td>NFLX</td>\n",
       "      <td>2023-04-13</td>\n",
       "      <td>397.634918</td>\n",
       "      <td>48</td>\n",
       "      <td>435.149994</td>\n",
       "      <td>4</td>\n",
       "    </tr>\n",
       "    <tr>\n",
       "      <th>9</th>\n",
       "      <td>NFLX</td>\n",
       "      <td>2023-04-14</td>\n",
       "      <td>394.772156</td>\n",
       "      <td>49</td>\n",
       "      <td>447.239990</td>\n",
       "      <td>4</td>\n",
       "    </tr>\n",
       "    <tr>\n",
       "      <th>0</th>\n",
       "      <td>NFLX</td>\n",
       "      <td>2023-04-15</td>\n",
       "      <td>449.677032</td>\n",
       "      <td>50</td>\n",
       "      <td>444.619995</td>\n",
       "      <td>5</td>\n",
       "    </tr>\n",
       "    <tr>\n",
       "      <th>1</th>\n",
       "      <td>NFLX</td>\n",
       "      <td>2023-04-16</td>\n",
       "      <td>443.271606</td>\n",
       "      <td>51</td>\n",
       "      <td>448.649994</td>\n",
       "      <td>5</td>\n",
       "    </tr>\n",
       "    <tr>\n",
       "      <th>2</th>\n",
       "      <td>NFLX</td>\n",
       "      <td>2023-04-17</td>\n",
       "      <td>445.785309</td>\n",
       "      <td>52</td>\n",
       "      <td>461.940002</td>\n",
       "      <td>5</td>\n",
       "    </tr>\n",
       "    <tr>\n",
       "      <th>3</th>\n",
       "      <td>NFLX</td>\n",
       "      <td>2023-04-18</td>\n",
       "      <td>447.004059</td>\n",
       "      <td>53</td>\n",
       "      <td>466.950012</td>\n",
       "      <td>5</td>\n",
       "    </tr>\n",
       "    <tr>\n",
       "      <th>4</th>\n",
       "      <td>NFLX</td>\n",
       "      <td>2023-04-19</td>\n",
       "      <td>446.273193</td>\n",
       "      <td>54</td>\n",
       "      <td>465.910004</td>\n",
       "      <td>5</td>\n",
       "    </tr>\n",
       "    <tr>\n",
       "      <th>5</th>\n",
       "      <td>NFLX</td>\n",
       "      <td>2023-04-20</td>\n",
       "      <td>445.059845</td>\n",
       "      <td>55</td>\n",
       "      <td>474.470001</td>\n",
       "      <td>5</td>\n",
       "    </tr>\n",
       "    <tr>\n",
       "      <th>6</th>\n",
       "      <td>NFLX</td>\n",
       "      <td>2023-04-21</td>\n",
       "      <td>443.578064</td>\n",
       "      <td>56</td>\n",
       "      <td>474.950012</td>\n",
       "      <td>5</td>\n",
       "    </tr>\n",
       "    <tr>\n",
       "      <th>7</th>\n",
       "      <td>NFLX</td>\n",
       "      <td>2023-04-22</td>\n",
       "      <td>441.637085</td>\n",
       "      <td>57</td>\n",
       "      <td>478.000000</td>\n",
       "      <td>5</td>\n",
       "    </tr>\n",
       "    <tr>\n",
       "      <th>8</th>\n",
       "      <td>NFLX</td>\n",
       "      <td>2023-04-23</td>\n",
       "      <td>439.371094</td>\n",
       "      <td>58</td>\n",
       "      <td>478.000000</td>\n",
       "      <td>5</td>\n",
       "    </tr>\n",
       "    <tr>\n",
       "      <th>9</th>\n",
       "      <td>NFLX</td>\n",
       "      <td>2023-04-24</td>\n",
       "      <td>438.683502</td>\n",
       "      <td>59</td>\n",
       "      <td>479.559998</td>\n",
       "      <td>5</td>\n",
       "    </tr>\n",
       "  </tbody>\n",
       "</table>\n",
       "</div>"
      ],
      "text/plain": [
       "  unique_id         ds      NBEATS  index           y  modelID\n",
       "0      NFLX 2023-02-24  443.698303      0  439.880005        0\n",
       "1      NFLX 2023-02-25  439.346985      1  448.679993        0\n",
       "2      NFLX 2023-02-26  442.825897      2  445.760010        0\n",
       "3      NFLX 2023-02-27  448.869751      3  443.140015        0\n",
       "4      NFLX 2023-02-28  445.565155      4  442.799988        0\n",
       "5      NFLX 2023-03-01  445.176117      5  445.359985        0\n",
       "6      NFLX 2023-03-02  443.456329      6  434.690002        0\n",
       "7      NFLX 2023-03-03  444.735901      7  412.239990        0\n",
       "8      NFLX 2023-03-04  443.926605      8  400.489990        0\n",
       "9      NFLX 2023-03-05  446.959503      9  396.940002        0\n",
       "0      NFLX 2023-03-06  396.652161     10  394.399994        1\n",
       "1      NFLX 2023-03-07  394.857330     11  396.200012        1\n",
       "2      NFLX 2023-03-08  396.201660     12  386.299988        1\n",
       "3      NFLX 2023-03-09  402.809814     13  384.149994        1\n",
       "4      NFLX 2023-03-10  404.343781     14  379.809998        1\n",
       "5      NFLX 2023-03-11  402.945648     15  384.799988        1\n",
       "6      NFLX 2023-03-12  398.246338     16  379.250000        1\n",
       "7      NFLX 2023-03-13  392.292328     17  377.589996        1\n",
       "8      NFLX 2023-03-14  394.459991     18  376.359985        1\n",
       "9      NFLX 2023-03-15  386.785339     19  377.600006        1\n",
       "0      NFLX 2023-03-16  375.682373     20  380.329987        2\n",
       "1      NFLX 2023-03-17  376.216675     21  376.750000        2\n",
       "2      NFLX 2023-03-18  377.051056     22  376.899994        2\n",
       "3      NFLX 2023-03-19  372.663513     23  372.589996        2\n",
       "4      NFLX 2023-03-20  376.424591     24  381.510010        2\n",
       "5      NFLX 2023-03-21  386.437927     25  385.950012        2\n",
       "6      NFLX 2023-03-22  383.335785     26  373.320007        2\n",
       "7      NFLX 2023-03-23  381.306274     27  365.929993        2\n",
       "8      NFLX 2023-03-24  388.490936     28  361.200012        2\n",
       "9      NFLX 2023-03-25  390.718506     29  355.679993        2\n",
       "0      NFLX 2023-03-26  353.303101     30  360.820007        3\n",
       "1      NFLX 2023-03-27  354.254547     31  355.720001        3\n",
       "2      NFLX 2023-03-28  354.266296     32  346.190002        3\n",
       "3      NFLX 2023-03-29  355.771301     33  401.769989        3\n",
       "4      NFLX 2023-03-30  358.597778     34  400.959991        3\n",
       "5      NFLX 2023-03-31  357.767395     35  406.839996        3\n",
       "6      NFLX 2023-04-01  353.376740     36  413.730011        3\n",
       "7      NFLX 2023-04-02  353.546692     37  411.250000        3\n",
       "8      NFLX 2023-04-03  351.396332     38  403.540009        3\n",
       "9      NFLX 2023-04-04  354.595032     39  397.869995        3\n",
       "0      NFLX 2023-04-05  403.673279     40  410.079987        4\n",
       "1      NFLX 2023-04-06  403.321869     41  411.690002        4\n",
       "2      NFLX 2023-04-07  401.043396     42  420.190002        4\n",
       "3      NFLX 2023-04-08  389.324890     43  424.709991        4\n",
       "4      NFLX 2023-04-09  393.088440     44  432.359985        4\n",
       "5      NFLX 2023-04-10  403.090027     45  434.739990        4\n",
       "6      NFLX 2023-04-11  396.268555     46  434.609985        4\n",
       "7      NFLX 2023-04-12  402.091980     47  436.649994        4\n",
       "8      NFLX 2023-04-13  397.634918     48  435.149994        4\n",
       "9      NFLX 2023-04-14  394.772156     49  447.239990        4\n",
       "0      NFLX 2023-04-15  449.677032     50  444.619995        5\n",
       "1      NFLX 2023-04-16  443.271606     51  448.649994        5\n",
       "2      NFLX 2023-04-17  445.785309     52  461.940002        5\n",
       "3      NFLX 2023-04-18  447.004059     53  466.950012        5\n",
       "4      NFLX 2023-04-19  446.273193     54  465.910004        5\n",
       "5      NFLX 2023-04-20  445.059845     55  474.470001        5\n",
       "6      NFLX 2023-04-21  443.578064     56  474.950012        5\n",
       "7      NFLX 2023-04-22  441.637085     57  478.000000        5\n",
       "8      NFLX 2023-04-23  439.371094     58  478.000000        5\n",
       "9      NFLX 2023-04-24  438.683502     59  479.559998        5"
      ]
     },
     "execution_count": 18,
     "metadata": {},
     "output_type": "execute_result"
    }
   ],
   "source": [
    "predictions"
   ]
  },
  {
   "cell_type": "code",
   "execution_count": 16,
   "metadata": {},
   "outputs": [
    {
     "name": "stdout",
     "output_type": "stream",
     "text": [
      "Predicting DataLoader 0: 100%|██████████| 1/1 [00:00<00:00, 202.80it/s]\n"
     ]
    },
    {
     "data": {
      "text/html": [
       "<div>\n",
       "<style scoped>\n",
       "    .dataframe tbody tr th:only-of-type {\n",
       "        vertical-align: middle;\n",
       "    }\n",
       "\n",
       "    .dataframe tbody tr th {\n",
       "        vertical-align: top;\n",
       "    }\n",
       "\n",
       "    .dataframe thead th {\n",
       "        text-align: right;\n",
       "    }\n",
       "</style>\n",
       "<table border=\"1\" class=\"dataframe\">\n",
       "  <thead>\n",
       "    <tr style=\"text-align: right;\">\n",
       "      <th></th>\n",
       "      <th>ds</th>\n",
       "      <th>NBEATS</th>\n",
       "    </tr>\n",
       "    <tr>\n",
       "      <th>unique_id</th>\n",
       "      <th></th>\n",
       "      <th></th>\n",
       "    </tr>\n",
       "  </thead>\n",
       "  <tbody>\n",
       "    <tr>\n",
       "      <th>NFLX</th>\n",
       "      <td>2023-02-24</td>\n",
       "      <td>443.698303</td>\n",
       "    </tr>\n",
       "    <tr>\n",
       "      <th>NFLX</th>\n",
       "      <td>2023-02-25</td>\n",
       "      <td>439.346985</td>\n",
       "    </tr>\n",
       "    <tr>\n",
       "      <th>NFLX</th>\n",
       "      <td>2023-02-26</td>\n",
       "      <td>442.825897</td>\n",
       "    </tr>\n",
       "    <tr>\n",
       "      <th>NFLX</th>\n",
       "      <td>2023-02-27</td>\n",
       "      <td>448.869751</td>\n",
       "    </tr>\n",
       "    <tr>\n",
       "      <th>NFLX</th>\n",
       "      <td>2023-02-28</td>\n",
       "      <td>445.565155</td>\n",
       "    </tr>\n",
       "    <tr>\n",
       "      <th>NFLX</th>\n",
       "      <td>2023-03-01</td>\n",
       "      <td>445.176117</td>\n",
       "    </tr>\n",
       "    <tr>\n",
       "      <th>NFLX</th>\n",
       "      <td>2023-03-02</td>\n",
       "      <td>443.456329</td>\n",
       "    </tr>\n",
       "    <tr>\n",
       "      <th>NFLX</th>\n",
       "      <td>2023-03-03</td>\n",
       "      <td>444.735901</td>\n",
       "    </tr>\n",
       "    <tr>\n",
       "      <th>NFLX</th>\n",
       "      <td>2023-03-04</td>\n",
       "      <td>443.926605</td>\n",
       "    </tr>\n",
       "    <tr>\n",
       "      <th>NFLX</th>\n",
       "      <td>2023-03-05</td>\n",
       "      <td>446.959503</td>\n",
       "    </tr>\n",
       "  </tbody>\n",
       "</table>\n",
       "</div>"
      ],
      "text/plain": [
       "                  ds      NBEATS\n",
       "unique_id                       \n",
       "NFLX      2023-02-24  443.698303\n",
       "NFLX      2023-02-25  439.346985\n",
       "NFLX      2023-02-26  442.825897\n",
       "NFLX      2023-02-27  448.869751\n",
       "NFLX      2023-02-28  445.565155\n",
       "NFLX      2023-03-01  445.176117\n",
       "NFLX      2023-03-02  443.456329\n",
       "NFLX      2023-03-03  444.735901\n",
       "NFLX      2023-03-04  443.926605\n",
       "NFLX      2023-03-05  446.959503"
      ]
     },
     "execution_count": 16,
     "metadata": {},
     "output_type": "execute_result"
    }
   ],
   "source": [
    "model.predict()"
   ]
  },
  {
   "cell_type": "code",
   "execution_count": 13,
   "metadata": {},
   "outputs": [
    {
     "data": {
      "text/html": [
       "<div>\n",
       "<style scoped>\n",
       "    .dataframe tbody tr th:only-of-type {\n",
       "        vertical-align: middle;\n",
       "    }\n",
       "\n",
       "    .dataframe tbody tr th {\n",
       "        vertical-align: top;\n",
       "    }\n",
       "\n",
       "    .dataframe thead th {\n",
       "        text-align: right;\n",
       "    }\n",
       "</style>\n",
       "<table border=\"1\" class=\"dataframe\">\n",
       "  <thead>\n",
       "    <tr style=\"text-align: right;\">\n",
       "      <th></th>\n",
       "      <th>unique_id</th>\n",
       "      <th>ds</th>\n",
       "      <th>NBEATS</th>\n",
       "      <th>NBEATS-median</th>\n",
       "      <th>NBEATS-lo-90</th>\n",
       "      <th>NBEATS-hi-90</th>\n",
       "      <th>index</th>\n",
       "      <th>y</th>\n",
       "    </tr>\n",
       "  </thead>\n",
       "  <tbody>\n",
       "    <tr>\n",
       "      <th>0</th>\n",
       "      <td>NFLX</td>\n",
       "      <td>2023-01-15</td>\n",
       "      <td>437.750000</td>\n",
       "      <td>437.0</td>\n",
       "      <td>404.000000</td>\n",
       "      <td>474.000000</td>\n",
       "      <td>0</td>\n",
       "      <td>441.709991</td>\n",
       "    </tr>\n",
       "    <tr>\n",
       "      <th>1</th>\n",
       "      <td>NFLX</td>\n",
       "      <td>2023-01-16</td>\n",
       "      <td>439.558990</td>\n",
       "      <td>439.0</td>\n",
       "      <td>405.000000</td>\n",
       "      <td>477.000000</td>\n",
       "      <td>1</td>\n",
       "      <td>440.209991</td>\n",
       "    </tr>\n",
       "    <tr>\n",
       "      <th>2</th>\n",
       "      <td>NFLX</td>\n",
       "      <td>2023-01-17</td>\n",
       "      <td>439.554993</td>\n",
       "      <td>439.0</td>\n",
       "      <td>405.000000</td>\n",
       "      <td>476.049988</td>\n",
       "      <td>2</td>\n",
       "      <td>444.049988</td>\n",
       "    </tr>\n",
       "    <tr>\n",
       "      <th>3</th>\n",
       "      <td>NFLX</td>\n",
       "      <td>2023-01-18</td>\n",
       "      <td>440.588989</td>\n",
       "      <td>440.0</td>\n",
       "      <td>407.950012</td>\n",
       "      <td>476.000000</td>\n",
       "      <td>3</td>\n",
       "      <td>450.380005</td>\n",
       "    </tr>\n",
       "    <tr>\n",
       "      <th>4</th>\n",
       "      <td>NFLX</td>\n",
       "      <td>2023-01-19</td>\n",
       "      <td>439.825012</td>\n",
       "      <td>439.0</td>\n",
       "      <td>405.000000</td>\n",
       "      <td>475.000000</td>\n",
       "      <td>4</td>\n",
       "      <td>441.910004</td>\n",
       "    </tr>\n",
       "    <tr>\n",
       "      <th>5</th>\n",
       "      <td>NFLX</td>\n",
       "      <td>2023-01-20</td>\n",
       "      <td>438.092987</td>\n",
       "      <td>437.5</td>\n",
       "      <td>405.950012</td>\n",
       "      <td>471.000000</td>\n",
       "      <td>5</td>\n",
       "      <td>450.049988</td>\n",
       "    </tr>\n",
       "    <tr>\n",
       "      <th>6</th>\n",
       "      <td>NFLX</td>\n",
       "      <td>2023-01-21</td>\n",
       "      <td>442.847992</td>\n",
       "      <td>444.0</td>\n",
       "      <td>409.000000</td>\n",
       "      <td>477.000000</td>\n",
       "      <td>6</td>\n",
       "      <td>474.799988</td>\n",
       "    </tr>\n",
       "    <tr>\n",
       "      <th>7</th>\n",
       "      <td>NFLX</td>\n",
       "      <td>2023-01-22</td>\n",
       "      <td>440.056000</td>\n",
       "      <td>440.0</td>\n",
       "      <td>405.000000</td>\n",
       "      <td>474.049988</td>\n",
       "      <td>7</td>\n",
       "      <td>477.589996</td>\n",
       "    </tr>\n",
       "    <tr>\n",
       "      <th>8</th>\n",
       "      <td>NFLX</td>\n",
       "      <td>2023-01-23</td>\n",
       "      <td>439.641998</td>\n",
       "      <td>439.0</td>\n",
       "      <td>406.950012</td>\n",
       "      <td>474.000000</td>\n",
       "      <td>8</td>\n",
       "      <td>437.420013</td>\n",
       "    </tr>\n",
       "    <tr>\n",
       "      <th>9</th>\n",
       "      <td>NFLX</td>\n",
       "      <td>2023-01-24</td>\n",
       "      <td>442.152008</td>\n",
       "      <td>443.0</td>\n",
       "      <td>406.000000</td>\n",
       "      <td>477.000000</td>\n",
       "      <td>9</td>\n",
       "      <td>427.500000</td>\n",
       "    </tr>\n",
       "    <tr>\n",
       "      <th>0</th>\n",
       "      <td>NFLX</td>\n",
       "      <td>2023-01-25</td>\n",
       "      <td>425.890991</td>\n",
       "      <td>426.0</td>\n",
       "      <td>390.000000</td>\n",
       "      <td>461.000000</td>\n",
       "      <td>10</td>\n",
       "      <td>428.369995</td>\n",
       "    </tr>\n",
       "    <tr>\n",
       "      <th>1</th>\n",
       "      <td>NFLX</td>\n",
       "      <td>2023-01-26</td>\n",
       "      <td>425.135986</td>\n",
       "      <td>425.0</td>\n",
       "      <td>390.000000</td>\n",
       "      <td>460.000000</td>\n",
       "      <td>11</td>\n",
       "      <td>427.700012</td>\n",
       "    </tr>\n",
       "    <tr>\n",
       "      <th>2</th>\n",
       "      <td>NFLX</td>\n",
       "      <td>2023-01-27</td>\n",
       "      <td>428.561005</td>\n",
       "      <td>429.0</td>\n",
       "      <td>395.000000</td>\n",
       "      <td>460.000000</td>\n",
       "      <td>12</td>\n",
       "      <td>422.670013</td>\n",
       "    </tr>\n",
       "    <tr>\n",
       "      <th>3</th>\n",
       "      <td>NFLX</td>\n",
       "      <td>2023-01-28</td>\n",
       "      <td>425.217987</td>\n",
       "      <td>425.0</td>\n",
       "      <td>392.000000</td>\n",
       "      <td>460.000000</td>\n",
       "      <td>13</td>\n",
       "      <td>413.170013</td>\n",
       "    </tr>\n",
       "    <tr>\n",
       "      <th>4</th>\n",
       "      <td>NFLX</td>\n",
       "      <td>2023-01-29</td>\n",
       "      <td>433.144012</td>\n",
       "      <td>433.0</td>\n",
       "      <td>399.000000</td>\n",
       "      <td>468.000000</td>\n",
       "      <td>14</td>\n",
       "      <td>425.779999</td>\n",
       "    </tr>\n",
       "    <tr>\n",
       "      <th>5</th>\n",
       "      <td>NFLX</td>\n",
       "      <td>2023-01-30</td>\n",
       "      <td>436.362000</td>\n",
       "      <td>436.0</td>\n",
       "      <td>404.000000</td>\n",
       "      <td>470.049988</td>\n",
       "      <td>15</td>\n",
       "      <td>438.970001</td>\n",
       "    </tr>\n",
       "    <tr>\n",
       "      <th>6</th>\n",
       "      <td>NFLX</td>\n",
       "      <td>2023-01-31</td>\n",
       "      <td>437.880005</td>\n",
       "      <td>437.0</td>\n",
       "      <td>404.000000</td>\n",
       "      <td>474.000000</td>\n",
       "      <td>16</td>\n",
       "      <td>438.619995</td>\n",
       "    </tr>\n",
       "    <tr>\n",
       "      <th>7</th>\n",
       "      <td>NFLX</td>\n",
       "      <td>2023-02-01</td>\n",
       "      <td>435.778015</td>\n",
       "      <td>435.0</td>\n",
       "      <td>401.000000</td>\n",
       "      <td>471.000000</td>\n",
       "      <td>17</td>\n",
       "      <td>429.700012</td>\n",
       "    </tr>\n",
       "    <tr>\n",
       "      <th>8</th>\n",
       "      <td>NFLX</td>\n",
       "      <td>2023-02-02</td>\n",
       "      <td>438.139008</td>\n",
       "      <td>438.0</td>\n",
       "      <td>404.000000</td>\n",
       "      <td>474.000000</td>\n",
       "      <td>18</td>\n",
       "      <td>431.000000</td>\n",
       "    </tr>\n",
       "    <tr>\n",
       "      <th>9</th>\n",
       "      <td>NFLX</td>\n",
       "      <td>2023-02-03</td>\n",
       "      <td>437.722992</td>\n",
       "      <td>437.0</td>\n",
       "      <td>405.950012</td>\n",
       "      <td>472.000000</td>\n",
       "      <td>19</td>\n",
       "      <td>431.600006</td>\n",
       "    </tr>\n",
       "    <tr>\n",
       "      <th>0</th>\n",
       "      <td>NFLX</td>\n",
       "      <td>2023-02-04</td>\n",
       "      <td>429.756989</td>\n",
       "      <td>430.0</td>\n",
       "      <td>395.950012</td>\n",
       "      <td>465.000000</td>\n",
       "      <td>20</td>\n",
       "      <td>440.760010</td>\n",
       "    </tr>\n",
       "    <tr>\n",
       "      <th>1</th>\n",
       "      <td>NFLX</td>\n",
       "      <td>2023-02-05</td>\n",
       "      <td>434.859985</td>\n",
       "      <td>434.0</td>\n",
       "      <td>401.000000</td>\n",
       "      <td>470.049988</td>\n",
       "      <td>21</td>\n",
       "      <td>438.299988</td>\n",
       "    </tr>\n",
       "    <tr>\n",
       "      <th>2</th>\n",
       "      <td>NFLX</td>\n",
       "      <td>2023-02-06</td>\n",
       "      <td>431.748993</td>\n",
       "      <td>431.0</td>\n",
       "      <td>398.000000</td>\n",
       "      <td>466.000000</td>\n",
       "      <td>22</td>\n",
       "      <td>428.899994</td>\n",
       "    </tr>\n",
       "    <tr>\n",
       "      <th>3</th>\n",
       "      <td>NFLX</td>\n",
       "      <td>2023-02-07</td>\n",
       "      <td>434.203003</td>\n",
       "      <td>435.0</td>\n",
       "      <td>399.000000</td>\n",
       "      <td>468.000000</td>\n",
       "      <td>23</td>\n",
       "      <td>429.980011</td>\n",
       "    </tr>\n",
       "    <tr>\n",
       "      <th>4</th>\n",
       "      <td>NFLX</td>\n",
       "      <td>2023-02-08</td>\n",
       "      <td>432.983002</td>\n",
       "      <td>433.0</td>\n",
       "      <td>400.000000</td>\n",
       "      <td>467.049988</td>\n",
       "      <td>24</td>\n",
       "      <td>421.660004</td>\n",
       "    </tr>\n",
       "    <tr>\n",
       "      <th>5</th>\n",
       "      <td>NFLX</td>\n",
       "      <td>2023-02-09</td>\n",
       "      <td>433.005005</td>\n",
       "      <td>433.0</td>\n",
       "      <td>398.000000</td>\n",
       "      <td>470.000000</td>\n",
       "      <td>25</td>\n",
       "      <td>427.779999</td>\n",
       "    </tr>\n",
       "    <tr>\n",
       "      <th>6</th>\n",
       "      <td>NFLX</td>\n",
       "      <td>2023-02-10</td>\n",
       "      <td>431.398010</td>\n",
       "      <td>431.0</td>\n",
       "      <td>396.000000</td>\n",
       "      <td>467.049988</td>\n",
       "      <td>26</td>\n",
       "      <td>423.700012</td>\n",
       "    </tr>\n",
       "    <tr>\n",
       "      <th>7</th>\n",
       "      <td>NFLX</td>\n",
       "      <td>2023-02-11</td>\n",
       "      <td>432.427002</td>\n",
       "      <td>432.0</td>\n",
       "      <td>401.000000</td>\n",
       "      <td>465.000000</td>\n",
       "      <td>27</td>\n",
       "      <td>415.450012</td>\n",
       "    </tr>\n",
       "    <tr>\n",
       "      <th>8</th>\n",
       "      <td>NFLX</td>\n",
       "      <td>2023-02-12</td>\n",
       "      <td>435.954010</td>\n",
       "      <td>436.0</td>\n",
       "      <td>401.950012</td>\n",
       "      <td>471.049988</td>\n",
       "      <td>28</td>\n",
       "      <td>403.000000</td>\n",
       "    </tr>\n",
       "    <tr>\n",
       "      <th>9</th>\n",
       "      <td>NFLX</td>\n",
       "      <td>2023-02-13</td>\n",
       "      <td>436.434998</td>\n",
       "      <td>435.0</td>\n",
       "      <td>403.000000</td>\n",
       "      <td>472.000000</td>\n",
       "      <td>29</td>\n",
       "      <td>404.529999</td>\n",
       "    </tr>\n",
       "    <tr>\n",
       "      <th>0</th>\n",
       "      <td>NFLX</td>\n",
       "      <td>2023-02-14</td>\n",
       "      <td>404.329987</td>\n",
       "      <td>405.0</td>\n",
       "      <td>373.000000</td>\n",
       "      <td>436.000000</td>\n",
       "      <td>30</td>\n",
       "      <td>408.290009</td>\n",
       "    </tr>\n",
       "    <tr>\n",
       "      <th>1</th>\n",
       "      <td>NFLX</td>\n",
       "      <td>2023-02-15</td>\n",
       "      <td>402.807007</td>\n",
       "      <td>402.0</td>\n",
       "      <td>370.000000</td>\n",
       "      <td>438.000000</td>\n",
       "      <td>31</td>\n",
       "      <td>413.170013</td>\n",
       "    </tr>\n",
       "    <tr>\n",
       "      <th>2</th>\n",
       "      <td>NFLX</td>\n",
       "      <td>2023-02-16</td>\n",
       "      <td>403.527008</td>\n",
       "      <td>403.0</td>\n",
       "      <td>371.950012</td>\n",
       "      <td>439.049988</td>\n",
       "      <td>32</td>\n",
       "      <td>427.549988</td>\n",
       "    </tr>\n",
       "    <tr>\n",
       "      <th>3</th>\n",
       "      <td>NFLX</td>\n",
       "      <td>2023-02-17</td>\n",
       "      <td>403.528015</td>\n",
       "      <td>404.0</td>\n",
       "      <td>369.950012</td>\n",
       "      <td>435.049988</td>\n",
       "      <td>33</td>\n",
       "      <td>406.929993</td>\n",
       "    </tr>\n",
       "    <tr>\n",
       "      <th>4</th>\n",
       "      <td>NFLX</td>\n",
       "      <td>2023-02-18</td>\n",
       "      <td>408.117004</td>\n",
       "      <td>408.0</td>\n",
       "      <td>373.000000</td>\n",
       "      <td>442.049988</td>\n",
       "      <td>34</td>\n",
       "      <td>416.029999</td>\n",
       "    </tr>\n",
       "    <tr>\n",
       "      <th>5</th>\n",
       "      <td>NFLX</td>\n",
       "      <td>2023-02-19</td>\n",
       "      <td>405.256012</td>\n",
       "      <td>405.0</td>\n",
       "      <td>374.000000</td>\n",
       "      <td>439.000000</td>\n",
       "      <td>35</td>\n",
       "      <td>418.059998</td>\n",
       "    </tr>\n",
       "    <tr>\n",
       "      <th>6</th>\n",
       "      <td>NFLX</td>\n",
       "      <td>2023-02-20</td>\n",
       "      <td>406.980988</td>\n",
       "      <td>408.0</td>\n",
       "      <td>372.950012</td>\n",
       "      <td>442.000000</td>\n",
       "      <td>36</td>\n",
       "      <td>429.989990</td>\n",
       "    </tr>\n",
       "    <tr>\n",
       "      <th>7</th>\n",
       "      <td>NFLX</td>\n",
       "      <td>2023-02-21</td>\n",
       "      <td>405.381012</td>\n",
       "      <td>405.0</td>\n",
       "      <td>373.000000</td>\n",
       "      <td>438.049988</td>\n",
       "      <td>37</td>\n",
       "      <td>434.670013</td>\n",
       "    </tr>\n",
       "    <tr>\n",
       "      <th>8</th>\n",
       "      <td>NFLX</td>\n",
       "      <td>2023-02-22</td>\n",
       "      <td>403.622986</td>\n",
       "      <td>403.0</td>\n",
       "      <td>372.000000</td>\n",
       "      <td>438.000000</td>\n",
       "      <td>38</td>\n",
       "      <td>433.679993</td>\n",
       "    </tr>\n",
       "    <tr>\n",
       "      <th>9</th>\n",
       "      <td>NFLX</td>\n",
       "      <td>2023-02-23</td>\n",
       "      <td>402.779999</td>\n",
       "      <td>402.0</td>\n",
       "      <td>371.000000</td>\n",
       "      <td>436.000000</td>\n",
       "      <td>39</td>\n",
       "      <td>439.880005</td>\n",
       "    </tr>\n",
       "  </tbody>\n",
       "</table>\n",
       "</div>"
      ],
      "text/plain": [
       "  unique_id         ds      NBEATS  NBEATS-median  NBEATS-lo-90  NBEATS-hi-90  \\\n",
       "0      NFLX 2023-01-15  437.750000          437.0    404.000000    474.000000   \n",
       "1      NFLX 2023-01-16  439.558990          439.0    405.000000    477.000000   \n",
       "2      NFLX 2023-01-17  439.554993          439.0    405.000000    476.049988   \n",
       "3      NFLX 2023-01-18  440.588989          440.0    407.950012    476.000000   \n",
       "4      NFLX 2023-01-19  439.825012          439.0    405.000000    475.000000   \n",
       "5      NFLX 2023-01-20  438.092987          437.5    405.950012    471.000000   \n",
       "6      NFLX 2023-01-21  442.847992          444.0    409.000000    477.000000   \n",
       "7      NFLX 2023-01-22  440.056000          440.0    405.000000    474.049988   \n",
       "8      NFLX 2023-01-23  439.641998          439.0    406.950012    474.000000   \n",
       "9      NFLX 2023-01-24  442.152008          443.0    406.000000    477.000000   \n",
       "0      NFLX 2023-01-25  425.890991          426.0    390.000000    461.000000   \n",
       "1      NFLX 2023-01-26  425.135986          425.0    390.000000    460.000000   \n",
       "2      NFLX 2023-01-27  428.561005          429.0    395.000000    460.000000   \n",
       "3      NFLX 2023-01-28  425.217987          425.0    392.000000    460.000000   \n",
       "4      NFLX 2023-01-29  433.144012          433.0    399.000000    468.000000   \n",
       "5      NFLX 2023-01-30  436.362000          436.0    404.000000    470.049988   \n",
       "6      NFLX 2023-01-31  437.880005          437.0    404.000000    474.000000   \n",
       "7      NFLX 2023-02-01  435.778015          435.0    401.000000    471.000000   \n",
       "8      NFLX 2023-02-02  438.139008          438.0    404.000000    474.000000   \n",
       "9      NFLX 2023-02-03  437.722992          437.0    405.950012    472.000000   \n",
       "0      NFLX 2023-02-04  429.756989          430.0    395.950012    465.000000   \n",
       "1      NFLX 2023-02-05  434.859985          434.0    401.000000    470.049988   \n",
       "2      NFLX 2023-02-06  431.748993          431.0    398.000000    466.000000   \n",
       "3      NFLX 2023-02-07  434.203003          435.0    399.000000    468.000000   \n",
       "4      NFLX 2023-02-08  432.983002          433.0    400.000000    467.049988   \n",
       "5      NFLX 2023-02-09  433.005005          433.0    398.000000    470.000000   \n",
       "6      NFLX 2023-02-10  431.398010          431.0    396.000000    467.049988   \n",
       "7      NFLX 2023-02-11  432.427002          432.0    401.000000    465.000000   \n",
       "8      NFLX 2023-02-12  435.954010          436.0    401.950012    471.049988   \n",
       "9      NFLX 2023-02-13  436.434998          435.0    403.000000    472.000000   \n",
       "0      NFLX 2023-02-14  404.329987          405.0    373.000000    436.000000   \n",
       "1      NFLX 2023-02-15  402.807007          402.0    370.000000    438.000000   \n",
       "2      NFLX 2023-02-16  403.527008          403.0    371.950012    439.049988   \n",
       "3      NFLX 2023-02-17  403.528015          404.0    369.950012    435.049988   \n",
       "4      NFLX 2023-02-18  408.117004          408.0    373.000000    442.049988   \n",
       "5      NFLX 2023-02-19  405.256012          405.0    374.000000    439.000000   \n",
       "6      NFLX 2023-02-20  406.980988          408.0    372.950012    442.000000   \n",
       "7      NFLX 2023-02-21  405.381012          405.0    373.000000    438.049988   \n",
       "8      NFLX 2023-02-22  403.622986          403.0    372.000000    438.000000   \n",
       "9      NFLX 2023-02-23  402.779999          402.0    371.000000    436.000000   \n",
       "\n",
       "   index           y  \n",
       "0      0  441.709991  \n",
       "1      1  440.209991  \n",
       "2      2  444.049988  \n",
       "3      3  450.380005  \n",
       "4      4  441.910004  \n",
       "5      5  450.049988  \n",
       "6      6  474.799988  \n",
       "7      7  477.589996  \n",
       "8      8  437.420013  \n",
       "9      9  427.500000  \n",
       "0     10  428.369995  \n",
       "1     11  427.700012  \n",
       "2     12  422.670013  \n",
       "3     13  413.170013  \n",
       "4     14  425.779999  \n",
       "5     15  438.970001  \n",
       "6     16  438.619995  \n",
       "7     17  429.700012  \n",
       "8     18  431.000000  \n",
       "9     19  431.600006  \n",
       "0     20  440.760010  \n",
       "1     21  438.299988  \n",
       "2     22  428.899994  \n",
       "3     23  429.980011  \n",
       "4     24  421.660004  \n",
       "5     25  427.779999  \n",
       "6     26  423.700012  \n",
       "7     27  415.450012  \n",
       "8     28  403.000000  \n",
       "9     29  404.529999  \n",
       "0     30  408.290009  \n",
       "1     31  413.170013  \n",
       "2     32  427.549988  \n",
       "3     33  406.929993  \n",
       "4     34  416.029999  \n",
       "5     35  418.059998  \n",
       "6     36  429.989990  \n",
       "7     37  434.670013  \n",
       "8     38  433.679993  \n",
       "9     39  439.880005  "
      ]
     },
     "execution_count": 13,
     "metadata": {},
     "output_type": "execute_result"
    }
   ],
   "source": [
    "predictions"
   ]
  },
  {
   "cell_type": "code",
   "execution_count": 14,
   "metadata": {},
   "outputs": [
    {
     "name": "stdout",
     "output_type": "stream",
     "text": [
      "Epoch 99: 100%|██████████| 1/1 [00:00<00:00,  1.33it/s, v_num=396, train_loss_step=6.230, train_loss_epoch=6.230]\n",
      "Predicting DataLoader 0: 100%|██████████| 1/1 [00:00<00:00, 80.94it/s]\n"
     ]
    },
    {
     "data": {
      "text/html": [
       "<div>\n",
       "<style scoped>\n",
       "    .dataframe tbody tr th:only-of-type {\n",
       "        vertical-align: middle;\n",
       "    }\n",
       "\n",
       "    .dataframe tbody tr th {\n",
       "        vertical-align: top;\n",
       "    }\n",
       "\n",
       "    .dataframe thead th {\n",
       "        text-align: right;\n",
       "    }\n",
       "</style>\n",
       "<table border=\"1\" class=\"dataframe\">\n",
       "  <thead>\n",
       "    <tr style=\"text-align: right;\">\n",
       "      <th></th>\n",
       "      <th>unique_id</th>\n",
       "      <th>ds</th>\n",
       "      <th>FEDformer</th>\n",
       "      <th>index</th>\n",
       "      <th>y</th>\n",
       "    </tr>\n",
       "  </thead>\n",
       "  <tbody>\n",
       "    <tr>\n",
       "      <th>0</th>\n",
       "      <td>NFLX</td>\n",
       "      <td>2023-01-15</td>\n",
       "      <td>438.678711</td>\n",
       "      <td>0</td>\n",
       "      <td>441.709991</td>\n",
       "    </tr>\n",
       "    <tr>\n",
       "      <th>1</th>\n",
       "      <td>NFLX</td>\n",
       "      <td>2023-01-16</td>\n",
       "      <td>438.838165</td>\n",
       "      <td>1</td>\n",
       "      <td>440.209991</td>\n",
       "    </tr>\n",
       "    <tr>\n",
       "      <th>2</th>\n",
       "      <td>NFLX</td>\n",
       "      <td>2023-01-17</td>\n",
       "      <td>438.809814</td>\n",
       "      <td>2</td>\n",
       "      <td>444.049988</td>\n",
       "    </tr>\n",
       "    <tr>\n",
       "      <th>3</th>\n",
       "      <td>NFLX</td>\n",
       "      <td>2023-01-18</td>\n",
       "      <td>438.636658</td>\n",
       "      <td>3</td>\n",
       "      <td>450.380005</td>\n",
       "    </tr>\n",
       "    <tr>\n",
       "      <th>4</th>\n",
       "      <td>NFLX</td>\n",
       "      <td>2023-01-19</td>\n",
       "      <td>438.202515</td>\n",
       "      <td>4</td>\n",
       "      <td>441.910004</td>\n",
       "    </tr>\n",
       "    <tr>\n",
       "      <th>5</th>\n",
       "      <td>NFLX</td>\n",
       "      <td>2023-01-20</td>\n",
       "      <td>437.978302</td>\n",
       "      <td>5</td>\n",
       "      <td>450.049988</td>\n",
       "    </tr>\n",
       "    <tr>\n",
       "      <th>6</th>\n",
       "      <td>NFLX</td>\n",
       "      <td>2023-01-21</td>\n",
       "      <td>438.617065</td>\n",
       "      <td>6</td>\n",
       "      <td>474.799988</td>\n",
       "    </tr>\n",
       "    <tr>\n",
       "      <th>7</th>\n",
       "      <td>NFLX</td>\n",
       "      <td>2023-01-22</td>\n",
       "      <td>438.683990</td>\n",
       "      <td>7</td>\n",
       "      <td>477.589996</td>\n",
       "    </tr>\n",
       "    <tr>\n",
       "      <th>8</th>\n",
       "      <td>NFLX</td>\n",
       "      <td>2023-01-23</td>\n",
       "      <td>438.599762</td>\n",
       "      <td>8</td>\n",
       "      <td>437.420013</td>\n",
       "    </tr>\n",
       "    <tr>\n",
       "      <th>9</th>\n",
       "      <td>NFLX</td>\n",
       "      <td>2023-01-24</td>\n",
       "      <td>438.931122</td>\n",
       "      <td>9</td>\n",
       "      <td>427.500000</td>\n",
       "    </tr>\n",
       "  </tbody>\n",
       "</table>\n",
       "</div>"
      ],
      "text/plain": [
       "  unique_id         ds   FEDformer  index           y\n",
       "0      NFLX 2023-01-15  438.678711      0  441.709991\n",
       "1      NFLX 2023-01-16  438.838165      1  440.209991\n",
       "2      NFLX 2023-01-17  438.809814      2  444.049988\n",
       "3      NFLX 2023-01-18  438.636658      3  450.380005\n",
       "4      NFLX 2023-01-19  438.202515      4  441.910004\n",
       "5      NFLX 2023-01-20  437.978302      5  450.049988\n",
       "6      NFLX 2023-01-21  438.617065      6  474.799988\n",
       "7      NFLX 2023-01-22  438.683990      7  477.589996\n",
       "8      NFLX 2023-01-23  438.599762      8  437.420013\n",
       "9      NFLX 2023-01-24  438.931122      9  427.500000"
      ]
     },
     "execution_count": 14,
     "metadata": {},
     "output_type": "execute_result"
    }
   ],
   "source": [
    "# models, train_set, val_set, mean_squared_error, \"NBEATS\"\n",
    "model = NeuralForecast(models=models, freq='D')\n",
    "model.fit(train_set)\n",
    "\n",
    "p =  model.predict(futr_df=val_set).reset_index()\n",
    "p = p.merge(val_set[['ds','unique_id', 'y']].reset_index(), on=['ds', 'unique_id'], how='left')\n",
    "p"
   ]
  },
  {
   "cell_type": "code",
   "execution_count": 287,
   "metadata": {},
   "outputs": [
    {
     "data": {
      "text/plain": [
       "['log_return_1',\n",
       " 'mean_future',\n",
       " 'mean_influential',\n",
       " 'mean_trustworthy',\n",
       " 'mean_clickbait',\n",
       " 'finbert_Score',\n",
       " 'bart_Score',\n",
       " 'vader_Score',\n",
       " 'log_return_gspc_1',\n",
       " 'norm_rsi_14',\n",
       " 'norm_slowk_14',\n",
       " 'norm_roc_14']"
      ]
     },
     "execution_count": 287,
     "metadata": {},
     "output_type": "execute_result"
    }
   ],
   "source": [
    "FINAL_COLS"
   ]
  },
  {
   "cell_type": "code",
   "execution_count": null,
   "metadata": {},
   "outputs": [],
   "source": []
  }
 ],
 "metadata": {
  "kernelspec": {
   "display_name": "inz",
   "language": "python",
   "name": "python3"
  },
  "language_info": {
   "codemirror_mode": {
    "name": "ipython",
    "version": 3
   },
   "file_extension": ".py",
   "mimetype": "text/x-python",
   "name": "python",
   "nbconvert_exporter": "python",
   "pygments_lexer": "ipython3",
   "version": "3.10.6"
  }
 },
 "nbformat": 4,
 "nbformat_minor": 2
}
