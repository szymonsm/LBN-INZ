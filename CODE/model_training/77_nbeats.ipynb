{
 "cells": [
  {
   "cell_type": "markdown",
   "metadata": {},
   "source": [
    "notebook 7 \n",
    "NBEATS\n",
    "- wybór okna czasowego\n",
    "- podzbiory kolumn\n",
    "- optuna na strukturze\n",
    "- sprawdzenie funkcji do metryk"
   ]
  },
  {
   "cell_type": "code",
   "execution_count": 1,
   "metadata": {},
   "outputs": [
    {
     "name": "stdout",
     "output_type": "stream",
     "text": [
      "Collecting neuralforecast\n",
      "  Downloading neuralforecast-1.6.4-py3-none-any.whl.metadata (15 kB)\n",
      "Requirement already satisfied: numpy>=1.21.6 in d:\\anaconda\\envs\\inz\\lib\\site-packages (from neuralforecast) (1.26.2)\n",
      "Requirement already satisfied: pandas>=1.3.5 in d:\\anaconda\\envs\\inz\\lib\\site-packages (from neuralforecast) (2.1.3)\n",
      "INFO: pip is looking at multiple versions of neuralforecast to determine which version is compatible with other requirements. This could take a while.\n",
      "  Downloading neuralforecast-1.6.3-py3-none-any.whl.metadata (15 kB)\n",
      "  Downloading neuralforecast-1.6.2-py3-none-any.whl.metadata (15 kB)\n",
      "  Downloading neuralforecast-1.6.1-py3-none-any.whl.metadata (15 kB)\n",
      "  Downloading neuralforecast-1.6.0-py3-none-any.whl.metadata (15 kB)\n",
      "  Downloading neuralforecast-1.5.0-py3-none-any.whl (141 kB)\n",
      "     ---------------------------------------- 0.0/141.8 kB ? eta -:--:--\n",
      "     ---------- -------------------------- 41.0/141.8 kB 991.0 kB/s eta 0:00:01\n",
      "     ------------------------- ------------- 92.2/141.8 kB 1.3 MB/s eta 0:00:01\n",
      "     -------------------------------------- 141.8/141.8 kB 1.4 MB/s eta 0:00:00\n",
      "  Downloading neuralforecast-1.4.0-py3-none-any.whl (96 kB)\n",
      "     ---------------------------------------- 0.0/96.5 kB ? eta -:--:--\n",
      "     ---------------- ----------------------- 41.0/96.5 kB 1.9 MB/s eta 0:00:01\n",
      "     ---------------------------------------- 96.5/96.5 kB 1.1 MB/s eta 0:00:00\n",
      "  Downloading neuralforecast-1.3.0-py3-none-any.whl (91 kB)\n",
      "     ---------------------------------------- 0.0/91.2 kB ? eta -:--:--\n",
      "     ----------------- -------------------- 41.0/91.2 kB 991.0 kB/s eta 0:00:01\n",
      "     ---------------------------------------- 91.2/91.2 kB 1.3 MB/s eta 0:00:00\n",
      "INFO: pip is still looking at multiple versions of neuralforecast to determine which version is compatible with other requirements. This could take a while.\n",
      "  Downloading neuralforecast-1.2.0-py3-none-any.whl (90 kB)\n",
      "     ---------------------------------------- 0.0/90.6 kB ? eta -:--:--\n",
      "     ------------------ --------------------- 41.0/90.6 kB 2.0 MB/s eta 0:00:01\n",
      "     ---------------------------------------- 90.6/90.6 kB 1.7 MB/s eta 0:00:00\n",
      "  Downloading neuralforecast-1.1.0-py3-none-any.whl (85 kB)\n",
      "     ---------------------------------------- 0.0/85.7 kB ? eta -:--:--\n",
      "     ---------------------------- ----------- 61.4/85.7 kB 1.7 MB/s eta 0:00:01\n",
      "     ---------------------------------------- 85.7/85.7 kB 1.6 MB/s eta 0:00:00\n",
      "  Downloading neuralforecast-1.0.0-py3-none-any.whl (62 kB)\n",
      "     ---------------------------------------- 0.0/62.7 kB ? eta -:--:--\n",
      "     ------------------------ ------------- 41.0/62.7 kB 991.0 kB/s eta 0:00:01\n",
      "     -------------------------------------- 62.7/62.7 kB 846.1 kB/s eta 0:00:00\n",
      "  Downloading neuralforecast-0.1.0-py3-none-any.whl (138 kB)\n",
      "     ---------------------------------------- 0.0/138.7 kB ? eta -:--:--\n",
      "     ----------- --------------------------- 41.0/138.7 kB 2.0 MB/s eta 0:00:01\n",
      "     --------------------------------- ---- 122.9/138.7 kB 1.8 MB/s eta 0:00:01\n",
      "     -------------------------------------- 138.7/138.7 kB 1.4 MB/s eta 0:00:00\n",
      "Requirement already satisfied: pip in d:\\anaconda\\envs\\inz\\lib\\site-packages (from neuralforecast) (23.3.1)\n",
      "Collecting hyperopt (from neuralforecast)\n",
      "  Downloading hyperopt-0.2.7-py2.py3-none-any.whl (1.6 MB)\n",
      "     ---------------------------------------- 0.0/1.6 MB ? eta -:--:--\n",
      "     - -------------------------------------- 0.1/1.6 MB 1.7 MB/s eta 0:00:01\n",
      "     --- ------------------------------------ 0.1/1.6 MB 1.7 MB/s eta 0:00:01\n",
      "     ----- ---------------------------------- 0.2/1.6 MB 1.6 MB/s eta 0:00:01\n",
      "     ------- -------------------------------- 0.3/1.6 MB 1.8 MB/s eta 0:00:01\n",
      "     --------- ------------------------------ 0.4/1.6 MB 1.7 MB/s eta 0:00:01\n",
      "     ----------- ---------------------------- 0.5/1.6 MB 1.8 MB/s eta 0:00:01\n",
      "     ------------- -------------------------- 0.5/1.6 MB 1.8 MB/s eta 0:00:01\n",
      "     ---------------- ----------------------- 0.7/1.6 MB 1.8 MB/s eta 0:00:01\n",
      "     ------------------ --------------------- 0.7/1.6 MB 1.8 MB/s eta 0:00:01\n",
      "     -------------------- ------------------- 0.8/1.6 MB 1.8 MB/s eta 0:00:01\n",
      "     --------------------- ------------------ 0.9/1.6 MB 1.8 MB/s eta 0:00:01\n",
      "     ----------------------- ---------------- 0.9/1.6 MB 1.8 MB/s eta 0:00:01\n",
      "     ------------------------- -------------- 1.0/1.6 MB 1.8 MB/s eta 0:00:01\n",
      "     --------------------------- ------------ 1.1/1.6 MB 1.8 MB/s eta 0:00:01\n",
      "     ----------------------------- ---------- 1.2/1.6 MB 1.8 MB/s eta 0:00:01\n",
      "     ------------------------------- -------- 1.2/1.6 MB 1.8 MB/s eta 0:00:01\n",
      "     -------------------------------- ------- 1.3/1.6 MB 1.7 MB/s eta 0:00:01\n",
      "     ---------------------------------- ----- 1.4/1.6 MB 1.8 MB/s eta 0:00:01\n",
      "     ------------------------------------ --- 1.5/1.6 MB 1.7 MB/s eta 0:00:01\n",
      "     ---------------------------------------  1.6/1.6 MB 1.8 MB/s eta 0:00:01\n",
      "     ---------------------------------------- 1.6/1.6 MB 1.8 MB/s eta 0:00:00\n",
      "Collecting fastcore (from neuralforecast)\n",
      "  Downloading fastcore-1.5.29-py3-none-any.whl (67 kB)\n",
      "     ---------------------------------------- 0.0/67.6 kB ? eta -:--:--\n",
      "     ---------------------------------------- 67.6/67.6 kB 3.6 MB/s eta 0:00:00\n",
      "Requirement already satisfied: matplotlib in d:\\anaconda\\envs\\inz\\lib\\site-packages (from neuralforecast) (3.8.2)\n",
      "Collecting numba (from neuralforecast)\n",
      "  Using cached numba-0.58.1.tar.gz (2.6 MB)\n",
      "  Preparing metadata (setup.py): started\n",
      "  Preparing metadata (setup.py): finished with status 'error'\n",
      "Note: you may need to restart the kernel to use updated packages.\n"
     ]
    },
    {
     "name": "stderr",
     "output_type": "stream",
     "text": [
      "  error: subprocess-exited-with-error\n",
      "  \n",
      "  × python setup.py egg_info did not run successfully.\n",
      "  │ exit code: 1\n",
      "  ╰─> [8 lines of output]\n",
      "      Traceback (most recent call last):\n",
      "        File \"<string>\", line 2, in <module>\n",
      "        File \"<pip-setuptools-caller>\", line 34, in <module>\n",
      "        File \"C:\\Users\\HP\\AppData\\Local\\Temp\\pip-install-0x6mvtf8\\numba_97f8cf0429ea4203a9f1bd52484ec2ca\\setup.py\", line 51, in <module>\n",
      "          _guard_py_ver()\n",
      "        File \"C:\\Users\\HP\\AppData\\Local\\Temp\\pip-install-0x6mvtf8\\numba_97f8cf0429ea4203a9f1bd52484ec2ca\\setup.py\", line 48, in _guard_py_ver\n",
      "          raise RuntimeError(msg.format(cur_py, min_py, max_py))\n",
      "      RuntimeError: Cannot install on Python version 3.12.0; only versions >=3.8,<3.12 are supported.\n",
      "      [end of output]\n",
      "  \n",
      "  note: This error originates from a subprocess, and is likely not a problem with pip.\n",
      "error: metadata-generation-failed\n",
      "\n",
      "× Encountered error while generating package metadata.\n",
      "╰─> See above for output.\n",
      "\n",
      "note: This is an issue with the package mentioned above, not pip.\n",
      "hint: See above for details.\n"
     ]
    }
   ],
   "source": [
    "pip install neuralforecast"
   ]
  },
  {
   "cell_type": "code",
   "execution_count": null,
   "metadata": {},
   "outputs": [],
   "source": [
    "import numpy as np\n",
    "import pandas as pd\n",
    "from IPython.display import display, Markdown\n",
    "\n",
    "import matplotlib.pyplot as plt\n",
    "from neuralforecast import NeuralForecast\n",
    "from neuralforecast.models import NBEATS, NHITS\n",
    "from neuralforecast.utils import AirPassengersDF\n",
    "\n",
    "# Split data and declare panel dataset\n",
    "Y_df = AirPassengersDF\n",
    "Y_train_df = Y_df[Y_df.ds<='1959-12-31'] # 132 train\n",
    "Y_test_df = Y_df[Y_df.ds>'1959-12-31'] # 12 test\n",
    "\n",
    "# Fit and predict with NBEATS and NHITS models\n",
    "horizon = len(Y_test_df)\n",
    "models = [NBEATS(input_size=2 * horizon, h=horizon, max_steps=50),\n",
    "          NHITS(input_size=2 * horizon, h=horizon, max_steps=50)]\n",
    "nf = NeuralForecast(models=models, freq='M')\n",
    "nf.fit(df=Y_train_df)\n",
    "Y_hat_df = nf.predict().reset_index()\n",
    "\n",
    "# Plot predictions\n",
    "fig, ax = plt.subplots(1, 1, figsize = (20, 7))\n",
    "Y_hat_df = Y_test_df.merge(Y_hat_df, how='left', on=['unique_id', 'ds'])\n",
    "plot_df = pd.concat([Y_train_df, Y_hat_df]).set_index('ds')\n",
    "\n",
    "plot_df[['y', 'NBEATS', 'NHITS']].plot(ax=ax, linewidth=2)\n",
    "\n",
    "ax.set_title('AirPassengers Forecast', fontsize=22)\n",
    "ax.set_ylabel('Monthly Passengers', fontsize=20)\n",
    "ax.set_xlabel('Timestamp [t]', fontsize=20)\n",
    "ax.legend(prop={'size': 15})\n",
    "ax.grid()"
   ]
  },
  {
   "cell_type": "code",
   "execution_count": 5,
   "metadata": {},
   "outputs": [],
   "source": [
    "import pandas as pd\n",
    "import numpy as np\n",
    "from scripts.essentials import *\n",
    "from scripts.plots import *\n",
    "from scripts.train_utilities import *"
   ]
  },
  {
   "cell_type": "code",
   "execution_count": 1,
   "metadata": {},
   "outputs": [],
   "source": [
    "import pandas as pd\n",
    "\n",
    "prefix = \"NFLX\"\n",
    "\n",
    "df_with_weekends = pd.read_csv(\"csv/\"+prefix+'_with_weekends.csv')\n",
    "df_without_weekends = pd.read_csv(\"csv/\"+prefix+'_without_weekends.csv')"
   ]
  },
  {
   "cell_type": "code",
   "execution_count": 45,
   "metadata": {},
   "outputs": [],
   "source": [
    "df_with_weekends.drop(columns=['NFLX_Open', 'NFLX_High', 'NFLX_Low', 'NFLX_Close', 'Unnamed: 0', '^GSPC_Close','vwap_14'], inplace=True) "
   ]
  },
  {
   "cell_type": "code",
   "execution_count": 46,
   "metadata": {},
   "outputs": [],
   "source": [
    "df_with_weekends['target_1'] = df_with_weekends['log_return_1'].shift(-1)\n",
    "df_with_weekends['target_5'] = df_with_weekends['log_return_5'].shift(-5)\n",
    "df_with_weekends['target_10'] = df_with_weekends['log_return_10'].shift(-10)\n",
    "df_with_weekends['target_20'] = df_with_weekends['log_return_20'].shift(-20)"
   ]
  },
  {
   "cell_type": "code",
   "execution_count": 134,
   "metadata": {},
   "outputs": [
    {
     "name": "stdout",
     "output_type": "stream",
     "text": [
      "(730, 50)\n",
      "(59, 50)\n",
      "(55, 50)\n"
     ]
    }
   ],
   "source": [
    "train_set, val_set, test_set = split_data(df_without_weekends, 'Date', '2023-01-01', '2023-03-01', start_date_train = '2021-01-01')\n",
    "print(train_set.shape)\n",
    "print(val_set.shape)\n",
    "print(test_set.shape)"
   ]
  },
  {
   "cell_type": "code",
   "execution_count": 11,
   "metadata": {},
   "outputs": [
    {
     "data": {
      "text/plain": [
       "Index(['future', 'influential', 'trustworthy', 'not clickbait',\n",
       "       'finbert_Score', 'bart_Score', 'vader_Score', 'future_finbert',\n",
       "       'future_bart', 'future_vader', 'influential_finbert',\n",
       "       'influential_bart', 'influential_vader', 'trustworthy_finbert',\n",
       "       'trustworthy_bart', 'trustworthy_vader', 'clickbait_finbert',\n",
       "       'clickbait_bart', 'clickbait_vader', 'Date', '^GSPC_Volume',\n",
       "       'EURUSD=X_Close', 'NFLX_Volume', 'mean_future', 'mean_influential',\n",
       "       'mean_trustworthy', 'mean_clickbait', 'norm_rsi_14', 'norm_rsi_gspc_14',\n",
       "       'norm_slowk_14', 'norm_roc_14', 'log_return_1', 'log_return_5',\n",
       "       'log_return_10', 'log_return_20', 'log_return_gspc_1',\n",
       "       'log_return_gspc_5', 'log_return_gspc_10', 'log_return_gspc_20',\n",
       "       'daily_variation', 'high_close_pressure', 'low_open_pressure',\n",
       "       'low_norm', 'close_norm', 'high_norm', 'open_norm', 'target_1',\n",
       "       'target_5', 'target_10', 'target_20'],\n",
       "      dtype='object')"
      ]
     },
     "execution_count": 11,
     "metadata": {},
     "output_type": "execute_result"
    }
   ],
   "source": [
    "train_set.columns"
   ]
  },
  {
   "cell_type": "code",
   "execution_count": 135,
   "metadata": {},
   "outputs": [],
   "source": [
    "train_set = train_set[['Date', 'log_return_1','mean_future', 'mean_influential','mean_trustworthy', 'mean_clickbait', 'log_return_gspc_1', 'norm_rsi_14', 'norm_slowk_14', 'norm_roc_14', 'target_1']]\n",
    "val_set = val_set[['Date','log_return_1','mean_future', 'mean_influential','mean_trustworthy', 'mean_clickbait', 'log_return_gspc_1', 'norm_rsi_14', 'norm_slowk_14', 'norm_roc_14', 'target_1']]\n",
    "test_set = test_set[['Date','log_return_1','mean_future', 'mean_influential','mean_trustworthy', 'mean_clickbait', 'log_return_gspc_1', 'norm_rsi_14', 'norm_slowk_14', 'norm_roc_14', 'target_1']]\n",
    "train_set.rename(columns={'Date':'ds', 'target_1':'y'}, inplace=True)\n",
    "val_set.rename(columns={'Date':'ds', 'target_1':'y'}, inplace=True)\n",
    "test_set.rename(columns={'Date':'ds', 'target_1':'y'}, inplace=True)\n",
    "train_set['unique_id'] = 'NFLX'\n",
    "val_set['unique_id'] = 'NFLX'\n",
    "test_set['unique_id'] = 'NFLX'"
   ]
  },
  {
   "cell_type": "code",
   "execution_count": 136,
   "metadata": {},
   "outputs": [
    {
     "data": {
      "text/html": [
       "<div>\n",
       "<style scoped>\n",
       "    .dataframe tbody tr th:only-of-type {\n",
       "        vertical-align: middle;\n",
       "    }\n",
       "\n",
       "    .dataframe tbody tr th {\n",
       "        vertical-align: top;\n",
       "    }\n",
       "\n",
       "    .dataframe thead th {\n",
       "        text-align: right;\n",
       "    }\n",
       "</style>\n",
       "<table border=\"1\" class=\"dataframe\">\n",
       "  <thead>\n",
       "    <tr style=\"text-align: right;\">\n",
       "      <th></th>\n",
       "      <th>ds</th>\n",
       "      <th>log_return_1</th>\n",
       "      <th>mean_future</th>\n",
       "      <th>mean_influential</th>\n",
       "      <th>mean_trustworthy</th>\n",
       "      <th>mean_clickbait</th>\n",
       "      <th>log_return_gspc_1</th>\n",
       "      <th>norm_rsi_14</th>\n",
       "      <th>norm_slowk_14</th>\n",
       "      <th>norm_roc_14</th>\n",
       "      <th>y</th>\n",
       "      <th>unique_id</th>\n",
       "    </tr>\n",
       "  </thead>\n",
       "  <tbody>\n",
       "    <tr>\n",
       "      <th>784</th>\n",
       "      <td>2023-02-24</td>\n",
       "      <td>0.000000</td>\n",
       "      <td>0.074717</td>\n",
       "      <td>0.304888</td>\n",
       "      <td>0.275707</td>\n",
       "      <td>0.082836</td>\n",
       "      <td>0.000000</td>\n",
       "      <td>0.577912</td>\n",
       "      <td>0.881310</td>\n",
       "      <td>0.038187</td>\n",
       "      <td>0.019808</td>\n",
       "      <td>NFLX</td>\n",
       "    </tr>\n",
       "    <tr>\n",
       "      <th>785</th>\n",
       "      <td>2023-02-25</td>\n",
       "      <td>0.019808</td>\n",
       "      <td>0.086859</td>\n",
       "      <td>0.232262</td>\n",
       "      <td>0.222720</td>\n",
       "      <td>0.049219</td>\n",
       "      <td>-0.004203</td>\n",
       "      <td>0.617332</td>\n",
       "      <td>0.913743</td>\n",
       "      <td>0.079986</td>\n",
       "      <td>-0.006529</td>\n",
       "      <td>NFLX</td>\n",
       "    </tr>\n",
       "    <tr>\n",
       "      <th>786</th>\n",
       "      <td>2023-02-26</td>\n",
       "      <td>-0.006529</td>\n",
       "      <td>0.138287</td>\n",
       "      <td>0.405005</td>\n",
       "      <td>0.384895</td>\n",
       "      <td>0.126674</td>\n",
       "      <td>-0.006996</td>\n",
       "      <td>0.597395</td>\n",
       "      <td>0.860940</td>\n",
       "      <td>0.106104</td>\n",
       "      <td>-0.005895</td>\n",
       "      <td>NFLX</td>\n",
       "    </tr>\n",
       "    <tr>\n",
       "      <th>787</th>\n",
       "      <td>2023-02-27</td>\n",
       "      <td>-0.005895</td>\n",
       "      <td>0.057587</td>\n",
       "      <td>0.125473</td>\n",
       "      <td>0.104018</td>\n",
       "      <td>0.036830</td>\n",
       "      <td>-0.003216</td>\n",
       "      <td>0.579317</td>\n",
       "      <td>0.808897</td>\n",
       "      <td>0.095444</td>\n",
       "      <td>-0.000768</td>\n",
       "      <td>NFLX</td>\n",
       "    </tr>\n",
       "    <tr>\n",
       "      <th>788</th>\n",
       "      <td>2023-02-28</td>\n",
       "      <td>-0.000768</td>\n",
       "      <td>0.056839</td>\n",
       "      <td>0.190404</td>\n",
       "      <td>0.187410</td>\n",
       "      <td>0.041343</td>\n",
       "      <td>0.001426</td>\n",
       "      <td>0.576877</td>\n",
       "      <td>0.774746</td>\n",
       "      <td>0.084523</td>\n",
       "      <td>0.005765</td>\n",
       "      <td>NFLX</td>\n",
       "    </tr>\n",
       "  </tbody>\n",
       "</table>\n",
       "</div>"
      ],
      "text/plain": [
       "            ds  log_return_1  mean_future  mean_influential  mean_trustworthy  \\\n",
       "784 2023-02-24      0.000000     0.074717          0.304888          0.275707   \n",
       "785 2023-02-25      0.019808     0.086859          0.232262          0.222720   \n",
       "786 2023-02-26     -0.006529     0.138287          0.405005          0.384895   \n",
       "787 2023-02-27     -0.005895     0.057587          0.125473          0.104018   \n",
       "788 2023-02-28     -0.000768     0.056839          0.190404          0.187410   \n",
       "\n",
       "     mean_clickbait  log_return_gspc_1  norm_rsi_14  norm_slowk_14  \\\n",
       "784        0.082836           0.000000     0.577912       0.881310   \n",
       "785        0.049219          -0.004203     0.617332       0.913743   \n",
       "786        0.126674          -0.006996     0.597395       0.860940   \n",
       "787        0.036830          -0.003216     0.579317       0.808897   \n",
       "788        0.041343           0.001426     0.576877       0.774746   \n",
       "\n",
       "     norm_roc_14         y unique_id  \n",
       "784     0.038187  0.019808      NFLX  \n",
       "785     0.079986 -0.006529      NFLX  \n",
       "786     0.106104 -0.005895      NFLX  \n",
       "787     0.095444 -0.000768      NFLX  \n",
       "788     0.084523  0.005765      NFLX  "
      ]
     },
     "execution_count": 136,
     "metadata": {},
     "output_type": "execute_result"
    }
   ],
   "source": [
    "val_set.tail()"
   ]
  },
  {
   "cell_type": "code",
   "execution_count": 40,
   "metadata": {},
   "outputs": [],
   "source": [
    "# if there is not row with a date then copy row from previous day with this date  \n",
    "train_set = train_set.set_index('ds').resample('D').ffill().reset_index()\n",
    "val_set = val_set.set_index('ds').resample('D').ffill().reset_index()\n",
    "test_set = test_set.set_index('ds').resample('D').ffill().reset_index()\n"
   ]
  },
  {
   "cell_type": "code",
   "execution_count": 137,
   "metadata": {},
   "outputs": [],
   "source": [
    "# make ds as timestamp\n",
    "train_set['ds'] = pd.to_datetime(train_set['ds'])\n",
    "val_set['ds'] = pd.to_datetime(val_set['ds'])\n",
    "test_set['ds'] = pd.to_datetime(test_set['ds'])"
   ]
  },
  {
   "cell_type": "code",
   "execution_count": 79,
   "metadata": {},
   "outputs": [
    {
     "data": {
      "text/plain": [
       "{'input_size': 6,\n",
       " 'n_blocks_season': 2,\n",
       " 'n_blocks_trend': 3,\n",
       " 'n_blocks_ident': 2,\n",
       " 'mlp_units': 64,\n",
       " 'num_hidden': 3,\n",
       " 'n_harmonics': 2,\n",
       " 'n_polynomials': 4,\n",
       " 'scaler_type': 'standard',\n",
       " 'learning_rate': 0.0009164455243785934}"
      ]
     },
     "execution_count": 79,
     "metadata": {},
     "output_type": "execute_result"
    }
   ],
   "source": [
    "study.best_params"
   ]
  },
  {
   "cell_type": "code",
   "execution_count": 230,
   "metadata": {},
   "outputs": [
    {
     "name": "stderr",
     "output_type": "stream",
     "text": [
      "Seed set to 1\n"
     ]
    },
    {
     "name": "stdout",
     "output_type": "stream",
     "text": [
      "Epoch 99: 100%|██████████| 1/1 [00:00<00:00, 12.43it/s, v_num=335, train_loss_step=4.140, train_loss_epoch=4.140]    \n",
      "Predicting DataLoader 0: 100%|██████████| 1/1 [00:00<00:00, 100.03it/s]\n"
     ]
    },
    {
     "data": {
      "text/plain": [
       "0.038461538461538464"
      ]
     },
     "execution_count": 230,
     "metadata": {},
     "output_type": "execute_result"
    }
   ],
   "source": [
    "from neuralforecast import NeuralForecast\n",
    "from neuralforecast.models import NBEATS \n",
    "from neuralforecast.losses.pytorch import DistributionLoss, MQLoss\n",
    "h = val_set['ds'].nunique()\n",
    "# models = [NBEATS(h=h,input_size=2,\n",
    "#                  loss=DistributionLoss(distribution='Normal', level=[90]),\n",
    "#                  max_steps=100,\n",
    "#                  scaler_type='standard',\n",
    "#                 futr_exog_list=['mean_future', 'mean_influential','mean_trustworthy', 'mean_clickbait', 'log_return_gspc_1', 'norm_rsi_14', 'norm_slowk_14', 'norm_roc_14'])]\n",
    "n_blocks = [prms['n_blocks_season'], prms['n_blocks_trend'], prms['n_blocks_ident']]\n",
    "mlp_units=[[prms['mlp_units'], prms['mlp_units']]*prms['num_hidden']]\n",
    "models = [NBEATS(\n",
    "                 h=h,\n",
    "                 loss=DistributionLoss(distribution='Normal', level=[90]),\n",
    "                 max_steps=100,\n",
    "                 futr_exog_list=['log_return_1','mean_future', 'mean_influential','mean_trustworthy', 'mean_clickbait', 'log_return_gspc_1', 'norm_rsi_14', 'norm_slowk_14', 'norm_roc_14'],\n",
    "                 input_size=prms['input_size'],\n",
    "                 stack_types=['seasonality', 'trend', 'identity'],\n",
    "                 mlp_units=mlp_units,\n",
    "                 n_blocks=n_blocks,\n",
    "                 learning_rate=prms['learning_rate'],\n",
    "                 n_harmonics=prms['n_harmonics'],\n",
    "                 n_polynomials=prms['n_polynomials'],\n",
    "                 scaler_type='standard',\n",
    "                random_seed=1\n",
    "                 )]\n",
    "model = NeuralForecast(models=models, freq='D')\n",
    "model.fit(train_set)\n",
    "\n",
    "p =  model.predict(futr_df=val_set).reset_index()\n",
    "#p = p.merge(val_set[['ds','unique_id', 'y']], on=['ds', 'unique_id'], how='left')\n",
    "# p = p.merge(val_set[['Date', 'target_1']], on=['Date'], how='left')\n",
    "p = p.merge(val_set[['ds','unique_id', 'y']].reset_index(), on=['ds', 'unique_id'], how='left')\n",
    "loss = count_signs_matrix(p['y'], p['NBEATS']) \n",
    "loss = loss[1][1]/(loss[1][0]+loss[1][1])\n",
    "loss"
   ]
  },
  {
   "cell_type": "code",
   "execution_count": 219,
   "metadata": {},
   "outputs": [
    {
     "data": {
      "text/plain": [
       "{'input_size': 1,\n",
       " 'n_blocks_season': 2,\n",
       " 'n_blocks_trend': 2,\n",
       " 'n_blocks_ident': 2,\n",
       " 'mlp_units': 128,\n",
       " 'num_hidden': 1,\n",
       " 'n_harmonics': 3,\n",
       " 'n_polynomials': 2,\n",
       " 'scaler_type': 'standard',\n",
       " 'learning_rate': 0.0027906075985262703}"
      ]
     },
     "execution_count": 219,
     "metadata": {},
     "output_type": "execute_result"
    }
   ],
   "source": [
    "study.best_trial.params"
   ]
  },
  {
   "cell_type": "code",
   "execution_count": 150,
   "metadata": {},
   "outputs": [
    {
     "data": {
      "text/plain": [
       "0.0005643292272526135"
      ]
     },
     "execution_count": 150,
     "metadata": {},
     "output_type": "execute_result"
    }
   ],
   "source": [
    "mean_squared_error(p['y'], p['NBEATS'])"
   ]
  },
  {
   "cell_type": "code",
   "execution_count": 176,
   "metadata": {},
   "outputs": [
    {
     "data": {
      "text/plain": [
       "59"
      ]
     },
     "execution_count": 176,
     "metadata": {},
     "output_type": "execute_result"
    }
   ],
   "source": [
    "h"
   ]
  },
  {
   "cell_type": "code",
   "execution_count": 214,
   "metadata": {},
   "outputs": [],
   "source": [
    "from sklearn.metrics import mean_squared_error\n",
    "import optuna\n",
    "\n",
    "def objective(trial):\n",
    "    input_size = trial.suggest_int('input_size', 1, 6)\n",
    "    \n",
    "    n_blocks_season = trial.suggest_int('n_blocks_season', 1, 3)\n",
    "    n_blocks_trend = trial.suggest_int('n_blocks_trend', 1, 3)\n",
    "    n_blocks_identity = trial.suggest_int('n_blocks_ident', 1, 3)\n",
    "    \n",
    "    mlp_units_n = trial.suggest_categorical('mlp_units', [32, 64, 128])\n",
    "    num_hidden = trial.suggest_int('num_hidden', 1, 3)\n",
    "    \n",
    "    n_harmonics = trial.suggest_int('n_harmonics', 1, 5)\n",
    "    n_polynomials = trial.suggest_int('n_polynomials', 1, 5)\n",
    "    \n",
    "    scaler_type = trial.suggest_categorical('scaler_type', ['standard'])\n",
    "    learning_rate = trial.suggest_loguniform('learning_rate', 1e-5, 1e-1)\n",
    "    \n",
    "    \n",
    "    n_blocks = [n_blocks_season, n_blocks_trend, n_blocks_identity]\n",
    "    mlp_units=[[mlp_units_n, mlp_units_n]]*num_hidden\n",
    "    h = val_set['ds'].nunique()\n",
    "    models = [NBEATS(h=h,input_size=input_size,\n",
    "                 loss=DistributionLoss(distribution='Normal', level=[90]),\n",
    "                 max_steps=1000,\n",
    "                 futr_exog_list=['log_return_1','mean_future', 'mean_influential','mean_trustworthy', 'mean_clickbait', 'log_return_gspc_1', 'norm_rsi_14', 'norm_slowk_14', 'norm_roc_14'],\n",
    "                 stack_types=['seasonality', 'trend', 'identity'],\n",
    "                 mlp_units=mlp_units,\n",
    "                 n_blocks=n_blocks,\n",
    "                 learning_rate=learning_rate,\n",
    "                 n_harmonics=n_harmonics,\n",
    "                 n_polynomials=n_polynomials,\n",
    "                 scaler_type=scaler_type)\n",
    "                 ]\n",
    "    model = NeuralForecast(models=models, freq='D')\n",
    "    model.fit(train_set)\n",
    "    p = model.predict(futr_df=val_set).reset_index()\n",
    "    p = p.merge(val_set[['ds', 'unique_id', 'y']], on=['ds', 'unique_id'], how='left')\n",
    "    loss = count_signs_matrix(p['y'], p['NBEATS']) \n",
    "    loss = loss[1][1]/(loss[1][0]+loss[1][1])\n",
    "    # loss = mean_squared_error(p['y'], p['NBEATS'])\n",
    "\n",
    "    return loss"
   ]
  },
  {
   "cell_type": "code",
   "execution_count": 215,
   "metadata": {},
   "outputs": [
    {
     "name": "stderr",
     "output_type": "stream",
     "text": [
      "[I 2023-12-15 19:53:45,776] A new study created in memory with name: no-name-c2f6ac2f-b237-417b-bdd2-228e57d3db9c\n",
      "Seed set to 1\n"
     ]
    },
    {
     "name": "stdout",
     "output_type": "stream",
     "text": [
      "Epoch 999: 100%|██████████| 1/1 [00:00<00:00,  7.07it/s, v_num=301, train_loss_step=-.664, train_loss_epoch=-.664]  \n",
      "Predicting DataLoader 0: 100%|██████████| 1/1 [00:00<00:00, 44.70it/s]"
     ]
    },
    {
     "name": "stderr",
     "output_type": "stream",
     "text": [
      "[I 2023-12-15 19:55:37,754] Trial 0 finished with value: 0.23076923076923078 and parameters: {'input_size': 1, 'n_blocks_season': 3, 'n_blocks_trend': 2, 'n_blocks_ident': 2, 'mlp_units': 128, 'num_hidden': 3, 'n_harmonics': 2, 'n_polynomials': 3, 'scaler_type': 'standard', 'learning_rate': 0.0018224348752240212}. Best is trial 0 with value: 0.23076923076923078.\n"
     ]
    },
    {
     "name": "stdout",
     "output_type": "stream",
     "text": [
      "\n"
     ]
    },
    {
     "name": "stderr",
     "output_type": "stream",
     "text": [
      "Seed set to 1\n"
     ]
    },
    {
     "name": "stdout",
     "output_type": "stream",
     "text": [
      "Epoch 999: 100%|██████████| 1/1 [00:00<00:00,  8.82it/s, v_num=303, train_loss_step=0.708, train_loss_epoch=0.708]      \n",
      "Predicting DataLoader 0: 100%|██████████| 1/1 [00:00<00:00, 37.36it/s]\n"
     ]
    },
    {
     "name": "stderr",
     "output_type": "stream",
     "text": [
      "[I 2023-12-15 19:57:04,337] Trial 1 finished with value: 0.5 and parameters: {'input_size': 2, 'n_blocks_season': 3, 'n_blocks_trend': 3, 'n_blocks_ident': 3, 'mlp_units': 128, 'num_hidden': 1, 'n_harmonics': 1, 'n_polynomials': 1, 'scaler_type': 'standard', 'learning_rate': 9.100866201018801e-05}. Best is trial 1 with value: 0.5.\n",
      "Seed set to 1\n"
     ]
    },
    {
     "name": "stdout",
     "output_type": "stream",
     "text": [
      "Epoch 999: 100%|██████████| 1/1 [00:00<00:00,  7.22it/s, v_num=305, train_loss_step=-2.31, train_loss_epoch=-2.31]\n",
      "Predicting DataLoader 0: 100%|██████████| 1/1 [00:00<00:00, 80.98it/s]\n"
     ]
    },
    {
     "name": "stderr",
     "output_type": "stream",
     "text": [
      "[I 2023-12-15 19:58:34,457] Trial 2 finished with value: 0.038461538461538464 and parameters: {'input_size': 5, 'n_blocks_season': 2, 'n_blocks_trend': 3, 'n_blocks_ident': 1, 'mlp_units': 128, 'num_hidden': 2, 'n_harmonics': 1, 'n_polynomials': 3, 'scaler_type': 'standard', 'learning_rate': 0.00037754651485030695}. Best is trial 1 with value: 0.5.\n",
      "Seed set to 1\n"
     ]
    },
    {
     "name": "stdout",
     "output_type": "stream",
     "text": [
      "Epoch 999: 100%|██████████| 1/1 [00:00<00:00,  8.20it/s, v_num=307, train_loss_step=-1.67, train_loss_epoch=-1.67]  \n",
      "Predicting DataLoader 0: 100%|██████████| 1/1 [00:00<00:00, 57.15it/s]\n"
     ]
    },
    {
     "name": "stderr",
     "output_type": "stream",
     "text": [
      "[I 2023-12-15 20:00:07,320] Trial 3 finished with value: 0.6538461538461539 and parameters: {'input_size': 4, 'n_blocks_season': 2, 'n_blocks_trend': 1, 'n_blocks_ident': 3, 'mlp_units': 64, 'num_hidden': 3, 'n_harmonics': 2, 'n_polynomials': 4, 'scaler_type': 'standard', 'learning_rate': 6.347568649856103e-05}. Best is trial 3 with value: 0.6538461538461539.\n",
      "Seed set to 1\n"
     ]
    },
    {
     "name": "stdout",
     "output_type": "stream",
     "text": [
      "Epoch 999: 100%|██████████| 1/1 [00:00<00:00,  6.59it/s, v_num=309, train_loss_step=1.29e+10, train_loss_epoch=1.29e+10]\n",
      "Predicting DataLoader 0: 100%|██████████| 1/1 [00:00<00:00, 45.90it/s]"
     ]
    },
    {
     "name": "stderr",
     "output_type": "stream",
     "text": [
      "[I 2023-12-15 20:02:08,372] Trial 4 finished with value: 0.5 and parameters: {'input_size': 2, 'n_blocks_season': 3, 'n_blocks_trend': 2, 'n_blocks_ident': 3, 'mlp_units': 128, 'num_hidden': 1, 'n_harmonics': 3, 'n_polynomials': 1, 'scaler_type': 'standard', 'learning_rate': 0.015457594723471803}. Best is trial 3 with value: 0.6538461538461539.\n",
      "Seed set to 1\n"
     ]
    },
    {
     "name": "stdout",
     "output_type": "stream",
     "text": [
      "\n",
      "Epoch 999: 100%|██████████| 1/1 [00:00<00:00,  8.32it/s, v_num=311, train_loss_step=14.20, train_loss_epoch=14.20]      \n",
      "Predicting DataLoader 0: 100%|██████████| 1/1 [00:00<00:00, 35.22it/s]"
     ]
    },
    {
     "name": "stderr",
     "output_type": "stream",
     "text": [
      "[I 2023-12-15 20:03:36,134] Trial 5 finished with value: 0.5 and parameters: {'input_size': 3, 'n_blocks_season': 3, 'n_blocks_trend': 1, 'n_blocks_ident': 1, 'mlp_units': 128, 'num_hidden': 1, 'n_harmonics': 1, 'n_polynomials': 3, 'scaler_type': 'standard', 'learning_rate': 0.016752815803282823}. Best is trial 3 with value: 0.6538461538461539.\n",
      "Seed set to 1\n"
     ]
    },
    {
     "name": "stdout",
     "output_type": "stream",
     "text": [
      "\n",
      "Epoch 999: 100%|██████████| 1/1 [00:00<00:00,  9.69it/s, v_num=313, train_loss_step=-1.52, train_loss_epoch=-1.52]  \n",
      "Predicting DataLoader 0: 100%|██████████| 1/1 [00:00<00:00, 38.35it/s]"
     ]
    },
    {
     "name": "stderr",
     "output_type": "stream",
     "text": [
      "[I 2023-12-15 20:05:05,523] Trial 6 finished with value: 0.07692307692307693 and parameters: {'input_size': 5, 'n_blocks_season': 1, 'n_blocks_trend': 3, 'n_blocks_ident': 3, 'mlp_units': 32, 'num_hidden': 3, 'n_harmonics': 3, 'n_polynomials': 3, 'scaler_type': 'standard', 'learning_rate': 4.075053763785384e-05}. Best is trial 3 with value: 0.6538461538461539.\n"
     ]
    },
    {
     "name": "stdout",
     "output_type": "stream",
     "text": [
      "\n"
     ]
    },
    {
     "name": "stderr",
     "output_type": "stream",
     "text": [
      "Seed set to 1\n"
     ]
    },
    {
     "name": "stdout",
     "output_type": "stream",
     "text": [
      "Epoch 999: 100%|██████████| 1/1 [00:00<00:00,  8.11it/s, v_num=315, train_loss_step=8.000, train_loss_epoch=8.000]    \n",
      "Predicting DataLoader 0: 100%|██████████| 1/1 [00:00<00:00, 35.48it/s]\n"
     ]
    },
    {
     "name": "stderr",
     "output_type": "stream",
     "text": [
      "[I 2023-12-15 20:06:45,030] Trial 7 finished with value: 1.0 and parameters: {'input_size': 1, 'n_blocks_season': 2, 'n_blocks_trend': 2, 'n_blocks_ident': 2, 'mlp_units': 128, 'num_hidden': 1, 'n_harmonics': 3, 'n_polynomials': 2, 'scaler_type': 'standard', 'learning_rate': 0.0027906075985262703}. Best is trial 7 with value: 1.0.\n",
      "Seed set to 1\n"
     ]
    },
    {
     "name": "stdout",
     "output_type": "stream",
     "text": [
      "Epoch 999: 100%|██████████| 1/1 [00:00<00:00,  9.85it/s, v_num=317, train_loss_step=6.900, train_loss_epoch=6.900]    \n",
      "Predicting DataLoader 0: 100%|██████████| 1/1 [00:00<00:00, 50.45it/s]"
     ]
    },
    {
     "name": "stderr",
     "output_type": "stream",
     "text": [
      "[I 2023-12-15 20:08:17,806] Trial 8 finished with value: 0.23076923076923078 and parameters: {'input_size': 2, 'n_blocks_season': 3, 'n_blocks_trend': 2, 'n_blocks_ident': 1, 'mlp_units': 128, 'num_hidden': 1, 'n_harmonics': 2, 'n_polynomials': 3, 'scaler_type': 'standard', 'learning_rate': 1.4021518125086367e-05}. Best is trial 7 with value: 1.0.\n"
     ]
    },
    {
     "name": "stdout",
     "output_type": "stream",
     "text": [
      "\n"
     ]
    },
    {
     "name": "stderr",
     "output_type": "stream",
     "text": [
      "Seed set to 1\n"
     ]
    },
    {
     "name": "stdout",
     "output_type": "stream",
     "text": [
      "Predicting DataLoader 0: 100%|██████████| 1/1 [00:00<00:00, 51.98it/s]_step=0.104, train_loss_epoch=0.104]              \n"
     ]
    },
    {
     "name": "stderr",
     "output_type": "stream",
     "text": [
      "[I 2023-12-15 20:08:45,778] Trial 9 finished with value: 0.34615384615384615 and parameters: {'input_size': 2, 'n_blocks_season': 2, 'n_blocks_trend': 2, 'n_blocks_ident': 1, 'mlp_units': 64, 'num_hidden': 2, 'n_harmonics': 3, 'n_polynomials': 3, 'scaler_type': 'standard', 'learning_rate': 0.0004919778755160735}. Best is trial 7 with value: 1.0.\n",
      "Seed set to 1\n"
     ]
    },
    {
     "name": "stdout",
     "output_type": "stream",
     "text": [
      "Predicting DataLoader 0: 100%|██████████| 1/1 [00:00<00:00, 54.52it/s]_step=4.600, train_loss_epoch=4.600]           "
     ]
    },
    {
     "name": "stderr",
     "output_type": "stream",
     "text": [
      "[I 2023-12-15 20:09:09,446] Trial 10 finished with value: 1.0 and parameters: {'input_size': 6, 'n_blocks_season': 1, 'n_blocks_trend': 1, 'n_blocks_ident': 2, 'mlp_units': 32, 'num_hidden': 2, 'n_harmonics': 5, 'n_polynomials': 5, 'scaler_type': 'standard', 'learning_rate': 0.06614876804105344}. Best is trial 7 with value: 1.0.\n",
      "Seed set to 1\n"
     ]
    },
    {
     "name": "stdout",
     "output_type": "stream",
     "text": [
      "\n",
      "Epoch 276:   0%|          | 0/1 [00:00<?, ?it/s, v_num=321, train_loss_step=4.600, train_loss_epoch=4.600]\n",
      "Predicting DataLoader 0: 100%|██████████| 1/1 [00:00<00:00, 45.71it/s]_step=4.590, train_loss_epoch=4.590]            "
     ]
    },
    {
     "name": "stderr",
     "output_type": "stream",
     "text": [
      "[I 2023-12-15 20:10:09,108] Trial 11 finished with value: 0.6153846153846154 and parameters: {'input_size': 6, 'n_blocks_season': 1, 'n_blocks_trend': 1, 'n_blocks_ident': 2, 'mlp_units': 32, 'num_hidden': 2, 'n_harmonics': 5, 'n_polynomials': 5, 'scaler_type': 'standard', 'learning_rate': 0.08760874571494572}. Best is trial 7 with value: 1.0.\n",
      "Seed set to 1\n"
     ]
    },
    {
     "name": "stdout",
     "output_type": "stream",
     "text": [
      "\n",
      "Predicting DataLoader 0: 100%|██████████| 1/1 [00:00<00:00, 23.25it/s]_step=-2.22, train_loss_epoch=-2.22]        "
     ]
    },
    {
     "name": "stderr",
     "output_type": "stream",
     "text": [
      "[I 2023-12-15 20:10:58,023] Trial 12 finished with value: 0.2692307692307692 and parameters: {'input_size': 6, 'n_blocks_season': 1, 'n_blocks_trend': 1, 'n_blocks_ident': 2, 'mlp_units': 32, 'num_hidden': 2, 'n_harmonics': 5, 'n_polynomials': 5, 'scaler_type': 'standard', 'learning_rate': 0.004412107092660275}. Best is trial 7 with value: 1.0.\n"
     ]
    },
    {
     "name": "stdout",
     "output_type": "stream",
     "text": [
      "\n"
     ]
    },
    {
     "name": "stderr",
     "output_type": "stream",
     "text": [
      "Seed set to 1\n"
     ]
    },
    {
     "name": "stdout",
     "output_type": "stream",
     "text": [
      "Epoch 447:   0%|          | 0/1 [00:00<?, ?it/s, v_num=325, train_loss_step=-2.22, train_loss_epoch=-2.22]\n",
      "Predicting DataLoader 0: 100%|██████████| 1/1 [00:00<00:00, 34.99it/s]_step=7.35e+3, train_loss_epoch=7.35e+3]        "
     ]
    },
    {
     "name": "stderr",
     "output_type": "stream",
     "text": [
      "[I 2023-12-15 20:11:13,459] Trial 13 finished with value: 0.5384615384615384 and parameters: {'input_size': 4, 'n_blocks_season': 1, 'n_blocks_trend': 1, 'n_blocks_ident': 2, 'mlp_units': 32, 'num_hidden': 1, 'n_harmonics': 4, 'n_polynomials': 2, 'scaler_type': 'standard', 'learning_rate': 0.05891590234938065}. Best is trial 7 with value: 1.0.\n",
      "Seed set to 1\n"
     ]
    },
    {
     "name": "stdout",
     "output_type": "stream",
     "text": [
      "\n",
      "Predicting DataLoader 0: 100%|██████████| 1/1 [00:00<00:00, 36.46it/s]_step=-.657, train_loss_epoch=-.657]         "
     ]
    },
    {
     "name": "stderr",
     "output_type": "stream",
     "text": [
      "[I 2023-12-15 20:11:28,496] Trial 14 finished with value: 0.6923076923076923 and parameters: {'input_size': 1, 'n_blocks_season': 2, 'n_blocks_trend': 2, 'n_blocks_ident': 2, 'mlp_units': 32, 'num_hidden': 2, 'n_harmonics': 4, 'n_polynomials': 2, 'scaler_type': 'standard', 'learning_rate': 0.006252015298012767}. Best is trial 7 with value: 1.0.\n"
     ]
    },
    {
     "name": "stdout",
     "output_type": "stream",
     "text": [
      "\n"
     ]
    }
   ],
   "source": [
    "study = optuna.create_study(direction='maximize')\n",
    "study.optimize(objective, n_trials=15)"
   ]
  },
  {
   "cell_type": "code",
   "execution_count": 229,
   "metadata": {},
   "outputs": [],
   "source": [
    "prms = study.get_trials()[10].params"
   ]
  },
  {
   "cell_type": "code",
   "execution_count": 57,
   "metadata": {},
   "outputs": [
    {
     "data": {
      "text/html": [
       "<div>\n",
       "<style scoped>\n",
       "    .dataframe tbody tr th:only-of-type {\n",
       "        vertical-align: middle;\n",
       "    }\n",
       "\n",
       "    .dataframe tbody tr th {\n",
       "        vertical-align: top;\n",
       "    }\n",
       "\n",
       "    .dataframe thead th {\n",
       "        text-align: right;\n",
       "    }\n",
       "</style>\n",
       "<table border=\"1\" class=\"dataframe\">\n",
       "  <thead>\n",
       "    <tr style=\"text-align: right;\">\n",
       "      <th></th>\n",
       "      <th>ds</th>\n",
       "      <th>mean_future</th>\n",
       "      <th>mean_influential</th>\n",
       "      <th>mean_trustworthy</th>\n",
       "      <th>mean_clickbait</th>\n",
       "      <th>log_return_gspc_1</th>\n",
       "      <th>norm_rsi_14</th>\n",
       "      <th>norm_slowk_14</th>\n",
       "      <th>norm_roc_14</th>\n",
       "      <th>y</th>\n",
       "      <th>unique_id</th>\n",
       "    </tr>\n",
       "  </thead>\n",
       "  <tbody>\n",
       "    <tr>\n",
       "      <th>1033</th>\n",
       "      <td>2023-07-01</td>\n",
       "      <td>0.121962</td>\n",
       "      <td>0.479170</td>\n",
       "      <td>0.464013</td>\n",
       "      <td>0.227652</td>\n",
       "      <td>0.00000</td>\n",
       "      <td>0.678372</td>\n",
       "      <td>0.805054</td>\n",
       "      <td>0.019747</td>\n",
       "      <td>0.000000</td>\n",
       "      <td>NFLX</td>\n",
       "    </tr>\n",
       "    <tr>\n",
       "      <th>1034</th>\n",
       "      <td>2023-07-02</td>\n",
       "      <td>0.191431</td>\n",
       "      <td>0.457522</td>\n",
       "      <td>0.426086</td>\n",
       "      <td>0.187946</td>\n",
       "      <td>0.00000</td>\n",
       "      <td>0.678372</td>\n",
       "      <td>0.805054</td>\n",
       "      <td>0.019747</td>\n",
       "      <td>0.002154</td>\n",
       "      <td>NFLX</td>\n",
       "    </tr>\n",
       "    <tr>\n",
       "      <th>1035</th>\n",
       "      <td>2023-07-03</td>\n",
       "      <td>0.197864</td>\n",
       "      <td>0.503323</td>\n",
       "      <td>0.430169</td>\n",
       "      <td>0.164357</td>\n",
       "      <td>0.00117</td>\n",
       "      <td>0.683970</td>\n",
       "      <td>0.917842</td>\n",
       "      <td>0.021947</td>\n",
       "      <td>0.000000</td>\n",
       "      <td>NFLX</td>\n",
       "    </tr>\n",
       "    <tr>\n",
       "      <th>1036</th>\n",
       "      <td>2023-07-04</td>\n",
       "      <td>-0.056240</td>\n",
       "      <td>-0.066822</td>\n",
       "      <td>-0.006749</td>\n",
       "      <td>-0.026588</td>\n",
       "      <td>0.00000</td>\n",
       "      <td>0.683970</td>\n",
       "      <td>0.917842</td>\n",
       "      <td>0.015505</td>\n",
       "      <td>0.010053</td>\n",
       "      <td>NFLX</td>\n",
       "    </tr>\n",
       "    <tr>\n",
       "      <th>1037</th>\n",
       "      <td>2023-07-05</td>\n",
       "      <td>0.112205</td>\n",
       "      <td>0.263429</td>\n",
       "      <td>0.224886</td>\n",
       "      <td>0.101679</td>\n",
       "      <td>-0.00197</td>\n",
       "      <td>0.711326</td>\n",
       "      <td>0.871548</td>\n",
       "      <td>0.050536</td>\n",
       "      <td>-0.015960</td>\n",
       "      <td>NFLX</td>\n",
       "    </tr>\n",
       "  </tbody>\n",
       "</table>\n",
       "</div>"
      ],
      "text/plain": [
       "             ds  mean_future  mean_influential  mean_trustworthy  \\\n",
       "1033 2023-07-01     0.121962          0.479170          0.464013   \n",
       "1034 2023-07-02     0.191431          0.457522          0.426086   \n",
       "1035 2023-07-03     0.197864          0.503323          0.430169   \n",
       "1036 2023-07-04    -0.056240         -0.066822         -0.006749   \n",
       "1037 2023-07-05     0.112205          0.263429          0.224886   \n",
       "\n",
       "      mean_clickbait  log_return_gspc_1  norm_rsi_14  norm_slowk_14  \\\n",
       "1033        0.227652            0.00000     0.678372       0.805054   \n",
       "1034        0.187946            0.00000     0.678372       0.805054   \n",
       "1035        0.164357            0.00117     0.683970       0.917842   \n",
       "1036       -0.026588            0.00000     0.683970       0.917842   \n",
       "1037        0.101679           -0.00197     0.711326       0.871548   \n",
       "\n",
       "      norm_roc_14         y unique_id  \n",
       "1033     0.019747  0.000000      NFLX  \n",
       "1034     0.019747  0.002154      NFLX  \n",
       "1035     0.021947  0.000000      NFLX  \n",
       "1036     0.015505  0.010053      NFLX  \n",
       "1037     0.050536 -0.015960      NFLX  "
      ]
     },
     "execution_count": 57,
     "metadata": {},
     "output_type": "execute_result"
    }
   ],
   "source": [
    "val_set.head()"
   ]
  },
  {
   "cell_type": "code",
   "execution_count": 165,
   "metadata": {},
   "outputs": [
    {
     "data": {
      "text/plain": [
       "789   2023-03-01\n",
       "790   2023-03-02\n",
       "791   2023-03-03\n",
       "792   2023-03-04\n",
       "793   2023-03-05\n",
       "794   2023-03-06\n",
       "795   2023-03-07\n",
       "796   2023-03-08\n",
       "797   2023-03-09\n",
       "798   2023-03-10\n",
       "799   2023-03-11\n",
       "800   2023-03-12\n",
       "801   2023-03-13\n",
       "802   2023-03-14\n",
       "803   2023-03-15\n",
       "804   2023-03-16\n",
       "805   2023-03-17\n",
       "806   2023-03-18\n",
       "807   2023-03-19\n",
       "808   2023-03-20\n",
       "809   2023-03-21\n",
       "810   2023-03-22\n",
       "811   2023-03-23\n",
       "812   2023-03-24\n",
       "813   2023-03-25\n",
       "814   2023-03-26\n",
       "815   2023-03-27\n",
       "816   2023-03-28\n",
       "817   2023-03-29\n",
       "818   2023-03-30\n",
       "819   2023-03-31\n",
       "820   2023-04-01\n",
       "821   2023-04-02\n",
       "822   2023-04-03\n",
       "823   2023-04-04\n",
       "824   2023-04-05\n",
       "825   2023-04-06\n",
       "826   2023-04-07\n",
       "827   2023-04-08\n",
       "828   2023-04-09\n",
       "829   2023-04-10\n",
       "830   2023-04-11\n",
       "831   2023-04-12\n",
       "832   2023-04-13\n",
       "833   2023-04-14\n",
       "834   2023-04-15\n",
       "835   2023-04-16\n",
       "836   2023-04-17\n",
       "837   2023-04-18\n",
       "838   2023-04-19\n",
       "839   2023-04-20\n",
       "840   2023-04-21\n",
       "841   2023-04-22\n",
       "842   2023-04-23\n",
       "843   2023-04-24\n",
       "Name: ds, dtype: datetime64[ns]"
      ]
     },
     "execution_count": 165,
     "metadata": {},
     "output_type": "execute_result"
    }
   ],
   "source": [
    "test_set['ds']"
   ]
  },
  {
   "cell_type": "code",
   "execution_count": 187,
   "metadata": {},
   "outputs": [
    {
     "name": "stdout",
     "output_type": "stream",
     "text": [
      "Predicting DataLoader 0: 100%|██████████| 1/1 [00:00<00:00, 180.12it/s]\n"
     ]
    },
    {
     "data": {
      "text/html": [
       "<div>\n",
       "<style scoped>\n",
       "    .dataframe tbody tr th:only-of-type {\n",
       "        vertical-align: middle;\n",
       "    }\n",
       "\n",
       "    .dataframe tbody tr th {\n",
       "        vertical-align: top;\n",
       "    }\n",
       "\n",
       "    .dataframe thead th {\n",
       "        text-align: right;\n",
       "    }\n",
       "</style>\n",
       "<table border=\"1\" class=\"dataframe\">\n",
       "  <thead>\n",
       "    <tr style=\"text-align: right;\">\n",
       "      <th></th>\n",
       "      <th>unique_id</th>\n",
       "      <th>ds</th>\n",
       "      <th>NBEATS</th>\n",
       "    </tr>\n",
       "  </thead>\n",
       "  <tbody>\n",
       "    <tr>\n",
       "      <th>0</th>\n",
       "      <td>NFLX</td>\n",
       "      <td>2023-01-01</td>\n",
       "      <td>-0.006884</td>\n",
       "    </tr>\n",
       "    <tr>\n",
       "      <th>1</th>\n",
       "      <td>NFLX</td>\n",
       "      <td>2023-01-02</td>\n",
       "      <td>-0.010781</td>\n",
       "    </tr>\n",
       "  </tbody>\n",
       "</table>\n",
       "</div>"
      ],
      "text/plain": [
       "  unique_id         ds    NBEATS\n",
       "0      NFLX 2023-01-01 -0.006884\n",
       "1      NFLX 2023-01-02 -0.010781"
      ]
     },
     "execution_count": 187,
     "metadata": {},
     "output_type": "execute_result"
    }
   ],
   "source": [
    "model.predict(futr_df=val_set).reset_index()"
   ]
  },
  {
   "cell_type": "code",
   "execution_count": 220,
   "metadata": {},
   "outputs": [
    {
     "data": {
      "image/png": "[encoded data removed]",
      "text/plain": [
       "<Figure size 1000x600 with 1 Axes>"
      ]
     },
     "metadata": {},
     "output_type": "display_data"
    }
   ],
   "source": [
    "plot_actual_vs_predicted(p['y'], p['NBEATS'], [0 for i in range(len(val_set))])"
   ]
  },
  {
   "cell_type": "code",
   "execution_count": 213,
   "metadata": {},
   "outputs": [
    {
     "data": {
      "text/plain": [
       "array([[15, 16],\n",
       "       [ 9, 17]])"
      ]
     },
     "execution_count": 213,
     "metadata": {},
     "output_type": "execute_result"
    }
   ],
   "source": [
    "count_signs_matrix(p['y'], p['NBEATS'])"
   ]
  },
  {
   "cell_type": "code",
   "execution_count": 202,
   "metadata": {},
   "outputs": [
    {
     "data": {
      "text/plain": [
       "array([[14, 14],\n",
       "       [15, 11]])"
      ]
     },
     "execution_count": 202,
     "metadata": {},
     "output_type": "execute_result"
    }
   ],
   "source": [
    "count_signs_matrix(p['y'][:-1],p['y'].shift(-1)[:(len(p['y'])-1)])\n"
   ]
  },
  {
   "cell_type": "code",
   "execution_count": 153,
   "metadata": {},
   "outputs": [
    {
     "data": {
      "image/png": "[encoded data removed]",
      "text/plain": [
       "<Figure size 1000x600 with 1 Axes>"
      ]
     },
     "metadata": {},
     "output_type": "display_data"
    }
   ],
   "source": [
    "plot_actual_vs_predicted(p['y'][1:], p['NBEATS'][1:], p['y'].shift(-1))"
   ]
  },
  {
   "cell_type": "code",
   "execution_count": 125,
   "metadata": {},
   "outputs": [],
   "source": [
    "df_without_weekends = pd.read_csv(\"csv/\"+prefix+'_without_weekends.csv')"
   ]
  },
  {
   "cell_type": "code",
   "execution_count": 127,
   "metadata": {},
   "outputs": [],
   "source": [
    "df_without_weekends.drop(columns=['NFLX_Open', 'NFLX_High', 'NFLX_Low', 'NFLX_Close', 'Unnamed: 0', '^GSPC_Close','vwap_14'], inplace=True) "
   ]
  },
  {
   "cell_type": "code",
   "execution_count": 128,
   "metadata": {},
   "outputs": [],
   "source": [
    "df_without_weekends['target_1'] = df_without_weekends['log_return_1'].shift(-1)\n",
    "df_without_weekends['target_5'] = df_without_weekends['log_return_5'].shift(-5)\n",
    "df_without_weekends['target_10'] = df_without_weekends['log_return_10'].shift(-10)\n",
    "df_without_weekends['target_20'] = df_without_weekends['log_return_20'].shift(-20)"
   ]
  },
  {
   "cell_type": "code",
   "execution_count": 131,
   "metadata": {},
   "outputs": [],
   "source": [
    "# Add column date_generated with dates from 2021-01-01 incremented by 1 day\n",
    "df_without_weekends['Date'] = pd.date_range(start='2021-01-01', end='2023-09-01', freq='D')[:len(df_without_weekends)]"
   ]
  },
  {
   "cell_type": "code",
   "execution_count": null,
   "metadata": {},
   "outputs": [],
   "source": []
  }
 ],
 "metadata": {
  "kernelspec": {
   "display_name": "inz",
   "language": "python",
   "name": "python3"
  },
  "language_info": {
   "codemirror_mode": {
    "name": "ipython",
    "version": 3
   },
   "file_extension": ".py",
   "mimetype": "text/x-python",
   "name": "python",
   "nbconvert_exporter": "python",
   "pygments_lexer": "ipython3",
   "version": "3.10.6"
  }
 },
 "nbformat": 4,
 "nbformat_minor": 2
}
