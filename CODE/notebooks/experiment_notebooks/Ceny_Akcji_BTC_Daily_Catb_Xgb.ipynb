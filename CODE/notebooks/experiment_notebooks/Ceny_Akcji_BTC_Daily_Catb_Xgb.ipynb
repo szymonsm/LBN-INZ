{
  "cells": [
    {
      "cell_type": "markdown",
      "metadata": {
        "id": "Up925BiLUTWH"
      },
      "source": [
        "# Predykcja cen akcji na rynku"
      ]
    },
    {
      "cell_type": "markdown",
      "metadata": {},
      "source": [
        "### Importy"
      ]
    },
    {
      "cell_type": "code",
      "execution_count": 3,
      "metadata": {
        "id": "lrux4LkcgY6l"
      },
      "outputs": [],
      "source": [
        "import yfinance as yf\n",
        "import pandas as pd\n",
        "import datetime\n",
        "import numpy as np\n",
        "from catboost import CatBoostClassifier  \n",
        "from catboost import Pool\n",
        "from sklearn.metrics import accuracy_score, roc_auc_score, confusion_matrix\n",
        "import numpy as np\n",
        "import lightgbm as lgb\n",
        "from pytz import UTC\n"
      ]
    },
    {
      "cell_type": "markdown",
      "metadata": {
        "id": "KOqQPV6XVLAQ"
      },
      "source": [
        "### Pobranie danych"
      ]
    },
    {
      "cell_type": "code",
      "execution_count": 4,
      "metadata": {
        "id": "wcZj8obQgenk"
      },
      "outputs": [],
      "source": [
        "df_btc1 = pd.read_csv('/content/BTC-2020min.csv')\n",
        "df_btc2 = pd.read_csv('/content/BTC-2019min.csv')\n",
        "df_btc = pd.concat([df_btc1, df_btc2])"
      ]
    },
    {
      "cell_type": "code",
      "execution_count": 5,
      "metadata": {
        "id": "CEVF6ruMj664"
      },
      "outputs": [],
      "source": [
        "df_eth = pd.read_csv('/content/ETH_1min.csv')"
      ]
    },
    {
      "cell_type": "code",
      "execution_count": 6,
      "metadata": {
        "id": "Tc5uABB-gkif"
      },
      "outputs": [],
      "source": [
        "df_btc = df_btc.drop(columns=['date'])\n",
        "df_btc['date'] = pd.to_datetime(df_btc['unix'], unit='s', utc=True)\n",
        "df_btc = df_btc.drop(columns=['unix','symbol'])"
      ]
    },
    {
      "cell_type": "code",
      "execution_count": 7,
      "metadata": {
        "id": "8y7EN7HYkLSq"
      },
      "outputs": [],
      "source": [
        "df_eth = df_eth.drop(columns=['Date'])\n",
        "df_eth['date'] = pd.to_datetime(df_eth['Unix Timestamp'] / 1000, unit='s', utc=True)\n",
        "df_eth = df_eth.drop(columns=['Unix Timestamp','Symbol'])"
      ]
    },
    {
      "cell_type": "code",
      "execution_count": 8,
      "metadata": {
        "colab": {
          "base_uri": "https://localhost:8080/"
        },
        "id": "qso_ccKzfxkx",
        "outputId": "ca2c5cb5-ec9d-40b5-9248-40135841aa06"
      },
      "outputs": [
        {
          "name": "stdout",
          "output_type": "stream",
          "text": [
            "[*********************100%%**********************]  1 of 1 completed\n",
            "[*********************100%%**********************]  1 of 1 completed\n",
            "[*********************100%%**********************]  1 of 1 completed\n",
            "[*********************100%%**********************]  1 of 1 completed\n",
            "[*********************100%%**********************]  1 of 1 completed\n",
            "[*********************100%%**********************]  1 of 1 completed\n"
          ]
        }
      ],
      "source": [
        "end_date = datetime.date(2020, 12, 31)\n",
        "start_date = end_date - datetime.timedelta(days=365 * 2)\n",
        "\n",
        "#top 500 comp\n",
        "df_snp = yf.download('^GSPC', start=start_date, end=end_date)\n",
        "#eur to usd ratio\n",
        "df_usd = yf.download('EURUSD=X', start=start_date, end=end_date)\n",
        "#goldman sachs\n",
        "df_gs = yf.download('GS', start=start_date, end=end_date)\n",
        "#standard charted (the most crypto investment bank)\n",
        "df_st = yf.download('STAN.L', start=start_date, end=end_date)\n",
        "#silver price\n",
        "df_sv = yf.download('SI=F', start=start_date, end=end_date)\n",
        "#gold price\n",
        "df_gd = yf.download('GC=F', start=start_date, end=end_date)\n",
        "\n",
        "\n",
        "df_snp_shift = df_snp.reset_index()\n",
        "df_usd_shift = df_usd.reset_index()\n",
        "df_st_shift = df_st.reset_index()\n",
        "df_gs_shift = df_gs.reset_index()\n",
        "df_gd_shift = df_gd.reset_index()\n",
        "df_sv_shift = df_sv.reset_index()"
      ]
    },
    {
      "cell_type": "code",
      "execution_count": 9,
      "metadata": {
        "id": "5MoatFZ1qNSc"
      },
      "outputs": [],
      "source": [
        "df_stocks = pd.merge(df_usd_shift, df_snp_shift, on='Date', how='left', suffixes=('', '_snp'))\n",
        "df_stocks = pd.merge(df_stocks, df_st_shift, on='Date', how='left', suffixes=('', '_st'))\n",
        "df_stocks = pd.merge(df_stocks, df_gs_shift, on='Date', how='left', suffixes=('', '_gs'))\n",
        "df_stocks = pd.merge(df_stocks, df_gd_shift, on='Date', how='left', suffixes=('', '_gd'))\n",
        "df_stocks = pd.merge(df_stocks, df_sv_shift, on='Date', how='left', suffixes=('', '_sv'))\n"
      ]
    },
    {
      "cell_type": "code",
      "execution_count": 10,
      "metadata": {
        "id": "xrJpp2lTluta"
      },
      "outputs": [],
      "source": [
        "df_btc = df_btc.loc[df_btc['date']<='2020-04-16 00:00:00+00:00']\n",
        "df_eth = df_eth[df_eth['date']>='2019-01-01 00:00:00+00:00']"
      ]
    },
    {
      "cell_type": "code",
      "execution_count": 11,
      "metadata": {
        "colab": {
          "base_uri": "https://localhost:8080/"
        },
        "id": "NbIWkp9-nwXw",
        "outputId": "febededa-5346-4b65-e9a1-c8b521c51d75"
      },
      "outputs": [
        {
          "name": "stderr",
          "output_type": "stream",
          "text": [
            "<ipython-input-11-d541174e5ec6>:9: SettingWithCopyWarning: \n",
            "A value is trying to be set on a copy of a slice from a DataFrame\n",
            "\n",
            "See the caveats in the documentation: https://pandas.pydata.org/pandas-docs/stable/user_guide/indexing.html#returning-a-view-versus-a-copy\n",
            "  df_eth.rename(columns=column_mapping, inplace=True)\n"
          ]
        }
      ],
      "source": [
        "column_mapping = {\n",
        "    'Open': 'open',\n",
        "    'High': 'high',\n",
        "    'Low': 'low',\n",
        "    'Close': 'close',\n",
        "    'Volume': 'Volume ETH'\n",
        "}\n",
        "\n",
        "df_eth.rename(columns=column_mapping, inplace=True)"
      ]
    },
    {
      "cell_type": "code",
      "execution_count": 12,
      "metadata": {
        "id": "9j5743fZmrSj"
      },
      "outputs": [],
      "source": [
        "df_crypto = df_btc.merge(df_eth, on='date', how='left', suffixes = ['_btc','_eth'])\n"
      ]
    },
    {
      "cell_type": "code",
      "execution_count": 13,
      "metadata": {
        "id": "5Vtk8Gl87Uko"
      },
      "outputs": [],
      "source": [
        "df_stocks['Date'] = pd.to_datetime(df_stocks['Date'], utc=True)"
      ]
    },
    {
      "cell_type": "code",
      "execution_count": 14,
      "metadata": {
        "id": "51U8GZEwj3BF"
      },
      "outputs": [],
      "source": [
        "df_merge = pd.merge(df_crypto,df_stocks, left_on='date',right_on='Date', how='left', suffixes=('', '_crypto'))"
      ]
    },
    {
      "cell_type": "code",
      "execution_count": 15,
      "metadata": {
        "id": "8hgI6Tkr4PME"
      },
      "outputs": [],
      "source": [
        "columns_to_ffill = ['open_eth', 'high_eth', 'low_eth', 'close_eth',\n",
        "       'Volume ETH','Open', 'High', 'Low', 'Close', 'Adj Close',\n",
        "       'Volume', 'Open_snp', 'High_snp', 'Low_snp', 'Close_snp',\n",
        "       'Adj Close_snp', 'Volume_snp', 'Open_st', 'High_st', 'Low_st',\n",
        "       'Close_st', 'Adj Close_st', 'Volume_st', 'Open_gs', 'High_gs', 'Low_gs',\n",
        "       'Close_gs', 'Adj Close_gs', 'Volume_gs', 'Open_gd', 'High_gd', 'Low_gd',\n",
        "       'Close_gd', 'Adj Close_gd', 'Volume_gd', 'Open_sv', 'High_sv', 'Low_sv',\n",
        "       'Close_sv', 'Adj Close_sv', 'Volume_sv']\n",
        "\n",
        "\n",
        "df_merge[columns_to_ffill] = df_merge[columns_to_ffill].transform('ffill')\n"
      ]
    },
    {
      "cell_type": "code",
      "execution_count": 16,
      "metadata": {
        "id": "nD3kVQkT7O9K"
      },
      "outputs": [],
      "source": [
        "df_merge = df_merge.drop(columns=['Date'])\n",
        "df_merge = df_merge.reset_index()\n",
        "df_merge = df_merge[df_merge.index % 10 == 0]\n"
      ]
    },
    {
      "cell_type": "code",
      "execution_count": 17,
      "metadata": {
        "id": "aDztL0Hs7xTU"
      },
      "outputs": [],
      "source": [
        "df_merge = df_merge.drop(columns=['index'])"
      ]
    },
    {
      "cell_type": "code",
      "execution_count": 18,
      "metadata": {
        "id": "bCngtv0h8Odu"
      },
      "outputs": [],
      "source": [
        "\n",
        "def series_to_supervised(data, n_in=1, n_out=1, dropnan=True):\n",
        "  n_vars = 1 if type(data) is list else data.shape[1]\n",
        "  df = pd.DataFrame(data)\n",
        "  cols, names = list(), list()\n",
        "  #input sequence (t-n, ... t-1)\n",
        "  for i in range(n_in, 0, -1):\n",
        "    cols.append(df.shift(i))\n",
        "    names += [('var%d(t-%d)' % (j+1, i)) for j in range(n_vars)]\n",
        "  #forecast sequence (t, t+1, ... t+n)\n",
        "  for i in range(0, n_out):\n",
        "    cols.append(df.shift(-i))\n",
        "  if i == 0:\n",
        "    names += [('var%d(t)' % (j+1)) for j in range(n_vars)]\n",
        "  else:\n",
        "    names += [('var%d(t+%d)' % (j+1, i)) for j in range(n_vars)]\n",
        "\n",
        "  agg = pd.concat(cols, axis=1)\n",
        "  agg.columns = names\n",
        "\n",
        "  if dropnan:\n",
        "    agg.dropna(inplace=True)\n",
        "  return agg"
      ]
    },
    {
      "cell_type": "code",
      "execution_count": 19,
      "metadata": {
        "colab": {
          "base_uri": "https://localhost:8080/"
        },
        "id": "FjfgNf_YvNmo",
        "outputId": "2890f386-c3a1-40cb-8676-41776d63d06f"
      },
      "outputs": [
        {
          "data": {
            "text/plain": [
              "Index(['open_btc', 'high_btc', 'low_btc', 'close_btc', 'Volume BTC',\n",
              "       'Volume USD', 'date', 'open_eth', 'high_eth', 'low_eth', 'close_eth',\n",
              "       'Volume ETH', 'Open', 'High', 'Low', 'Close', 'Adj Close', 'Volume',\n",
              "       'Open_snp', 'High_snp', 'Low_snp', 'Close_snp', 'Adj Close_snp',\n",
              "       'Volume_snp', 'Open_st', 'High_st', 'Low_st', 'Close_st',\n",
              "       'Adj Close_st', 'Volume_st', 'Open_gs', 'High_gs', 'Low_gs', 'Close_gs',\n",
              "       'Adj Close_gs', 'Volume_gs', 'Open_gd', 'High_gd', 'Low_gd', 'Close_gd',\n",
              "       'Adj Close_gd', 'Volume_gd', 'Open_sv', 'High_sv', 'Low_sv', 'Close_sv',\n",
              "       'Adj Close_sv', 'Volume_sv'],\n",
              "      dtype='object')"
            ]
          },
          "execution_count": 19,
          "metadata": {},
          "output_type": "execute_result"
        }
      ],
      "source": [
        "df_merge.columns"
      ]
    },
    {
      "cell_type": "code",
      "execution_count": 20,
      "metadata": {
        "id": "xUjrfEau80R1"
      },
      "outputs": [],
      "source": [
        "df = series_to_supervised(df_merge.drop(columns=['date']), n_in=20, n_out=1, dropnan=True)"
      ]
    },
    {
      "cell_type": "code",
      "execution_count": 21,
      "metadata": {
        "id": "_LjeMrRg964l"
      },
      "outputs": [],
      "source": [
        "df_merge['new_date'] = df_merge['date'] + pd.Timedelta(minutes=60)\n",
        "df_btc = pd.concat([df_btc1, df_btc2])\n",
        "df_btc = df_btc.drop(columns=['date'])\n",
        "df_btc['date'] = pd.to_datetime(df_btc['unix'], unit='s', utc=True)\n",
        "df_btc = df_btc.drop(columns=['unix','symbol'])\n",
        "\n",
        "df_result = pd.merge(df_merge[['new_date','close_btc']],df_btc[['date', 'close']], left_on='new_date', right_on='date',how='left')\n",
        "\n",
        "\n",
        "df_result.drop('date', axis=1, inplace=True)"
      ]
    },
    {
      "cell_type": "code",
      "execution_count": 22,
      "metadata": {
        "id": "wsN3h-VqBjCB"
      },
      "outputs": [],
      "source": [
        "df_result['diff'] = df_result['close'] - df_result['close_btc']"
      ]
    },
    {
      "cell_type": "code",
      "execution_count": 23,
      "metadata": {
        "colab": {
          "base_uri": "https://localhost:8080/"
        },
        "id": "bFmhsmSnv2D3",
        "outputId": "c6975d17-57fc-4934-ff50-932d33d19433"
      },
      "outputs": [
        {
          "data": {
            "text/plain": [
              "0.05   -79.9855\n",
              "0.10   -47.4500\n",
              "0.20   -23.5740\n",
              "0.50     0.4700\n",
              "0.75    18.0600\n",
              "Name: diff, dtype: float64"
            ]
          },
          "execution_count": 23,
          "metadata": {},
          "output_type": "execute_result"
        }
      ],
      "source": [
        "df_result['diff'].quantile([0.05,0.1,0.2,0.5,0.75])"
      ]
    },
    {
      "cell_type": "code",
      "execution_count": 24,
      "metadata": {
        "id": "83iBGs6WBvXI"
      },
      "outputs": [],
      "source": [
        "df_result['target'] = 0\n",
        "df_result.loc[df_result['diff']<-50,'target'] = 1"
      ]
    },
    {
      "cell_type": "code",
      "execution_count": 25,
      "metadata": {
        "colab": {
          "base_uri": "https://localhost:8080/"
        },
        "id": "1X0yCPsbCvNm",
        "outputId": "ec2d4d03-acfb-4699-c9fc-013a3c119ea9"
      },
      "outputs": [
        {
          "data": {
            "text/plain": [
              "0    61489\n",
              "1     6335\n",
              "Name: target, dtype: int64"
            ]
          },
          "execution_count": 25,
          "metadata": {},
          "output_type": "execute_result"
        }
      ],
      "source": [
        "df_result['target'].value_counts()"
      ]
    },
    {
      "cell_type": "code",
      "execution_count": 26,
      "metadata": {
        "colab": {
          "base_uri": "https://localhost:8080/"
        },
        "id": "2HTuwNyQyO8A",
        "outputId": "c7ea57b3-75d4-4344-86d3-b862025f4bad"
      },
      "outputs": [
        {
          "data": {
            "text/plain": [
              "(67804, 987)"
            ]
          },
          "execution_count": 26,
          "metadata": {},
          "output_type": "execute_result"
        }
      ],
      "source": [
        "df.shape"
      ]
    },
    {
      "cell_type": "code",
      "execution_count": 106,
      "metadata": {
        "id": "_btk7Y24yCcH"
      },
      "outputs": [],
      "source": [
        "y = df_result[:-20]['target']\n",
        "X_train = df[14000:]\n",
        "X_test = df[:7000]\n",
        "y_train = y[14000:]\n",
        "y_test = y[:7000]\n",
        "y_val = y[7000:14000]\n",
        "X_val = df[7000:14000]"
      ]
    },
    {
      "cell_type": "code",
      "execution_count": 85,
      "metadata": {
        "colab": {
          "base_uri": "https://localhost:8080/"
        },
        "id": "fTHHZoN796TO",
        "outputId": "5614d543-5357-4a05-c83b-2540a91214db"
      },
      "outputs": [
        {
          "name": "stdout",
          "output_type": "stream",
          "text": [
            "53804\n",
            "4598\n"
          ]
        }
      ],
      "source": [
        "print(len(y_train))\n",
        "print(sum(y_train))"
      ]
    },
    {
      "cell_type": "markdown",
      "metadata": {
        "id": "OSke0_IDUe1M"
      },
      "source": [
        "### Podejście modeli tradycyjnych - Catboost, Lightgbm"
      ]
    },
    {
      "cell_type": "code",
      "execution_count": 53,
      "metadata": {
        "id": "FhdgrFBC8gnp"
      },
      "outputs": [],
      "source": [
        "from sklearn.utils.class_weight import compute_class_weight\n",
        "\n",
        "classes = np.unique(y_train)\n",
        "weights = compute_class_weight(class_weight='balanced', classes=classes, y=y_train)\n",
        "class_weights = dict(zip(classes, weights))"
      ]
    },
    {
      "cell_type": "code",
      "execution_count": 54,
      "metadata": {
        "colab": {
          "base_uri": "https://localhost:8080/"
        },
        "id": "SN9ah8wg8htV",
        "outputId": "9aaafac3-8c42-4bf9-c4b7-c4187e5916fe"
      },
      "outputs": [
        {
          "data": {
            "text/plain": [
              "{0: 0.5467219444783157, 1: 5.85080469769465}"
            ]
          },
          "execution_count": 54,
          "metadata": {},
          "output_type": "execute_result"
        }
      ],
      "source": [
        "class_weights"
      ]
    },
    {
      "cell_type": "markdown",
      "metadata": {
        "id": "lYQ-0Sg_Ip2x"
      },
      "source": [
        "#### Catboost"
      ]
    },
    {
      "cell_type": "code",
      "execution_count": null,
      "metadata": {
        "colab": {
          "base_uri": "https://localhost:8080/"
        },
        "id": "Vzyy92A4USUr",
        "outputId": "eaa2f91e-febf-410e-87a1-56e37870be03"
      },
      "outputs": [],
      "source": [
        "train_data = Pool(X_train, label=y_train)\n",
        "valid_data = Pool(X_val, label=y_val)\n",
        "\n",
        "model = CatBoostClassifier(\n",
        "    iterations=100,\n",
        "    learning_rate=0.1,\n",
        "    depth=6,\n",
        "    loss_function='Logloss',\n",
        "    eval_metric='Precision',  \n",
        "    early_stopping_rounds=30,  \n",
        "    class_weights=class_weights\n",
        ")\n",
        "\n",
        "model.fit(train_data, eval_set=valid_data)\n",
        "\n",
        "best_iteration = model.best_iteration_"
      ]
    },
    {
      "cell_type": "code",
      "execution_count": null,
      "metadata": {
        "id": "wGN-rSkY05SE"
      },
      "outputs": [],
      "source": [
        "model.fit(X_train, y_train)"
      ]
    },
    {
      "cell_type": "code",
      "execution_count": 81,
      "metadata": {
        "id": "GDKHznWYEhmi"
      },
      "outputs": [],
      "source": [
        "y_pred_prob = model.predict_proba(X_test)[:, 1]"
      ]
    },
    {
      "cell_type": "code",
      "execution_count": 82,
      "metadata": {
        "colab": {
          "base_uri": "https://localhost:8080/"
        },
        "id": "SFWgAx5giq4x",
        "outputId": "9b51fa38-e0a0-4b4f-f688-ac1ebaa20b4c"
      },
      "outputs": [
        {
          "name": "stdout",
          "output_type": "stream",
          "text": [
            "Accuracy: 0.3904444444444444\n",
            "ROC AUC Score: 0.44081783558570753\n",
            "Confusion Matrix:\n",
            " [[2809 4864]\n",
            " [ 622  705]]\n"
          ]
        }
      ],
      "source": [
        "y_pred = (y_pred_prob > 0.5).astype(int)\n",
        "\n",
        "accuracy = accuracy_score(y_test, y_pred)\n",
        "\n",
        "roc_auc = roc_auc_score(y_test, y_pred_prob)\n",
        "\n",
        "confusion = confusion_matrix(y_test, y_pred)\n",
        "\n",
        "\n",
        "print(\"Accuracy:\", accuracy)\n",
        "print(\"ROC AUC Score:\", roc_auc)\n",
        "print(\"Confusion Matrix:\\n\", confusion)"
      ]
    },
    {
      "cell_type": "markdown",
      "metadata": {
        "id": "KFuyELY_Ilwu"
      },
      "source": [
        "#### Lgbm"
      ]
    },
    {
      "cell_type": "code",
      "execution_count": 100,
      "metadata": {
        "colab": {
          "base_uri": "https://localhost:8080/"
        },
        "id": "fJX-FQ8XD8lz",
        "outputId": "3a68129d-6a01-470a-c01d-ef031c394bf9"
      },
      "outputs": [
        {
          "name": "stdout",
          "output_type": "stream",
          "text": [
            "[LightGBM] [Info] Number of positive: 4598, number of negative: 49206\n",
            "[LightGBM] [Info] Auto-choosing col-wise multi-threading, the overhead of testing was 1.746899 seconds.\n",
            "You can set `force_col_wise=true` to remove the overhead.\n",
            "[LightGBM] [Info] Total Bins 235294\n",
            "[LightGBM] [Info] Number of data points in the train set: 53804, number of used features: 966\n",
            "[LightGBM] [Info] [binary:BoostFromScore]: pavg=0.085458 -> initscore=-2.370394\n",
            "[LightGBM] [Info] Start training from score -2.370394\n",
            "Training until validation scores don't improve for 100 rounds\n",
            "Early stopping, best iteration is:\n",
            "[1]\tvalid_0's binary_logloss: 0.312388\tvalid_0's auc: 0.580647\n"
          ]
        }
      ],
      "source": [
        "train_data = lgb.Dataset(X_train, label=y_train)\n",
        "test_data = lgb.Dataset(X_test, label=y_test)\n",
        "val_data = lgb.Dataset(X_val, label=y_val)\n",
        "params = {\n",
        "    'objective': 'binary',  # For binary classification\n",
        "    'boosting_type': 'gbdt',  # Gradient boosting decision tree\n",
        "    'metric': ['binary_logloss', 'auc'],  # Evaluation metrics\n",
        "    'num_leaves': 31,  # Maximum number of leaves in one tree\n",
        "    'learning_rate': 0.02,  # Learning rate\n",
        "    'is_unbalance': True\n",
        "}\n",
        "\n",
        "model = lgb.train(params, train_data, num_boost_round=500,  valid_sets=val_data,\n",
        "    callbacks=(\n",
        "            [lgb.early_stopping(stopping_rounds=100)])) "
      ]
    },
    {
      "cell_type": "code",
      "execution_count": 101,
      "metadata": {
        "colab": {
          "base_uri": "https://localhost:8080/"
        },
        "id": "0geYO3mRFety",
        "outputId": "34b53504-308d-411c-e1d9-93326221a2ba"
      },
      "outputs": [
        {
          "name": "stdout",
          "output_type": "stream",
          "text": [
            "1\n",
            "defaultdict(<class 'collections.OrderedDict'>, {'valid_0': OrderedDict([('binary_logloss', 0.3123877387624195), ('auc', 0.5806466105273996)])})\n"
          ]
        }
      ],
      "source": [
        "print(model.best_iteration)\n",
        "print(model.best_score)"
      ]
    },
    {
      "cell_type": "code",
      "execution_count": 108,
      "metadata": {
        "id": "cYW1id16JLYg"
      },
      "outputs": [],
      "source": [
        "y_pred = model.predict(X_test)"
      ]
    },
    {
      "cell_type": "code",
      "execution_count": 109,
      "metadata": {
        "colab": {
          "base_uri": "https://localhost:8080/"
        },
        "id": "LU_S74ouJgZh",
        "outputId": "227efb20-1bfb-442b-e41c-773b65a196cc"
      },
      "outputs": [
        {
          "name": "stdout",
          "output_type": "stream",
          "text": [
            "Best Iteration: 1\n",
            "Best Validation Score: defaultdict(<class 'collections.OrderedDict'>, {'valid_0': OrderedDict([('binary_logloss', 0.31496745456994873), ('auc', 0.46034099695025166)])})\n",
            "Accuracy: 0.8464285714285714\n",
            "ROC AUC: 0.4577300755568639\n",
            "Confusion Matrix:\n",
            "[[5925    0]\n",
            " [1075    0]]\n"
          ]
        }
      ],
      "source": [
        "y_pred_binary = (y_pred > 0.5).astype(int)\n",
        "\n",
        "accuracy = accuracy_score(y_test, y_pred_binary)\n",
        "roc_auc = roc_auc_score(y_test, y_pred)\n",
        "conf_matrix = confusion_matrix(y_test, y_pred_binary)\n",
        "\n",
        "print(f'Best Iteration: {best_iteration}')\n",
        "print(f'Best Validation Score: {best_val_score}')\n",
        "print(f'Accuracy: {accuracy}')\n",
        "print(f'ROC AUC: {roc_auc}')\n",
        "print('Confusion Matrix:')\n",
        "print(conf_matrix)"
      ]
    }
  ],
  "metadata": {
    "colab": {
      "provenance": []
    },
    "kernelspec": {
      "display_name": "Python 3",
      "name": "python3"
    },
    "language_info": {
      "name": "python"
    }
  },
  "nbformat": 4,
  "nbformat_minor": 0
}
