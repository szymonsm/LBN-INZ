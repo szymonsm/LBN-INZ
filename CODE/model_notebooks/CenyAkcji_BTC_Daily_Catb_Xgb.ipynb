{
  "nbformat": 4,
  "nbformat_minor": 0,
  "metadata": {
    "colab": {
      "provenance": []
    },
    "kernelspec": {
      "name": "python3",
      "display_name": "Python 3"
    },
    "language_info": {
      "name": "python"
    }
  },
  "cells": [
    {
      "cell_type": "markdown",
      "source": [
        "# Predykcja cen akcji na rynku"
      ],
      "metadata": {
        "id": "Up925BiLUTWH"
      }
    },
    {
      "cell_type": "code",
      "source": [
        "import yfinance as yf\n",
        "import pandas as pd\n",
        "import datetime\n",
        "import numpy as np"
      ],
      "metadata": {
        "id": "lrux4LkcgY6l"
      },
      "execution_count": 3,
      "outputs": []
    },
    {
      "cell_type": "code",
      "source": [
        "from pytz import UTC\n"
      ],
      "metadata": {
        "id": "GwNi365SheGO"
      },
      "execution_count": 93,
      "outputs": []
    },
    {
      "cell_type": "markdown",
      "source": [
        "## 1. Pobranie danych"
      ],
      "metadata": {
        "id": "KOqQPV6XVLAQ"
      }
    },
    {
      "cell_type": "code",
      "source": [
        "df_btc1 = pd.read_csv('/content/BTC-2020min.csv')\n",
        "df_btc2 = pd.read_csv('/content/BTC-2019min.csv')\n",
        "df_btc = pd.concat([df_btc1, df_btc2])"
      ],
      "metadata": {
        "id": "wcZj8obQgenk"
      },
      "execution_count": 4,
      "outputs": []
    },
    {
      "cell_type": "code",
      "source": [
        "df_eth = pd.read_csv('/content/ETH_1min.csv')"
      ],
      "metadata": {
        "id": "CEVF6ruMj664"
      },
      "execution_count": 5,
      "outputs": []
    },
    {
      "cell_type": "code",
      "source": [
        "#change date\n",
        "df_btc = df_btc.drop(columns=['date'])\n",
        "df_btc['date'] = pd.to_datetime(df_btc['unix'], unit='s', utc=True)\n",
        "df_btc = df_btc.drop(columns=['unix','symbol'])"
      ],
      "metadata": {
        "id": "Tc5uABB-gkif"
      },
      "execution_count": 6,
      "outputs": []
    },
    {
      "cell_type": "code",
      "source": [
        "#change date\n",
        "df_eth = df_eth.drop(columns=['Date'])\n",
        "df_eth['date'] = pd.to_datetime(df_eth['Unix Timestamp'] / 1000, unit='s', utc=True)\n",
        "df_eth = df_eth.drop(columns=['Unix Timestamp','Symbol'])"
      ],
      "metadata": {
        "id": "8y7EN7HYkLSq"
      },
      "execution_count": 7,
      "outputs": []
    },
    {
      "cell_type": "code",
      "source": [
        "# Define the stock symbol and date range\n",
        "end_date = datetime.date(2020, 12, 31)\n",
        "start_date = end_date - datetime.timedelta(days=365 * 2)\n",
        "\n",
        "# Download the stock data\n",
        "#top 500 comp\n",
        "df_snp = yf.download('^GSPC', start=start_date, end=end_date)\n",
        "#eur to usd ratio\n",
        "df_usd = yf.download('EURUSD=X', start=start_date, end=end_date)\n",
        "#goldman sachs\n",
        "df_gs = yf.download('GS', start=start_date, end=end_date)\n",
        "#standard charted (the most crypto investment bank)\n",
        "df_st = yf.download('STAN.L', start=start_date, end=end_date)\n",
        "#silver price\n",
        "df_sv = yf.download('SI=F', start=start_date, end=end_date)\n",
        "#gold price\n",
        "df_gd = yf.download('GC=F', start=start_date, end=end_date)\n",
        "\n",
        "\n",
        "df_snp_shift = df_snp.reset_index()\n",
        "df_usd_shift = df_usd.reset_index()\n",
        "df_st_shift = df_st.reset_index()\n",
        "df_gs_shift = df_gs.reset_index()\n",
        "df_gd_shift = df_gd.reset_index()\n",
        "df_sv_shift = df_sv.reset_index()"
      ],
      "metadata": {
        "colab": {
          "base_uri": "https://localhost:8080/"
        },
        "id": "qso_ccKzfxkx",
        "outputId": "ca2c5cb5-ec9d-40b5-9248-40135841aa06"
      },
      "execution_count": 8,
      "outputs": [
        {
          "output_type": "stream",
          "name": "stdout",
          "text": [
            "[*********************100%%**********************]  1 of 1 completed\n",
            "[*********************100%%**********************]  1 of 1 completed\n",
            "[*********************100%%**********************]  1 of 1 completed\n",
            "[*********************100%%**********************]  1 of 1 completed\n",
            "[*********************100%%**********************]  1 of 1 completed\n",
            "[*********************100%%**********************]  1 of 1 completed\n"
          ]
        }
      ]
    },
    {
      "cell_type": "code",
      "source": [
        "df_stocks = pd.merge(df_usd_shift, df_snp_shift, on='Date', how='left', suffixes=('', '_snp'))\n",
        "df_stocks = pd.merge(df_stocks, df_st_shift, on='Date', how='left', suffixes=('', '_st'))\n",
        "df_stocks = pd.merge(df_stocks, df_gs_shift, on='Date', how='left', suffixes=('', '_gs'))\n",
        "df_stocks = pd.merge(df_stocks, df_gd_shift, on='Date', how='left', suffixes=('', '_gd'))\n",
        "df_stocks = pd.merge(df_stocks, df_sv_shift, on='Date', how='left', suffixes=('', '_sv'))\n"
      ],
      "metadata": {
        "id": "5MoatFZ1qNSc"
      },
      "execution_count": 9,
      "outputs": []
    },
    {
      "cell_type": "code",
      "source": [
        "df_btc = df_btc.loc[df_btc['date']<='2020-04-16 00:00:00+00:00']\n",
        "df_eth = df_eth[df_eth['date']>='2019-01-01 00:00:00+00:00']"
      ],
      "metadata": {
        "id": "xrJpp2lTluta"
      },
      "execution_count": 10,
      "outputs": []
    },
    {
      "cell_type": "code",
      "source": [
        "column_mapping = {\n",
        "    'Open': 'open',\n",
        "    'High': 'high',\n",
        "    'Low': 'low',\n",
        "    'Close': 'close',\n",
        "    'Volume': 'Volume ETH'\n",
        "}\n",
        "\n",
        "df_eth.rename(columns=column_mapping, inplace=True)"
      ],
      "metadata": {
        "colab": {
          "base_uri": "https://localhost:8080/"
        },
        "id": "NbIWkp9-nwXw",
        "outputId": "febededa-5346-4b65-e9a1-c8b521c51d75"
      },
      "execution_count": 11,
      "outputs": [
        {
          "output_type": "stream",
          "name": "stderr",
          "text": [
            "<ipython-input-11-d541174e5ec6>:9: SettingWithCopyWarning: \n",
            "A value is trying to be set on a copy of a slice from a DataFrame\n",
            "\n",
            "See the caveats in the documentation: https://pandas.pydata.org/pandas-docs/stable/user_guide/indexing.html#returning-a-view-versus-a-copy\n",
            "  df_eth.rename(columns=column_mapping, inplace=True)\n"
          ]
        }
      ]
    },
    {
      "cell_type": "code",
      "source": [
        "df_crypto = df_btc.merge(df_eth, on='date', how='left', suffixes = ['_btc','_eth'])\n"
      ],
      "metadata": {
        "id": "9j5743fZmrSj"
      },
      "execution_count": 12,
      "outputs": []
    },
    {
      "cell_type": "code",
      "source": [
        "df_stocks['Date'] = pd.to_datetime(df_stocks['Date'], utc=True)"
      ],
      "metadata": {
        "id": "5Vtk8Gl87Uko"
      },
      "execution_count": 13,
      "outputs": []
    },
    {
      "cell_type": "code",
      "source": [
        "# Merge the DataFrames based on the date\n",
        "df_merge = pd.merge(df_crypto,df_stocks, left_on='date',right_on='Date', how='left', suffixes=('', '_crypto'))"
      ],
      "metadata": {
        "id": "51U8GZEwj3BF"
      },
      "execution_count": 14,
      "outputs": []
    },
    {
      "cell_type": "code",
      "source": [
        "# Specify the columns to forward-fill (modify this list according to your columns)\n",
        "columns_to_ffill = ['open_eth', 'high_eth', 'low_eth', 'close_eth',\n",
        "       'Volume ETH','Open', 'High', 'Low', 'Close', 'Adj Close',\n",
        "       'Volume', 'Open_snp', 'High_snp', 'Low_snp', 'Close_snp',\n",
        "       'Adj Close_snp', 'Volume_snp', 'Open_st', 'High_st', 'Low_st',\n",
        "       'Close_st', 'Adj Close_st', 'Volume_st', 'Open_gs', 'High_gs', 'Low_gs',\n",
        "       'Close_gs', 'Adj Close_gs', 'Volume_gs', 'Open_gd', 'High_gd', 'Low_gd',\n",
        "       'Close_gd', 'Adj Close_gd', 'Volume_gd', 'Open_sv', 'High_sv', 'Low_sv',\n",
        "       'Close_sv', 'Adj Close_sv', 'Volume_sv']\n",
        "\n",
        "# Forward-fill the specified columns from df_usd to match every day in df_btc\n",
        "df_merge[columns_to_ffill] = df_merge[columns_to_ffill].transform('ffill')\n"
      ],
      "metadata": {
        "id": "8hgI6Tkr4PME"
      },
      "execution_count": 15,
      "outputs": []
    },
    {
      "cell_type": "code",
      "source": [
        "df_merge = df_merge.drop(columns=['Date'])\n",
        "df_merge = df_merge.reset_index()\n",
        "df_merge = df_merge[df_merge.index % 10 == 0]\n"
      ],
      "metadata": {
        "id": "nD3kVQkT7O9K"
      },
      "execution_count": 16,
      "outputs": []
    },
    {
      "cell_type": "code",
      "source": [
        "df_merge = df_merge.drop(columns=['index'])"
      ],
      "metadata": {
        "id": "aDztL0Hs7xTU"
      },
      "execution_count": 17,
      "outputs": []
    },
    {
      "cell_type": "code",
      "source": [
        "#transform series to supervised learning\n",
        "def series_to_supervised(data, n_in=1, n_out=1, dropnan=True):\n",
        "  n_vars = 1 if type(data) is list else data.shape[1]\n",
        "  df = pd.DataFrame(data)\n",
        "  cols, names = list(), list()\n",
        "  #input sequence (t-n, ... t-1)\n",
        "  for i in range(n_in, 0, -1):\n",
        "    cols.append(df.shift(i))\n",
        "    names += [('var%d(t-%d)' % (j+1, i)) for j in range(n_vars)]\n",
        "  #forecast sequence (t, t+1, ... t+n)\n",
        "  for i in range(0, n_out):\n",
        "    cols.append(df.shift(-i))\n",
        "  if i == 0:\n",
        "    names += [('var%d(t)' % (j+1)) for j in range(n_vars)]\n",
        "  else:\n",
        "    names += [('var%d(t+%d)' % (j+1, i)) for j in range(n_vars)]\n",
        "  #put it all together\n",
        "  agg = pd.concat(cols, axis=1)\n",
        "  agg.columns = names\n",
        "  #drop rows with NaN values\n",
        "  if dropnan:\n",
        "    agg.dropna(inplace=True)\n",
        "  return agg"
      ],
      "metadata": {
        "id": "bCngtv0h8Odu"
      },
      "execution_count": 18,
      "outputs": []
    },
    {
      "cell_type": "code",
      "source": [
        "df_merge.columns"
      ],
      "metadata": {
        "colab": {
          "base_uri": "https://localhost:8080/"
        },
        "id": "FjfgNf_YvNmo",
        "outputId": "2890f386-c3a1-40cb-8676-41776d63d06f"
      },
      "execution_count": 19,
      "outputs": [
        {
          "output_type": "execute_result",
          "data": {
            "text/plain": [
              "Index(['open_btc', 'high_btc', 'low_btc', 'close_btc', 'Volume BTC',\n",
              "       'Volume USD', 'date', 'open_eth', 'high_eth', 'low_eth', 'close_eth',\n",
              "       'Volume ETH', 'Open', 'High', 'Low', 'Close', 'Adj Close', 'Volume',\n",
              "       'Open_snp', 'High_snp', 'Low_snp', 'Close_snp', 'Adj Close_snp',\n",
              "       'Volume_snp', 'Open_st', 'High_st', 'Low_st', 'Close_st',\n",
              "       'Adj Close_st', 'Volume_st', 'Open_gs', 'High_gs', 'Low_gs', 'Close_gs',\n",
              "       'Adj Close_gs', 'Volume_gs', 'Open_gd', 'High_gd', 'Low_gd', 'Close_gd',\n",
              "       'Adj Close_gd', 'Volume_gd', 'Open_sv', 'High_sv', 'Low_sv', 'Close_sv',\n",
              "       'Adj Close_sv', 'Volume_sv'],\n",
              "      dtype='object')"
            ]
          },
          "metadata": {},
          "execution_count": 19
        }
      ]
    },
    {
      "cell_type": "code",
      "source": [
        "df = series_to_supervised(df_merge.drop(columns=['date']), n_in=20, n_out=1, dropnan=True)"
      ],
      "metadata": {
        "id": "xUjrfEau80R1"
      },
      "execution_count": 20,
      "outputs": []
    },
    {
      "cell_type": "code",
      "source": [
        "df_merge['new_date'] = df_merge['date'] + pd.Timedelta(minutes=60)\n",
        "df_btc = pd.concat([df_btc1, df_btc2])\n",
        "df_btc = df_btc.drop(columns=['date'])\n",
        "df_btc['date'] = pd.to_datetime(df_btc['unix'], unit='s', utc=True)\n",
        "df_btc = df_btc.drop(columns=['unix','symbol'])\n",
        "# Merge the DataFrames to get the 'close' value corresponding to the new date\n",
        "df_result = pd.merge(df_merge[['new_date','close_btc']],df_btc[['date', 'close']], left_on='new_date', right_on='date',how='left')\n",
        "\n",
        "# Drop the duplicate 'date' column if needed\n",
        "df_result.drop('date', axis=1, inplace=True)"
      ],
      "metadata": {
        "id": "_LjeMrRg964l"
      },
      "execution_count": 21,
      "outputs": []
    },
    {
      "cell_type": "code",
      "source": [
        "df_result['diff'] = df_result['close'] - df_result['close_btc']"
      ],
      "metadata": {
        "id": "wsN3h-VqBjCB"
      },
      "execution_count": 22,
      "outputs": []
    },
    {
      "cell_type": "code",
      "source": [
        "df_result['diff'].quantile([0.05,0.1,0.2,0.5,0.75])"
      ],
      "metadata": {
        "colab": {
          "base_uri": "https://localhost:8080/"
        },
        "id": "bFmhsmSnv2D3",
        "outputId": "c6975d17-57fc-4934-ff50-932d33d19433"
      },
      "execution_count": 23,
      "outputs": [
        {
          "output_type": "execute_result",
          "data": {
            "text/plain": [
              "0.05   -79.9855\n",
              "0.10   -47.4500\n",
              "0.20   -23.5740\n",
              "0.50     0.4700\n",
              "0.75    18.0600\n",
              "Name: diff, dtype: float64"
            ]
          },
          "metadata": {},
          "execution_count": 23
        }
      ]
    },
    {
      "cell_type": "code",
      "source": [
        "df_result['target'] = 0\n",
        "df_result.loc[df_result['diff']<-50,'target'] = 1"
      ],
      "metadata": {
        "id": "83iBGs6WBvXI"
      },
      "execution_count": 24,
      "outputs": []
    },
    {
      "cell_type": "code",
      "source": [
        "df_result['target'].value_counts()"
      ],
      "metadata": {
        "colab": {
          "base_uri": "https://localhost:8080/"
        },
        "id": "1X0yCPsbCvNm",
        "outputId": "ec2d4d03-acfb-4699-c9fc-013a3c119ea9"
      },
      "execution_count": 25,
      "outputs": [
        {
          "output_type": "execute_result",
          "data": {
            "text/plain": [
              "0    61489\n",
              "1     6335\n",
              "Name: target, dtype: int64"
            ]
          },
          "metadata": {},
          "execution_count": 25
        }
      ]
    },
    {
      "cell_type": "code",
      "source": [
        "df.shape"
      ],
      "metadata": {
        "colab": {
          "base_uri": "https://localhost:8080/"
        },
        "id": "2HTuwNyQyO8A",
        "outputId": "c7ea57b3-75d4-4344-86d3-b862025f4bad"
      },
      "execution_count": 26,
      "outputs": [
        {
          "output_type": "execute_result",
          "data": {
            "text/plain": [
              "(67804, 987)"
            ]
          },
          "metadata": {},
          "execution_count": 26
        }
      ]
    },
    {
      "cell_type": "code",
      "source": [
        "y = df_result[:-20]['target']\n",
        "X_train = df[14000:]\n",
        "X_test = df[:7000]\n",
        "y_train = y[14000:]\n",
        "y_test = y[:7000]\n",
        "y_val = y[7000:14000]\n",
        "X_val = df[7000:14000]"
      ],
      "metadata": {
        "id": "_btk7Y24yCcH"
      },
      "execution_count": 106,
      "outputs": []
    },
    {
      "cell_type": "code",
      "source": [
        "print(len(y_train))\n",
        "print(sum(y_train))"
      ],
      "metadata": {
        "colab": {
          "base_uri": "https://localhost:8080/"
        },
        "id": "fTHHZoN796TO",
        "outputId": "5614d543-5357-4a05-c83b-2540a91214db"
      },
      "execution_count": 85,
      "outputs": [
        {
          "output_type": "stream",
          "name": "stdout",
          "text": [
            "53804\n",
            "4598\n"
          ]
        }
      ]
    },
    {
      "cell_type": "markdown",
      "source": [
        "## 3. Podejście modeli tradycyjnych - Catboost, Lightgbm"
      ],
      "metadata": {
        "id": "OSke0_IDUe1M"
      }
    },
    {
      "cell_type": "markdown",
      "source": [],
      "metadata": {
        "id": "9Nlio0TkIpCB"
      }
    },
    {
      "cell_type": "code",
      "source": [
        "from sklearn.utils.class_weight import compute_class_weight\n",
        "\n",
        "classes = np.unique(y_train)\n",
        "weights = compute_class_weight(class_weight='balanced', classes=classes, y=y_train)\n",
        "class_weights = dict(zip(classes, weights))"
      ],
      "metadata": {
        "id": "FhdgrFBC8gnp"
      },
      "execution_count": 53,
      "outputs": []
    },
    {
      "cell_type": "code",
      "source": [
        "class_weights"
      ],
      "metadata": {
        "colab": {
          "base_uri": "https://localhost:8080/"
        },
        "id": "SN9ah8wg8htV",
        "outputId": "9aaafac3-8c42-4bf9-c4b7-c4187e5916fe"
      },
      "execution_count": 54,
      "outputs": [
        {
          "output_type": "execute_result",
          "data": {
            "text/plain": [
              "{0: 0.5467219444783157, 1: 5.85080469769465}"
            ]
          },
          "metadata": {},
          "execution_count": 54
        }
      ]
    },
    {
      "cell_type": "markdown",
      "source": [
        "## Catboost"
      ],
      "metadata": {
        "id": "lYQ-0Sg_Ip2x"
      }
    },
    {
      "cell_type": "code",
      "execution_count": 83,
      "metadata": {
        "colab": {
          "base_uri": "https://localhost:8080/"
        },
        "id": "Vzyy92A4USUr",
        "outputId": "eaa2f91e-febf-410e-87a1-56e37870be03"
      },
      "outputs": [
        {
          "output_type": "stream",
          "name": "stdout",
          "text": [
            "0:\tlearn: 0.6690600\ttest: 0.5030814\tbest: 0.5030814 (0)\ttotal: 538ms\tremaining: 53.3s\n",
            "1:\tlearn: 0.6879424\ttest: 0.7602406\tbest: 0.7602406 (1)\ttotal: 948ms\tremaining: 46.4s\n",
            "2:\tlearn: 0.6958042\ttest: 0.4820195\tbest: 0.7602406 (1)\ttotal: 1.4s\tremaining: 45.2s\n",
            "3:\tlearn: 0.6940673\ttest: 0.6439663\tbest: 0.7602406 (1)\ttotal: 1.85s\tremaining: 44.4s\n",
            "4:\tlearn: 0.6915542\ttest: 0.6429530\tbest: 0.7602406 (1)\ttotal: 2.33s\tremaining: 44.2s\n",
            "5:\tlearn: 0.6959462\ttest: 0.6059821\tbest: 0.7602406 (1)\ttotal: 3.33s\tremaining: 52.2s\n",
            "6:\tlearn: 0.6958711\ttest: 0.5932588\tbest: 0.7602406 (1)\ttotal: 4.04s\tremaining: 53.7s\n",
            "7:\tlearn: 0.6971008\ttest: 0.5797206\tbest: 0.7602406 (1)\ttotal: 4.49s\tremaining: 51.7s\n",
            "8:\tlearn: 0.6977507\ttest: 0.5628364\tbest: 0.7602406 (1)\ttotal: 4.91s\tremaining: 49.6s\n",
            "9:\tlearn: 0.6983028\ttest: 0.5584886\tbest: 0.7602406 (1)\ttotal: 5.34s\tremaining: 48.1s\n",
            "10:\tlearn: 0.6982715\ttest: 0.5409124\tbest: 0.7602406 (1)\ttotal: 5.77s\tremaining: 46.7s\n",
            "11:\tlearn: 0.7007757\ttest: 0.5510156\tbest: 0.7602406 (1)\ttotal: 6.21s\tremaining: 45.6s\n",
            "12:\tlearn: 0.7002332\ttest: 0.5524614\tbest: 0.7602406 (1)\ttotal: 6.64s\tremaining: 44.5s\n",
            "13:\tlearn: 0.7004397\ttest: 0.5450288\tbest: 0.7602406 (1)\ttotal: 7.08s\tremaining: 43.5s\n",
            "14:\tlearn: 0.7007736\ttest: 0.5506883\tbest: 0.7602406 (1)\ttotal: 7.5s\tremaining: 42.5s\n",
            "15:\tlearn: 0.7014251\ttest: 0.5417481\tbest: 0.7602406 (1)\ttotal: 7.91s\tremaining: 41.5s\n",
            "16:\tlearn: 0.7013960\ttest: 0.5245309\tbest: 0.7602406 (1)\ttotal: 8.34s\tremaining: 40.7s\n",
            "17:\tlearn: 0.7017491\ttest: 0.5343119\tbest: 0.7602406 (1)\ttotal: 8.74s\tremaining: 39.8s\n",
            "18:\tlearn: 0.7017422\ttest: 0.5392065\tbest: 0.7602406 (1)\ttotal: 9.13s\tremaining: 38.9s\n",
            "19:\tlearn: 0.7021409\ttest: 0.5395226\tbest: 0.7602406 (1)\ttotal: 9.52s\tremaining: 38.1s\n",
            "20:\tlearn: 0.7021878\ttest: 0.5376634\tbest: 0.7602406 (1)\ttotal: 9.95s\tremaining: 37.4s\n",
            "21:\tlearn: 0.7025609\ttest: 0.5253113\tbest: 0.7602406 (1)\ttotal: 10.4s\tremaining: 36.9s\n",
            "22:\tlearn: 0.7049321\ttest: 0.5331830\tbest: 0.7602406 (1)\ttotal: 10.8s\tremaining: 36.3s\n",
            "23:\tlearn: 0.7059851\ttest: 0.5251566\tbest: 0.7602406 (1)\ttotal: 11.3s\tremaining: 35.7s\n",
            "24:\tlearn: 0.7074943\ttest: 0.5321847\tbest: 0.7602406 (1)\ttotal: 11.7s\tremaining: 35s\n",
            "25:\tlearn: 0.7077182\ttest: 0.5359671\tbest: 0.7602406 (1)\ttotal: 12.1s\tremaining: 34.4s\n",
            "26:\tlearn: 0.7080612\ttest: 0.5327372\tbest: 0.7602406 (1)\ttotal: 12.5s\tremaining: 33.7s\n",
            "27:\tlearn: 0.7082976\ttest: 0.5320733\tbest: 0.7602406 (1)\ttotal: 12.9s\tremaining: 33.1s\n",
            "28:\tlearn: 0.7098454\ttest: 0.5308667\tbest: 0.7602406 (1)\ttotal: 13.3s\tremaining: 32.6s\n",
            "29:\tlearn: 0.7097791\ttest: 0.5268345\tbest: 0.7602406 (1)\ttotal: 13.7s\tremaining: 32s\n",
            "30:\tlearn: 0.7105279\ttest: 0.5285645\tbest: 0.7602406 (1)\ttotal: 14.2s\tremaining: 31.7s\n",
            "31:\tlearn: 0.7102784\ttest: 0.5258494\tbest: 0.7602406 (1)\ttotal: 15s\tremaining: 31.9s\n",
            "Stopped by overfitting detector  (30 iterations wait)\n",
            "\n",
            "bestTest = 0.7602405654\n",
            "bestIteration = 1\n",
            "\n",
            "Shrink model to first 2 iterations.\n"
          ]
        }
      ],
      "source": [
        "from catboost import CatBoostClassifier  # For classification tasks\n",
        "from catboost import Pool\n",
        "\n",
        "# Initialize the CatBoost model\n",
        "# Adjust the weights as needed\n",
        "train_data = Pool(X_train, label=y_train)\n",
        "valid_data = Pool(X_val, label=y_val)\n",
        "# Create the CatBoostClassifier with custom loss function and class weights\n",
        "model = CatBoostClassifier(\n",
        "    iterations=100,\n",
        "    learning_rate=0.1,\n",
        "    depth=6,\n",
        "    loss_function='Logloss',\n",
        "    eval_metric='Precision',  # Use Precision as the evaluation metric\n",
        "    early_stopping_rounds=30,  # Stop training if the evaluation metric doesn't improve for 20 rounds\n",
        "    class_weights=class_weights\n",
        ")\n",
        "# Train the model\n",
        "# Train the model with the training and validation data\n",
        "model.fit(train_data, eval_set=valid_data)\n",
        "\n",
        "# After training, you can access the best iteration using:\n",
        "best_iteration = model.best_iteration_\n"
      ]
    },
    {
      "cell_type": "code",
      "source": [
        "model.fit(X_train, y_train)"
      ],
      "metadata": {
        "id": "wGN-rSkY05SE"
      },
      "execution_count": null,
      "outputs": []
    },
    {
      "cell_type": "code",
      "source": [
        "# Make predictions\n",
        "y_pred_prob = model.predict_proba(X_test)[:, 1]"
      ],
      "metadata": {
        "id": "GDKHznWYEhmi"
      },
      "execution_count": 81,
      "outputs": []
    },
    {
      "cell_type": "code",
      "source": [
        "from sklearn.metrics import accuracy_score, roc_auc_score, confusion_matrix\n",
        "import numpy as np\n",
        "\n",
        "\n",
        "y_pred = (y_pred_prob > 0.5).astype(int)\n",
        "\n",
        "# Calculate accuracy\n",
        "accuracy = accuracy_score(y_test, y_pred)\n",
        "\n",
        "# Calculate ROC AUC score\n",
        "roc_auc = roc_auc_score(y_test, y_pred_prob)\n",
        "\n",
        "# Calculate confusion matrix\n",
        "confusion = confusion_matrix(y_test, y_pred)\n",
        "\n",
        "# Display results\n",
        "print(\"Accuracy:\", accuracy)\n",
        "print(\"ROC AUC Score:\", roc_auc)\n",
        "print(\"Confusion Matrix:\\n\", confusion)\n"
      ],
      "metadata": {
        "colab": {
          "base_uri": "https://localhost:8080/"
        },
        "id": "SFWgAx5giq4x",
        "outputId": "9b51fa38-e0a0-4b4f-f688-ac1ebaa20b4c"
      },
      "execution_count": 82,
      "outputs": [
        {
          "output_type": "stream",
          "name": "stdout",
          "text": [
            "Accuracy: 0.3904444444444444\n",
            "ROC AUC Score: 0.44081783558570753\n",
            "Confusion Matrix:\n",
            " [[2809 4864]\n",
            " [ 622  705]]\n"
          ]
        }
      ]
    },
    {
      "cell_type": "markdown",
      "source": [
        "## Lgbm"
      ],
      "metadata": {
        "id": "KFuyELY_Ilwu"
      }
    },
    {
      "cell_type": "code",
      "source": [
        "import lightgbm as lgb\n",
        "train_data = lgb.Dataset(X_train, label=y_train)\n",
        "test_data = lgb.Dataset(X_test, label=y_test)\n",
        "val_data = lgb.Dataset(X_val, label=y_val)\n",
        "params = {\n",
        "    'objective': 'binary',  # For binary classification\n",
        "    'boosting_type': 'gbdt',  # Gradient boosting decision tree\n",
        "    'metric': ['binary_logloss', 'auc'],  # Evaluation metrics\n",
        "    'num_leaves': 31,  # Maximum number of leaves in one tree\n",
        "    'learning_rate': 0.02,  # Learning rate\n",
        "    'is_unbalance': True\n",
        "}\n",
        "\n",
        "\n",
        "# Train the model\n",
        "model = lgb.train(params, train_data, num_boost_round=500,  valid_sets=val_data,\n",
        "    callbacks=(\n",
        "            [lgb.early_stopping(stopping_rounds=100)]))  # Optional: Print results every 10 rounds)"
      ],
      "metadata": {
        "colab": {
          "base_uri": "https://localhost:8080/"
        },
        "id": "fJX-FQ8XD8lz",
        "outputId": "3a68129d-6a01-470a-c01d-ef031c394bf9"
      },
      "execution_count": 100,
      "outputs": [
        {
          "output_type": "stream",
          "name": "stdout",
          "text": [
            "[LightGBM] [Info] Number of positive: 4598, number of negative: 49206\n",
            "[LightGBM] [Info] Auto-choosing col-wise multi-threading, the overhead of testing was 1.746899 seconds.\n",
            "You can set `force_col_wise=true` to remove the overhead.\n",
            "[LightGBM] [Info] Total Bins 235294\n",
            "[LightGBM] [Info] Number of data points in the train set: 53804, number of used features: 966\n",
            "[LightGBM] [Info] [binary:BoostFromScore]: pavg=0.085458 -> initscore=-2.370394\n",
            "[LightGBM] [Info] Start training from score -2.370394\n",
            "Training until validation scores don't improve for 100 rounds\n",
            "Early stopping, best iteration is:\n",
            "[1]\tvalid_0's binary_logloss: 0.312388\tvalid_0's auc: 0.580647\n"
          ]
        }
      ]
    },
    {
      "cell_type": "code",
      "source": [
        "print(model.best_iteration)\n",
        "print(model.best_score)"
      ],
      "metadata": {
        "colab": {
          "base_uri": "https://localhost:8080/"
        },
        "id": "0geYO3mRFety",
        "outputId": "34b53504-308d-411c-e1d9-93326221a2ba"
      },
      "execution_count": 101,
      "outputs": [
        {
          "output_type": "stream",
          "name": "stdout",
          "text": [
            "1\n",
            "defaultdict(<class 'collections.OrderedDict'>, {'valid_0': OrderedDict([('binary_logloss', 0.3123877387624195), ('auc', 0.5806466105273996)])})\n"
          ]
        }
      ]
    },
    {
      "cell_type": "code",
      "source": [
        "y_pred = model.predict(X_test)"
      ],
      "metadata": {
        "id": "cYW1id16JLYg"
      },
      "execution_count": 108,
      "outputs": []
    },
    {
      "cell_type": "code",
      "source": [
        "y_pred_binary = (y_pred > 0.5).astype(int)\n",
        "\n",
        "# Evaluate the model using accuracy, ROC AUC, and confusion matrix\n",
        "accuracy = accuracy_score(y_test, y_pred_binary)\n",
        "roc_auc = roc_auc_score(y_test, y_pred)\n",
        "conf_matrix = confusion_matrix(y_test, y_pred_binary)\n",
        "\n",
        "print(f'Best Iteration: {best_iteration}')\n",
        "print(f'Best Validation Score: {best_val_score}')\n",
        "print(f'Accuracy: {accuracy}')\n",
        "print(f'ROC AUC: {roc_auc}')\n",
        "print('Confusion Matrix:')\n",
        "print(conf_matrix)"
      ],
      "metadata": {
        "colab": {
          "base_uri": "https://localhost:8080/"
        },
        "id": "LU_S74ouJgZh",
        "outputId": "227efb20-1bfb-442b-e41c-773b65a196cc"
      },
      "execution_count": 109,
      "outputs": [
        {
          "output_type": "stream",
          "name": "stdout",
          "text": [
            "Best Iteration: 1\n",
            "Best Validation Score: defaultdict(<class 'collections.OrderedDict'>, {'valid_0': OrderedDict([('binary_logloss', 0.31496745456994873), ('auc', 0.46034099695025166)])})\n",
            "Accuracy: 0.8464285714285714\n",
            "ROC AUC: 0.4577300755568639\n",
            "Confusion Matrix:\n",
            "[[5925    0]\n",
            " [1075    0]]\n"
          ]
        }
      ]
    }
  ]
}